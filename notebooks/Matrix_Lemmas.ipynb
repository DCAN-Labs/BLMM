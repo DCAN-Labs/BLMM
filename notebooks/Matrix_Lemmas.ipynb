{
  "nbformat": 4,
  "nbformat_minor": 0,
  "metadata": {
    "colab": {
      "name": "Matrix Lemmas",
      "provenance": [],
      "collapsed_sections": [
        "eN5WVXEvtBm5",
        "40U3GlYaKBv_",
        "foGGlFiwOTrz",
        "l-O0kE2dR-hq",
        "dwRV5b3ENSTw",
        "BXAQ5QhY1CXl",
        "5nZUsKzwzG7X",
        "qFgyuR-mvJbs"
      ]
    },
    "kernelspec": {
      "name": "python3",
      "display_name": "Python 3"
    }
  },
  "cells": [
    {
      "cell_type": "markdown",
      "metadata": {
        "id": "CyTmrSzIJuep",
        "colab_type": "text"
      },
      "source": [
        "# Matrix reshape lemmas\n",
        "\n",
        "This notebook contains all matrix reshaping lemmas found during the BLMM project."
      ]
    },
    {
      "cell_type": "markdown",
      "metadata": {
        "id": "1T1lYptfC6Wf",
        "colab_type": "text"
      },
      "source": [
        "## Setup"
      ]
    },
    {
      "cell_type": "code",
      "metadata": {
        "id": "HOZrPOy9JqgH",
        "colab_type": "code",
        "colab": {}
      },
      "source": [
        "import numpy as np\n",
        "import time\n",
        "import scipy.sparse"
      ],
      "execution_count": 0,
      "outputs": []
    },
    {
      "cell_type": "markdown",
      "metadata": {
        "id": "eN5WVXEvtBm5",
        "colab_type": "text"
      },
      "source": [
        "### Helper functions"
      ]
    },
    {
      "cell_type": "markdown",
      "metadata": {
        "id": "E7vaH4gltHCU",
        "colab_type": "text"
      },
      "source": [
        "This section contains helper functions used later in the notebook."
      ]
    },
    {
      "cell_type": "code",
      "metadata": {
        "id": "tG1v-2spZSJ2",
        "colab_type": "code",
        "colab": {}
      },
      "source": [
        "def mat2vec(matrix):\n",
        "  \n",
        "  #Return vectorised matrix\n",
        "  return(matrix.transpose().reshape(matrix.shape[0]*matrix.shape[1],1))\n",
        "\n",
        "def vec2mat(vec): # Only for square matrices\n",
        "  \n",
        "  # Return matrix\n",
        "  return(vec.reshape(np.int64(np.sqrt(vec.shape[0])),np.int64(np.sqrt(vec.shape[0]))).transpose())\n",
        "\n",
        "# Block vec with row-wise chunks of size n\n",
        "def matb2vecb(matb,n):\n",
        "  \n",
        "  m = matb.shape[0]\n",
        "  k = matb.shape[1]\n",
        "\n",
        "  vecb = matb.reshape(m//n, n, k).transpose((1, 0, 2)).reshape(n, m*k//n).transpose().reshape(m//n,n*k)\n",
        "\n",
        "  #Return vectorised matrix\n",
        "  return(vecb)"
      ],
      "execution_count": 0,
      "outputs": []
    },
    {
      "cell_type": "code",
      "metadata": {
        "id": "QeuHq8YFT_wQ",
        "colab_type": "code",
        "colab": {}
      },
      "source": [
        "def comMat(a, b):\n",
        "\n",
        "  # Example matrix with unique elements\n",
        "  m = np.arange(a*b).reshape(a,b)\n",
        "\n",
        "  # Vec(m) and Vec(m')\n",
        "  vecm = mat2vec(m)\n",
        "  vecmt = mat2vec(m.transpose())\n",
        "\n",
        "  # Work out mapping between them.\n",
        "  k=(vecm.transpose()==vecmt).astype(int).transpose()\n",
        "\n",
        "  return(k)"
      ],
      "execution_count": 0,
      "outputs": []
    },
    {
      "cell_type": "markdown",
      "metadata": {
        "id": "thBJGbQfC15c",
        "colab_type": "text"
      },
      "source": [
        "## Lemmas"
      ]
    },
    {
      "cell_type": "markdown",
      "metadata": {
        "id": "40U3GlYaKBv_",
        "colab_type": "text"
      },
      "source": [
        "### **Lemma 1: Sum of $A_iB_i'$**\n"
      ]
    },
    {
      "cell_type": "markdown",
      "metadata": {
        "id": "3ouMxkVxKSjE",
        "colab_type": "text"
      },
      "source": [
        "Let $A$ and $B$ be matrices of size $(m,k)$, partitioned row-wise into chunks $A_1,...A_{m/n}$ and $B_1,...B_{l}$ of size $(n,k)$ where $m|n$ and $l=m/n$. I.e.\n",
        "\n",
        "$$A = \\begin{bmatrix} A_1 \\\\ A_2 \\\\ \\vdots \\\\ A_{l} \\end{bmatrix}, B = \\begin{bmatrix} B_1 \\\\ B_2 \\\\ \\vdots \\\\ B_{l} \\end{bmatrix}$$\n",
        "\n",
        "Then:\n",
        "\n",
        "$$\\sum_{i=1}^l A_iB_i' = ((A')^{r(kl,n)})'(B')^{r(kl,n)}$$"
      ]
    },
    {
      "cell_type": "code",
      "metadata": {
        "id": "pX9zRkOxJssh",
        "colab_type": "code",
        "outputId": "cf625da1-009c-432b-e110-401561dcd183",
        "colab": {
          "base_uri": "https://localhost:8080/"
        }
      },
      "source": [
        "m = 8\n",
        "n=2\n",
        "l=m//n\n",
        "k=4\n",
        "\n",
        "print('Example Shapes:')\n",
        "print('m: ', m)\n",
        "print('k: ', k)\n",
        "print('l: ', l)\n",
        "print('n: ', n)\n",
        "\n",
        "# A and B are random matrices\n",
        "A = np.random.randn(m,k)\n",
        "B = np.random.randn(m,k)\n",
        "\n",
        "t1 = time.time()\n",
        "\n",
        "# First we evaluate the LHS\n",
        "sumAB = np.zeros((n,n))\n",
        "for i in np.arange(m//n):\n",
        "\n",
        "  # Work out the row-wise chunks\n",
        "  Ai = A[n*i:n*(i+1),:]\n",
        "  Bi = B[n*i:n*(i+1),:]\n",
        "\n",
        "  # Perform the summation\n",
        "  sumAB = sumAB + Ai @ Bi.transpose()\n",
        "\n",
        "t2 = time.time()\n",
        "\n",
        "# We print the time\n",
        "time1=t2-t1\n",
        "print('Time (LHS):')\n",
        "print(time1)\n",
        "\n",
        "# And the result\n",
        "print('Result (LHS):')\n",
        "print(sumAB)\n",
        "\n",
        "# Now the RHS\n",
        "t1 = time.time()\n",
        "sumAB2 = A.transpose().reshape((m*k//n,n)).transpose() @ B.transpose().reshape((m*k//n,n))\n",
        "t2 = time.time()\n",
        "\n",
        "# We print the time\n",
        "time2=t2-t1\n",
        "print('Time (RHS):')\n",
        "print(time2)\n",
        "\n",
        "# And the result\n",
        "print('Result (RHS):')\n",
        "print(sumAB2)\n",
        "\n",
        "# And the difference\n",
        "print('Difference:')\n",
        "print(sumAB-sumAB2)\n",
        "\n",
        "\n",
        "# And the ratio between times\n",
        "print('time ratio:')\n",
        "print(time2/time1)"
      ],
      "execution_count": 0,
      "outputs": [
        {
          "output_type": "stream",
          "text": [
            "Example Shapes:\n",
            "m:  8\n",
            "k:  4\n",
            "l:  4\n",
            "n:  2\n",
            "Time (LHS):\n",
            "0.007241249084472656\n",
            "Result (LHS):\n",
            "[[ 1.46256925 -0.10209768]\n",
            " [ 1.88511476  1.96116093]]\n",
            "Time (RHS):\n",
            "0.0001621246337890625\n",
            "Result (RHS):\n",
            "[[ 1.46256925 -0.10209768]\n",
            " [ 1.88511476  1.96116093]]\n",
            "Difference:\n",
            "[[-2.22044605e-16 -1.38777878e-16]\n",
            " [-4.44089210e-16  2.22044605e-16]]\n",
            "time ratio:\n",
            "0.022389042539180823\n"
          ],
          "name": "stdout"
        }
      ]
    },
    {
      "cell_type": "code",
      "metadata": {
        "id": "P9z6eOrfnM36",
        "colab_type": "code",
        "outputId": "5e72d83a-fc77-4110-a8ca-8dc9fe2bf427",
        "colab": {
          "base_uri": "https://localhost:8080/"
        }
      },
      "source": [
        "print(A)\n",
        "\n",
        "print(A.transpose().reshape((m*k//n,n)).transpose())"
      ],
      "execution_count": 0,
      "outputs": [
        {
          "output_type": "stream",
          "text": [
            "[[ 1.08371092 -1.45263535 -0.09399076  0.84927422]\n",
            " [-0.41021823  1.36385848  0.23557171  0.09087627]\n",
            " [-1.09898401  2.40684285 -0.30538174 -0.32349291]\n",
            " [ 1.19170937  0.48921162  0.53209444 -0.17686872]\n",
            " [-0.16694237 -0.04981774  0.28025551  1.04162343]\n",
            " [ 0.31141766  0.1438598  -0.06216575 -1.24705787]\n",
            " [ 1.00542404 -1.352751    0.1985569  -1.46756808]\n",
            " [-0.63278181 -1.67700932  0.23345516  0.54106947]]\n",
            "[[ 1.08371092 -1.09898401 -0.16694237  1.00542404 -1.45263535  2.40684285\n",
            "  -0.04981774 -1.352751   -0.09399076 -0.30538174  0.28025551  0.1985569\n",
            "   0.84927422 -0.32349291  1.04162343 -1.46756808]\n",
            " [-0.41021823  1.19170937  0.31141766 -0.63278181  1.36385848  0.48921162\n",
            "   0.1438598  -1.67700932  0.23557171  0.53209444 -0.06216575  0.23345516\n",
            "   0.09087627 -0.17686872 -1.24705787  0.54106947]]\n"
          ],
          "name": "stdout"
        }
      ]
    },
    {
      "cell_type": "markdown",
      "metadata": {
        "id": "foGGlFiwOTrz",
        "colab_type": "text"
      },
      "source": [
        "### **Lemma 2: Sum of $A_iCB_i'$**\n"
      ]
    },
    {
      "cell_type": "markdown",
      "metadata": {
        "id": "UkUjXFvCOcc7",
        "colab_type": "text"
      },
      "source": [
        "Let $A$ and $B$ be matrices of sizes $(m,k_1)$ and $(m,k_2)$ respectively, partitioned row-wise into chunks $A_1,...A_{m/n}$ and $B_1,...B_{l}$ of sizes $(n,k_1)$ and $(m,k_2)$ respectively where $m|n$ and $l=m/n$. I.e.\n",
        "\n",
        "$$A = \\begin{bmatrix} A_1 \\\\ A_2 \\\\ \\vdots \\\\ A_{l} \\end{bmatrix}, B = \\begin{bmatrix} B_1 \\\\ B_2 \\\\ \\vdots \\\\ B_{l} \\end{bmatrix}$$\n",
        "\n",
        "Let $C$ be a matrix of size $(k_1, k_2)$. Then:\n",
        "\n",
        "$$\\sum_{i=1}^l A_iCB_i' = ((A')^{r(k_1l,n)})'(CB')^{r(k_1l,n)} = ((C'A')^{r(k_2l,n)})'(B')^{r(k_2l,n)}$$"
      ]
    },
    {
      "cell_type": "code",
      "metadata": {
        "id": "Hmmbv1kBJt6U",
        "colab_type": "code",
        "outputId": "15dcf24c-ce62-4ef5-fb17-676f7d62b76e",
        "colab": {
          "base_uri": "https://localhost:8080/"
        }
      },
      "source": [
        "m = 1000\n",
        "n=2\n",
        "l=m//n\n",
        "k1=100\n",
        "k2=3\n",
        "\n",
        "print('Example Shapes:')\n",
        "print('m: ', m)\n",
        "print('k1, k2: ', k1, k2)\n",
        "print('l: ', l)\n",
        "print('n: ', n)\n",
        "\n",
        "# A, B and C are random matrices\n",
        "A = np.random.randn(m,k1)\n",
        "B = np.random.randn(m,k2)\n",
        "C = np.random.randn(k1,k2)\n",
        "\n",
        "t1 = time.time()\n",
        "\n",
        "# First we evaluate the LHS\n",
        "sumACB = np.zeros((n,n))\n",
        "for i in np.arange(m//n):\n",
        "\n",
        "  # Work out the row-wise chunks\n",
        "  Ai = A[n*i:n*(i+1),:]\n",
        "  Bi = B[n*i:n*(i+1),:]\n",
        "\n",
        "  # Perform the summation\n",
        "  sumACB = sumACB + Ai @ C @ Bi.transpose()\n",
        "\n",
        "t2 = time.time()\n",
        "\n",
        "# We print the time\n",
        "time1=t2-t1\n",
        "print('Time (LHS):')\n",
        "print(time1)\n",
        "\n",
        "# And the result\n",
        "print('Result (LHS):')\n",
        "print(sumACB)\n",
        "\n",
        "# Now the middle\n",
        "t1 = time.time()\n",
        "sumACB2 = A.transpose().reshape((m*k1//n,n)).transpose() @ (C @ B.transpose()).reshape((m*k1//n,n))\n",
        "t2 = time.time()\n",
        "\n",
        "# We print the time\n",
        "time2=t2-t1\n",
        "print('Time (middle):')\n",
        "print(time2)\n",
        "\n",
        "# And the result\n",
        "print('Result (middle):')\n",
        "print(sumACB2)\n",
        "\n",
        "# Now the RHS\n",
        "t1 = time.time()\n",
        "sumACB3 = (C.transpose() @ A.transpose()).reshape((m*k2//n,n)).transpose() @ B.transpose().reshape((m*k2//n,n))\n",
        "t2 = time.time()\n",
        "\n",
        "# We print the time\n",
        "time3=t2-t1\n",
        "print('Time (RHS):')\n",
        "print(time3)\n",
        "\n",
        "# And the result\n",
        "print('Result (RHS):')\n",
        "print(sumACB3)\n",
        "\n",
        "# And the difference\n",
        "print('Differences:')\n",
        "print(sumACB-sumACB2)\n",
        "print(sumACB2-sumACB3)\n",
        "print(sumACB3-sumACB)\n",
        "\n",
        "\n",
        "# And the ratio between times\n",
        "print('time ratios:')\n",
        "print(time2/time1)\n",
        "print(time3/time2)\n",
        "print(time1/time3)"
      ],
      "execution_count": 0,
      "outputs": [
        {
          "output_type": "stream",
          "text": [
            "Example Shapes:\n",
            "m:  1000\n",
            "k1, k2:  100 3\n",
            "l:  500\n",
            "n:  2\n",
            "Time (LHS):\n",
            "0.004273891448974609\n",
            "Result (LHS):\n",
            "[[-137.78129531  158.27541276]\n",
            " [ 981.59795074  285.40823091]]\n",
            "Time (middle):\n",
            "0.0031974315643310547\n",
            "Result (middle):\n",
            "[[-137.78129531  158.27541276]\n",
            " [ 981.59795074  285.40823091]]\n",
            "Time (RHS):\n",
            "0.0006031990051269531\n",
            "Result (RHS):\n",
            "[[-137.78129531  158.27541276]\n",
            " [ 981.59795074  285.40823091]]\n",
            "Differences:\n",
            "[[ 4.26325641e-13  2.84217094e-14]\n",
            " [-3.41060513e-13  2.27373675e-13]]\n",
            "[[1.42108547e-13 3.12638804e-13]\n",
            " [1.25055521e-12 0.00000000e+00]]\n",
            "[[-5.68434189e-13 -3.41060513e-13]\n",
            " [-9.09494702e-13 -2.27373675e-13]]\n",
            "time ratios:\n",
            "0.7481312060693964\n",
            "0.18865110729997764\n",
            "7.085375494071147\n"
          ],
          "name": "stdout"
        }
      ]
    },
    {
      "cell_type": "code",
      "metadata": {
        "id": "LkLSurGMPzSm",
        "colab_type": "code",
        "colab": {}
      },
      "source": [
        ""
      ],
      "execution_count": 0,
      "outputs": []
    },
    {
      "cell_type": "markdown",
      "metadata": {
        "id": "l-O0kE2dR-hq",
        "colab_type": "text"
      },
      "source": [
        "### **Lemma 3: Sum of $(A_i-B_iC)(A_i-B_iC)'$**\n"
      ]
    },
    {
      "cell_type": "markdown",
      "metadata": {
        "id": "V8BLX63KSTuB",
        "colab_type": "text"
      },
      "source": [
        "Let $A$ and $B$ be matrices of sizes $(m,k_1)$ and $(m,k_2)$ respectively, partitioned row-wise into chunks $A_1,...A_{m/n}$ and $B_1,...B_{l}$ of sizes $(n,k_1)$ and $(m,k_2)$ respectively where $m|n$ and $l=m/n$. I.e.\n",
        "\n",
        "$$A = \\begin{bmatrix} A_1 \\\\ A_2 \\\\ \\vdots \\\\ A_{l} \\end{bmatrix}, B = \\begin{bmatrix} B_1 \\\\ B_2 \\\\ \\vdots \\\\ B_{l} \\end{bmatrix}$$\n",
        "\n",
        "Let $C$ be a matrix of size $(k_1, k_2)$. Then:\n",
        "\n",
        "$$\\sum_{i=1}^l (A_i-B_iC)(A_i-B_iC)'=((A')^{r(k_1l,n)})'(A')^{r(k_1l,n)}$$"
      ]
    },
    {
      "cell_type": "markdown",
      "metadata": {
        "colab_type": "text",
        "id": "dwRV5b3ENSTw"
      },
      "source": [
        "### **Lemma 4: Sum of $A_i \\otimes B_i$**"
      ]
    },
    {
      "cell_type": "markdown",
      "metadata": {
        "id": "W6DqHthUNVZ4",
        "colab_type": "text"
      },
      "source": [
        "Let $A$ and $B$ be matrices of sizes $(m,k_1)$ and $(m,k_2)$ respectively, partitioned row-wise into chunks $A_1,...A_{m/n}$ and $B_1,...B_{l}$ of sizes $(n,k_1)$ and $(n,k_2)$ respectively where $m|n$ and $l=m/n$. I.e.\n",
        "\n",
        "$$A = \\begin{bmatrix} A_1 \\\\ A_2 \\\\ \\vdots \\\\ A_{l} \\end{bmatrix}, B = \\begin{bmatrix} B_1 \\\\ B_2 \\\\ \\vdots \\\\ B_{l} \\end{bmatrix}$$\n",
        "\n",
        "Let $a_i=vec(A_i)$ and $b_i=vec(B_i)$ for all $i \\in \\{1,...,l\\}$ and define:\n",
        "\n",
        "$$\\tilde{a} = \\begin{bmatrix} a_1 \\\\ a_2 \\\\ \\vdots \\\\ a_{l} \\end{bmatrix}, \\tilde{b} = \\begin{bmatrix} b_1 \\\\ b_2 \\\\ \\vdots \\\\ b_{l} \\end{bmatrix}$$\n",
        "\n",
        "Then we have the following relationship:\n",
        "\n",
        "$$\\sum_{i=1}^{l} A_i \\otimes B_i = ((I_{k_1} \\otimes P_{n,k_2} \\otimes I_{n})vec(\\tilde{b}'\\tilde{a}))^{r(n^2,k_1k_2)}$$"
      ]
    },
    {
      "cell_type": "code",
      "metadata": {
        "id": "3i-5n7qUDqON",
        "colab_type": "code",
        "outputId": "723dac56-2521-4f58-e6e7-4384334ccd1a",
        "colab": {
          "base_uri": "https://localhost:8080/",
          "height": 932
        }
      },
      "source": [
        "m = 10\n",
        "n=2\n",
        "l=m//n\n",
        "k1=6\n",
        "k2=3\n",
        "\n",
        "print('Example Shapes:')\n",
        "print('m: ', m)\n",
        "print('k1, k2: ', k1, k2)\n",
        "print('l: ', l)\n",
        "print('n: ', n)\n",
        "\n",
        "# A, B and C are random matrices\n",
        "A = np.random.randn(m,k1)\n",
        "B = np.random.randn(m,k2)\n",
        "\n",
        "t1 = time.time()\n",
        "\n",
        "# First we evaluate the LHS\n",
        "sumAkB = np.zeros((n**2,k1*k2))\n",
        "for i in np.arange(m//n):\n",
        "\n",
        "  # Work out the row-wise chunks\n",
        "  Ai = A[n*i:n*(i+1),:]\n",
        "  Bi = B[n*i:n*(i+1),:]\n",
        "\n",
        "  # Perform the summation\n",
        "  sumAkB = sumAkB + np.kron(Ai, Bi)\n",
        "\n",
        "t2 = time.time()\n",
        "print('Time (LHS):')\n",
        "print(t2-t1)\n",
        "print('Shape (LHS):')\n",
        "print(sumAkB.shape)\n",
        "\n",
        "# Now for RHS\n",
        "\n",
        "t1 = time.time()\n",
        "# This matrix only needs be calculated once\n",
        "K = comMat(n, k2)\n",
        "IPI = np.kron(np.kron(np.eye(k1), K), np.eye(n))\n",
        "\n",
        "t2 = time.time()\n",
        "atilde = matb2vecb(A,n)\n",
        "btilde = matb2vecb(B,n)\n",
        "\n",
        "vecba = mat2vec(btilde.transpose() @ atilde)\n",
        "\n",
        "RHS_noreshape = IPI @ vecba \n",
        "\n",
        "RHS_final = RHS_noreshape.reshape(k1*k2,n**2).transpose()\n",
        "\n",
        "\n",
        "t3 = time.time()\n",
        "print(t3-t1)\n",
        "print(t3-t2)\n",
        "\n",
        "print(np.allclose(RHS_final, sumAkB))\n",
        "print(RHS_final)\n",
        "print(sumAkB)\n",
        "\n",
        "print(K)\n",
        "\n",
        "print(IPI @ np.arange(IPI.shape[1]))\n",
        "\n",
        "perm = (IPI @ np.arange(IPI.shape[1])).astype(int)\n",
        "print(perm)\n",
        "\n",
        "t1 = time.time()\n",
        "vecba[perm[:]]\n",
        "t2 = time.time()\n",
        "print(t2-t1)\n",
        "t1 = time.time()\n",
        "IPI @ vecba\n",
        "t2 = time.time()\n",
        "print(t2-t1)\n",
        "#print(vecba[perm[:]]-IPI @ vecba)\n",
        "\n",
        "print(K @ np.arange(K.shape[0]))"
      ],
      "execution_count": 0,
      "outputs": [
        {
          "output_type": "stream",
          "text": [
            "Example Shapes:\n",
            "m:  10\n",
            "k1, k2:  6 3\n",
            "l:  5\n",
            "n:  2\n",
            "Time (LHS):\n",
            "0.0006401538848876953\n",
            "Shape (LHS):\n",
            "(4, 18)\n",
            "0.0006539821624755859\n",
            "0.00022649765014648438\n",
            "True\n",
            "[[-0.46929785 -0.14005249  0.46835193  1.03272659 -0.84348491  1.41662908\n",
            "  -2.42130386  1.63738497 -0.93094915 -2.57781476  1.22905981  1.23835086\n",
            "   0.55721421  0.96485453 -0.33331466  1.74734725  1.0179927   0.59351314]\n",
            " [-0.93538867  0.54965384 -2.55135927 -0.89320179  0.94484317 -0.67963582\n",
            "   1.83020913 -0.95450988 -0.69598713  3.63306286  1.0887329  -2.05970943\n",
            "  -0.62434324 -0.8868745   0.88579347  0.3527816  -0.28820265  2.56520035]\n",
            " [-0.31696956  1.2671171  -1.47497934 -0.2629326   0.06655848 -0.61607683\n",
            "   2.67372899 -0.17148013 -0.55793188 -0.16629421 -0.86069956  3.0082058\n",
            "   0.12854007 -0.77185424  2.28103104 -1.32152269 -0.4459417  -1.40321593]\n",
            " [ 0.83171211 -1.04839483  1.4851392   2.3701172  -0.21876412  2.70225157\n",
            "  -4.80767887 -2.0590688   1.69536008  3.66897525  1.63042294  1.6820762\n",
            "  -0.39964563  0.7597807  -1.15448684  1.15412954  0.57689536 -1.05875644]]\n",
            "[[-0.46929785 -0.14005249  0.46835193  1.03272659 -0.84348491  1.41662908\n",
            "  -2.42130386  1.63738497 -0.93094915 -2.57781476  1.22905981  1.23835086\n",
            "   0.55721421  0.96485453 -0.33331466  1.74734725  1.0179927   0.59351314]\n",
            " [-0.93538867  0.54965384 -2.55135927 -0.89320179  0.94484317 -0.67963582\n",
            "   1.83020913 -0.95450988 -0.69598713  3.63306286  1.0887329  -2.05970943\n",
            "  -0.62434324 -0.8868745   0.88579347  0.3527816  -0.28820265  2.56520035]\n",
            " [-0.31696956  1.2671171  -1.47497934 -0.2629326   0.06655848 -0.61607683\n",
            "   2.67372899 -0.17148013 -0.55793188 -0.16629421 -0.86069956  3.0082058\n",
            "   0.12854007 -0.77185424  2.28103104 -1.32152269 -0.4459417  -1.40321593]\n",
            " [ 0.83171211 -1.04839483  1.4851392   2.3701172  -0.21876412  2.70225157\n",
            "  -4.80767887 -2.0590688   1.69536008  3.66897525  1.63042294  1.6820762\n",
            "  -0.39964563  0.7597807  -1.15448684  1.15412954  0.57689536 -1.05875644]]\n",
            "[[1 0 0 0 0 0]\n",
            " [0 0 0 1 0 0]\n",
            " [0 1 0 0 0 0]\n",
            " [0 0 0 0 1 0]\n",
            " [0 0 1 0 0 0]\n",
            " [0 0 0 0 0 1]]\n",
            "[ 0.  1.  6.  7.  2.  3.  8.  9.  4.  5. 10. 11. 12. 13. 18. 19. 14. 15.\n",
            " 20. 21. 16. 17. 22. 23. 24. 25. 30. 31. 26. 27. 32. 33. 28. 29. 34. 35.\n",
            " 36. 37. 42. 43. 38. 39. 44. 45. 40. 41. 46. 47. 48. 49. 54. 55. 50. 51.\n",
            " 56. 57. 52. 53. 58. 59. 60. 61. 66. 67. 62. 63. 68. 69. 64. 65. 70. 71.]\n",
            "[ 0  1  6  7  2  3  8  9  4  5 10 11 12 13 18 19 14 15 20 21 16 17 22 23\n",
            " 24 25 30 31 26 27 32 33 28 29 34 35 36 37 42 43 38 39 44 45 40 41 46 47\n",
            " 48 49 54 55 50 51 56 57 52 53 58 59 60 61 66 67 62 63 68 69 64 65 70 71]\n",
            "4.982948303222656e-05\n",
            "4.124641418457031e-05\n",
            "[0 3 1 4 2 5]\n"
          ],
          "name": "stdout"
        }
      ]
    },
    {
      "cell_type": "markdown",
      "metadata": {
        "id": "BXAQ5QhY1CXl",
        "colab_type": "text"
      },
      "source": [
        "### **Lemma 5: Double sum of $A_iB_j' \\otimes C_iD_j'$**"
      ]
    },
    {
      "cell_type": "markdown",
      "metadata": {
        "id": "QiXaNKC1NZMe",
        "colab_type": "text"
      },
      "source": [
        "\n",
        "Let $A$ and $C$ be matrices of sizes $(m_1,k_1)$ and $(m_1,k_2)$ respectively, partitioned row-wise into chunks $A_1,...A_{l_1}$ and $C_1,...C_{l_1}$ of sizes $(n_1,k_1)$ and $(n_1,k_2)$ respectively where $m_1|n_1$ and $l_1=m_1/n_1$. I.e.\n",
        "\n",
        "$$A = \\begin{bmatrix} A_1 \\\\ A_2 \\\\ \\vdots \\\\ A_{l_1} \\end{bmatrix}, C = \\begin{bmatrix} C_1 \\\\ C_2 \\\\ \\vdots \\\\ C_{l_1} \\end{bmatrix}$$\n",
        "\n",
        "Let $B$ and $D$ be matrices of sizes $(m_2,k_1)$ and $(m_2,k_2)$ respectively, partitioned row-wise into chunks $B_1,...B_{l_2}$ and $D_1,...D_{l_2}$ of sizes $(n_2,k_1)$ and $(n_2,k_2)$ respectively where $m_2|n_2$ and $l_2=m_2/n_2$. I.e.\n",
        "\n",
        "$$B = \\begin{bmatrix} B_1 \\\\ \\vdots \\\\ B_{l_2} \\end{bmatrix}, D = \\begin{bmatrix} D_1\\\\ \\vdots \\\\ D_{l_2} \\end{bmatrix}$$\n",
        "\n",
        "Then:\n",
        "\n",
        "$$\\sum_{j=1}^{l_2} \\sum_{i=1}^{l_1}A_iB_j' \\otimes C_iD_j' = ((I_{k_1} \\otimes P_{n_1,k_2} \\otimes I_{n_1})vec(\\tilde{c}'\\tilde{a}))^{r(n_1^2,k_1k_2)}\\big[((I_{k_1} \\otimes P_{n_2,k_2} \\otimes I_{n_2})vec(\\tilde{d}'\\tilde{b}))^{r(n_2^2,k_1k_2)}\\big]'$$\n",
        "\n",
        "(This follows directly from lemma 4 and the mixed product property of the kronecker product)."
      ]
    },
    {
      "cell_type": "code",
      "metadata": {
        "id": "4jZVCwvq49Sa",
        "colab_type": "code",
        "outputId": "ebd0576f-b698-47ac-d1c6-b9ea7da6365e",
        "colab": {
          "base_uri": "https://localhost:8080/",
          "height": 140
        }
      },
      "source": [
        "# Dimensions\n",
        "import scipy.sparse\n",
        "\n",
        "# Partition sizes\n",
        "n1 = 2\n",
        "n2 = 2\n",
        "\n",
        "# Number of rows\n",
        "m1 = 1000\n",
        "m2 = 1200\n",
        "\n",
        "# Number of columns\n",
        "k1 = 1000\n",
        "k2 = 1000\n",
        "\n",
        "# Matrices \n",
        "\n",
        "A = np.random.randn(m1,k1)\n",
        "B = np.random.randn(m2,k1)\n",
        "C = np.random.randn(m1,k2)\n",
        "D = np.random.randn(m2,k2)\n",
        "\n",
        "runningSum = np.zeros((n1**2,n2**2))\n",
        "t1 = time.time()\n",
        "# Work out LHS\n",
        "for j in np.arange(m2//n2):\n",
        "\n",
        "  Bj = B[n2*j:n2*(j+1),:]\n",
        "  Dj = D[n2*j:n2*(j+1),:]\n",
        "\n",
        "  for i in np.arange(m1//n1):\n",
        "\n",
        "    Ai = A[n1*i:n1*(i+1),:]\n",
        "    Ci = C[n1*i:n1*(i+1),:]\n",
        "\n",
        "    runningSum = runningSum + np.kron(Ai @ Bj.transpose(), Ci @ Dj.transpose())\n",
        "\n",
        "t2 = time.time()\n",
        "print('Time (LHS)')\n",
        "print(t2-t1)\n",
        "\n",
        "# Now for RHS\n",
        "\n",
        "t1 = time.time()\n",
        "# This matrix only needs be calculated once\n",
        "Kmat1 = scipy.sparse.csr_matrix(comMat(n1, k2))\n",
        "IPI1 = scipy.sparse.kron(scipy.sparse.kron(scipy.sparse.identity(k1), Kmat1), scipy.sparse.identity(n1))\n",
        "Kmat2 = scipy.sparse.csr_matrix(comMat(n2, k2))\n",
        "IPI2 = scipy.sparse.kron(scipy.sparse.kron(scipy.sparse.identity(k1), Kmat2), scipy.sparse.identity(n2))\n",
        "\n",
        "t2 = time.time()\n",
        "atilde = matb2vecb(A,n1)\n",
        "btilde = matb2vecb(B,n2)\n",
        "ctilde = matb2vecb(C,n1)\n",
        "dtilde = matb2vecb(D,n2)\n",
        "\n",
        "vecca = mat2vec(ctilde.transpose() @ atilde)\n",
        "vecdb = mat2vec(dtilde.transpose() @ btilde)\n",
        "\n",
        "RHS1_noreshape = IPI1 @ vecca \n",
        "RHS2_noreshape = IPI2 @ vecdb \n",
        "\n",
        "RHS1_final = RHS1_noreshape.reshape(k1*k2,n1**2).transpose()\n",
        "RHS2_final = RHS2_noreshape.reshape(k1*k2,n2**2)\n",
        "\n",
        "RHS_final = RHS1_final @ RHS2_final\n",
        "\n",
        "t3 = time.time()\n",
        "print('Time (preprocessing)')\n",
        "print(t2-t1)\n",
        "print('Time (RHS)')\n",
        "print(t3-t2)\n",
        "\n",
        "print(np.allclose(RHS_final, runningSum))\n"
      ],
      "execution_count": 0,
      "outputs": [
        {
          "output_type": "stream",
          "text": [
            "Time (LHS)\n",
            "10.831757307052612\n",
            "Time (preprocessing)\n",
            "0.437467098236084\n",
            "Time (RHS)\n",
            "0.45050811767578125\n",
            "True\n"
          ],
          "name": "stdout"
        }
      ]
    },
    {
      "cell_type": "markdown",
      "metadata": {
        "id": "5nZUsKzwzG7X",
        "colab_type": "text"
      },
      "source": [
        "### **Lemma 6: Double sum of $A_{i,j} \\otimes B_iC_j'$**"
      ]
    },
    {
      "cell_type": "markdown",
      "metadata": {
        "id": "G8ZGn9uizVMo",
        "colab_type": "text"
      },
      "source": [
        "\n",
        "Let $A$ be a matrix of size $(m_1,m_2)$, partitioned block-wise into chunks $\\{A_{ij}\\}_{i=1,...l_1}^{j=1...l_2}$ of size $(n_1,n_2)$ where $m_1|n_1$ with $l_1=m_1/n_1$ $m_2|n_2$ with $l_2=m_2/n_2$. I.e.\n",
        "\n",
        "$$A = \\begin{bmatrix} A_{11} & A_{12} & ... & A_{1l_2} \\\\ A_{21} & A_{22} & ... & A_{2l_2} \\\\ \\vdots \\\\ A_{l_11} & A_{l_12} & ... & A_{l_1l_2} \\end{bmatrix}$$\n",
        "\n",
        "Let $B$ and $C$ be matrices of sizes $(m_1,k)$ and $(m_2,k)$ respectively, partitioned row-wise into chunks $B_1,...B_{l_1}$ and $C_1,...C_{l_2}$ of sizes $(n_1,k)$ and $(n_2,k)$ respectively. I.e.\n",
        "\n",
        "$$B = \\begin{bmatrix} B_1 \\\\ \\vdots \\\\ B_{l_1} \\end{bmatrix}, C = \\begin{bmatrix} C_1 \\\\ C_2 \\\\ \\vdots \\\\ C_{l_2} \\end{bmatrix}$$\n",
        "\n",
        "Then:\n",
        "\n",
        "$$\\sum_{j=1}^{l_2} \\sum_{i=1}^{l_1}A_{ij} \\otimes B_iC_j' = ((I_{n_2} \\otimes P_{n_1,n_2} \\otimes I_{n_1})vec(\\widetilde{(bc')}'\\tilde{a}))^{r(n_1^2,n_2^2)}$$\n",
        "\n",
        "$$\\widetilde{(bc')}=vecb(BC')$$\n",
        "$$\\widetilde{a}=vecb(A)$$"
      ]
    },
    {
      "cell_type": "code",
      "metadata": {
        "id": "e738BtrQ877X",
        "colab_type": "code",
        "outputId": "9e77055a-ffb4-4315-ddd8-b30f3dbeda26",
        "colab": {
          "base_uri": "https://localhost:8080/"
        }
      },
      "source": [
        "n1 = 2\n",
        "n2 = 2\n",
        "m1 = 400\n",
        "m2 = 800\n",
        "k=100\n",
        "l1 = m1//n1\n",
        "l2 = m2//n2\n",
        "\n",
        "# Create A\n",
        "A = np.random.randn(m1,m2)\n",
        "\n",
        "B = np.random.randn(m1,k)\n",
        "C = np.random.randn(m2,k)\n",
        "\n",
        "runningSum = np.zeros((n1**2,n2**2))\n",
        "\n",
        "# LHS calculation\n",
        "t1 = time.time()\n",
        "for i in np.arange(l1):\n",
        "  for j in np.arange(l2):\n",
        "\n",
        "    Aij = A[n1*i:n1*(i+1),n2*j:n2*(j+1)]\n",
        "    Bi = B[n1*i:n1*(i+1),:]\n",
        "    Cj = C[n2*j:n2*(j+1),:]\n",
        "\n",
        "    runningSum = runningSum + np.kron(Aij, Bi @ Cj.transpose())\n",
        "\n",
        "t2 = time.time()\n",
        "print(t2-t1)\n",
        "\n",
        "# RHS calculation\n",
        "t1 = time.time()\n",
        "\n",
        "# Change A to stacked form\n",
        "As = A.reshape((m1//n1,n1,m2//n2,n2)).transpose(0,2,1,3).reshape(m1*m2//n2,n2)\n",
        "\n",
        "# B times C transpose\n",
        "BCt = B @ C.transpose()\n",
        "\n",
        "# B times C transpose (stacked)\n",
        "BCts = BCt.reshape((m1//n1,n1,m2//n2,n2)).transpose(0,2,1,3).reshape(m1*m2//n2,n2)\n",
        "\n",
        "# This matrix only needs be calculated once\n",
        "K = comMat(n1, n2)\n",
        "IPI = scipy.sparse.kron(scipy.sparse.kron(scipy.sparse.identity(n2), K), scipy.sparse.identity(n1))\n",
        "\n",
        "t2 = time.time()\n",
        "atilde = matb2vecb(As,n1)\n",
        "bctilde = matb2vecb(BCts,n1)\n",
        "\n",
        "vecbca = mat2vec(bctilde.transpose() @ atilde)\n",
        "\n",
        "RHS_noreshape = IPI @ vecbca \n",
        "\n",
        "RHS_final = RHS_noreshape.reshape(n1**2,n2**2).transpose()\n",
        "\n",
        "\n",
        "t3 = time.time()\n",
        "print(t3-t1)\n",
        "print(t3-t2)\n",
        "\n",
        "print(np.allclose(RHS_final, runningSum))\n",
        "print(RHS_final)\n",
        "print(runningSum)"
      ],
      "execution_count": 0,
      "outputs": [
        {
          "output_type": "stream",
          "text": [
            "2.559058666229248\n",
            "0.022186994552612305\n",
            "0.010087013244628906\n",
            "True\n",
            "[[  960.83824663 -4552.14415745  2682.444826   -3112.50553303]\n",
            " [  727.74973788  4670.61399506  1346.77220663  2369.18564613]\n",
            " [-2549.31467565  -377.15571587  5012.98849248 -2177.04529151]\n",
            " [ -340.64929828 -4999.05418749  4928.98542478 -1515.14822943]]\n",
            "[[  960.83824663 -4552.14415745  2682.444826   -3112.50553303]\n",
            " [  727.74973788  4670.61399506  1346.77220663  2369.18564613]\n",
            " [-2549.31467565  -377.15571587  5012.98849248 -2177.04529151]\n",
            " [ -340.64929828 -4999.05418749  4928.98542478 -1515.14822943]]\n"
          ],
          "name": "stdout"
        }
      ]
    },
    {
      "cell_type": "markdown",
      "metadata": {
        "id": "qFgyuR-mvJbs",
        "colab_type": "text"
      },
      "source": [
        "## Comments"
      ]
    },
    {
      "cell_type": "markdown",
      "metadata": {
        "id": "tNF39wnNC900",
        "colab_type": "text"
      },
      "source": [
        "This section contains comments relating the lemmas above to BLMM"
      ]
    },
    {
      "cell_type": "markdown",
      "metadata": {
        "id": "65-yTZC7tNd3",
        "colab_type": "text"
      },
      "source": [
        "### Derivative of $l$ with respect to $D_k$"
      ]
    },
    {
      "cell_type": "markdown",
      "metadata": {
        "id": "bgvFn9suDDvS",
        "colab_type": "text"
      },
      "source": [
        "We already have that; $$\\frac{\\partial l}{\\partial D_k} = \\frac{1}{2}\\sum_{j=1}^{l_k}(T_{(k,j)}u)(T_{(k,j)}u)' - \\frac{1}{2}\\sum_{j=1}^kT_{(k,j)}T_{(k,j)}'$$\n",
        "\n",
        "\n",
        "Consider the first term, given by:\n",
        "$$\\frac{1}{2}\\sum_{j=1}^{l_k}(T_{(k,j)}u)(T_{(k,j)}u)'$$\n",
        "$$= \\sigma^{-2}\\frac{1}{2}\\sum_{j=1}^{l_k}(Z'_{(k,j)}e-Z'_{(k,j)}ZD(I+Z'ZD)^{-1}Z'e)(e'Z_{(k,j)}-e'ZD(I+Z'ZD)^{-1}Z'Z_{(k,j)})$$\n",
        "$$ = \\sigma^{-2}\\frac{1}{2}\\sum_{j=1}^{l_k} (A_j - B_j)(A_j-B_j)'$$\n",
        "\n",
        "Upon letting:\n",
        " - $A_j = Z'_{(k,j)}e$ with $A = Z'_{(k)}e$ \n",
        " - $B_j = Z'_{(k,j)}ZD(I+Z'ZD)^{-1}Z'e$ with $B = Z'_{(k)}ZD(I+Z'ZD)^{-1}Z'e$ \n",
        "\n",
        "Noting, now, by Lemma 1, that this is equal to:\n",
        "\n",
        "$$= \\sigma^{-2}\\frac{1}{2}((A')^{r(l_k,q_k)}-(B')^{r(l_k,q_k)})'((A')^{r(l_k,q_k)}-(B')^{r(l_k,q_k)})$$\n",
        "\n",
        "$$= \\sigma^{-2}\\frac{1}{2}\\bigg((e'Z_{(k)})^{r(l_k,q_k)}-(e'Z(I+DZ'Z)^{-1}DZ'Z_{(k)})^{r(l_k,q_k)}\\bigg)'\\bigg((e'Z_{(k)})^{r(l_k,q_k)}-(e'Z(I+DZ'Z)^{-1}DZ'Z_{(k)})^{r(l_k,q_k)}\\bigg)$$\n",
        "\n",
        "This is how the first term is computed in a computationally efficient manner. The second term can be computed by first noting:\n",
        "\n",
        "$$\\frac{1}{2}\\sum_{j=1}^{l_k}T_{(k,j)}T_{(k,j)}'=\\frac{1}{2}\\sum_{j=1}^{l_k}\\bigg(Z_{(k,j)}'Z_{(k,j)} - Z_{(k,j)}'ZD(I+Z'ZD)^{-1}Z_{(k,j)}'Z\\bigg)$$\n",
        "$$=\\frac{1}{2}\\sum_{j=1}^{l_k}Z_{(k,j)}'Z_{(k,j)} - \\frac{1}{2}\\sum_{j=1}^{l_k}\\bigg( Z_{(k,j)}'ZD(I+Z'ZD)^{-1}Z'Z_{(k,j)}\\bigg)$$\n",
        "$$=\\frac{1}{2}\\sum_{j=1}^{l_k}Z_{(k,j)}'Z_{(k,j)} - \\frac{1}{2}\\sum_{j=1}^{l_k}A_jB_j'$$\n",
        "\n",
        "Upon letting:\n",
        " - $A_j = Z'_{(k,j)}Z$ with $A = Z'_{(k)}Z$ \n",
        " - $B_j = Z'_{(k,j)}Z(I+DZ'Z)^{-1}D$ with $B = Z'_{(k)}Z(I+DZ'Z)^{-1}D$ \n",
        "\n",
        "Upon applying lemma 1, we see that this equals;\n",
        "\n",
        " $$=\\frac{1}{2}\\sum_{j=1}^{l_k}Z_{(k,j)}'Z_{(k,j)} - ((A')^{r(l_k\\sum_il_iq_i,q_k)})'(B')^{r(l_k\\sum_il_iq_i,q_k)}$$\n",
        " $$=\\frac{1}{2}\\sum_{j=1}^{l_k}Z_{(k,j)}'Z_{(k,j)} - ((Z'Z_{(k,j)})^{r(l_k\\sum_il_iq_i,q_k)})'(D(I+Z'ZD)^{-1}Z_{(k,j)}'Z)^{r(l_k\\sum_il_iq_i,q_k)}$$\n",
        "\n",
        "Note that the first term can be computed prior to any iteration as it does not depend on any parameter estimates and therefore can be ignored here."
      ]
    },
    {
      "cell_type": "markdown",
      "metadata": {
        "id": "RJITQSX9tRFP",
        "colab_type": "text"
      },
      "source": [
        "### Covariance of derivative of $l$ with respect to $D_k$ and $l$ with respect to $\\sigma^2$ \n"
      ]
    },
    {
      "cell_type": "markdown",
      "metadata": {
        "id": "iS3J_HGYtYox",
        "colab_type": "text"
      },
      "source": [
        "The covariance of the $\\frac{\\partial l}{\\partial \\sigma^2}$ and $\\frac{\\partial l}{\\partial D_k}$ is given by:\n",
        "\n",
        "$$cov\\bigg(\\frac{\\partial l}{\\partial \\sigma^2},\\frac{\\partial l}{\\partial D_k}\\bigg) = \\frac{1}{2\\sigma^2}\\text{vec}'\\bigg(\\sum_{j=1}^{l_k}T_{(k,j)}T_{(k,j)}'\\bigg)\\mathcal{D^{+'}}$$\n",
        "\n",
        "\n",
        "\n",
        "\n",
        "The second term can be computed by first noting:\n",
        "\n",
        "$$\\sum_{j=1}^{l_k}T_{(k,j)}T_{(k,j)}'=\\sum_{j=1}^{l_k}\\bigg(Z_{(k,j)}'Z_{(k,j)} - Z_{(k,j)}'ZD(I+Z'ZD)^{-1}Z'Z_{(k,j)}\\bigg)$$\n",
        "$$=\\sum_{j=1}^{l_k}Z_{(k,j)}'Z_{(k,j)} - \\sum_{j=1}^{l_k}\\bigg( Z_{(k,j)}'ZD(I+Z'ZD)^{-1}Z'Z_{(k,j)}\\bigg)$$\n",
        "$$=\\sum_{j=1}^{l_k}Z_{(k,j)}'Z_{(k,j)} - \\sum_{j=1}^{l_k}A_jB_j'$$\n",
        "\n",
        "Upon letting:\n",
        " - $A_j = Z'_{(k,j)}Z$ with $A = Z'_{(k)}Z$ \n",
        " - $B_j = Z'_{(k,j)}Z(I+DZ'Z)^{-1}D$ with $B = Z'_{(k)}Z(I+DZ'Z)^{-1}D$ \n",
        "\n",
        "Upon applying lemma 1, we see that this equals;\n",
        "\n",
        " $$=\\sum_{j=1}^{l_k}Z_{(k,j)}'Z_{(k,j)} - ((A')^{r(l_k\\sum_il_iq_i,q_k)})'(B')^{r(l_k\\sum_il_iq_i,q_k)}$$\n",
        " $$=\\sum_{j=1}^{l_k}Z_{(k,j)}'Z_{(k,j)} - ((Z'Z_{(k)})^{r(l_k\\sum_il_iq_i,q_k)})'(D(I+Z'ZD)^{-1}Z'Z_{(k)})^{r(l_k\\sum_il_iq_i,q_k)}$$\n",
        "\n",
        "Note that the first term can be computed prior to any iteration as it does not depend on any parameter estimates and therefore can be ignored here. Therefore, we have:\n",
        "\n",
        "$$cov\\bigg(\\frac{\\partial l}{\\partial \\sigma^2},\\frac{\\partial l}{\\partial D_k}\\bigg) = \\frac{1}{2\\sigma^2}\\text{vec}'\\bigg(\\sum_{j=1}^{l_k}Z_{(k,j)}'Z_{(k,j)}\\bigg)\\mathcal{D^{+'}} - \\frac{1}{2\\sigma^2}\\text{vec}'\\bigg(((Z'Z_{(k)})^{r(l_k\\sum_il_iq_i,q_k)})'(D(I+Z'ZD)^{-1}Z'Z_{(k)})^{r(l_k\\sum_il_iq_i,q_k)}\\bigg)\\mathcal{D^{+'}}$$"
      ]
    },
    {
      "cell_type": "markdown",
      "metadata": {
        "id": "MOI0oEmUw9b6",
        "colab_type": "text"
      },
      "source": [
        "### Covariance of derivative of $l$ with respect to $D_k$"
      ]
    },
    {
      "cell_type": "markdown",
      "metadata": {
        "id": "FiXwt-uxxDAA",
        "colab_type": "text"
      },
      "source": [
        "The covariance of the $\\frac{\\partial l}{\\partial D_{k_1}}$ and $\\frac{\\partial l}{\\partial D_{k_2}}$ is given by:\n",
        "\n",
        "$$\\text{cov}\\bigg(\\frac{\\delta l}{\\delta \\text{vech}(D_{k_1})},\\frac{\\delta l}{\\delta \\text{vech}(D_{k_2})}\\bigg)=\\frac{1}{2}\\mathcal{D}_{k_1}^+\\sum_{j=1}^{l_{k_2}}\\sum_{i=1}^{l_{k_1}}(R_{(k_1,k_2,i,j)}\\otimes R_{(k_1,k_2, i,j)}\n",
        ")\\mathcal{D}_{k_2}^{+'}$$\n",
        "\n",
        "Where $R_{(k_1,k_2,i,j)}=Z'_{(k_1,i)}Z_{(k_2,j)}-Z_{(k_1,i)}'ZD(I+Z'ZD)^{-1}Z'Z_{(k_2,j)}$. Let:\n",
        "\n",
        " - $A_{i,j}=Z'_{(k_1,i)}Z_{(k_2,j)}$ where $A=Z'Z_{(k_1,k_2)}$.\n",
        " - $B_{i,j}=Z_{(k_1,i)}'ZD(I+Z'ZD)^{-1}Z'Z_{(k_2,j)}$\n",
        "\n",
        "It follows that:\n",
        "\n",
        " $$\\text{cov}\\bigg(\\frac{\\delta l}{\\delta \\text{vech}(D_{k_1})},\\frac{\\delta l}{\\delta \\text{vech}(D_{k_2})}\\bigg)=\\frac{1}{2}\\mathcal{D}_{k_1}^+\\sum_{j=1}^{l_{k_2}}\\sum_{i=1}^{l_{k_1}}\\bigg((A_{i,j} - B_{i,j})\\otimes (A_{i,j} - B_{i,j})\\bigg)\\mathcal{D}_{k_2}^{+'}$$\n",
        " $$=\\frac{1}{2}\\mathcal{D}_{k_1}^+\\bigg(\\sum_{j=1}^{l_{k_2}}\\sum_{i=1}^{l_{k_1}}(A_{i,j}\\otimes A_{i,j}) - \\sum_{j=1}^{l_{k_2}}\\sum_{i=1}^{l_{k_1}}(A_{i,j}\\otimes B_{i,j}) - \\sum_{j=1}^{l_{k_2}}\\sum_{i=1}^{l_{k_1}}(B_{i,j}\\otimes A_{i,j}) - \\sum_{j=1}^{l_{k_2}}\\sum_{i=1}^{l_{k_1}}(B_{i,j}\\otimes B_{i,j})\\bigg)\\mathcal{D}_{k_2}^{+'}$$\n",
        "\n",
        "Each of these can be calculated in the below mannor via a variant of lemma 6:\n",
        "\n",
        "\n",
        "$$\\sum_{j=1}^{l_2} \\sum_{i=1}^{l_1}A_{i,j} \\otimes A_{i,j} = ((I_{q_2} \\otimes P_{q_1,q_2} \\otimes I_{q_1})vec(\\tilde{a}'\\tilde{a}))^{r(q_1^2,q_2^2)}$$\n",
        "\n",
        "$$\\sum_{j=1}^{l_2} \\sum_{i=1}^{l_1}B_{i,j} \\otimes A_{i,j} = ((I_{q_2} \\otimes P_{q_1,q_2} \\otimes I_{q_1})vec(\\tilde{b}'\\tilde{a}))^{r(q_1^2,q_2^2)}$$\n",
        "\n",
        "$$\\sum_{j=1}^{l_2} \\sum_{i=1}^{l_1}A_{i,j} \\otimes B_{i,j} = ((I_{q_2} \\otimes P_{q_1,q_2} \\otimes I_{q_1})vec(\\tilde{a}'\\tilde{b}))^{r(q_1^2,q_2^2)}$$\n",
        "\n",
        "$$\\sum_{j=1}^{l_2} \\sum_{i=1}^{l_1}B_{i,j} \\otimes B_{i,j} = ((I_{q_2} \\otimes P_{q_1,q_2} \\otimes I_{q_1})vec(\\tilde{b}'\\tilde{b}))^{r(q_1^2,q_2^2)}$$\n",
        "\n",
        "Where the lower case letter and tilde notation represents the $vecb(\\cdot)$ operator. I.e. if $X$ is partitioned into blocks of size $(n_1 \\times n_2)$ like so:\n",
        "\n",
        "$$X = \\begin{bmatrix} X_{1,1} & X_{1,2} & ... & X_{1,l_2} \\\\ X_{2,1} & X_{2,2} & ... & X_{2,l_2} \\\\ \\vdots \\\\ X_{l_1,1} & X_{l_1,2} & ... & X_{l_1,l_2} \\end{bmatrix}$$\n",
        "\n",
        "Then $\\tilde{x}=vecb^{(n_1,n_2)}(X)$ is given by:\n",
        "\n",
        "$$\\tilde{x} = \\begin{bmatrix} vec'(X_{1,1}) \\\\ vec'(X_{1,2}) \\\\ \\vdots \\\\ vec'(X_{1,l_2}) \\\\ vec'(X_{2,1}) \\\\ \\vdots \\\\ vec'(X_{l_1,l_2}) \\end{bmatrix}$$\n",
        "\n",
        "It is also worth noting that the first sum given above does not involve any estimated parameters so does not need to be recomputed for each iteration and can be computed beforehand."
      ]
    },
    {
      "cell_type": "markdown",
      "metadata": {
        "id": "Znm81lAfRrEW",
        "colab_type": "text"
      },
      "source": [
        "## Final Functions"
      ]
    },
    {
      "cell_type": "markdown",
      "metadata": {
        "id": "00x_ZkSSRt7a",
        "colab_type": "text"
      },
      "source": [
        "This section contains functions, and tests of those functions, intended for use in BLMM, based on the previous lemmas."
      ]
    },
    {
      "cell_type": "markdown",
      "metadata": {
        "id": "8wr-5eC5qEUN",
        "colab_type": "text"
      },
      "source": [
        "### Function ```comMat2D```"
      ]
    },
    {
      "cell_type": "markdown",
      "metadata": {
        "id": "XNJlmW-AqJLb",
        "colab_type": "text"
      },
      "source": [
        "This function takes as input;\n",
        "\n",
        " - $a$: A postive integer.\n",
        " - $b$: A postive integer.\n",
        "\n",
        "And returns:\n",
        "\n",
        " - $K$: The commutation matrix (in sparse format) which maps $vec(A)$ to $vec(A')$ for an arbitrary matrix $A$ of dimensions $(a \\times b)$, i.e. $K$ is the unique matrix which satisfies, for all $A$;\n",
        "\n",
        " $$K vec(A) = vec(A')$$"
      ]
    },
    {
      "cell_type": "code",
      "metadata": {
        "colab_type": "code",
        "id": "8SZvjGidp_km",
        "colab": {}
      },
      "source": [
        "def comMat2D(a, b):\n",
        "\n",
        "  # Example matrix with unique elements\n",
        "  m = np.arange(a*b).reshape(a,b)\n",
        "\n",
        "  # Vec(m) and Vec(m')\n",
        "  vecm = mat2vec(m)\n",
        "  vecmt = mat2vec(m.transpose())\n",
        "\n",
        "  # Work out mapping between them.\n",
        "  K=scipy.sparse.csr_matrix((vecm.transpose()==vecmt).astype(int))\n",
        "\n",
        "  print(type(K))\n",
        "\n",
        "  return(K)"
      ],
      "execution_count": 0,
      "outputs": []
    },
    {
      "cell_type": "markdown",
      "metadata": {
        "id": "8qo_i_ydszqi",
        "colab_type": "text"
      },
      "source": [
        "The below code tests and times ``comMat2D``."
      ]
    },
    {
      "cell_type": "code",
      "metadata": {
        "id": "zDP48k5XrpAZ",
        "colab_type": "code",
        "outputId": "0553717c-1f2c-4e32-c7c5-d8cf5c5a14ea",
        "colab": {
          "base_uri": "https://localhost:8080/",
          "height": 70
        }
      },
      "source": [
        "# Random dimensions\n",
        "a = np.random.randint(1,10)\n",
        "b = np.random.randint(1,10)\n",
        "\n",
        "# Get K\n",
        "t1 = time.time()\n",
        "K = comMat2D(a,b)\n",
        "t2 = time.time()\n",
        "print(t2-t1)\n",
        "\n",
        "# Random A\n",
        "A = np.random.randn(a,b)\n",
        "\n",
        "print(np.allclose(mat2vec(A.transpose()),K @ mat2vec(A)))"
      ],
      "execution_count": 0,
      "outputs": [
        {
          "output_type": "stream",
          "text": [
            "<class 'scipy.sparse.csr.csr_matrix'>\n",
            "0.0016455650329589844\n",
            "True\n"
          ],
          "name": "stdout"
        }
      ]
    },
    {
      "cell_type": "markdown",
      "metadata": {
        "id": "O_qQGr-FZcF9",
        "colab_type": "text"
      },
      "source": [
        "### Function ``block2stacked2D``"
      ]
    },
    {
      "cell_type": "markdown",
      "metadata": {
        "id": "6GWpZ7eqZg-T",
        "colab_type": "text"
      },
      "source": [
        "This function takes as inputs:\n",
        "\n",
        " - `A`: A 2D matrix of size $(m_1 \\times m_2)$.\n",
        " - `pA`: The size of the block partitions of $A$, e.g. if $A_{i,j}$ is of dimension $(n_1 \\times n_2)$ the ``pA=[n1, n2]``.\n",
        "\n",
        "And returns as output:\n",
        "\n",
        " - `As`: The matrix $A$ reshaped to have all blocks $A_{i,j}$ on top of one another. I.e. the below mapping has been performed:\n",
        "\n",
        "$$A = \\begin{bmatrix} A_{1,1} & A_{1,2} & ... & A_{1,l_2} \\\\ A_{2,1} & A_{2,2} & ... & A_{2,l_2} \\\\ \\vdots \\\\ A_{l_1,1} & A_{l_1,2} & ... & A_{l_1,l_2} \\end{bmatrix} \\rightarrow A_s = \\begin{bmatrix} A_{1,1} \\\\ A_{1,2} \\\\ \\vdots \\\\ A_{1,l_2} \\\\ A_{2,1} \\\\ \\vdots \\\\ A_{l_1,l_2} \\end{bmatrix}$$"
      ]
    },
    {
      "cell_type": "code",
      "metadata": {
        "id": "a2MgEZ0xV-KD",
        "colab_type": "code",
        "colab": {}
      },
      "source": [
        "def block2stacked2D(A, pA):\n",
        "\n",
        "  # Work out shape of A\n",
        "  m1 = A.shape[0]\n",
        "  m2 = A.shape[1]\n",
        "\n",
        "  # Work out shape of As\n",
        "  n1 = pA[0]\n",
        "  n2 = pA[1]\n",
        "  \n",
        "  # Change A to stacked form\n",
        "  As = A.reshape((m1//n1,n1,m2//n2,n2)).transpose(0,2,1,3).reshape(m1*m2//n2,n2)\n",
        "\n",
        "  return(As)"
      ],
      "execution_count": 0,
      "outputs": []
    },
    {
      "cell_type": "markdown",
      "metadata": {
        "id": "VoNmRTK_WlMg",
        "colab_type": "text"
      },
      "source": [
        "Below is a demonstration/test of this function:"
      ]
    },
    {
      "cell_type": "code",
      "metadata": {
        "id": "_kmYUl9fWqgo",
        "colab_type": "code",
        "outputId": "f675ef48-6486-44ba-fc3f-61dff37c4167",
        "colab": {
          "base_uri": "https://localhost:8080/",
          "height": 158
        }
      },
      "source": [
        "# Random block sizes\n",
        "n1 = np.random.randint(2,6)\n",
        "n2 = np.random.randint(2,6)\n",
        "pA = np.array([n1,n2])\n",
        "\n",
        "# Random number of blocks\n",
        "l1 = np.random.randint(1,3)\n",
        "l2 = np.random.randint(1,3)\n",
        "\n",
        "# Shape of A\n",
        "m1 = l1*n1\n",
        "m2 = l2*n2\n",
        "\n",
        "# Create A\n",
        "A = np.random.randn(m1,m2)\n",
        "print(n1,n2,m1,m2)\n",
        "print(A.shape)\n",
        "# Print A\n",
        "print(A)\n",
        "print(block2stacked2D(A,pA))"
      ],
      "execution_count": 0,
      "outputs": [
        {
          "output_type": "stream",
          "text": [
            "2 2 2 4\n",
            "(2, 4)\n",
            "[[-0.84359983  0.02359743 -0.51671481  0.73810572]\n",
            " [ 1.47444884  0.10687715  0.77949541 -0.31665928]]\n",
            "[[-0.84359983  0.02359743]\n",
            " [ 1.47444884  0.10687715]\n",
            " [-0.51671481  0.73810572]\n",
            " [ 0.77949541 -0.31665928]]\n"
          ],
          "name": "stdout"
        }
      ]
    },
    {
      "cell_type": "markdown",
      "metadata": {
        "id": "zZI3kddVwTnK",
        "colab_type": "text"
      },
      "source": [
        "### Function ``mat2vecb2D``"
      ]
    },
    {
      "cell_type": "markdown",
      "metadata": {
        "id": "aa1yD6GdFeIB",
        "colab_type": "text"
      },
      "source": [
        "The below function takes the following inputs:\n",
        "\n",
        " - `mat`: An abritary matrix whose dimensions are multiples of `p[0]` and `p[1]` respectively.\n",
        " - `p`. The size of the chunks we are partitioning `mat` into.\n",
        "\n",
        "And gives the following outputs:\n",
        "\n",
        " - `vecb`: A matrix composed of each block of `mat`, converted to row vectors, stacked on top of one another. I.e. for an arbitrary matrix $A$ of appropriate dimensions, $vecb(A)$ is the result of the mapping;\n",
        "\n",
        " \n",
        "$$A = \\begin{bmatrix} A_{1,1} & A_{1,2} & ... & A_{1,l_2} \\\\ A_{2,1} & A_{2,2} & ... & A_{2,l_2} \\\\ \\vdots \\\\ A_{l_1,1} & A_{l_1,2} & ... & A_{l_1,l_2} \\end{bmatrix} \\rightarrow \\tilde{a} = \\begin{bmatrix} vec'(A_{1,1}) \\\\ vec'(A_{1,2}) \\\\ \\vdots \\\\ vec'(A_{1,l_2}) \\\\ vec'(A_{2,1}) \\\\ \\vdots \\\\ vec'(A_{l_1,l_2}) \\end{bmatrix}$$\n",
        "\n",
        "Where $A_{i,j}$ has dimensions $($ `p[0]` $\\times$ `p[1]` $)$ for all $i$ and $j$."
      ]
    },
    {
      "cell_type": "code",
      "metadata": {
        "id": "YUocRxxxwTze",
        "colab_type": "code",
        "colab": {}
      },
      "source": [
        "# Block vec with row-wise chunks of size n\n",
        "def mat2vecb2D(mat,p):\n",
        "\n",
        "  # Change to stacked block format, if necessary\n",
        "  if p[1]!=mat.shape[1]:\n",
        "    mat = block2stacked2D(mat,p)\n",
        "\n",
        "  # Get height of block.\n",
        "  n = p[0]\n",
        "  \n",
        "  # Work out shape of matrix.\n",
        "  m = mat.shape[0]\n",
        "  k = mat.shape[1]\n",
        "\n",
        "  # Convert to stacked vector format\n",
        "  vecb = mat.reshape(m//n, n, k).transpose((1, 0, 2)).reshape(n, m*k//n).transpose().reshape(m//n,n*k)\n",
        "\n",
        "  #Return vecb\n",
        "  return(vecb)"
      ],
      "execution_count": 0,
      "outputs": []
    },
    {
      "cell_type": "markdown",
      "metadata": {
        "id": "8BD5-yjOG1Hu",
        "colab_type": "text"
      },
      "source": [
        "The below code tests and outputs the above function."
      ]
    },
    {
      "cell_type": "code",
      "metadata": {
        "id": "TtUrP52U2GFC",
        "colab_type": "code",
        "outputId": "6e304216-5280-4b89-9687-47ed92b1d938",
        "colab": {
          "base_uri": "https://localhost:8080/",
          "height": 439
        }
      },
      "source": [
        "# Random block sizes\n",
        "n1 = np.random.randint(2,4)\n",
        "n2 = np.random.randint(2,4)\n",
        "\n",
        "# Blocksize\n",
        "p = np.array([n1,n2])\n",
        "\n",
        "# Random number of blocks\n",
        "l1 = np.random.randint(2,4)\n",
        "l2 = np.random.randint(2,4)\n",
        "\n",
        "# Resultant matrix sizes\n",
        "m1 = l1*n1\n",
        "m2 = l2*n2\n",
        "\n",
        "# Random matrices\n",
        "A = np.random.randn(m1,m2)\n",
        "\n",
        "print(A)\n",
        "print(mat2vecb2D(A,p))"
      ],
      "execution_count": 0,
      "outputs": [
        {
          "output_type": "stream",
          "text": [
            "[[-1.57740769  1.38227662 -0.57720426 -0.84919883  0.1548305  -0.88733926\n",
            "   0.27043042 -0.67335116  0.42995405]\n",
            " [-0.24377945  1.37536121 -1.92631884 -0.80035341  1.59826768 -0.67487122\n",
            "  -1.28118976 -1.1020212   1.48634586]\n",
            " [-0.25086025 -0.81378966  0.87509298 -0.35159024 -0.30276207  0.22025793\n",
            "   0.08196965 -0.18488438  1.38398241]\n",
            " [ 0.12276833  0.21697103  0.18332077  0.94029174 -0.36673905 -0.21320611\n",
            "   0.40749003 -1.04558125  0.75996564]\n",
            " [ 0.17896961  0.33436014 -1.04736241  0.8176214   1.10268263 -0.28595167\n",
            "   0.99506683  0.21785647 -2.061598  ]\n",
            " [-2.431536   -0.23439462 -0.36009052  1.25263576  1.23069941 -1.69318962\n",
            "   0.16099168 -1.03901294 -0.14510291]]\n",
            "[[-1.57740769 -0.24377945 -0.25086025  1.38227662  1.37536121 -0.81378966\n",
            "  -0.57720426 -1.92631884  0.87509298]\n",
            " [-0.84919883 -0.80035341 -0.35159024  0.1548305   1.59826768 -0.30276207\n",
            "  -0.88733926 -0.67487122  0.22025793]\n",
            " [ 0.27043042 -1.28118976  0.08196965 -0.67335116 -1.1020212  -0.18488438\n",
            "   0.42995405  1.48634586  1.38398241]\n",
            " [ 0.12276833  0.17896961 -2.431536    0.21697103  0.33436014 -0.23439462\n",
            "   0.18332077 -1.04736241 -0.36009052]\n",
            " [ 0.94029174  0.8176214   1.25263576 -0.36673905  1.10268263  1.23069941\n",
            "  -0.21320611 -0.28595167 -1.69318962]\n",
            " [ 0.40749003  0.99506683  0.16099168 -1.04558125  0.21785647 -1.03901294\n",
            "   0.75996564 -2.061598   -0.14510291]]\n"
          ],
          "name": "stdout"
        }
      ]
    },
    {
      "cell_type": "markdown",
      "metadata": {
        "colab_type": "text",
        "id": "et8qrPakTYi4"
      },
      "source": [
        "### Function: ``sumAijBijt2D``"
      ]
    },
    {
      "cell_type": "markdown",
      "metadata": {
        "id": "2sPHtrOiTaed",
        "colab_type": "text"
      },
      "source": [
        "This function takes in the following inputs:\n",
        "\n",
        " - A: A 2D matrix of dimension $(m_1 \\times m_2)$.\n",
        " - B: A 2D matrix of dimension $(m_1' \\times m_2)$.\n",
        " - pA: The size of the block partitions of $A$, e.g. if $A_{i,j}$ is of dimension $(n_1 \\times n_2)$ the ``pA=[n1, n2]``.\n",
        " - pB: The size of the block partitions of $B$, e.g. if $B_{i,j}$ is of dimension $(n_1' \\times n_2)$ the ``pB=[n1', n2]``.\n",
        "\n",
        "And gives the following output:\n",
        "\n",
        " - S: The sum of the partitions of $A$ multiplied by the transpose of the partitions of $B$; i.e. \n",
        " \n",
        " $$\\sum_{j=1}^{l_1}\\sum_{i=1}^{l_2} A_{i,j}B_{i,j}'$$\n",
        "  \n",
        "  where $l_1:=\\frac{m_1}{n_1}=\\frac{m_1'}{n_1'}$ and $l_2:=\\frac{m_2}{n_2}$."
      ]
    },
    {
      "cell_type": "code",
      "metadata": {
        "id": "JIE1JH7FTZjN",
        "colab_type": "code",
        "colab": {}
      },
      "source": [
        "def sumAijBijt2D(A, B, pA, pB):\n",
        "  \n",
        "  # Work out second (the common) dimension of the reshaped A and B\n",
        "  nA = pA[0]\n",
        "  nB = pB[0]\n",
        "\n",
        "  # Work out the first (the common) dimension of reshaped A and B\n",
        "  mA = A.shape[0]*A.shape[1]//nA\n",
        "  mB = B.shape[0]*B.shape[1]//nB\n",
        "\n",
        "  # Check mA equals mB\n",
        "  if mA != mB:\n",
        "    raise Exception('Matrix dimensions incompatible.')\n",
        "\n",
        "  # Convert both matrices to stacked block format.\n",
        "  A = block2stacked2D(A,pA)\n",
        "  B = block2stacked2D(B,pB)\n",
        "\n",
        "  # Work out the sum\n",
        "  S = A.transpose().reshape((mA,nA)).transpose() @ B.transpose().reshape((mB,nB))\n",
        "\n",
        "  # Return result\n",
        "  return(S)"
      ],
      "execution_count": 0,
      "outputs": []
    },
    {
      "cell_type": "markdown",
      "metadata": {
        "id": "xFQ_AedbmKfS",
        "colab_type": "text"
      },
      "source": [
        "Below is a test of the function to check it is outputting as expected. It is also timed."
      ]
    },
    {
      "cell_type": "code",
      "metadata": {
        "id": "0yBU9wFrRjrC",
        "colab_type": "code",
        "outputId": "a63764d1-e8a5-4bab-8f97-bd99492c541a",
        "colab": {
          "base_uri": "https://localhost:8080/",
          "height": 70
        }
      },
      "source": [
        "# Random number of blocks\n",
        "l1 = np.random.randint(1,3000)\n",
        "l2 = np.random.randint(1,3000)\n",
        "\n",
        "# Random blocksizes (the second dimension must be the same for both)\n",
        "n1 = np.random.randint(1,5)\n",
        "n1prime = np.random.randint(1,5)\n",
        "n2 = np.random.randint(1,5)\n",
        "\n",
        "# Save block sizes\n",
        "pA = np.array([n1,n2])\n",
        "pB = np.array([n1prime,n2])\n",
        "\n",
        "m1 = n1*l1\n",
        "m1prime = n1prime*l1\n",
        "m2 = n2*l2\n",
        "\n",
        "k=100\n",
        "l1 = m1//n1\n",
        "l2 = m2//n2\n",
        "\n",
        "# Create A\n",
        "A = np.random.randn(m1,m2)\n",
        "B = np.random.randn(m1prime,m2)\n",
        "\n",
        "# Calculation by summing\n",
        "t1 = time.time()\n",
        "\n",
        "# Initiate empty sum\n",
        "sumAB = np.zeros((n1,n1prime))\n",
        "for i in np.arange(m1//n1):\n",
        "  \n",
        "  for j in np.arange(m2//n2):\n",
        "\n",
        "    # Work out the row-wise chunks\n",
        "    Aij = A[n1*i:n1*(i+1),n2*j:n2*(j+1)]\n",
        "    Bij = B[n1prime*i:n1prime*(i+1),n2*j:n2*(j+1)]\n",
        "\n",
        "    # Perform the summation\n",
        "    sumAB = sumAB + Aij @ Bij.transpose()\n",
        "\n",
        "\n",
        "t2 = time.time()\n",
        "print('Time (Summing):', t2-t1)\n",
        "\n",
        "t1 = time.time()\n",
        "sumAB2 = sumAijBijt2D(A, B, pA, pB)\n",
        "t2=time.time()\n",
        "print('Time (Function):', t2-t1)\n",
        "\n",
        "print(np.allclose(sumAB,sumAB2))"
      ],
      "execution_count": 0,
      "outputs": [
        {
          "output_type": "stream",
          "text": [
            "Time (Summing): 5.755505800247192\n",
            "Time (Function): 0.2979574203491211\n",
            "True\n"
          ],
          "name": "stdout"
        }
      ]
    },
    {
      "cell_type": "markdown",
      "metadata": {
        "id": "o9imTrvpnPYQ",
        "colab_type": "text"
      },
      "source": [
        "### Function ``sumAijKronBij2D``"
      ]
    },
    {
      "cell_type": "markdown",
      "metadata": {
        "id": "hnagjumGoSqW",
        "colab_type": "text"
      },
      "source": [
        "This function takes in the following inputs:\n",
        "\n",
        " - `A`: A 2D matrix of dimension $(m_1 \\times m_2)$.\n",
        " - `B`: A 2D matrix of dimension $(m_1 \\times m_2)$.\n",
        " - `p`: The size of the block partitions of $A$ and $B$, e.g. if $A_{i,j}$ and$B_{i,j}$ are of dimension $(n_1 \\times n_2)$ the ``pA=[n1, n2]``.\n",
        " - `K` (optional): The commutation matrix which, for an arbitrary matrix, $X$, of size $(n_1 \\times n_2)$, maps $vec(X)$ to $vec(X')$.\n",
        "\n",
        "And gives the following output:\n",
        "\n",
        " - S: The sum of the partitions of $A$ multiplied by the transpose of the partitions of $B$; i.e. \n",
        " \n",
        " $$\\sum_{j=1}^{l_1}\\sum_{i=1}^{l_2} A_{i,j} \\otimes B_{i,j}$$\n",
        "  \n",
        "  where $l_1:=\\frac{m_1}{n_1}$ and $l_2:=\\frac{m_2}{n_2}$.\n",
        "\n",
        "- `K`: The commutation matrix used for calculation (useful for later computation)."
      ]
    },
    {
      "cell_type": "code",
      "metadata": {
        "colab_type": "code",
        "id": "B8I6Ujtm0uz_",
        "colab": {}
      },
      "source": [
        "def sumAijKronBij2D(A, B, p, K=None):\n",
        "\n",
        "  # Check dim A and B and pA and pB all same\n",
        "  n1 = p[0]\n",
        "  n2 = p[1]\n",
        "\n",
        "  # This matrix only needs be calculated once\n",
        "  if K is None:\n",
        "    K = comMat2D(n1, n2)\n",
        "  \n",
        "  # Work out IPI\n",
        "  IPI = scipy.sparse.kron(scipy.sparse.kron(scipy.sparse.identity(n2), K.transpose()), scipy.sparse.identity(n1))\n",
        "\n",
        "  # Convert to vecb format\n",
        "  atilde = mat2vecb2D(A,p)\n",
        "  btilde = mat2vecb2D(B,p)\n",
        "\n",
        "  # Multiply and convert to vector\n",
        "  vecba = mat2vec(btilde.transpose() @ atilde)\n",
        "  S_noreshape = IPI @ vecba \n",
        "\n",
        "  # Reshape to correct shape\n",
        "  S = S_noreshape.reshape(n2**2,n1**2).transpose()\n",
        "\n",
        "  return(S,K)"
      ],
      "execution_count": 0,
      "outputs": []
    },
    {
      "cell_type": "markdown",
      "metadata": {
        "id": "1AApJ1TJt_JT",
        "colab_type": "text"
      },
      "source": [
        "The below code tests and times the above function."
      ]
    },
    {
      "cell_type": "code",
      "metadata": {
        "id": "v5BRnsmgt_x3",
        "colab_type": "code",
        "outputId": "76378866-6e1a-4f1a-e9b2-a9efdde70476",
        "colab": {
          "base_uri": "https://localhost:8080/",
          "height": 122
        }
      },
      "source": [
        "# Random block sizes\n",
        "n1 = 2#np.random.randint(2,20)\n",
        "n2 = 3#np.random.randint(2,20)\n",
        "\n",
        "# Blocksize\n",
        "p = np.array([n1,n2])\n",
        "\n",
        "# Random number of blocks\n",
        "l1 = 2000#np.random.randint(2,20)\n",
        "l2 = 3000#np.random.randint(2,20)\n",
        "\n",
        "# Resultant matrix sizes\n",
        "m1 = l1*n1\n",
        "m2 = l2*n2\n",
        "\n",
        "# Random matrices\n",
        "A = np.random.randn(m1,m2)\n",
        "B = np.random.randn(m1,m2)\n",
        "\n",
        "# Sum version\n",
        "t1 = time.time()\n",
        "\n",
        "runningSum = np.zeros((n1**2,n2**2))\n",
        "# LHS calculation\n",
        "t1 = time.time()\n",
        "for i in np.arange(l1):\n",
        "  for j in np.arange(l2):\n",
        "\n",
        "    Aij = A[n1*i:n1*(i+1),n2*j:n2*(j+1)]\n",
        "    Bij = B[n1*i:n1*(i+1),n2*j:n2*(j+1)]\n",
        "\n",
        "    runningSum = runningSum + np.kron(Aij, Bij)\n",
        "\n",
        "t2 = time.time()\n",
        "print('Time (summing): ', t2-t1)\n",
        "\n",
        "# Now with function\n",
        "t1 = time.time()\n",
        "S, K = sumAijKronBij2D(A, B, p)\n",
        "t2 = time.time()\n",
        "\n",
        "print('Time (function): ', t2-t1)\n",
        "print(np.allclose(S,runningSum))\n",
        "\n",
        "t1 = time.time()\n",
        "S, _ = sumAijKronBij2D(A, B, p, K)\n",
        "t2 = time.time()\n",
        "\n",
        "print('Time (function, with K): ', t2-t1)\n",
        "\n",
        "print(np.allclose(S,runningSum))\n"
      ],
      "execution_count": 0,
      "outputs": [
        {
          "output_type": "stream",
          "text": [
            "Time (summing):  177.29842138290405\n",
            "<class 'scipy.sparse.csr.csr_matrix'>\n",
            "Time (function):  1.1384644508361816\n",
            "True\n",
            "Time (function, with K):  0.7348198890686035\n",
            "True\n"
          ],
          "name": "stdout"
        }
      ]
    },
    {
      "cell_type": "markdown",
      "metadata": {
        "id": "h89nMhZuSTgX",
        "colab_type": "text"
      },
      "source": [
        "### Miscellaneous\n"
      ]
    },
    {
      "cell_type": "markdown",
      "metadata": {
        "id": "YJcPeyQNSYla",
        "colab_type": "text"
      },
      "source": [
        "This section contains miscellaneous observations/ideas."
      ]
    },
    {
      "cell_type": "code",
      "metadata": {
        "id": "2Fqi7T6DSX2o",
        "colab_type": "code",
        "colab": {}
      },
      "source": [
        ""
      ],
      "execution_count": 0,
      "outputs": []
    },
    {
      "cell_type": "code",
      "metadata": {
        "colab_type": "code",
        "id": "bfc9etxfhcDN",
        "colab": {}
      },
      "source": [
        "def comMat2D(a, b):\n",
        "\n",
        "  # Example matrix with unique elements\n",
        "  m = np.arange(a*b).reshape(a,b)\n",
        "\n",
        "  # Vec(m) and Vec(m')\n",
        "  vecmt = mat2vec(m)\n",
        "  vecmt = vecmt.reshape(vecmt.shape[0])\n",
        "\n",
        "  # Get row inds\n",
        "  rowInds = np.arange(a*b)\n",
        "\n",
        "  # Get column inds\n",
        "  colInds = np.argsort(vecmt)\n",
        "  colInds = colInds.reshape(colInds.shape[0])\n",
        "\n",
        "  # Work out mapping between them.\n",
        "  K=scipy.sparse.csr_matrix((np.ones(a*b),(rowInds,colInds)))\n",
        "\n",
        "  return(K)"
      ],
      "execution_count": 0,
      "outputs": []
    },
    {
      "cell_type": "code",
      "metadata": {
        "id": "JqYSx1dYhhFZ",
        "colab_type": "code",
        "outputId": "40bcb8bd-5e1c-435d-d0f4-cfd8b73ea86a",
        "colab": {
          "base_uri": "https://localhost:8080/",
          "height": 105
        }
      },
      "source": [
        "# Random dimensions\n",
        "a = 100#np.random.randint(10,20)\n",
        "b = 90#np.random.randint(10,20)\n",
        "\n",
        "# Get K\n",
        "t1 = time.time()\n",
        "K = comMat2D(a,b)\n",
        "t2 = time.time()\n",
        "print(t2-t1)\n",
        "\n",
        "# Random A\n",
        "A = np.random.randn(a,b)\n",
        "\n",
        "print(K.shape)\n",
        "print(mat2vec(A.transpose()).shape)\n",
        "print(mat2vec(A).shape)\n",
        "\n",
        "print(np.allclose(mat2vec(A.transpose()),K @ mat2vec(A)))"
      ],
      "execution_count": 0,
      "outputs": [
        {
          "output_type": "stream",
          "text": [
            "0.002140045166015625\n",
            "(9000, 9000)\n",
            "(9000, 1)\n",
            "(9000, 1)\n",
            "True\n"
          ],
          "name": "stdout"
        }
      ]
    },
    {
      "cell_type": "code",
      "metadata": {
        "id": "4TEYb3beiQvO",
        "colab_type": "code",
        "outputId": "c1172e88-44db-44ee-fe47-bdf31b0faf3e",
        "colab": {
          "base_uri": "https://localhost:8080/",
          "height": 140
        }
      },
      "source": [
        "def commutation_matrix_sp(m,n):\n",
        "  \n",
        "    row  = np.arange(m*n)\n",
        "    col  = row.reshape((m, n), order='F').ravel()\n",
        "    print(col)\n",
        "    data = np.ones(m*n, dtype=np.int8)\n",
        "    K = scipy.sparse.csr_matrix((data, (row, col)), shape=(m*n, m*n))\n",
        "    print(K @ np.arange(K.shape[1]))\n",
        "    return K\n",
        "\n",
        "# Random dimensions\n",
        "a = 100#np.random.randint(10,300)\n",
        "b = 90#np.random.randint(10,300)\n",
        "\n",
        "# Get K\n",
        "t1 = time.time()\n",
        "K = commutation_matrix_sp(a,b)\n",
        "t2 = time.time()\n",
        "print(t2-t1)\n",
        "\n",
        "# Random A\n",
        "A = np.random.randn(a,b)\n",
        "\n",
        "print(K.shape)\n",
        "print(mat2vec(A.transpose()).shape)\n",
        "print(mat2vec(A).shape)\n",
        "\n",
        "print(np.allclose(mat2vec(A.transpose()),K @ mat2vec(A)))"
      ],
      "execution_count": 0,
      "outputs": [
        {
          "output_type": "stream",
          "text": [
            "[   0  100  200 ... 8799 8899 8999]\n",
            "[   0  100  200 ... 8799 8899 8999]\n",
            "0.003014087677001953\n",
            "(9000, 9000)\n",
            "(9000, 1)\n",
            "(9000, 1)\n",
            "True\n"
          ],
          "name": "stdout"
        }
      ]
    },
    {
      "cell_type": "markdown",
      "metadata": {
        "id": "38AA6xvRw48f",
        "colab_type": "text"
      },
      "source": [
        "The below function takes as inputs:\n",
        "\n",
        " - $k_1$: A positive integer.\n",
        " - $k_2$: A positive integer.\n",
        " - $n$: A positive integer.\n",
        "\n",
        "And returns the permutation vector $p$ such that for any matrix $A$\n",
        "\n",
        "$(I_{k_1} \\otimes P_{n,k_2} \\otimes I_{n})A=A_p$\n",
        "\n",
        "Where $A_p$ is the matrix $A$ with $p$ applied to it's rows."
      ]
    },
    {
      "cell_type": "code",
      "metadata": {
        "id": "jVvGNGwzwrpC",
        "colab_type": "code",
        "colab": {}
      },
      "source": [
        "def permOfIPI(k1,k2,n):\n",
        "\n",
        "  # First we need the permutation represented by matrix P in vector format\n",
        "  permP = np.arange(n*k2).reshape((k2, n), order='F').ravel()\n",
        "\n",
        "  # Now we work out the permutation obtained by the first kronecker product (i.e. I kron P)\n",
        "  permKron1 = np.repeat(np.arange(k1),n*k2)*n*k2+np.tile(permP,k1)\n",
        "\n",
        "  # Now we work out the final permutation by appplying the second kronecker product (i.e. I kron P kron I)\n",
        "  p = np.repeat(permKron1,n)*n+np.tile(np.arange(n),n*k1*k2)\n",
        "\n",
        "  # Return the permutation\n",
        "  return(p)"
      ],
      "execution_count": 0,
      "outputs": []
    },
    {
      "cell_type": "code",
      "metadata": {
        "id": "VRtPwUHfUqse",
        "colab_type": "code",
        "outputId": "a55459bb-5a42-4571-9483-58fcf5b05980",
        "colab": {
          "base_uri": "https://localhost:8080/",
          "height": 193
        }
      },
      "source": [
        "m = 10#np.random.randint(10,200)\n",
        "n=8#np.random.randint(10,200)\n",
        "k1=5#np.random.randint(10,200)\n",
        "k2=6#np.random.randint(10,200)\n",
        "\n",
        "print('Example Shapes:')\n",
        "print('m: ', m)\n",
        "print('k1, k2: ', k1, k2)\n",
        "print('n: ', n)\n",
        "\n",
        "testMat = np.random.randn(k1*k2*n**2,m)\n",
        "\n",
        "t1 = time.time()\n",
        "K = comMat2D(n, k2).toarray()\n",
        "print(K.shape)\n",
        "IPI = np.kron(np.kron(np.eye(k1), K), np.eye(n))\n",
        "result1 = IPI @ testMat\n",
        "t2 = time.time()\n",
        "print(t2-t1)\n",
        "print(IPI.shape[1])\n",
        "\n",
        "t1 = time.time()\n",
        "perm = permOfIPI(k1,k2,n)\n",
        "result2 = testMat[perm,:]\n",
        "t2 = time.time()\n",
        "print(t2-t1)\n",
        "\n",
        "print(np.allclose(result1,result2))\n",
        "\n",
        "print(K.shape)\n"
      ],
      "execution_count": 0,
      "outputs": [
        {
          "output_type": "stream",
          "text": [
            "Example Shapes:\n",
            "m:  10\n",
            "k1, k2:  5 6\n",
            "n:  8\n",
            "(48, 48)\n",
            "0.04104185104370117\n",
            "1920\n",
            "0.0003502368927001953\n",
            "False\n",
            "(48, 48)\n"
          ],
          "name": "stdout"
        }
      ]
    },
    {
      "cell_type": "code",
      "metadata": {
        "id": "JcUcKLBbyqNC",
        "colab_type": "code",
        "outputId": "791380a9-6226-4c70-9e57-92e79337fb71",
        "colab": {
          "base_uri": "https://localhost:8080/",
          "height": 34
        }
      },
      "source": [
        "print(permk.shape)"
      ],
      "execution_count": 0,
      "outputs": [
        {
          "output_type": "stream",
          "text": [
            "(6,)\n"
          ],
          "name": "stdout"
        }
      ]
    },
    {
      "cell_type": "code",
      "metadata": {
        "id": "iQy6E_txCtBB",
        "colab_type": "code",
        "outputId": "65ea848a-6f7e-4d61-bc22-2852ca183fcb",
        "colab": {
          "base_uri": "https://localhost:8080/",
          "height": 844
        }
      },
      "source": [
        "permP = np.arange(n*k2).reshape((n, k2), order='F').ravel()\n",
        "\n",
        "permP2 = K @ np.arange(K.shape[1])\n",
        "\n",
        "print(permP)\n",
        "print(permP2)\n",
        "\n",
        "kron1 = np.kron(np.eye(k1), K)\n",
        "\n",
        "permKron1 = np.repeat(np.arange(k1),n*k2)*n*k2+np.tile(permP,k1)\n",
        "\n",
        "print((kron1 @ np.arange(kron1.shape[0])))\n",
        "print(permKron1)\n",
        "print((kron1 @ np.arange(kron1.shape[0]))-permKron1)"
      ],
      "execution_count": 0,
      "outputs": [
        {
          "output_type": "stream",
          "text": [
            "[ 0  8 16 24 32 40  1  9 17 25 33 41  2 10 18 26 34 42  3 11 19 27 35 43\n",
            "  4 12 20 28 36 44  5 13 21 29 37 45  6 14 22 30 38 46  7 15 23 31 39 47]\n",
            "[ 0.  8. 16. 24. 32. 40.  1.  9. 17. 25. 33. 41.  2. 10. 18. 26. 34. 42.\n",
            "  3. 11. 19. 27. 35. 43.  4. 12. 20. 28. 36. 44.  5. 13. 21. 29. 37. 45.\n",
            "  6. 14. 22. 30. 38. 46.  7. 15. 23. 31. 39. 47.]\n",
            "[  0.   8.  16.  24.  32.  40.   1.   9.  17.  25.  33.  41.   2.  10.\n",
            "  18.  26.  34.  42.   3.  11.  19.  27.  35.  43.   4.  12.  20.  28.\n",
            "  36.  44.   5.  13.  21.  29.  37.  45.   6.  14.  22.  30.  38.  46.\n",
            "   7.  15.  23.  31.  39.  47.  48.  56.  64.  72.  80.  88.  49.  57.\n",
            "  65.  73.  81.  89.  50.  58.  66.  74.  82.  90.  51.  59.  67.  75.\n",
            "  83.  91.  52.  60.  68.  76.  84.  92.  53.  61.  69.  77.  85.  93.\n",
            "  54.  62.  70.  78.  86.  94.  55.  63.  71.  79.  87.  95.  96. 104.\n",
            " 112. 120. 128. 136.  97. 105. 113. 121. 129. 137.  98. 106. 114. 122.\n",
            " 130. 138.  99. 107. 115. 123. 131. 139. 100. 108. 116. 124. 132. 140.\n",
            " 101. 109. 117. 125. 133. 141. 102. 110. 118. 126. 134. 142. 103. 111.\n",
            " 119. 127. 135. 143. 144. 152. 160. 168. 176. 184. 145. 153. 161. 169.\n",
            " 177. 185. 146. 154. 162. 170. 178. 186. 147. 155. 163. 171. 179. 187.\n",
            " 148. 156. 164. 172. 180. 188. 149. 157. 165. 173. 181. 189. 150. 158.\n",
            " 166. 174. 182. 190. 151. 159. 167. 175. 183. 191. 192. 200. 208. 216.\n",
            " 224. 232. 193. 201. 209. 217. 225. 233. 194. 202. 210. 218. 226. 234.\n",
            " 195. 203. 211. 219. 227. 235. 196. 204. 212. 220. 228. 236. 197. 205.\n",
            " 213. 221. 229. 237. 198. 206. 214. 222. 230. 238. 199. 207. 215. 223.\n",
            " 231. 239.]\n",
            "[  0   8  16  24  32  40   1   9  17  25  33  41   2  10  18  26  34  42\n",
            "   3  11  19  27  35  43   4  12  20  28  36  44   5  13  21  29  37  45\n",
            "   6  14  22  30  38  46   7  15  23  31  39  47  48  56  64  72  80  88\n",
            "  49  57  65  73  81  89  50  58  66  74  82  90  51  59  67  75  83  91\n",
            "  52  60  68  76  84  92  53  61  69  77  85  93  54  62  70  78  86  94\n",
            "  55  63  71  79  87  95  96 104 112 120 128 136  97 105 113 121 129 137\n",
            "  98 106 114 122 130 138  99 107 115 123 131 139 100 108 116 124 132 140\n",
            " 101 109 117 125 133 141 102 110 118 126 134 142 103 111 119 127 135 143\n",
            " 144 152 160 168 176 184 145 153 161 169 177 185 146 154 162 170 178 186\n",
            " 147 155 163 171 179 187 148 156 164 172 180 188 149 157 165 173 181 189\n",
            " 150 158 166 174 182 190 151 159 167 175 183 191 192 200 208 216 224 232\n",
            " 193 201 209 217 225 233 194 202 210 218 226 234 195 203 211 219 227 235\n",
            " 196 204 212 220 228 236 197 205 213 221 229 237 198 206 214 222 230 238\n",
            " 199 207 215 223 231 239]\n",
            "[0. 0. 0. 0. 0. 0. 0. 0. 0. 0. 0. 0. 0. 0. 0. 0. 0. 0. 0. 0. 0. 0. 0. 0.\n",
            " 0. 0. 0. 0. 0. 0. 0. 0. 0. 0. 0. 0. 0. 0. 0. 0. 0. 0. 0. 0. 0. 0. 0. 0.\n",
            " 0. 0. 0. 0. 0. 0. 0. 0. 0. 0. 0. 0. 0. 0. 0. 0. 0. 0. 0. 0. 0. 0. 0. 0.\n",
            " 0. 0. 0. 0. 0. 0. 0. 0. 0. 0. 0. 0. 0. 0. 0. 0. 0. 0. 0. 0. 0. 0. 0. 0.\n",
            " 0. 0. 0. 0. 0. 0. 0. 0. 0. 0. 0. 0. 0. 0. 0. 0. 0. 0. 0. 0. 0. 0. 0. 0.\n",
            " 0. 0. 0. 0. 0. 0. 0. 0. 0. 0. 0. 0. 0. 0. 0. 0. 0. 0. 0. 0. 0. 0. 0. 0.\n",
            " 0. 0. 0. 0. 0. 0. 0. 0. 0. 0. 0. 0. 0. 0. 0. 0. 0. 0. 0. 0. 0. 0. 0. 0.\n",
            " 0. 0. 0. 0. 0. 0. 0. 0. 0. 0. 0. 0. 0. 0. 0. 0. 0. 0. 0. 0. 0. 0. 0. 0.\n",
            " 0. 0. 0. 0. 0. 0. 0. 0. 0. 0. 0. 0. 0. 0. 0. 0. 0. 0. 0. 0. 0. 0. 0. 0.\n",
            " 0. 0. 0. 0. 0. 0. 0. 0. 0. 0. 0. 0. 0. 0. 0. 0. 0. 0. 0. 0. 0. 0. 0. 0.]\n"
          ],
          "name": "stdout"
        }
      ]
    },
    {
      "cell_type": "code",
      "metadata": {
        "id": "lCgDBTSlhilV",
        "colab_type": "code",
        "outputId": "63694773-df18-4e11-f479-b3e130f87a04",
        "colab": {
          "base_uri": "https://localhost:8080/",
          "height": 167
        }
      },
      "source": [
        "permKron1 = np.repeat(np.arange(k1),k1)*k1+np.tile(permP,k1)"
      ],
      "execution_count": 0,
      "outputs": [
        {
          "output_type": "error",
          "ename": "ValueError",
          "evalue": "ignored",
          "traceback": [
            "\u001b[0;31m---------------------------------------------------------------------------\u001b[0m",
            "\u001b[0;31mValueError\u001b[0m                                Traceback (most recent call last)",
            "\u001b[0;32m<ipython-input-29-b5502fbd3776>\u001b[0m in \u001b[0;36m<module>\u001b[0;34m()\u001b[0m\n\u001b[0;32m----> 1\u001b[0;31m \u001b[0mpermKron1\u001b[0m \u001b[0;34m=\u001b[0m \u001b[0mnp\u001b[0m\u001b[0;34m.\u001b[0m\u001b[0mrepeat\u001b[0m\u001b[0;34m(\u001b[0m\u001b[0mnp\u001b[0m\u001b[0;34m.\u001b[0m\u001b[0marange\u001b[0m\u001b[0;34m(\u001b[0m\u001b[0mk1\u001b[0m\u001b[0;34m)\u001b[0m\u001b[0;34m,\u001b[0m\u001b[0mk1\u001b[0m\u001b[0;34m)\u001b[0m\u001b[0;34m*\u001b[0m\u001b[0mk1\u001b[0m\u001b[0;34m+\u001b[0m\u001b[0mnp\u001b[0m\u001b[0;34m.\u001b[0m\u001b[0mtile\u001b[0m\u001b[0;34m(\u001b[0m\u001b[0mpermP\u001b[0m\u001b[0;34m,\u001b[0m\u001b[0mk1\u001b[0m\u001b[0;34m)\u001b[0m\u001b[0;34m\u001b[0m\u001b[0;34m\u001b[0m\u001b[0m\n\u001b[0m",
            "\u001b[0;31mValueError\u001b[0m: operands could not be broadcast together with shapes (25,) (240,) "
          ]
        }
      ]
    },
    {
      "cell_type": "code",
      "metadata": {
        "id": "67gO76YcilVP",
        "colab_type": "code",
        "colab": {}
      },
      "source": [
        "print(np.tile([1,2],2))"
      ],
      "execution_count": 0,
      "outputs": []
    },
    {
      "cell_type": "code",
      "metadata": {
        "id": "abIUnzNRk07_",
        "colab_type": "code",
        "colab": {}
      },
      "source": [
        "print(type(K))\n"
      ],
      "execution_count": 0,
      "outputs": []
    },
    {
      "cell_type": "code",
      "metadata": {
        "id": "P8lrINrBmzWL",
        "colab_type": "code",
        "colab": {}
      },
      "source": [
        ""
      ],
      "execution_count": 0,
      "outputs": []
    }
  ]
}