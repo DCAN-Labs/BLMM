{
  "nbformat": 4,
  "nbformat_minor": 0,
  "metadata": {
    "colab": {
      "name": "PLS_sandbox.ipynb",
      "provenance": [],
      "collapsed_sections": [
        "AS5zhoWCDZ8E",
        "2EWsCZjCQcc9",
        "rkd2LdwKLWtP",
        "RStOLwF_LlTE",
        "enYnjHWXBVmO",
        "mzUVeNWeDLmy",
        "TTQFQbRLDKmq",
        "ZFb5eO8jBWSf",
        "l1fjCdxgH3aV",
        "t9CsWWXKGk-I",
        "hqbOzGU-It3f",
        "-a7uYOZzPQ2W",
        "wW9A8JM3SRW7"
      ],
      "machine_shape": "hm"
    },
    "kernelspec": {
      "name": "python3",
      "display_name": "Python 3"
    }
  },
  "cells": [
    {
      "cell_type": "markdown",
      "metadata": {
        "id": "TIMtrhFKB3Ay",
        "colab_type": "text"
      },
      "source": [
        "# PLS implementation in python\n",
        "\n",
        "This code implements the PLS algorithm for estimating the parameters of linear mixed effects models as described in [Bates (2015)](https://www.jstatsoft.org/article/view/v067i01/v67i01.pdf)."
      ]
    },
    {
      "cell_type": "markdown",
      "metadata": {
        "id": "GNFQ0-MpQuBm",
        "colab_type": "text"
      },
      "source": [
        "## Pip Installations\n",
        "\n",
        "Pip install everything."
      ]
    },
    {
      "cell_type": "code",
      "metadata": {
        "id": "UX02P0KvBWJr",
        "colab_type": "code",
        "outputId": "f21cedf7-e476-4e69-cbd2-51d11f8b85a5",
        "colab": {
          "base_uri": "https://localhost:8080/",
          "height": 829
        }
      },
      "source": [
        "!pip install numpy\n",
        "!pip install cvxopt\n",
        "!pip install pandas\n",
        "!pip install scipy\n",
        "!pip install matplotlib\n",
        "!pip install sparse\n",
        "!pip install nilearn\n",
        "!pip install nibabel\n",
        "!pip install dask"
      ],
      "execution_count": 0,
      "outputs": [
        {
          "output_type": "stream",
          "text": [
            "Requirement already satisfied: numpy in /usr/local/lib/python3.6/dist-packages (1.17.4)\n",
            "Requirement already satisfied: cvxopt in /usr/local/lib/python3.6/dist-packages (1.2.3)\n",
            "Requirement already satisfied: pandas in /usr/local/lib/python3.6/dist-packages (0.25.3)\n",
            "Requirement already satisfied: numpy>=1.13.3 in /usr/local/lib/python3.6/dist-packages (from pandas) (1.17.4)\n",
            "Requirement already satisfied: python-dateutil>=2.6.1 in /usr/local/lib/python3.6/dist-packages (from pandas) (2.6.1)\n",
            "Requirement already satisfied: pytz>=2017.2 in /usr/local/lib/python3.6/dist-packages (from pandas) (2018.9)\n",
            "Requirement already satisfied: six>=1.5 in /usr/local/lib/python3.6/dist-packages (from python-dateutil>=2.6.1->pandas) (1.12.0)\n",
            "Requirement already satisfied: scipy in /usr/local/lib/python3.6/dist-packages (1.3.2)\n",
            "Requirement already satisfied: numpy>=1.13.3 in /usr/local/lib/python3.6/dist-packages (from scipy) (1.17.4)\n",
            "Requirement already satisfied: matplotlib in /usr/local/lib/python3.6/dist-packages (3.1.1)\n",
            "Requirement already satisfied: numpy>=1.11 in /usr/local/lib/python3.6/dist-packages (from matplotlib) (1.17.4)\n",
            "Requirement already satisfied: cycler>=0.10 in /usr/local/lib/python3.6/dist-packages (from matplotlib) (0.10.0)\n",
            "Requirement already satisfied: python-dateutil>=2.1 in /usr/local/lib/python3.6/dist-packages (from matplotlib) (2.6.1)\n",
            "Requirement already satisfied: kiwisolver>=1.0.1 in /usr/local/lib/python3.6/dist-packages (from matplotlib) (1.1.0)\n",
            "Requirement already satisfied: pyparsing!=2.0.4,!=2.1.2,!=2.1.6,>=2.0.1 in /usr/local/lib/python3.6/dist-packages (from matplotlib) (2.4.5)\n",
            "Requirement already satisfied: six in /usr/local/lib/python3.6/dist-packages (from cycler>=0.10->matplotlib) (1.12.0)\n",
            "Requirement already satisfied: setuptools in /usr/local/lib/python3.6/dist-packages (from kiwisolver>=1.0.1->matplotlib) (41.6.0)\n",
            "Collecting sparse\n",
            "\u001b[?25l  Downloading https://files.pythonhosted.org/packages/03/d8/ac37573cab7e2000879cd1dfb194f317cce45c23844bf30bc6d8891a6836/sparse-0.8.0-py2.py3-none-any.whl (101kB)\n",
            "\u001b[K     |████████████████████████████████| 102kB 2.8MB/s \n",
            "\u001b[?25hRequirement already satisfied: numpy in /usr/local/lib/python3.6/dist-packages (from sparse) (1.17.4)\n",
            "Collecting numba>=0.45\n",
            "\u001b[?25l  Downloading https://files.pythonhosted.org/packages/53/34/22b6c2ded558976b5367be01b851ae679a0d1ba994de002d54afe84187b5/numba-0.46.0-cp36-cp36m-manylinux1_x86_64.whl (3.6MB)\n",
            "\u001b[K     |████████████████████████████████| 3.6MB 11.0MB/s \n",
            "\u001b[?25hRequirement already satisfied: scipy>=0.19 in /usr/local/lib/python3.6/dist-packages (from sparse) (1.3.2)\n",
            "Requirement already satisfied: llvmlite>=0.30.0dev0 in /usr/local/lib/python3.6/dist-packages (from numba>=0.45->sparse) (0.30.0)\n",
            "Installing collected packages: numba, sparse\n",
            "  Found existing installation: numba 0.40.1\n",
            "    Uninstalling numba-0.40.1:\n",
            "      Successfully uninstalled numba-0.40.1\n",
            "Successfully installed numba-0.46.0 sparse-0.8.0\n",
            "Collecting nilearn\n",
            "\u001b[?25l  Downloading https://files.pythonhosted.org/packages/6e/65/ba76e7cd544dafc28960e60b099d6f906a2096034c560158beaf2ff299bc/nilearn-0.5.2-py2.py3-none-any.whl (2.3MB)\n",
            "\u001b[K     |████████████████████████████████| 2.4MB 3.4MB/s \n",
            "\u001b[?25hRequirement already satisfied: nibabel>=2.0.2 in /usr/local/lib/python3.6/dist-packages (from nilearn) (2.3.3)\n",
            "Requirement already satisfied: numpy>=1.7.1 in /usr/local/lib/python3.6/dist-packages (from nibabel>=2.0.2->nilearn) (1.17.4)\n",
            "Requirement already satisfied: six>=1.3 in /usr/local/lib/python3.6/dist-packages (from nibabel>=2.0.2->nilearn) (1.12.0)\n",
            "Requirement already satisfied: bz2file in /usr/local/lib/python3.6/dist-packages (from nibabel>=2.0.2->nilearn) (0.98)\n",
            "Installing collected packages: nilearn\n",
            "Successfully installed nilearn-0.5.2\n",
            "Requirement already satisfied: nibabel in /usr/local/lib/python3.6/dist-packages (2.3.3)\n",
            "Requirement already satisfied: numpy>=1.7.1 in /usr/local/lib/python3.6/dist-packages (from nibabel) (1.17.4)\n",
            "Requirement already satisfied: bz2file in /usr/local/lib/python3.6/dist-packages (from nibabel) (0.98)\n",
            "Requirement already satisfied: six>=1.3 in /usr/local/lib/python3.6/dist-packages (from nibabel) (1.12.0)\n",
            "Requirement already satisfied: dask in /usr/local/lib/python3.6/dist-packages (1.1.5)\n"
          ],
          "name": "stdout"
        }
      ]
    },
    {
      "cell_type": "markdown",
      "metadata": {
        "id": "q4JYRICVBtjl",
        "colab_type": "text"
      },
      "source": [
        "\n",
        "## Python Imports\n",
        "\n",
        "\n"
      ]
    },
    {
      "cell_type": "markdown",
      "metadata": {
        "id": "YkTBWbRKQ5ah",
        "colab_type": "text"
      },
      "source": [
        "We need:\n",
        " - `numpy` for matrix handling.\n",
        " - `scipy` for minimising the likelihood.\n",
        " - `cvxopt` for sparse cholesky.\n",
        " - `pandas` for quick reading and writing of csv files.\n",
        " - `os` for basic commandline functions\n",
        " - `time` for timing functions.\n",
        " - `matplotlib` for making displays"
      ]
    },
    {
      "cell_type": "code",
      "metadata": {
        "id": "tebSlxvBBruv",
        "colab_type": "code",
        "outputId": "4f374a12-894e-42f2-e224-548bb5f57fc2",
        "colab": {
          "base_uri": "https://localhost:8080/",
          "height": 72
        }
      },
      "source": [
        "import numpy as np\n",
        "import cvxopt\n",
        "from cvxopt import cholmod, umfpack, amd, matrix, spmatrix, lapack\n",
        "import pandas as pd\n",
        "from scipy.optimize import root\n",
        "from scipy.optimize import minimize\n",
        "import scipy.sparse\n",
        "import os\n",
        "import time\n",
        "import matplotlib.pyplot as plt\n",
        "from matplotlib.pyplot import imshow\n",
        "import sparse\n",
        "import nibabel as nib\n",
        "import nilearn\n",
        "import sparse"
      ],
      "execution_count": 0,
      "outputs": [
        {
          "output_type": "stream",
          "text": [
            "/usr/local/lib/python3.6/dist-packages/sklearn/externals/joblib/__init__.py:15: DeprecationWarning: sklearn.externals.joblib is deprecated in 0.21 and will be removed in 0.23. Please import this functionality directly from joblib, which can be installed with: pip install joblib. If this warning is raised when loading pickled models, you may need to re-serialize those models with scikit-learn 0.21+.\n",
            "  warnings.warn(msg, category=DeprecationWarning)\n"
          ],
          "name": "stderr"
        }
      ]
    },
    {
      "cell_type": "markdown",
      "metadata": {
        "id": "ilAB3qmDMHa8",
        "colab_type": "text"
      },
      "source": [
        "## Helper Functions\n",
        "\n",
        "This section contains miscellaneous functions used to help the `PLS` function as well as the general manipulation of the Sparse Cholesky decomposition given by `cvxopt`.\n"
      ]
    },
    {
      "cell_type": "markdown",
      "metadata": {
        "id": "gOtDwtrfQk_Y",
        "colab_type": "text"
      },
      "source": [
        "\n",
        "### Sparse Cholesky Decomposition function\n",
        "\n",
        "This function takes in a square matrix **M** and outputs **P** and **L** from it's sparse cholesky decomposition of the form **PAP'=LL**'.\n",
        "\n",
        "Note: P is given as a permutation vector rather than a matrix. Also cholmod.options['supernodal'] must be set to 2.\n",
        " \n",
        "---\n",
        " \n",
        "The following inputs are required for this function:\n",
        "\n",
        "---\n",
        "\n",
        " - **M**: The matrix to be sparse cholesky decomposed as an spmatrix from the cvxopt package.\n",
        " - **perm**: Input permutation (*optional*, one will be calculated if not)\n",
        " - **retF**: Return the factorisation object or not\n",
        " - **retP**: Return the permutation or not\n",
        " - **retL**: Return the lower cholesky or not\n",
        "\n",
        "---"
      ]
    },
    {
      "cell_type": "code",
      "metadata": {
        "id": "DpyEbgrhNHzL",
        "colab_type": "code",
        "colab": {}
      },
      "source": [
        "def sparse_chol(M, perm=None, retF=False, retP=True, retL=True):\n",
        "\n",
        "    # Quick check that M is square\n",
        "    if M.size[0]!=M.size[1]:\n",
        "        raise Exception('M must be square.')\n",
        "\n",
        "    if not perm is None:\n",
        "        # Make an expression for the factorisation\n",
        "        F=cholmod.symbolic(M,p=perm)\n",
        "    else:\n",
        "        # Make an expression for the factorisation\n",
        "        F=cholmod.symbolic(M)\n",
        "\n",
        "    # Calculate the factorisation\n",
        "    cholmod.numeric(M, F)\n",
        "\n",
        "    # Empty factorisation object\n",
        "    factorisation = {}\n",
        "\n",
        "    if (retF and retL) or (retF and retP):\n",
        "\n",
        "        # Calculate the factorisation again (buggy if returning L for\n",
        "        # some reason)\n",
        "        F2=cholmod.symbolic(M,p=perm)\n",
        "        cholmod.numeric(M, F2)\n",
        "\n",
        "        # If we want to return the F object, add it to the dictionary\n",
        "        factorisation['F']=F2\n",
        "        \n",
        "    else:\n",
        "      \n",
        "      factorisation['F']=F\n",
        "\n",
        "    if retP:\n",
        "\n",
        "        # Set p to [0,...,n-1]\n",
        "        P = cvxopt.matrix(range(M.size[0]), (M.size[0],1), tc='d')\n",
        "\n",
        "        # Solve and replace p with the true permutation used\n",
        "        cholmod.solve(F, P, sys=7)\n",
        "\n",
        "        # Convert p into an integer array; more useful that way\n",
        "        P=cvxopt.matrix(np.array(P).astype(np.int64),tc='i')\n",
        "\n",
        "        # If we want to return the permutation, add it to the dictionary\n",
        "        factorisation['P']=P\n",
        "\n",
        "    if retL:\n",
        "\n",
        "        # Get the sparse cholesky factor\n",
        "        L=cholmod.getfactor(F)\n",
        "        \n",
        "        # If we want to return the factor, add it to the dictionary\n",
        "        factorisation['L']=L\n",
        "\n",
        "    # Return P and L\n",
        "    return(factorisation)"
      ],
      "execution_count": 0,
      "outputs": []
    },
    {
      "cell_type": "markdown",
      "metadata": {
        "id": "8xYlGmnNNnit",
        "colab_type": "text"
      },
      "source": [
        "### Inverse mapping function\n",
        "\n",
        "This function takes in a lower triangular \n",
        "block diagonal matrix, lambda, and maps it to the original vector of parameters, theta.\n",
        "\n",
        "---\n",
        "The following inputs are required for this function:\n",
        "\n",
        "---\n",
        "\n",
        " - **Lambda**: The sparse lower triangular block diagonal matrix.\n",
        " \n",
        "---\n"
      ]
    },
    {
      "cell_type": "code",
      "metadata": {
        "id": "59GHirQ8OGe7",
        "colab_type": "code",
        "colab": {}
      },
      "source": [
        "def inv_mapping(Lambda):\n",
        "\n",
        "    # List the unique elements of lambda (in the\n",
        "    # correct order; pandas does this, numpy does\n",
        "    # not)\n",
        "    theta = pd.unique(list(cvxopt.spmatrix.trans(Lambda)))\n",
        "    return(theta)"
      ],
      "execution_count": 0,
      "outputs": []
    },
    {
      "cell_type": "markdown",
      "metadata": {
        "id": "bsYGm--5isJY",
        "colab_type": "text"
      },
      "source": [
        "### Calculate mapping function\n",
        "\n",
        "This function takes in a vector of parameters, theta, and returns indices which maps them the to lower triangular block diagonal matrix, lambda.\n",
        "\n",
        "---\n",
        "The following inputs are required for this function:\n",
        "\n",
        "---\n",
        "\n",
        " - **nlevels**: a vector of the number of levels for each grouping factor. e.g. nlevels=[10,2] means there are 10 levels for factor 1 and 2 levels for factor 2.\n",
        " - **nparams**: a vector of the number of variables for each grouping factor. e.g. nparams=[3,4] means there are 3 variables for factor 1 and 4 variables for factor 2.\n",
        "\n",
        "All arrays must be np arrays."
      ]
    },
    {
      "cell_type": "code",
      "metadata": {
        "id": "bgZfxqOUitYh",
        "colab_type": "code",
        "colab": {}
      },
      "source": [
        "def get_mapping(nlevels, nparams):\n",
        "\n",
        "    # Work out how many factors there are\n",
        "    n_f = len(nlevels)\n",
        "\n",
        "    # Quick check that nlevels and nparams are the same length\n",
        "    if len(nlevels)!=len(nparams):\n",
        "        raise Exception('The number of parameters and number of levels should be recorded for every grouping factor.')\n",
        "\n",
        "    # Work out how many lambda components needed for each factor\n",
        "    n_lamcomps = (np.multiply(nparams,(nparams+1))/2).astype(np.int64)\n",
        "\n",
        "    # Block index is the index of the next un-indexed diagonal element\n",
        "    # of Lambda\n",
        "    block_index = 0\n",
        "\n",
        "    # Row indices and column indices of theta\n",
        "    row_indices = np.array([])\n",
        "    col_indices = np.array([])\n",
        "\n",
        "    # This will have the values of theta repeated several times, once\n",
        "    # for each time each value of theta appears in lambda\n",
        "    theta_repeated_inds = np.array([])\n",
        "    \n",
        "    # Loop through factors generating the indices to map theta to.\n",
        "    for i in range(0,n_f):\n",
        "\n",
        "        # Work out the indices of a lower triangular matrix\n",
        "        # of size #variables(factor) by #variables(factor)\n",
        "        row_inds_tri, col_inds_tri = np.tril_indices(nparams[i])\n",
        "\n",
        "        # Work out theta for this block\n",
        "        theta_current_inds = np.arange(np.sum(n_lamcomps[0:i]),np.sum(n_lamcomps[0:(i+1)]))\n",
        "\n",
        "        # Work out the repeated theta\n",
        "        theta_repeated_inds = np.hstack((theta_repeated_inds, np.tile(theta_current_inds, nlevels[i])))\n",
        "\n",
        "        # For each level of the factor we must repeat the lower\n",
        "        # triangular matrix\n",
        "        for j in range(0,nlevels[i]):\n",
        "\n",
        "            # Append the row/column indices to the running list\n",
        "            row_indices = np.hstack((row_indices, (row_inds_tri+block_index)))\n",
        "            col_indices = np.hstack((col_indices, (col_inds_tri+block_index)))\n",
        "\n",
        "            # Move onto the next block\n",
        "            block_index = block_index + nparams[i]\n",
        "\n",
        "    # Create lambda as a sparse matrix\n",
        "    #lambda_theta = spmatrix(theta_repeated.tolist(), row_indices.astype(np.int64), col_indices.astype(np.int64))\n",
        "\n",
        "    # Return lambda\n",
        "    return(theta_repeated_inds, row_indices, col_indices)"
      ],
      "execution_count": 0,
      "outputs": []
    },
    {
      "cell_type": "markdown",
      "metadata": {
        "id": "vdRkv7PrrgsI",
        "colab_type": "text"
      },
      "source": [
        "### Apply mapping function\n",
        "\n",
        "The below function applies a mapping to a vector of parameters.\n",
        "\n",
        "---\n",
        "The following inputs are required for this function:\n",
        "\n",
        "---\n",
        "\n",
        " - **theta**: the vector of theta parameters.\n",
        " - **theta_inds**: A vector specifying how many times each theta parameter should be repeated. For example, if theta=[0.1,0.8,0.3] and theta_inds=[1,1,1,2,3,3], then the values to be mapped into the sparse matrix would be [0.1,0.1,0.1,0.8,0.3,0.3].\n",
        " - **r_inds**: The row indices of the elements mapped into the sparse matrix.\n",
        " - **c_inds**: The column indices of the elements mapped into the sparse matrix.\n",
        "\n"
      ]
    },
    {
      "cell_type": "code",
      "metadata": {
        "id": "AxUv8_r0rhFv",
        "colab_type": "code",
        "colab": {}
      },
      "source": [
        "def mapping(theta, theta_inds, r_inds, c_inds):\n",
        "\n",
        "    return(spmatrix(theta[theta_inds.astype(np.int64)].tolist(), r_inds.astype(np.int64), c_inds.astype(np.int64)))\n",
        "    \n"
      ],
      "execution_count": 0,
      "outputs": []
    },
    {
      "cell_type": "markdown",
      "metadata": {
        "id": "vRhb0e2brrVI",
        "colab_type": "text"
      },
      "source": [
        "###Matrix to Vector function\n",
        "\n",
        "This function takes in a (symmetric, square) matrix and half-vectorizes it (i.e. transforms it to a vector of each of the columns of the matrix, below and including the diagonal, stacked on top of one another). Example:\n",
        "\n",
        "$$\\begin{bmatrix} a & b & c \\\\ b & d & e \\\\ c & e & f \\\\\\end{bmatrix} \\rightarrow \\begin{bmatrix} a \\\\ b \\\\ c \\\\ d \\\\ e \\\\ f \\end{bmatrix}$$."
      ]
    },
    {
      "cell_type": "code",
      "metadata": {
        "id": "9MDStAhnrrgU",
        "colab_type": "code",
        "outputId": "85e2af42-2fde-4703-ae16-a9fb5b9ee215",
        "colab": {
          "base_uri": "https://localhost:8080/",
          "height": 175
        }
      },
      "source": [
        "def mat2vech(matrix):\n",
        "  \n",
        "  # Get lower triangular indices\n",
        "  rowinds, colinds = np.tril_indices(matrix.shape[0])\n",
        "  \n",
        "  # They're in the wrong order so we need to order them\n",
        "  # To do this we first hash them\n",
        "  indhash = colinds*matrix.shape[0]+rowinds\n",
        "  \n",
        "  # Sort permutation\n",
        "  perm=np.argsort(indhash)\n",
        "  \n",
        "  # Return vectorised half-matrix\n",
        "  return(np.array([matrix[rowinds[perm],colinds[perm]]]).transpose())\n",
        "\n",
        "# Example:\n",
        "matrix1 = np.eye(3,3)\n",
        "print(matrix1*matrix1.transpose())\n",
        "print(mat2vech(matrix1*matrix1.transpose()))"
      ],
      "execution_count": 0,
      "outputs": [
        {
          "output_type": "stream",
          "text": [
            "[[1. 0. 0.]\n",
            " [0. 1. 0.]\n",
            " [0. 0. 1.]]\n",
            "[[1.]\n",
            " [0.]\n",
            " [0.]\n",
            " [1.]\n",
            " [0.]\n",
            " [1.]]\n"
          ],
          "name": "stdout"
        }
      ]
    },
    {
      "cell_type": "markdown",
      "metadata": {
        "id": "AS5zhoWCDZ8E",
        "colab_type": "text"
      },
      "source": [
        "## Toy Dataset\n",
        "\n",
        "This section read ins and formats a toy dataset. The files used here were generated in `R` and with **True** values (those with postfix `True`) being those used to generate the data and **Estimated** (those with postfix `REst`) values being the estimates `R`'s `lmer` package generated from this data."
      ]
    },
    {
      "cell_type": "code",
      "metadata": {
        "id": "qy39zwuhkn4C",
        "colab_type": "code",
        "outputId": "b5bc2eae-2d44-46be-d9b9-d11a78d96e6f",
        "colab": {
          "base_uri": "https://localhost:8080/"
        }
      },
      "source": [
        "# Make a data directory\n",
        "if not os.path.isdir('/Data'):\n",
        "  os.mkdir('/Data')\n",
        "  \n",
        "os.chdir('/Data')\n",
        "\n",
        "# Clone small git repo containg some csv files.\n",
        "if not os.path.isdir('/Data/BLMM-testdata'):\n",
        "  !git clone https://github.com/TomMaullin/BLMM-testdata.git\n",
        "  "
      ],
      "execution_count": 0,
      "outputs": [
        {
          "output_type": "stream",
          "text": [
            "Cloning into 'BLMM-testdata'...\n",
            "remote: Enumerating objects: 25, done.\u001b[K\n",
            "remote: Counting objects: 100% (25/25), done.\u001b[K\n",
            "remote: Compressing objects: 100% (21/21), done.\u001b[K\n",
            "remote: Total 25 (delta 2), reused 11 (delta 0), pack-reused 0\u001b[K\n",
            "Unpacking objects: 100% (25/25), done.\n"
          ],
          "name": "stdout"
        }
      ]
    },
    {
      "cell_type": "markdown",
      "metadata": {
        "id": "2EWsCZjCQcc9",
        "colab_type": "text"
      },
      "source": [
        "\n",
        "### Z matrix\n",
        "\n",
        "The below reads in Z and makes an image of Z transpose.\n"
      ]
    },
    {
      "cell_type": "code",
      "metadata": {
        "id": "aoKOwHqcEKDT",
        "colab_type": "code",
        "outputId": "102244b8-0bcc-47fd-ff44-f78795bb8550",
        "colab": {
          "base_uri": "https://localhost:8080/"
        }
      },
      "source": [
        "# Read in random effects design matrix and convert it into it's sparse format in\n",
        "# cvxopt.\n",
        "Z_3col=pd.read_csv('/Data/BLMM-testdata/Z_3col.csv',header=None).values\n",
        "Z = cvxopt.spmatrix(Z_3col[:,2].tolist(), (Z_3col[:,0]-1).astype(np.int64), \\\n",
        "                    (Z_3col[:,1]-1).astype(np.int64))\n",
        "\n",
        "# Create an image of Z'\n",
        "imshow(np.array(cvxopt.matrix(cvxopt.spmatrix.trans(Z))), \\\n",
        "       interpolation='nearest', vmin=-5, vmax=5, aspect='auto')\n",
        "\n"
      ],
      "execution_count": 0,
      "outputs": [
        {
          "output_type": "execute_result",
          "data": {
            "text/plain": [
              "<matplotlib.image.AxesImage at 0x7fb7e7125c18>"
            ]
          },
          "metadata": {
            "tags": []
          },
          "execution_count": 9
        },
        {
          "output_type": "display_data",
          "data": {
            "image/png": "[encoded data removed]",
            "text/plain": [
              "<Figure size 432x288 with 1 Axes>"
            ]
          },
          "metadata": {
            "tags": []
          }
        }
      ]
    },
    {
      "cell_type": "markdown",
      "metadata": {
        "id": "rkd2LdwKLWtP",
        "colab_type": "text"
      },
      "source": [
        "### Estimated Random Effects matrix\n",
        "\n",
        "The below reads in the Random effects variance predicted by `R`'s `lmer`."
      ]
    },
    {
      "cell_type": "code",
      "metadata": {
        "id": "tOqQRAROqdkv",
        "colab_type": "code",
        "colab": {}
      },
      "source": [
        "# Read in estimated variance\n",
        "RFXVar_REst =pd.read_csv('/Data/BLMM-testdata/estd_rfxvar.csv',header=None).values\n",
        "\n",
        "# The RFX variance was stored in a strange way so we need to reformat slightly\n",
        "RFXVar_REst = spmatrix(RFXVar_REst[RFXVar_REst!=0],[0,0,1,1,2,2,3,3],[0,1,0,1,2,3,2,3])"
      ],
      "execution_count": 0,
      "outputs": []
    },
    {
      "cell_type": "markdown",
      "metadata": {
        "id": "eKE_Rr53qeHx",
        "colab_type": "text"
      },
      "source": [
        "### Estimated Theta\n",
        "\n",
        "The below calculates and outputs the `theta` parameter values which `lmer` estimated."
      ]
    },
    {
      "cell_type": "code",
      "metadata": {
        "id": "DeaYoXU0Lnlr",
        "colab_type": "code",
        "outputId": "e81bac7f-07da-4225-b48b-1689df8458de",
        "colab": {
          "base_uri": "https://localhost:8080/"
        }
      },
      "source": [
        "# We now need the Sparse Cholesky decomposition of the RFX variance to obtain \n",
        "# the theta values.\n",
        "f = sparse_chol(RFXVar_REst)\n",
        "\n",
        "# We map the L matrix from the decomposition to theta\n",
        "theta_REst = inv_mapping(f['L'])\n",
        "\n",
        "# This is the desired outcome/theta value of the PLS algorithm. It should match \n",
        "# the R output.\n",
        "print(theta_REst)"
      ],
      "execution_count": 0,
      "outputs": [
        {
          "output_type": "stream",
          "text": [
            "[ 1.11365482  0.32356815  2.22872418  4.54822071 -0.17500295  0.42370817]\n"
          ],
          "name": "stdout"
        }
      ]
    },
    {
      "cell_type": "markdown",
      "metadata": {
        "id": "RStOLwF_LlTE",
        "colab_type": "text"
      },
      "source": [
        "### Y vector\n",
        "\n",
        "The response vector is read in here:"
      ]
    },
    {
      "cell_type": "code",
      "metadata": {
        "id": "DG8eWNdpPQOs",
        "colab_type": "code",
        "colab": {}
      },
      "source": [
        "Y=matrix(pd.read_csv('/Data/BLMM-testdata/Y.csv',header=None).values)"
      ],
      "execution_count": 0,
      "outputs": []
    },
    {
      "cell_type": "markdown",
      "metadata": {
        "id": "RHm6DjdbPTvg",
        "colab_type": "text"
      },
      "source": [
        "### X matrix\n",
        "\n",
        "The fixed effects design matrix is read in here. It consists of an intercept and two random (Gaussian) columns.\n"
      ]
    },
    {
      "cell_type": "code",
      "metadata": {
        "id": "xqTKH4n_Po8e",
        "colab_type": "code",
        "outputId": "2768b92f-ed11-478b-c10a-16c42e687f15",
        "colab": {
          "base_uri": "https://localhost:8080/"
        }
      },
      "source": [
        "X=matrix(pd.read_csv('/Data/BLMM-testdata/X.csv',header=None).values)\n",
        "\n",
        "# Image of the first 20 rows of X\n",
        "imshow(X[1:20,:])"
      ],
      "execution_count": 0,
      "outputs": [
        {
          "output_type": "execute_result",
          "data": {
            "text/plain": [
              "<matplotlib.image.AxesImage at 0x7fb7e6c6bb38>"
            ]
          },
          "metadata": {
            "tags": []
          },
          "execution_count": 13
        },
        {
          "output_type": "display_data",
          "data": {
            "image/png": "[encoded data removed]",
            "text/plain": [
              "<Figure size 432x288 with 1 Axes>"
            ]
          },
          "metadata": {
            "tags": []
          }
        }
      ]
    },
    {
      "cell_type": "markdown",
      "metadata": {
        "id": "W_sXGD8qzskp",
        "colab_type": "text"
      },
      "source": [
        "### Number of Levels and Parameters\n",
        "\n",
        "The number of levels is given by a vector with one entry for each grouping factor. e.g. nlevels=[10,2] means there are 10 levels for factor 1 and 2 levels for factor 2. \n",
        "\n",
        "The number of parameters is given by a vector with one entry for each grouping factor. e.g. nparams=[3,4] means there are 3 variables for factor 1 and 4 variables for factor 2."
      ]
    },
    {
      "cell_type": "code",
      "metadata": {
        "id": "_e5bUA2DztCf",
        "colab_type": "code",
        "colab": {}
      },
      "source": [
        "nlevels = np.array([20,3])\n",
        "nparams = np.array([2,2])\n",
        "\n",
        "# Number of subjects\n",
        "n = X.size[0]"
      ],
      "execution_count": 0,
      "outputs": []
    },
    {
      "cell_type": "markdown",
      "metadata": {
        "id": "0byKXygpCa1P",
        "colab_type": "text"
      },
      "source": [
        "### True b values\n",
        "\n",
        "The true recorded values of the random effects b vector in this example."
      ]
    },
    {
      "cell_type": "code",
      "metadata": {
        "id": "LzwuuWSdCbCJ",
        "colab_type": "code",
        "colab": {}
      },
      "source": [
        "b_True=matrix(pd.read_csv('/Data/BLMM-testdata/true_b.csv',header=None).values)"
      ],
      "execution_count": 0,
      "outputs": []
    },
    {
      "cell_type": "markdown",
      "metadata": {
        "id": "Bvfns6c-CbPd",
        "colab_type": "text"
      },
      "source": [
        "### True beta values\n",
        "\n",
        "The true fixed effects parameters used to generate this example."
      ]
    },
    {
      "cell_type": "code",
      "metadata": {
        "id": "mlvolWwvCbbP",
        "colab_type": "code",
        "colab": {}
      },
      "source": [
        "beta_True=matrix(pd.read_csv('/Data/BLMM-testdata/true_beta.csv',header=None).values)"
      ],
      "execution_count": 0,
      "outputs": []
    },
    {
      "cell_type": "markdown",
      "metadata": {
        "id": "BjWoiZtYyuRh",
        "colab_type": "text"
      },
      "source": [
        "### Product Matrices\n",
        "\n",
        "It is useful to calculate all product of matrices before hand as it is both more computationally efficient and also similar to the setting we are interested in. In `cvxopt`, transposing matrices is surprisingly costly in terms of time so even transposes are calculated here to save them having to be recalculated during each iteration of the minimisation."
      ]
    },
    {
      "cell_type": "code",
      "metadata": {
        "id": "UMX_8BRYzFhN",
        "colab_type": "code",
        "colab": {}
      },
      "source": [
        "# Z tranpose X\n",
        "ZtX=cvxopt.spmatrix.trans(Z)*X\n",
        "\n",
        "# Z tranpose Y\n",
        "ZtY=cvxopt.spmatrix.trans(Z)*Y\n",
        "\n",
        "# X tranpose X\n",
        "XtX=cvxopt.matrix.trans(X)*X\n",
        "\n",
        "# Z tranpose Z\n",
        "ZtZ=cvxopt.spmatrix.trans(Z)*Z\n",
        "\n",
        "# X tranpose Y\n",
        "XtY=cvxopt.matrix.trans(X)*Y\n",
        "\n",
        "# Y tranpose X\n",
        "YtX=cvxopt.matrix.trans(Y)*X\n",
        "\n",
        "# Y transpose Z\n",
        "YtZ=cvxopt.matrix.trans(Y)*Z\n",
        "\n",
        "# X tranpose Z\n",
        "XtZ=cvxopt.matrix.trans(X)*Z\n",
        "\n",
        "# Y tranpose Y\n",
        "YtY=cvxopt.matrix.trans(Y)*Y"
      ],
      "execution_count": 0,
      "outputs": []
    },
    {
      "cell_type": "markdown",
      "metadata": {
        "id": "RhOHZ6F2DU5e",
        "colab_type": "text"
      },
      "source": [
        "## Calculating the Minimised Log-Likelihood\n",
        "\n",
        "To calculate the minimised log-likelihood the method given by Bates (2015) is used. This involves minimising for a parameter vector theta, a penalized least squares function which is based on the sparse cholesky decomposition."
      ]
    },
    {
      "cell_type": "markdown",
      "metadata": {
        "id": "jVtC2_vLtsY2",
        "colab_type": "text"
      },
      "source": [
        "### PLS function\n",
        "\n",
        "This function calculates the log likelihood value for parameter vector theta using **P**enalized **L**east **S**quares..\n",
        "\n",
        "---\n",
        "\n",
        "The following inputs are required for this function:\n",
        "\n",
        "---\n",
        "\n",
        " - **theta**: The parameter estimate.\n",
        " - **ZtX**: Z transpose multiplied by X.\n",
        " - **ZtY**: Z transpose multiplied by Y.\n",
        " - **XtX**: X transpose multiplied by X.\n",
        " - **ZtZ**: Z transpose multiplied by Z.\n",
        " - **XtY**: X transpose multiplied by Y.\n",
        " - **YtX**: Y transpose multiplied by X.\n",
        " - **YtZ**: Y transpose multiplied by Z.\n",
        " - **XtZ**: X transpose multiplied by Z.\n",
        " - **YtY**: Y transpose multiplied by Y.\n",
        " - **P**: The sparse permutation for Lamda'Z'ZLambda+I\n",
        " - **tinds**: A vector specifying how many times each theta parameter should be repeated. For example, if theta=[0.1,0.8,0.3] and theta_inds=[1,1,1,2,3,3], then the values to be mapped into the sparse matrix would be [0.1,0.1,0.1,0.8,0.3,0.3].\n",
        " - **r_inds**: The row indices of the elements mapped into the sparse matrix.\n",
        " - **c_inds**: The column indices of the elements mapped into the sparse matrix."
      ]
    },
    {
      "cell_type": "code",
      "metadata": {
        "id": "PR3bUshSts74",
        "colab_type": "code",
        "colab": {}
      },
      "source": [
        "def PLS(theta, ZtX, ZtY, XtX, ZtZ, XtY, YtX, YtZ, XtZ, YtY, n, P, I, tinds, rinds, cinds):\n",
        "\n",
        "    # Obtain Lambda\n",
        "    t1 = time.time()\n",
        "    Lambda = mapping(theta, tinds, rinds, cinds)\n",
        "    t2 = time.time()\n",
        "    #print(t2-t1)#3.170967102050781e-05   9\n",
        "    \n",
        "    \n",
        "    # Obtain Lambda'\n",
        "    t1 = time.time()\n",
        "    Lambdat = spmatrix.trans(Lambda)\n",
        "    t2 = time.time()\n",
        "    #print(t2-t1)# 3.5762786865234375e-06\n",
        "\n",
        "    # Obtain Lambda'Z'Y and Lambda'Z'X\n",
        "    t1 = time.time()\n",
        "    LambdatZtY = Lambdat*ZtY\n",
        "    LambdatZtX = Lambdat*ZtX\n",
        "    t2 = time.time()\n",
        "    #print(t2-t1)#1.049041748046875e-05   13\n",
        "    \n",
        "    # Obtain the cholesky decomposition\n",
        "    t1 = time.time()\n",
        "    LambdatZtZLambda = Lambdat*(ZtZ*Lambda)\n",
        "    t2 = time.time()\n",
        "    #print(t2-t1)#3.790855407714844e-05   2\n",
        "    \n",
        "    t1 = time.time()\n",
        "    chol_dict = sparse_chol(LambdatZtZLambda+I, perm=P, retF=True, retP=False, retL=False)\n",
        "    F = chol_dict['F']\n",
        "    t2 = time.time()\n",
        "    #print(t2-t1)#0.0001342296600341797   1\n",
        "\n",
        "    # Obtain C_u (annoyingly solve writes over the second argument,\n",
        "    # whereas spsolve outputs)\n",
        "    t1 = time.time()\n",
        "    Cu = LambdatZtY[P,:]\n",
        "    cholmod.solve(F,Cu,sys=4)\n",
        "    t2 = time.time()\n",
        "    #print(t2-t1)#1.5974044799804688e-05   5\n",
        "\n",
        "    # Obtain RZX\n",
        "    t1 = time.time()\n",
        "    RZX = LambdatZtX[P,:]\n",
        "    cholmod.solve(F,RZX,sys=4)\n",
        "    t2 = time.time()\n",
        "    #print(t2-t1)#1.2159347534179688e-05   7\n",
        "\n",
        "    # Obtain RXtRX\n",
        "    t1 = time.time()\n",
        "    RXtRX = XtX - matrix.trans(RZX)*RZX\n",
        "    t2 = time.time()\n",
        "    #print(t2-t1)#9.775161743164062e-06  11\n",
        "\n",
        "    # Obtain beta estimates (note: gesv also replaces the second\n",
        "    # argument)\n",
        "    t1 = time.time()\n",
        "    betahat = XtY - matrix.trans(RZX)*Cu\n",
        "    lapack.gesv(RXtRX, betahat)\n",
        "    t2 = time.time()\n",
        "    #print(t2-t1)#1.7404556274414062e-05   6\n",
        "\n",
        "    # Obtain u estimates\n",
        "    t1 = time.time()\n",
        "    uhat = Cu-RZX*betahat\n",
        "    cholmod.solve(F,uhat,sys=5)\n",
        "    cholmod.solve(F,uhat,sys=8)\n",
        "    t2 = time.time()\n",
        "    #print(t2-t1)#1.2874603271484375e-05   8\n",
        "    \n",
        "    # Obtain b estimates\n",
        "    t1 = time.time()\n",
        "    bhat = Lambda*uhat\n",
        "    t2 = time.time()\n",
        "    #print(t2-t1)#2.86102294921875e-06  15\n",
        "    \n",
        "    # Obtain residuals sum of squares\n",
        "    t1 = time.time()\n",
        "    resss = YtY-2*YtX*betahat-2*YtZ*bhat+2*matrix.trans(betahat)*XtZ*bhat+matrix.trans(betahat)*XtX*betahat+matrix.trans(bhat)*ZtZ*bhat\n",
        "    t2 = time.time()\n",
        "    #print(t2-t1)#3.409385681152344e-05   4\n",
        "    \n",
        "    # Obtain penalised residual sum of squares\n",
        "    t1 = time.time()\n",
        "    pss = resss + matrix.trans(uhat)*uhat\n",
        "    t2 = time.time()\n",
        "    #print(t2-t1)#2.6226043701171875e-06  16\n",
        "    \n",
        "    # Obtain Log(|L|^2)\n",
        "    t1 = time.time()\n",
        "    logdet = 2*sum(cvxopt.log(cholmod.diag(F)))\n",
        "    t2 = time.time()\n",
        "    #print(t2-t1)#1.5735626220703125e-05   14\n",
        "    \n",
        "    # Obtain log likelihood\n",
        "    t1 = time.time()\n",
        "    logllh = -logdet/2-n/2*(1+np.log(2*np.pi*pss[0,0])-np.log(n))\n",
        "    t2 = time.time()\n",
        "    #print(t2-t1)#4.506111145019531e-05   3\n",
        "    \n",
        "    return(-logllh)"
      ],
      "execution_count": 0,
      "outputs": []
    },
    {
      "cell_type": "markdown",
      "metadata": {
        "id": "NzkEDjxsxHCl",
        "colab_type": "text"
      },
      "source": [
        "## Minimising the Log-Likelihood\n",
        "\n",
        "To minimise the log-likelihood  we use the `scipy optimize` functions on the PLS algorithm. "
      ]
    },
    {
      "cell_type": "code",
      "metadata": {
        "id": "UwPiugXwyFpW",
        "colab_type": "code",
        "outputId": "c6d80bae-ffe4-4fca-9e99-a2411dee0f7d",
        "colab": {
          "base_uri": "https://localhost:8080/",
          "height": 369
        }
      },
      "source": [
        "# Initial theta value. Bates (2005) suggests using vec(I) where I is the identity matrix\n",
        "theta0=np.array([1,0,1,1,0,1])\n",
        "\n",
        "# Obtain a random Lambda matrix with the correct sparsity for the permutation vector\n",
        "tinds,rinds,cinds=get_mapping(nlevels, nparams)\n",
        "Lam=mapping(np.random.randn(6),tinds,rinds,cinds)\n",
        "\n",
        "# Obtain Lambda'Z'ZLambda\n",
        "LamtZt = spmatrix.trans(Lam)*spmatrix.trans(Z)\n",
        "LamtZtZLam = LamtZt*spmatrix.trans(LamtZt)\n",
        "\n",
        "# Obtaining permutation for PLS\n",
        "P=cvxopt.amd.order(LamtZtZLam)\n",
        "\n",
        "# Identity (Actually quicker to calculate outside of estimation)\n",
        "I = spmatrix(1.0, range(Lam.size[0]), range(Lam.size[0]))\n",
        "\n",
        "# Set cholmod options\n",
        "cholmod.options['supernodal']=2\n",
        "\n",
        "# Obtain estimate using `Nelder-Mead`\n",
        "theta_Est_nm=minimize(PLS, theta0, args=(ZtX, ZtY, XtX, ZtZ, XtY, YtX, YtZ, XtZ, YtY, n, P, I, tinds, rinds, cinds), method='Nelder-Mead', tol=1e-6).x\n",
        "\n",
        "# Obtain estimate using `Powell`\n",
        "theta_Est_pow=minimize(PLS, theta0, args=(ZtX, ZtY, XtX, ZtZ, XtY, YtX, YtZ, XtZ, YtY, n, P, I, tinds, rinds, cinds), method='Powell', tol=1e-6).x\n",
        "\n",
        "# Obtain estimate using `CG`\n",
        "theta_Est_cg=minimize(PLS, theta0, args=(ZtX, ZtY, XtX, ZtZ, XtY, YtX, YtZ, XtZ, YtY, n, P, I, tinds, rinds, cinds), method='CG', tol=1e-6).x\n",
        "\n",
        "# Obtain estimate using `BFGS`\n",
        "theta_Est_bfgs=minimize(PLS, theta0, args=(ZtX, ZtY, XtX, ZtZ, XtY, YtX, YtZ, XtZ, YtY, n, P, I, tinds, rinds, cinds), method='BFGS', tol=1e-6).x\n",
        "\n",
        "# Obtain estimate using `L-BFGS-B`\n",
        "theta_Est_lbfgsb=minimize(PLS, theta0, args=(ZtX, ZtY, XtX, ZtZ, XtY, YtX, YtZ, XtZ, YtY, n, P, I, tinds, rinds, cinds), method='L-BFGS-B', tol=1e-6).x\n",
        "\n",
        "# Obtain estimate using `TNC`\n",
        "theta_Est_tnc=minimize(PLS, theta0, args=(ZtX, ZtY, XtX, ZtZ, XtY, YtX, YtZ, XtZ, YtY, n, P, I, tinds, rinds, cinds), method='TNC', tol=1e-6).x\n",
        "\n",
        "# Obtain estimate using `COBYLA`\n",
        "theta_Est_cobyla=minimize(PLS, theta0, args=(ZtX, ZtY, XtX, ZtZ, XtY, YtX, YtZ, XtZ, YtY, n, P, I, tinds, rinds, cinds), method='COBYLA', tol=1e-6).x\n",
        "\n",
        "# Obtain estimate using `SLSQP`\n",
        "theta_Est_slsqp=minimize(PLS, theta0, args=(ZtX, ZtY, XtX, ZtZ, XtY, YtX, YtZ, XtZ, YtY, n, P, I, tinds, rinds, cinds), method='SLSQP', tol=1e-6).x\n",
        "\n",
        "# Obtain estimate using `trust-constr`\n",
        "theta_Est_trcon=minimize(PLS, theta0, args=(ZtX, ZtY, XtX, ZtZ, XtY, YtX, YtZ, XtZ, YtY, n, P, I, tinds, rinds, cinds), method='trust-constr', tol=1e-6).x\n",
        "\n",
        "# Print lmer estimate\n",
        "print('Lmer Estimate')\n",
        "print(theta_REst)\n",
        "\n",
        "# Print estimates\n",
        "print('Nelder-Mead Python Estimate')\n",
        "print(theta_Est_nm)\n",
        "print('Powell Python Estimate')\n",
        "print(theta_Est_pow)\n",
        "print('CG Python Estimate')\n",
        "print(theta_Est_cg)\n",
        "print('BFGS Python Estimate')\n",
        "print(theta_Est_bfgs)\n",
        "print('L-BFGS-B Python Estimate')\n",
        "print(theta_Est_lbfgsb)\n",
        "print('TNC Python Estimate')\n",
        "print(theta_Est_tnc)\n",
        "print('COBYLA Python Estimate')\n",
        "print(theta_Est_cobyla)\n",
        "print('SLSQP Python Estimate')\n",
        "print(theta_Est_slsqp)\n",
        "print('trust-constr Python Estimate')\n",
        "print(theta_Est_trcon)\n"
      ],
      "execution_count": 0,
      "outputs": [
        {
          "output_type": "stream",
          "text": [
            "Lmer Estimate\n",
            "[ 1.11365482  0.32356815  2.22872418  4.54822071 -0.17500295  0.42370817]\n",
            "Nelder-Mead Python Estimate\n",
            "[ 1.11126947  0.32242321  2.2240467   4.53967691 -0.17465665  0.42288958]\n",
            "Powell Python Estimate\n",
            "[ 1.11126202  0.32242066  2.22404517  4.53963679 -0.17464939 -0.42289163]\n",
            "CG Python Estimate\n",
            "[ 1.11097483  0.32486049  2.2204823   4.46851015 -0.17170456  0.42445066]\n",
            "BFGS Python Estimate\n",
            "[ 1.1133477   0.32432107  2.23520283  4.73015087 -0.19917473  0.4166644 ]\n",
            "L-BFGS-B Python Estimate\n",
            "[ 1.11069312  0.32626445  2.22179103  4.43127593 -0.17151019  0.42308999]\n",
            "TNC Python Estimate\n",
            "[ 1.317788    0.08469002  2.24681162  3.09562961 -0.04547548  0.38196296]\n",
            "COBYLA Python Estimate\n",
            "[ 1.11129921  0.32238177  2.22400895  4.51698988 -0.17302663  0.42316139]\n",
            "SLSQP Python Estimate\n",
            "[ 1.1119122   0.31467079  2.22144594  4.39343954 -0.16444859  0.42634387]\n",
            "trust-constr Python Estimate\n",
            "[ 1.11011197  0.32224344  2.22245804  4.51683091 -0.1711171   0.42292119]\n"
          ],
          "name": "stdout"
        }
      ]
    },
    {
      "cell_type": "markdown",
      "metadata": {
        "id": "HxNYlQkQ_asL",
        "colab_type": "text"
      },
      "source": [
        "### Time efficiency\n",
        "\n",
        "The below runs each method 100 times and works out the average time taken to produce the estimates. In this example, it is clear that `Powell` performs much quicker than `Nelder-Mead`. From now on, in the following sections `Powell` is the default method used."
      ]
    },
    {
      "cell_type": "code",
      "metadata": {
        "id": "MYq_1-3U_nMn",
        "colab_type": "code",
        "outputId": "d1a3a30e-f8bc-4cfc-e592-6a0b81c072b7",
        "colab": {
          "base_uri": "https://localhost:8080/",
          "height": 334
        }
      },
      "source": [
        "# Average time\n",
        "time_nm = 0;\n",
        "time_p = 0;\n",
        "time_cg = 0;\n",
        "time_bfgs = 0;\n",
        "time_lbfgsb = 0;\n",
        "time_tnc = 0;\n",
        "time_cobyla = 0;\n",
        "time_slsqp = 0;\n",
        "time_trcon = 0;\n",
        "\n",
        "# Number of iterations\n",
        "n = 10;\n",
        "\n",
        "for i in range(n):\n",
        "  \n",
        "  # Obtain estimate using `Nelder-Mead`\n",
        "  t1 = time.time()\n",
        "  theta_Est_nm=minimize(PLS, theta0, args=(ZtX, ZtY, XtX, ZtZ, XtY, YtX, YtZ, XtZ, YtY, n, P, I, tinds, rinds, cinds), method='Nelder-Mead', tol=1e-6).x\n",
        "  t2 = time.time()\n",
        "  time_nm = time_nm + t2 - t1\n",
        "  \n",
        "  # Obtain estimate using `Powell`\n",
        "  t1 = time.time()\n",
        "  theta_Est_p=minimize(PLS, theta0, args=(ZtX, ZtY, XtX, ZtZ, XtY, YtX, YtZ, XtZ, YtY, n, P, I, tinds, rinds, cinds), method='Powell', tol=1e-6).x\n",
        "  t2 = time.time()\n",
        "  time_p = time_p + t2 - t1\n",
        "  \n",
        "  # Obtain estimate using `CG`\n",
        "  t1 = time.time()\n",
        "  theta_Est_cg=minimize(PLS, theta0, args=(ZtX, ZtY, XtX, ZtZ, XtY, YtX, YtZ, XtZ, YtY, n, P, I, tinds, rinds, cinds), method='CG', tol=1e-6).x\n",
        "  t2 = time.time()\n",
        "  time_cg = time_cg + t2 - t1\n",
        "  \n",
        "  # Obtain estimate using `BFGS`\n",
        "  t1 = time.time()\n",
        "  theta_Est_bfgs=minimize(PLS, theta0, args=(ZtX, ZtY, XtX, ZtZ, XtY, YtX, YtZ, XtZ, YtY, n, P, I, tinds, rinds, cinds), method='BFGS', tol=1e-6).x\n",
        "  t2 = time.time()\n",
        "  time_bfgs = time_bfgs + t2 - t1\n",
        "  \n",
        "  # Obtain estimate using `L-BFGS-B`\n",
        "  t1 = time.time()\n",
        "  theta_Est_lbfgsb=minimize(PLS, theta0, args=(ZtX, ZtY, XtX, ZtZ, XtY, YtX, YtZ, XtZ, YtY, n, P, I, tinds, rinds, cinds), method='L-BFGS-B', tol=1e-6).x\n",
        "  t2 = time.time()\n",
        "  time_lbfgsb = time_lbfgsb + t2 - t1\n",
        "\n",
        "  # Obtain estimate using `TNC`\n",
        "  t1 = time.time()\n",
        "  theta_Est_tnc=minimize(PLS, theta0, args=(ZtX, ZtY, XtX, ZtZ, XtY, YtX, YtZ, XtZ, YtY, n, P, I, tinds, rinds, cinds), method='TNC', tol=1e-6).x\n",
        "  t2 = time.time()\n",
        "  time_tnc = time_tnc + t2 - t1\n",
        "  \n",
        "  # Obtain estimate using `COBYLA`\n",
        "  t1 = time.time()\n",
        "  theta_Est_cobyla=minimize(PLS, theta0, args=(ZtX, ZtY, XtX, ZtZ, XtY, YtX, YtZ, XtZ, YtY, n, P, I, tinds, rinds, cinds), method='COBYLA', tol=1e-6).x\n",
        "  t2 = time.time()\n",
        "  time_cobyla = time_cobyla + t2 - t1\n",
        "  \n",
        "  # Obtain estimate using `SLSQP`\n",
        "  t1 = time.time()\n",
        "  theta_Est_slsqp=minimize(PLS, theta0, args=(ZtX, ZtY, XtX, ZtZ, XtY, YtX, YtZ, XtZ, YtY, n, P, I, tinds, rinds, cinds), method='SLSQP', tol=1e-6).x\n",
        "  t2 = time.time()\n",
        "  time_slsqp = time_slsqp + t2 - t1\n",
        "\n",
        "  # Obtain estimate using `trust-constr`\n",
        "  t1 = time.time()\n",
        "  theta_Est_trcon=minimize(PLS, theta0, args=(ZtX, ZtY, XtX, ZtZ, XtY, YtX, YtZ, XtZ, YtY, n, P, I, tinds,rinds, cinds), method='trust-constr', tol=1e-6).x\n",
        "  t2 = time.time()\n",
        "  time_trcon = time_trcon + t2 - t1\n",
        "\n",
        "  \n",
        "\n",
        "# Convert to averages\n",
        "time_nm = time_nm/n\n",
        "time_p = time_p/n\n",
        "time_cg = time_cg/n\n",
        "time_bfgs = time_bfgs/n\n",
        "time_lbfgsb = time_lbfgsb/n\n",
        "time_tnc = time_tnc/n\n",
        "time_cobyla = time_cobyla/n\n",
        "time_slsqp = time_slsqp/n\n",
        "time_trcon = time_trcon/n\n",
        "\n",
        "# Print\n",
        "print('Average Nelder-Mead estimation time:')\n",
        "print(time_nm)\n",
        "print('Average Powell estimation time:')\n",
        "print(time_p)\n",
        "print('Average CG estimation time:')\n",
        "print(time_cg)\n",
        "print('Average BFGS estimation time:')\n",
        "print(time_bfgs)\n",
        "print('Average L-BFGS-B estimation time:')\n",
        "print(time_lbfgsb)\n",
        "print('Average TNC estimation time:')\n",
        "print(time_tnc)\n",
        "print('Average COBYLA estimation time:')\n",
        "print(time_cobyla)\n",
        "print('Average SLSQP estimation time:')\n",
        "print(time_slsqp)\n",
        "print('Average trust-contstr estimation time:')\n",
        "print(time_trcon)"
      ],
      "execution_count": 0,
      "outputs": [
        {
          "output_type": "stream",
          "text": [
            "Average Nelder-Mead estimation time:\n",
            "0.3104363441467285\n",
            "Average Powell estimation time:\n",
            "0.05762038230895996\n",
            "Average CG estimation time:\n",
            "0.3760460138320923\n",
            "Average BFGS estimation time:\n",
            "0.21434075832366944\n",
            "Average L-BFGS-B estimation time:\n",
            "0.09066901206970215\n",
            "Average TNC estimation time:\n",
            "0.14951188564300538\n",
            "Average COBYLA estimation time:\n",
            "0.1998685598373413\n",
            "Average SLSQP estimation time:\n",
            "0.06683473587036133\n",
            "Average trust-contstr estimation time:\n",
            "0.3898428678512573\n"
          ],
          "name": "stdout"
        }
      ]
    },
    {
      "cell_type": "markdown",
      "metadata": {
        "id": "_Nazpuh-A5vx",
        "colab_type": "text"
      },
      "source": [
        "## Scaling up the computation (Two voxels)\n",
        "\n",
        "This section has several implemented ideas for scaling up the computation to compute several similar models at once. For simplicity it is assumed here that X and Z are the same across voxels."
      ]
    },
    {
      "cell_type": "markdown",
      "metadata": {
        "id": "enYnjHWXBVmO",
        "colab_type": "text"
      },
      "source": [
        "### Toy data for Neighbouring voxel\n",
        "\n",
        "To assess the potential of the following ideas a toy data example is created below. The idea behind this is that we wish to calculate both the model in the example used in the previous sections and, additionally a similar model from a neighbouring voxel (variables related to the neighbouring voxel will have postfix `_n`). \n",
        "\n",
        "This is not a rigourous test, but just a toy example to see if we can lower the computational time in an example vaguely similar to what we may expect in reality."
      ]
    },
    {
      "cell_type": "markdown",
      "metadata": {
        "id": "mzUVeNWeDLmy",
        "colab_type": "text"
      },
      "source": [
        "#### Beta vector\n",
        "\n",
        "In a neighbouring voxel, we would expect similar Beta values but not necessarily the same. To simulate this, I have added some normal noise with variance, 1/2, to the original beta values to obtain a new beta value."
      ]
    },
    {
      "cell_type": "code",
      "metadata": {
        "id": "5hKzWuueBbeI",
        "colab_type": "code",
        "outputId": "d914b03b-f251-432d-aaaa-0121f743c127",
        "colab": {
          "base_uri": "https://localhost:8080/"
        }
      },
      "source": [
        "# Given a beta vector this function makes a beta \n",
        "# vector for the neighbouring voxel\n",
        "def beta_n(beta):\n",
        "  return(beta + cvxopt.normal(beta.size[0],1)/np.sqrt(2))\n",
        "\n",
        "# Example\n",
        "beta_True_n = beta_n(beta_True)\n",
        "  \n",
        "# print betas for comparison\n",
        "print(\"Beta for voxel 1\")\n",
        "print(beta_True)\n",
        "print(\"Beta for voxel 2\")\n",
        "print(beta_True_n)"
      ],
      "execution_count": 0,
      "outputs": [
        {
          "output_type": "stream",
          "text": [
            "Beta for voxel 1\n",
            "[ 1]\n",
            "[ 2]\n",
            "[ 3]\n",
            "\n",
            "Beta for voxel 2\n",
            "[ 1.09e+00]\n",
            "[ 1.94e+00]\n",
            "[ 4.18e+00]\n",
            "\n"
          ],
          "name": "stdout"
        }
      ]
    },
    {
      "cell_type": "markdown",
      "metadata": {
        "id": "TTQFQbRLDKmq",
        "colab_type": "text"
      },
      "source": [
        "#### b vector\n",
        "\n",
        "In a neighbouring voxel, we may also expect similar b values. To simulate this, I have added some normal noise with variance, 1/2, to the original b values to obtain a new b value."
      ]
    },
    {
      "cell_type": "code",
      "metadata": {
        "id": "tsyjopBUFNt0",
        "colab_type": "code",
        "outputId": "051359a6-e6e0-413a-b9d0-001c9e22b33e",
        "colab": {
          "base_uri": "https://localhost:8080/"
        }
      },
      "source": [
        "# Given a b vector this function makes a b\n",
        "# vector for the neighbouring voxel\n",
        "def b_n(b):\n",
        "  return(b + cvxopt.normal(b.size[0],1)/np.sqrt(2))\n",
        "\n",
        "# Example\n",
        "b_True_n = b_n(b_True)\n",
        "  \n",
        "# print bs for comparison\n",
        "print(\"b for voxel 1 (first 5 elements)\")\n",
        "print(b_True[1:5])\n",
        "print(\"b for voxel 2 (first 5 elements)\")\n",
        "print(b_True_n[1:5])"
      ],
      "execution_count": 0,
      "outputs": [
        {
          "output_type": "stream",
          "text": [
            "b for voxel 1 (first 5 elements)\n",
            "[-4.23e+00]\n",
            "[ 1.44e+00]\n",
            "[ 1.41e+00]\n",
            "[ 1.35e+00]\n",
            "\n",
            "b for voxel 2 (first 5 elements)\n",
            "[-4.37e+00]\n",
            "[ 1.13e+00]\n",
            "[ 1.50e+00]\n",
            "[ 1.65e+00]\n",
            "\n"
          ],
          "name": "stdout"
        }
      ]
    },
    {
      "cell_type": "markdown",
      "metadata": {
        "id": "ZFb5eO8jBWSf",
        "colab_type": "text"
      },
      "source": [
        " #### Y vector (New response)\n",
        " \n",
        "I now generate a new response vector with the new beta and b values for the neighbouring voxel."
      ]
    },
    {
      "cell_type": "code",
      "metadata": {
        "id": "8V59rDqEGU5e",
        "colab_type": "code",
        "colab": {}
      },
      "source": [
        "# Neighbouring voxels response vector\n",
        "Y_n = X*beta_True_n+Z*b_True_n+cvxopt.normal(1000,1)"
      ],
      "execution_count": 0,
      "outputs": []
    },
    {
      "cell_type": "markdown",
      "metadata": {
        "id": "l1fjCdxgH3aV",
        "colab_type": "text"
      },
      "source": [
        "### Product Matrices\n",
        "\n",
        "All products of matrices are calculated beforehand as it is both more computationally efficient and also similar to the setting we are interested in. For the neighbouring voxel only those involving the Y vector (response) need be recalculated as X and Z have not changed between voxel in this example."
      ]
    },
    {
      "cell_type": "code",
      "metadata": {
        "id": "Wnx7aj6OH3tA",
        "colab_type": "code",
        "colab": {}
      },
      "source": [
        "# Z tranpose Y_n\n",
        "ZtY_n=cvxopt.spmatrix.trans(Z)*Y_n\n",
        "\n",
        "# X tranpose Y_n\n",
        "XtY_n=cvxopt.matrix.trans(X)*Y_n\n",
        "\n",
        "# Y_n tranpose X\n",
        "YtX_n=cvxopt.matrix.trans(Y_n)*X\n",
        "\n",
        "# Y_n transpose Z\n",
        "YtZ_n=cvxopt.matrix.trans(Y_n)*Z\n",
        "\n",
        "# Y_n tranpose Y_n\n",
        "YtY_n=cvxopt.matrix.trans(Y_n)*Y_n"
      ],
      "execution_count": 0,
      "outputs": []
    },
    {
      "cell_type": "markdown",
      "metadata": {
        "id": "t9CsWWXKGk-I",
        "colab_type": "text"
      },
      "source": [
        "### Idea 1: Initial Estimate\n",
        "\n",
        "The idea behind this is relatively simple. Once we have estimated the model for one voxel, we use the estimated theta vector from that voxel as the initial estimate for it's neighbours.\n",
        "\n",
        "However, it didn't work/no meaningful time improvement was observed in the toy example.\n"
      ]
    },
    {
      "cell_type": "code",
      "metadata": {
        "id": "X5c3WZF5HDm-",
        "colab_type": "code",
        "outputId": "8d87bcef-2812-40f9-fc77-6979ff7eb8b3",
        "colab": {
          "base_uri": "https://localhost:8080/"
        }
      },
      "source": [
        "# Estimate first voxel\n",
        "theta_Est=minimize(PLS, theta0, args=(ZtX, ZtY, XtX, ZtZ, XtY, YtX, YtZ, XtZ, YtY, n, P, I, tinds, rinds, cinds), method='L-BFGS-B', tol=1e-6).x\n",
        "\n",
        "# Estimate second voxel\n",
        "theta_Est_n=minimize(PLS, theta_Est, args=(ZtX, ZtY_n, XtX, ZtZ, XtY_n, YtX_n, YtZ_n, XtZ, YtY_n, n, P, I, tinds, rinds, cinds), method='L-BFGS-B', tol=1e-6).x\n",
        "\n",
        "# Print results\n",
        "print('Estimate for voxel 1')\n",
        "print(theta_Est)\n",
        "\n",
        "# Print results for neighbouring voxel\n",
        "print('Estimate for voxel 2')\n",
        "print(theta_Est_n)\n",
        "\n"
      ],
      "execution_count": 0,
      "outputs": [
        {
          "output_type": "stream",
          "text": [
            "Estimate for voxel 1\n",
            "[-3.82632372e-07  7.88461899e-09 -8.92650112e-08  1.41769524e-06\n",
            " -4.58399429e-07 -4.63805416e-08]\n",
            "Estimate for voxel 2\n",
            "[-3.79166294e-07 -1.82553801e-08  8.04283532e-08  1.40643049e-06\n",
            " -1.61603437e-07 -1.88357309e-08]\n"
          ],
          "name": "stdout"
        }
      ]
    },
    {
      "cell_type": "markdown",
      "metadata": {
        "id": "hqbOzGU-It3f",
        "colab_type": "text"
      },
      "source": [
        "#### Time efficiency\n",
        "\n",
        "What is really important here is not the estimate values (assuming they are correct), but the time taken to do this for both voxels. In the below, the two voxels are estimated 100 times twice, once reusing the estmate from the first voxel in estimating the second, and once computing the voxels completely seperately.\n",
        "\n",
        "**Conclusion:** This idea didn't really work... the time complexity was not meaningfully reduced (reduction of <0.01s in most runs)."
      ]
    },
    {
      "cell_type": "code",
      "metadata": {
        "id": "5OM3CTjNJXp_",
        "colab_type": "code",
        "outputId": "6e7725c6-08c5-411b-adfc-d7139528b9e7",
        "colab": {
          "base_uri": "https://localhost:8080/"
        }
      },
      "source": [
        "# Average time\n",
        "time_original = 0;\n",
        "time_idea1 = 0;\n",
        "\n",
        "# Number of iterations\n",
        "n = 100;\n",
        "\n",
        "for i in range(n):\n",
        "  \n",
        "  # New neigbouring voxel response\n",
        "  Y_n = X*beta_n(beta_True)+Z*b_n(b_True)+cvxopt.normal(1000,1)\n",
        "  \n",
        "  # Z tranpose Y_n\n",
        "  ZtY_n=cvxopt.spmatrix.trans(Z)*Y_n\n",
        "\n",
        "  # X tranpose Y_n\n",
        "  XtY_n=cvxopt.matrix.trans(X)*Y_n\n",
        "\n",
        "  # Y_n tranpose X\n",
        "  YtX_n=cvxopt.matrix.trans(Y_n)*X\n",
        "\n",
        "  # Y_n transpose Z\n",
        "  YtZ_n=cvxopt.matrix.trans(Y_n)*Z\n",
        "\n",
        "  # Y_n tranpose Y_n\n",
        "  YtY_n=cvxopt.matrix.trans(Y_n)*Y_n\n",
        "  \n",
        "  # Obtain the voxels estimates independently\n",
        "  t1 = time.time()\n",
        "  theta_Est=minimize(PLS, theta0, args=(ZtX, ZtY, XtX, ZtZ, XtY, YtX, YtZ, XtZ, YtY, n, P, I, tinds, rinds, cinds), method='L-BFGS-B', tol=1e-6).x\n",
        "  theta_Est_n=minimize(PLS, theta0, args=(ZtX, ZtY_n, XtX, ZtZ, XtY_n, YtX_n, YtZ_n, XtZ, YtY_n, n, P, I, tinds, rinds, cinds), method='L-BFGS-B', tol=1e-6).x\n",
        "  t2 = time.time()\n",
        "  time_original = time_original + t2 - t1\n",
        "  \n",
        "  # Obtain the voxels estimates by reusing the estimate from one voxel as the initial estimate for the other\n",
        "  t1 = time.time()\n",
        "  theta_Est=minimize(PLS, theta0, args=(ZtX, ZtY, XtX, ZtZ, XtY, YtX, YtZ, XtZ, YtY, n, P, I, tinds, rinds, cinds), method='L-BFGS-B', tol=1e-6).x\n",
        "  theta_Est_n=minimize(PLS, theta_Est, args=(ZtX, ZtY_n, XtX, ZtZ, XtY_n, YtX_n, YtZ_n, XtZ, YtY_n, n, P, I, tinds, rinds, cinds), method='L-BFGS-B', tol=1e-6).x\n",
        "  t2 = time.time()\n",
        "  time_idea1 = time_idea1 + t2 - t1\n",
        "\n",
        "# Convert to averages\n",
        "time_original = time_original/n\n",
        "time_idea1 = time_idea1/n\n",
        "\n",
        "# Print\n",
        "print('Average Original estimation time:')\n",
        "print(time_original)\n",
        "print('Average Idea 1 estimation time:')\n",
        "print(time_idea1)"
      ],
      "execution_count": 0,
      "outputs": [
        {
          "output_type": "stream",
          "text": [
            "Average Original estimation time:\n",
            "0.07912943363189698\n",
            "Average Idea 1 estimation time:\n",
            "0.07006490707397461\n"
          ],
          "name": "stdout"
        }
      ]
    },
    {
      "cell_type": "markdown",
      "metadata": {
        "id": "9JP8KZC-Mamk",
        "colab_type": "text"
      },
      "source": [
        "### Idea 2: Penalize the difference between beta values in the objective function\n",
        "\n",
        "The PLS algorithm works by penalizing, at every voxel, the objective function:\n",
        "\n",
        "$$||Y-X\\beta+Z\\Lambda u+\\epsilon||^2_2 + ||u||^2_2$$\n",
        "\n",
        "Suppose, now that we wish to estimate the value at one voxel but already have beta values for one of it's neighbours. When the algorithm searches the parameter space, it stands to reason we want it to start by looking at beta values around the neighbouring voxels beta values. To do this we could add an additional term to the objective function:\n",
        "\n",
        "$$||Y-X\\beta+Z\\Lambda u+\\epsilon||^2_2 + ||u||^2_2 + ||\\beta - \\beta_n||^2_2$$\n",
        "\n",
        "Where $\\beta_n$ is the value of beta at the neighbouring voxel. This is the idea tested here."
      ]
    },
    {
      "cell_type": "markdown",
      "metadata": {
        "id": "krn-dunmRTZl",
        "colab_type": "text"
      },
      "source": [
        "#### Return Beta from PLS\n",
        "\n",
        "This function returns the beta estimates for a given theta using PLS.\n",
        "\n",
        "---\n",
        "\n",
        "The following inputs are required for this function:\n",
        "\n",
        "---\n",
        "\n",
        " - **theta**: The parameter estimate.\n",
        " - **ZtX**: Z transpose multiplied by X.\n",
        " - **ZtY**: Z transpose multiplied by Y.\n",
        " - **XtX**: X transpose multiplied by X.\n",
        " - **ZtZ**: Z transpose multiplied by Z.\n",
        " - **XtY**: X transpose multiplied by Y.\n",
        " - **YtX**: Y transpose multiplied by X.\n",
        " - **YtZ**: Y transpose multiplied by Z.\n",
        " - **XtZ**: X transpose multiplied by Z.\n",
        " - **YtY**: Y transpose multiplied by Y.\n",
        " - **P**: The sparse permutation for Lamda'Z'ZLambda+I\n",
        " - **tinds**: A vector specifying how many times each theta parameter should be repeated. For example, if theta=[0.1,0.8,0.3] and theta_inds=[1,1,1,2,3,3], then the values to be mapped into the sparse matrix would be [0.1,0.1,0.1,0.8,0.3,0.3].\n",
        " - **r_inds**: The row indices of the elements mapped into the sparse matrix.\n",
        " - **c_inds**: The column indices of the elements mapped into the sparse matrix."
      ]
    },
    {
      "cell_type": "code",
      "metadata": {
        "id": "kEUPtjalRQpt",
        "colab_type": "code",
        "colab": {}
      },
      "source": [
        "def PLS_getBeta(theta, ZtX, ZtY, XtX, ZtZ, XtY, YtX, YtZ, XtZ, YtY, n, P, tinds, rinds, cinds):\n",
        "\n",
        "    # Obtain Lambda\n",
        "    Lambda = mapping(theta, tinds, rinds, cinds)\n",
        "    \n",
        "    # Obtain Lambda'\n",
        "    Lambdat = spmatrix.trans(Lambda)\n",
        "\n",
        "    # Obtain Lambda'Z'Y and Lambda'Z'X\n",
        "    LambdatZtY = Lambdat*ZtY\n",
        "    LambdatZtX = Lambdat*ZtX\n",
        "    \n",
        "    # Set the factorisation to use LL' instead of LDL'\n",
        "    cholmod.options['supernodal']=2\n",
        "\n",
        "    # Obtain the cholesky decomposition\n",
        "    LambdatZtZLambda = Lambdat*ZtZ*Lambda\n",
        "    I = spmatrix(1.0, range(Lambda.size[0]), range(Lambda.size[0]))\n",
        "    chol_dict = sparse_chol(LambdatZtZLambda+I, perm=P, retF=True, retP=False, retL=False)\n",
        "    F = chol_dict['F']\n",
        "\n",
        "    # Obtain C_u (annoyingly solve writes over the second argument,\n",
        "    # whereas spsolve outputs)\n",
        "    Cu = LambdatZtY[P,:]\n",
        "    cholmod.solve(F,Cu,sys=4)\n",
        "\n",
        "    # Obtain RZX\n",
        "    RZX = LambdatZtX[P,:]\n",
        "    cholmod.solve(F,RZX,sys=4)\n",
        "\n",
        "    # Obtain RXtRX\n",
        "    RXtRX = XtX - matrix.trans(RZX)*RZX\n",
        "\n",
        "    # Obtain beta estimates (note: gesv also replaces the second\n",
        "    # argument)\n",
        "    betahat = XtY - matrix.trans(RZX)*Cu\n",
        "    lapack.posv(RXtRX, betahat)\n",
        "\n",
        "    return(betahat)"
      ],
      "execution_count": 0,
      "outputs": []
    },
    {
      "cell_type": "markdown",
      "metadata": {
        "id": "-a7uYOZzPQ2W",
        "colab_type": "text"
      },
      "source": [
        "#### Neighbour-based PLS objective function\n",
        "\n",
        "The following function calculates the log likelihood based on the above objective function. It is the same as the original PLS algorithm in most respects, except it now also uses as input `beta_n`, the beta value from the run used on a neighbouring voxel. \n",
        "\n",
        "---\n",
        "\n",
        "The following inputs are required for this function:\n",
        "\n",
        "---\n",
        "\n",
        " - **theta**: The parameter estimate.\n",
        " - **betan**: The beta estimate for a neighbouring voxel.\n",
        " - **ZtX**: Z transpose multiplied by X.\n",
        " - **ZtY**: Z transpose multiplied by Y.\n",
        " - **XtX**: X transpose multiplied by X.\n",
        " - **ZtZ**: Z transpose multiplied by Z.\n",
        " - **XtY**: X transpose multiplied by Y.\n",
        " - **YtX**: Y transpose multiplied by X.\n",
        " - **YtZ**: Y transpose multiplied by Z.\n",
        " - **XtZ**: X transpose multiplied by Z.\n",
        " - **YtY**: Y transpose multiplied by Y.\n",
        " - **P**: The sparse permutation for Lamda'Z'ZLambda+I\n",
        " - **tinds**: A vector specifying how many times each theta parameter should be repeated. For example, if theta=[0.1,0.8,0.3] and theta_inds=[1,1,1,2,3,3], then the values to be mapped into the sparse matrix would be [0.1,0.1,0.1,0.8,0.3,0.3].\n",
        " - **r_inds**: The row indices of the elements mapped into the sparse matrix.\n",
        " - **c_inds**: The column indices of the elements mapped into the sparse matrix."
      ]
    },
    {
      "cell_type": "code",
      "metadata": {
        "id": "3E1CS6j7P1_K",
        "colab_type": "code",
        "colab": {}
      },
      "source": [
        "def PLSneighbour(theta, betan, ZtX, ZtY, XtX, ZtZ, XtY, YtX, YtZ, XtZ, YtY, n, P, I, tinds, rinds, cinds):\n",
        "\n",
        "    # Neighbour changes, the below is actually all that needs changing to account\n",
        "    # for the new objective function\n",
        "    XtX = XtX+ spmatrix(1.0, range(XtX.size[0]), range(XtX.size[0]))\n",
        "    XtY = XtY + betan\n",
        "    YtX = YtX + matrix.trans(betan)\n",
        "\n",
        "    # Return PLS on the newly adjusted data\n",
        "    return(PLS(theta, ZtX, ZtY, XtX, ZtZ, XtY, YtX, YtZ, XtZ, YtY, n, P, I, tinds, rinds, cinds))"
      ],
      "execution_count": 0,
      "outputs": []
    },
    {
      "cell_type": "markdown",
      "metadata": {
        "id": "wW9A8JM3SRW7",
        "colab_type": "text"
      },
      "source": [
        "#### Correctness\n",
        "\n",
        "To check that we are still estimating the same quantity, here we estimate the neighbour first and then use the beta estimate from the neighbouring voxel to estimate the original toy datasets theta. As can be seen the resultant estimate is still relatively close.\n",
        "\n",
        "Interestingly, the only beta estimate that has changed is the intercept, which `R` had trouble estimating anyway (it took me a while to find a toy dataset were `R` was able to correctly estimate the intercept... it could have just been due to chance/my own p-hacking that it happened in this case). Perhaps this is due to the model I used for this example, in which there is a fixed effects intercept and then an intercept for both grouping factors... this could just be a difficult/impossible model intercept to estimate."
      ]
    },
    {
      "cell_type": "code",
      "metadata": {
        "id": "mCsbTsTpSRtl",
        "colab_type": "code",
        "outputId": "7cbee541-caa1-4efd-96e4-a9bcec2e9f94",
        "colab": {
          "base_uri": "https://localhost:8080/"
        }
      },
      "source": [
        "# Compute theta estimate for neighbouring voxel\n",
        "theta_Est_n=minimize(PLS, theta0, args=(ZtX, ZtY_n, XtX, ZtZ, XtY_n, YtX_n, YtZ_n, XtZ, YtY_n, n, P, I, tinds, rinds, cinds), method='L-BFGS-B', tol=1e-6).x\n",
        "\n",
        "# Retrieve beta\n",
        "beta_Est_n = PLS_getBeta(theta_Est_n,ZtX, ZtY_n, XtX, ZtZ, XtY_n, YtX_n, YtZ_n, XtZ, YtY_n, n, P, tinds, rinds, cinds)\n",
        "\n",
        "# Minimise for the original voxel using the neighbour function\n",
        "theta_Est=minimize(PLSneighbour, theta0, args=(beta_Est_n, ZtX, ZtY, XtX, ZtZ, XtY, YtX, YtZ, XtZ, YtY, n, P, I, tinds, rinds, cinds), method='L-BFGS-B', tol=1e-6).x\n",
        "\n",
        "# Print results\n",
        "print(\"R estimated theta:\")\n",
        "print(theta_REst)\n",
        "print(\"Neighbourhood based estimated theta:\")\n",
        "print(theta_Est)\n",
        "\n",
        "# Print betas\n",
        "print(\"Beta (True)\")\n",
        "print(beta_True)\n",
        "print(\"Beta (R estimated)\")\n",
        "print(PLS_getBeta(theta_REst,ZtX, ZtY, XtX, ZtZ, XtY, YtX, YtZ, XtZ, YtY, n, P,tinds, rinds, cinds))\n",
        "print(\"Beta (Neighbourhood estimated)\")\n",
        "print(PLS_getBeta(theta_Est,ZtX, ZtY, XtX, ZtZ, XtY, YtX, YtZ, XtZ, YtY, n, P,tinds, rinds, cinds))\n",
        "\n",
        "# Double check we get the same as R\n",
        "#print(matrix(pd.read_csv('/Data/BLMM-testdata/estd_beta.csv',header=None).values))"
      ],
      "execution_count": 0,
      "outputs": [
        {
          "output_type": "stream",
          "text": [
            "R estimated theta:\n",
            "[ 1.11365482  0.32356815  2.22872418  4.54822071 -0.17500295  0.42370817]\n",
            "Neighbourhood based estimated theta:\n",
            "[ 0.2307727   0.09109081  0.53652211  1.12067893 -0.04111018  0.10321058]\n",
            "Beta (True)\n",
            "[ 1]\n",
            "[ 2]\n",
            "[ 3]\n",
            "\n",
            "Beta (R estimated)\n",
            "[ 1.05e+00]\n",
            "[ 1.98e+00]\n",
            "[ 3.03e+00]\n",
            "\n",
            "Beta (Neighbourhood estimated)\n",
            "[ 1.02e+00]\n",
            "[ 1.98e+00]\n",
            "[ 3.04e+00]\n",
            "\n"
          ],
          "name": "stdout"
        }
      ]
    },
    {
      "cell_type": "markdown",
      "metadata": {
        "id": "aANxmrO3WIgP",
        "colab_type": "text"
      },
      "source": [
        "To further investigate whether this is a consistent result, I have run the code 100 times with different a neighbouring voxel in each run and recorded the average squared difference between the true value of beta and the estimated value of beta for both the neighbour approach and the original PLS algorithm.\n",
        "\n",
        "**Conclusion**: The previous supposed loss of efficiency was indeed a fluke - after running 100 different neighbouring voxel iterations it has become extremely clear that the added penalty significantly improves accuracy in the toy example. Main points of interest:\n",
        "\n",
        " - The standard PLS algorithm works well for a majority of cases but rarely beats the neighbourhood version. \n",
        " - In some cases the PLS algorithm can massively go wrong estimating the intercept, whereas the neighbourhood method appears more robust to this.\n",
        " - Of course, this is heavily dependent on the simulation and would need more investigation for standard neuroimaging data."
      ]
    },
    {
      "cell_type": "code",
      "metadata": {
        "id": "d3iC0KRtWIqq",
        "colab_type": "code",
        "outputId": "83474160-7aa1-48c8-e87e-dcb7fc017912",
        "colab": {
          "base_uri": "https://localhost:8080/"
        }
      },
      "source": [
        "# Average time\n",
        "diff_original = 0;\n",
        "diff_neighbour = 0;\n",
        "\n",
        "# Number of iterations\n",
        "n = 1;\n",
        "\n",
        "for i in range(n):\n",
        "  \n",
        "  # New neigbouring voxel response\n",
        "  beta_True_n = beta_n(beta_True)\n",
        "  Y_n = X*beta_True_n+Z*b_n(b_True)+cvxopt.normal(1000,1)\n",
        "  \n",
        "  #print(beta_True_n)\n",
        "  \n",
        "  # Z tranpose Y_n\n",
        "  ZtY_n=cvxopt.spmatrix.trans(Z)*Y_n\n",
        "\n",
        "  # X tranpose Y_n\n",
        "  XtY_n=cvxopt.matrix.trans(X)*Y_n\n",
        "\n",
        "  # Y_n tranpose X\n",
        "  YtX_n=cvxopt.matrix.trans(Y_n)*X\n",
        "\n",
        "  # Y_n transpose Z\n",
        "  YtZ_n=cvxopt.matrix.trans(Y_n)*Z\n",
        "\n",
        "  # Y_n tranpose Y_n\n",
        "  YtY_n=cvxopt.matrix.trans(Y_n)*Y_n\n",
        "  \n",
        "  # Obtain the voxels estimates independently\n",
        "  theta_Est=minimize(PLS, theta0, args=(ZtX, ZtY, XtX, ZtZ, XtY, YtX, YtZ, XtZ, YtY, n, P, I, tinds, rinds, cinds), method='L-BFGS-B', tol=1e-6).x\n",
        "  theta_Est_n=minimize(PLS, theta0, args=(ZtX, ZtY_n, XtX, ZtZ, XtY_n, YtX_n, YtZ_n, XtZ, YtY_n, n, P, I, tinds, rinds, cinds), method='L-BFGS-B', tol=1e-6).x\n",
        "  \n",
        "  # Get the beta value from seperate calculation\n",
        "  beta_Est_n = PLS_getBeta(theta_Est_n,ZtX, ZtY_n, XtX, ZtZ, XtY_n, YtX_n, YtZ_n, XtZ, YtY_n, n, P, tinds, rinds, cinds)\n",
        "  \n",
        "  #print(beta_Est_n)\n",
        "  \n",
        "  # Get average difference between estimated and truth\n",
        "  diff_original = np.linalg.norm(np.array(beta_Est_n-beta_True_n))**2 + diff_original\n",
        "  \n",
        "  #print(np.linalg.norm(np.array(beta_Est_n-beta_True_n))**2)\n",
        "  \n",
        "  # Obtain the voxels estimates by using the neighbouring approach\n",
        "  theta_Est= minimize(PLS, theta0, args=(ZtX, ZtY, XtX, ZtZ, XtY, YtX, YtZ, XtZ, YtY, n, P, I, tinds, rinds, cinds), method='L-BFGS-B', tol=1e-6).x\n",
        "  beta_Est = PLS_getBeta(theta_Est,ZtX, ZtY, XtX, ZtZ, XtY, YtX, YtZ, XtZ, YtY, n, P,tinds, rinds, cinds)\n",
        "  theta_Est_n = minimize(PLSneighbour, theta0, args=(beta_Est, ZtX, ZtY_n, XtX, ZtZ, XtY_n, YtX_n, YtZ_n, XtZ, YtY_n, n, P, I, tinds, rinds, cinds), method='L-BFGS-B', tol=1e-6).x\n",
        "\n",
        "  # Get the beta value from seperate calculation\n",
        "  beta_Est_n = PLS_getBeta(theta_Est_n,ZtX, ZtY_n, XtX, ZtZ, XtY_n, YtX_n, YtZ_n, XtZ, YtY_n, n, P, tinds, rinds, cinds)\n",
        "  \n",
        "  #print(beta_Est_n)\n",
        "  #print(np.linalg.norm(np.array(beta_Est_n-beta_True_n))**2)\n",
        "  \n",
        "  # Get average difference between estimated and truth\n",
        "  diff_neighbour = np.linalg.norm(np.array(beta_Est_n-beta_True_n))**2 + diff_neighbour\n",
        "\n",
        "  #print('')\n",
        "# Convert to averages\n",
        "diff_original = diff_original/n\n",
        "diff_neighbour = diff_neighbour/n\n",
        "\n",
        "# Print\n",
        "print('Average Original squared difference from truth:')\n",
        "print(diff_original)\n",
        "print('Average Idea 2 squared difference from truth:')\n",
        "print(diff_neighbour)"
      ],
      "execution_count": 0,
      "outputs": [
        {
          "output_type": "stream",
          "text": [
            "Average Original squared difference from truth:\n",
            "7.086544577528563\n",
            "Average Idea 2 squared difference from truth:\n",
            "7.086544580078364\n"
          ],
          "name": "stdout"
        }
      ]
    },
    {
      "cell_type": "markdown",
      "metadata": {
        "id": "QAdjGFGxR_3w",
        "colab_type": "text"
      },
      "source": [
        "#### Time efficiency\n",
        "\n",
        "What is important here is the time taken to do this for both voxels. In the below, the two voxels are estimated 100 times twice, once reusing the estmate from the first voxel in estimating the second, and once computing the voxels completely seperately.\n",
        "\n",
        "**Conclusion:** Some significant time improvement was observed when using `Powell` (around 0.07s quicker) but not for `L-BFGS-B`. A more extensive test suite is needed. Also get singular matrices occasionally causing errors."
      ]
    },
    {
      "cell_type": "code",
      "metadata": {
        "id": "M8FROJLxR__g",
        "colab_type": "code",
        "outputId": "b9be4da3-73aa-44d8-aa2a-5f3481440025",
        "colab": {
          "base_uri": "https://localhost:8080/",
          "height": 230
        }
      },
      "source": [
        "# Average time\n",
        "time_original = 0;\n",
        "time_idea2 = 0;\n",
        "\n",
        "# Number of iterations\n",
        "n = 100;\n",
        "failureno=0;\n",
        "\n",
        "for i in range(n):\n",
        "  \n",
        "  # New neigbouring voxel response\n",
        "  Y_n = X*beta_n(beta_True)+Z*b_n(b_True)+cvxopt.normal(1000,1)\n",
        "  \n",
        "  # Z tranpose Y_n\n",
        "  ZtY_n=cvxopt.spmatrix.trans(Z)*Y_n\n",
        "\n",
        "  # X tranpose Y_n\n",
        "  XtY_n=cvxopt.matrix.trans(X)*Y_n\n",
        "\n",
        "  # Y_n tranpose X\n",
        "  YtX_n=cvxopt.matrix.trans(Y_n)*X\n",
        "\n",
        "  # Y_n transpose Z\n",
        "  YtZ_n=cvxopt.matrix.trans(Y_n)*Z\n",
        "\n",
        "  # Y_n tranpose Y_n\n",
        "  YtY_n=cvxopt.matrix.trans(Y_n)*Y_n\n",
        "  \n",
        "  # Obtain the voxels estimates independently\n",
        "  t1 = time.time()\n",
        "  theta_Est=minimize(PLS, theta0, args=(ZtX, ZtY, XtX, ZtZ, XtY, YtX, YtZ, XtZ, YtY, n,P, I, tinds, rinds, cinds), method='L-BFGS-B', tol=1e-6).x\n",
        "  theta_Est_n=minimize(PLS, theta0, args=(ZtX, ZtY_n, XtX, ZtZ, XtY_n, YtX_n, YtZ_n, XtZ, YtY_n, n, P, I, tinds, rinds, cinds), method='L-BFGS-B', tol=1e-6).x\n",
        "  t2 = time.time()\n",
        "  time_original = time_original + t2 - t1\n",
        "  \n",
        "  # Obtain the voxels estimates by using the neighbouring approach\n",
        "  t1 = time.time()\n",
        "  theta_Est_n=minimize(PLS, theta0, args=(ZtX, ZtY_n, XtX, ZtZ, XtY_n, YtX_n, YtZ_n, XtZ, YtY_n, n, P, I, tinds, rinds, cinds), method='L-BFGS-B', tol=1e-6).x\n",
        "  beta_Est_n = PLS_getBeta(theta_Est_n,ZtX, ZtY_n, XtX, ZtZ, XtY_n, YtX_n, YtZ_n, XtZ, YtY_n, n, P, tinds, rinds, cinds)\n",
        "  try:\n",
        "    theta_Est=minimize(PLSneighbour, theta0, args=(beta_Est_n, ZtX, ZtY, XtX, ZtZ, XtY, YtX, YtZ, XtZ, YtY, n, P, I, tinds, rinds, cinds), method='L-BFGS-B', tol=1e-6).x\n",
        "    t2 = time.time()\n",
        "    time_idea2 = time_idea2 + t2 - t1\n",
        "  except:\n",
        "    print(\"Voxel that failed, number:\")\n",
        "    print(i)\n",
        "    failureno = failureno + 1\n",
        "\n",
        "# Convert to averages\n",
        "time_original = time_original/n\n",
        "time_idea2 = time_idea2/n\n",
        "\n",
        "# Print\n",
        "print('Average Original estimation time:')\n",
        "print(time_original)\n",
        "print('Average Idea 2 estimation time:')\n",
        "print(time_idea2)\n",
        "\n",
        "print('Number of Failures')\n",
        "print(failureno)"
      ],
      "execution_count": 0,
      "outputs": [
        {
          "output_type": "stream",
          "text": [
            "/usr/local/lib/python3.6/dist-packages/ipykernel_launcher.py:98: RuntimeWarning: invalid value encountered in log\n"
          ],
          "name": "stderr"
        },
        {
          "output_type": "stream",
          "text": [
            "Voxel that failed, number:\n",
            "3\n",
            "Voxel that failed, number:\n",
            "30\n",
            "Average Original estimation time:\n",
            "0.07740530729293824\n",
            "Average Idea 2 estimation time:\n",
            "0.0791367793083191\n",
            "Number of Failures\n",
            "2\n"
          ],
          "name": "stdout"
        }
      ]
    },
    {
      "cell_type": "markdown",
      "metadata": {
        "id": "tBr0APoAXKl3",
        "colab_type": "text"
      },
      "source": [
        "## Scaling up the computation (Random field)\n",
        "\n",
        "This section has several implemented ideas for scaling up the computation to compute several similar models at once. For simplicity it is assumed here that X and Z are the same across voxels."
      ]
    },
    {
      "cell_type": "markdown",
      "metadata": {
        "colab_type": "text",
        "id": "5XoW6q2NaJ20"
      },
      "source": [
        "### Toy dataset (for a random field)"
      ]
    },
    {
      "cell_type": "markdown",
      "metadata": {
        "id": "3LTG_EYiZpjM",
        "colab_type": "text"
      },
      "source": [
        "#### Matrix Dimensions\n",
        "\n",
        "Below are the matrix dimensions used for **one voxel** in this example. If the model has form:\n",
        "\n",
        "$$Y=X\\beta+Zb+\\epsilon$$ With $\\epsilon \\sim N(0,\\sigma^2I_n)$ and $b \\sim N(0,\\sigma^2D)$, then the dimensions of each matrix are as follows:\n",
        "\n",
        " - $Y$: $(n \\times 1)$\n",
        " - $X$: $(n \\times p)$\n",
        " - $\\beta$: $(p \\times 1)$\n",
        " - $Z$: $(n \\times q)$\n",
        " - $b$: $(q \\times 1)$\n",
        " - $\\epsilon$: $(n \\times 1)$\n",
        " - $D$: $(p\\times p)$"
      ]
    },
    {
      "cell_type": "code",
      "metadata": {
        "id": "7LAfqqiCXO4k",
        "colab_type": "code",
        "outputId": "91351616-ba5c-49eb-e308-ba798e86a3e5",
        "colab": {
          "base_uri": "https://localhost:8080/",
          "height": 263
        }
      },
      "source": [
        "# Number of factors, random integer between 1 and 3\n",
        "r = 2#np.random.randint(2,4)#np.random.randint(1,4)\n",
        "print(\"Number of grouping factors for random effects:\")\n",
        "print(r)\n",
        "\n",
        "# Number of levels, random number between 2 and 8\n",
        "nlevels = np.random.randint(2,8,size=(r))\n",
        "# Let the first number of levels be a little larger (typically like subjects)\n",
        "nlevels[0] = np.random.randint(2,35,size=1)\n",
        "nlevels = np.array([30,10])#np.sort(nlevels)[::-1]\n",
        "print(\"Number of levels for each factor:\")\n",
        "print(nlevels)\n",
        "\n",
        "# Number of parameters, random number between 1 and 5\n",
        "nparams = np.array([3,1])#np.random.randint(1,6,size=(r))\n",
        "print(\"Number of parameters for each factor:\")\n",
        "print(nparams)\n",
        "\n",
        "# Dimension of D\n",
        "print(\"Dimension of D, q:\")\n",
        "q = np.sum(nlevels*nparams)\n",
        "print(q)\n",
        "\n",
        "# Number of fixed effects, random number between 6 and 30\n",
        "p = 5#np.random.randint(6,31)\n",
        "print(\"Number of fixed effects:\")\n",
        "print(p)\n",
        "\n",
        "# Number of subjects, n\n",
        "n = 1000\n",
        "print(\"Number of subjects:\")\n",
        "print(n)\n",
        "\n",
        "# Voxel dimensions\n",
        "dimv = [20,20,20]\n",
        "nv = np.prod(dimv)\n",
        "print(\"Number of voxels:\")\n",
        "print(nv)\n"
      ],
      "execution_count": 0,
      "outputs": [
        {
          "output_type": "stream",
          "text": [
            "Number of grouping factors for random effects:\n",
            "2\n",
            "Number of levels for each factor:\n",
            "[30 10]\n",
            "Number of parameters for each factor:\n",
            "[3 1]\n",
            "Dimension of D, q:\n",
            "100\n",
            "Number of fixed effects:\n",
            "5\n",
            "Number of subjects:\n",
            "1000\n",
            "Number of voxels:\n",
            "8000\n"
          ],
          "name": "stdout"
        }
      ]
    },
    {
      "cell_type": "markdown",
      "metadata": {
        "id": "57CJIErlbDS5",
        "colab_type": "text"
      },
      "source": [
        "#### Fixed Effects matrix (X)\n",
        "\n",
        "For simplicity, in this example $X$ is the same for all voxels. "
      ]
    },
    {
      "cell_type": "code",
      "metadata": {
        "id": "5wnJHsOxdUne",
        "colab_type": "code",
        "outputId": "3b5d9bfb-827a-4ddb-97ae-4648d8c6c904",
        "colab": {
          "base_uri": "https://localhost:8080/",
          "height": 282
        }
      },
      "source": [
        "# Initialize empty x\n",
        "X = np.zeros((n,p))\n",
        "\n",
        "# First column is intercept\n",
        "X[:,0] = 1\n",
        "\n",
        "# Rest of the columns we will make random noise \n",
        "X[:,1:] = np.random.randn(n*(p-1)).reshape((n,(p-1)))\n",
        "\n",
        "# Image of the last 20 rows of X\n",
        "imshow(X[-20:-1,:])\n"
      ],
      "execution_count": 0,
      "outputs": [
        {
          "output_type": "execute_result",
          "data": {
            "text/plain": [
              "<matplotlib.image.AxesImage at 0x7fb7bd037828>"
            ]
          },
          "metadata": {
            "tags": []
          },
          "execution_count": 50
        },
        {
          "output_type": "display_data",
          "data": {
            "image/png": "[encoded data removed]",
            "text/plain": [
              "<Figure size 432x288 with 1 Axes>"
            ]
          },
          "metadata": {
            "tags": []
          }
        }
      ]
    },
    {
      "cell_type": "markdown",
      "metadata": {
        "id": "aaBzkwl0ekWr",
        "colab_type": "text"
      },
      "source": [
        "#### Random Effects matrix (Z)\n",
        "\n",
        "For simplicity, in this example $Z$ is the same for all voxels. "
      ]
    },
    {
      "cell_type": "code",
      "metadata": {
        "id": "eb1S4WdhepI9",
        "colab_type": "code",
        "outputId": "2150c24a-8f67-4a8e-a952-04955bce21e1",
        "colab": {
          "base_uri": "https://localhost:8080/",
          "height": 304
        }
      },
      "source": [
        "# We need to create a block of Z for each level of each factor\n",
        "for i in np.arange(r):\n",
        "  \n",
        "  Zdata_factor = np.random.randn(n,nparams[i])\n",
        "  \n",
        "  if i==0:\n",
        "    \n",
        "    #The first factor should be block diagonal, so the factor indices are grouped\n",
        "    factorVec = np.repeat(np.arange(nlevels[i]), repeats=np.floor(n/max(nlevels[i],1)))\n",
        "    \n",
        "    if len(factorVec) < n:\n",
        "      \n",
        "      # Quick fix incase rounding leaves empty columns\n",
        "      factorVecTmp = np.zeros(n)\n",
        "      factorVecTmp[0:len(factorVec)] = factorVec\n",
        "      factorVecTmp[len(factorVec):n] = nlevels[i]-1\n",
        "      factorVec = np.int64(factorVecTmp)\n",
        "      \n",
        "    \n",
        "    # Crop the factor vector - otherwise have a few too many\n",
        "    factorVec = factorVec[0:n]\n",
        "    \n",
        "    # Give the data an intercept\n",
        "    Zdata_factor[:,0]=1\n",
        "    \n",
        "  else:\n",
        "    \n",
        "    # The factor is randomly arranged across subjects\n",
        "    factorVec = np.random.randint(0,nlevels[i],size=n) \n",
        "  \n",
        "  # Build a matrix showing where the elements of Z should be\n",
        "  indicatorMatrix_factor = np.zeros((n,nlevels[i]))\n",
        "  indicatorMatrix_factor[np.arange(n),factorVec] = 1\n",
        "  \n",
        "  # Need to repeat for each parameter the factor has \n",
        "  indicatorMatrix_factor = np.repeat(indicatorMatrix_factor, nparams[i], axis=1)\n",
        "  \n",
        "  # Enter the Z values\n",
        "  indicatorMatrix_factor[indicatorMatrix_factor==1]=Zdata_factor.reshape(Zdata_factor.shape[0]*Zdata_factor.shape[1])\n",
        "  \n",
        "  # Make sparse\n",
        "  Zfactor = scipy.sparse.csr_matrix(indicatorMatrix_factor)\n",
        "\n",
        "  # Put all the factors together\n",
        "  if i == 0:\n",
        "    Z = Zfactor\n",
        "  else:\n",
        "    Z = scipy.sparse.hstack((Z, Zfactor))\n",
        "\n",
        "\n",
        "Z2 = sparse.COO.from_scipy_sparse(Z)\n",
        "\n",
        "# Create an image of Z\n",
        "imshow(Z.toarray(), \\\n",
        "       interpolation='nearest', vmin=-5, vmax=5, aspect='auto')\n",
        "\n",
        "print(nlevels)\n",
        "print(nparams)\n"
      ],
      "execution_count": 0,
      "outputs": [
        {
          "output_type": "stream",
          "text": [
            "[30 10]\n",
            "[3 1]\n"
          ],
          "name": "stdout"
        },
        {
          "output_type": "display_data",
          "data": {
            "image/png": "[encoded data removed]",
            "text/plain": [
              "<Figure size 432x288 with 1 Axes>"
            ]
          },
          "metadata": {
            "tags": []
          }
        }
      ]
    },
    {
      "cell_type": "markdown",
      "metadata": {
        "id": "wTqsJgFrYP85",
        "colab_type": "text"
      },
      "source": [
        "#### Smooth random beta\n",
        "Smooth random beta image."
      ]
    },
    {
      "cell_type": "code",
      "metadata": {
        "id": "SUeftuE-YQjP",
        "colab_type": "code",
        "outputId": "178b95f4-f236-47a6-8e21-8bdbb217283b",
        "colab": {
          "base_uri": "https://localhost:8080/",
          "height": 300
        }
      },
      "source": [
        "# Random 4D matrix (unsmoothed)\n",
        "beta_us = np.random.randn(nv*p).reshape(dimv[0],dimv[1],dimv[2],p)*20\n",
        "beta_us[10:15,10:15,10:15,3] = beta_us[10:15,10:15,10:15,3] + 100\n",
        "\n",
        "t1 = time.time()\n",
        "# Some random affine, not important for this simulation\n",
        "affine = np.diag([1, 1, 1, 1])\n",
        "beta_us_nii = nib.Nifti1Image(beta_us, affine)\n",
        "\n",
        "# Smoothed beta nifti\n",
        "beta_s_nii = nilearn.image.smooth_img(beta_us_nii, 5)\n",
        "\n",
        "# Final beta\n",
        "beta = beta_s_nii.get_fdata()\n",
        "\n",
        "t2 = time.time()\n",
        "print(t2-t1)\n",
        "\n",
        "# Show unsmoothed\n",
        "imshow(beta_us[10,:,:,3].reshape(dimv[0],dimv[1]), \\\n",
        "                    interpolation='nearest', aspect='auto')\n",
        "\n",
        "plt.colorbar()"
      ],
      "execution_count": 0,
      "outputs": [
        {
          "output_type": "stream",
          "text": [
            "0.004777193069458008\n"
          ],
          "name": "stdout"
        },
        {
          "output_type": "execute_result",
          "data": {
            "text/plain": [
              "<matplotlib.colorbar.Colorbar at 0x7fb7bcf9b978>"
            ]
          },
          "metadata": {
            "tags": []
          },
          "execution_count": 52
        },
        {
          "output_type": "display_data",
          "data": {
            "image/png": "[encoded data removed]",
            "text/plain": [
              "<Figure size 432x288 with 2 Axes>"
            ]
          },
          "metadata": {
            "tags": []
          }
        }
      ]
    },
    {
      "cell_type": "code",
      "metadata": {
        "id": "gOs4ge-_zgIr",
        "colab_type": "code",
        "outputId": "449dc31d-2361-4f51-9c19-ecb75fa9146b",
        "colab": {
          "base_uri": "https://localhost:8080/",
          "height": 282
        }
      },
      "source": [
        "# Show smoothed\n",
        "imshow(beta[10,:,:,3].reshape(dimv[0],dimv[1]), \\\n",
        "                    interpolation='nearest', aspect='auto')\n",
        "plt.colorbar()"
      ],
      "execution_count": 0,
      "outputs": [
        {
          "output_type": "execute_result",
          "data": {
            "text/plain": [
              "<matplotlib.colorbar.Colorbar at 0x7fb7bced00b8>"
            ]
          },
          "metadata": {
            "tags": []
          },
          "execution_count": 53
        },
        {
          "output_type": "display_data",
          "data": {
            "image/png": "[encoded data removed]",
            "text/plain": [
              "<Figure size 432x288 with 2 Axes>"
            ]
          },
          "metadata": {
            "tags": []
          }
        }
      ]
    },
    {
      "cell_type": "markdown",
      "metadata": {
        "id": "6vabjCMt0eMq",
        "colab_type": "text"
      },
      "source": [
        "#### Smooth random b\n",
        "Smooth random b image."
      ]
    },
    {
      "cell_type": "code",
      "metadata": {
        "id": "0bSmo7Af0ecp",
        "colab_type": "code",
        "outputId": "98d41f4f-b47b-4543-eddb-dedc3f88dc78",
        "colab": {
          "base_uri": "https://localhost:8080/",
          "height": 282
        }
      },
      "source": [
        "# Random 4D matrix (unsmoothed)\n",
        "b_us = np.random.randn(nv*q).reshape(dimv[0],dimv[1],dimv[2],q)*20\n",
        "\n",
        "# Some random affine, not important for this simulation\n",
        "affine = np.diag([1, 1, 1, 1])\n",
        "b_us_nii = nib.Nifti1Image(b_us, affine)\n",
        "\n",
        "# Smoothed beta nifti\n",
        "b_s_nii = nilearn.image.smooth_img(b_us_nii, 5)\n",
        "\n",
        "# Final beta\n",
        "b = b_s_nii.get_fdata()\n",
        "\n",
        "# Show unsmoothed\n",
        "imshow(b_us[3,:,:,1].reshape(dimv[0],dimv[1]), \\\n",
        "                    interpolation='nearest', aspect='auto')"
      ],
      "execution_count": 0,
      "outputs": [
        {
          "output_type": "execute_result",
          "data": {
            "text/plain": [
              "<matplotlib.image.AxesImage at 0x7fb7bce463c8>"
            ]
          },
          "metadata": {
            "tags": []
          },
          "execution_count": 54
        },
        {
          "output_type": "display_data",
          "data": {
            "image/png": "[encoded data removed]",
            "text/plain": [
              "<Figure size 432x288 with 1 Axes>"
            ]
          },
          "metadata": {
            "tags": []
          }
        }
      ]
    },
    {
      "cell_type": "code",
      "metadata": {
        "id": "dXEPETmY0w4z",
        "colab_type": "code",
        "outputId": "fe806f8b-6527-491f-d06f-1988ed97fe21",
        "colab": {
          "base_uri": "https://localhost:8080/",
          "height": 282
        }
      },
      "source": [
        "# Show smoothed\n",
        "imshow(b[3,:,:,1].reshape(dimv[0],dimv[1]), \\\n",
        "                    interpolation='nearest', aspect='auto')"
      ],
      "execution_count": 0,
      "outputs": [
        {
          "output_type": "execute_result",
          "data": {
            "text/plain": [
              "<matplotlib.image.AxesImage at 0x7fb7bce24e80>"
            ]
          },
          "metadata": {
            "tags": []
          },
          "execution_count": 55
        },
        {
          "output_type": "display_data",
          "data": {
            "image/png": "[encoded data removed]",
            "text/plain": [
              "<Figure size 432x288 with 1 Axes>"
            ]
          },
          "metadata": {
            "tags": []
          }
        }
      ]
    },
    {
      "cell_type": "markdown",
      "metadata": {
        "id": "qzdoPEEm6eUC",
        "colab_type": "text"
      },
      "source": [
        " #### Y vector (New response)\n",
        " \n",
        "Generate response for the whole field."
      ]
    },
    {
      "cell_type": "code",
      "metadata": {
        "id": "XQokPoYh6eoY",
        "colab_type": "code",
        "outputId": "06984d7c-ee4c-4d04-85f1-0ce8c2dd506f",
        "colab": {
          "base_uri": "https://localhost:8080/",
          "height": 87
        }
      },
      "source": [
        "\n",
        "# Reshape X\n",
        "X = X.reshape(1, X.shape[0], X.shape[1])\n",
        "\n",
        "# Reshape beta\n",
        "beta = beta.reshape(beta.shape[0]*beta.shape[1]*beta.shape[2],beta.shape[3],1)\n",
        "\n",
        "# Reshape Z (note: This step is slow because of the sparse to dense conversion;\n",
        "# it could probably be made quicker but this is only for one simulation at current)\n",
        "Ztmp = Z.toarray().reshape(1, Z.shape[0], Z.shape[1])\n",
        "\n",
        "# Reshape b\n",
        "b = b.reshape(b.shape[0]*b.shape[1]*b.shape[2],b.shape[3],1)\n",
        "\n",
        "print(X.shape)\n",
        "print(Ztmp.shape)\n",
        "print(beta.shape)\n",
        "print(b.shape)\n",
        "\n",
        "# Generate Y\n",
        "Y = np.matmul(X,beta)+np.matmul(Ztmp,b) + np.random.randn(n,1)"
      ],
      "execution_count": 0,
      "outputs": [
        {
          "output_type": "stream",
          "text": [
            "(1, 1000, 5)\n",
            "(1, 1000, 100)\n",
            "(8000, 5, 1)\n",
            "(8000, 100, 1)\n"
          ],
          "name": "stdout"
        }
      ]
    },
    {
      "cell_type": "markdown",
      "metadata": {
        "id": "4Laa68OGOvyw",
        "colab_type": "text"
      },
      "source": [
        "Check Y looks reasonable."
      ]
    },
    {
      "cell_type": "code",
      "metadata": {
        "id": "1lTEeBqSOz1B",
        "colab_type": "code",
        "outputId": "7034d9c0-40fd-438a-a796-928f7a20a064",
        "colab": {
          "base_uri": "https://localhost:8080/",
          "height": 300
        }
      },
      "source": [
        "print(Y.shape)\n",
        "\n",
        "Y_imageformat = Y.reshape((dimv[0],dimv[1],dimv[2],n))\n",
        "\n",
        "imshow(Y_imageformat[10,:,:,1].reshape(dimv[0],dimv[1]), \\\n",
        "                    interpolation='nearest', aspect='auto')"
      ],
      "execution_count": 0,
      "outputs": [
        {
          "output_type": "stream",
          "text": [
            "(8000, 1000, 1)\n"
          ],
          "name": "stdout"
        },
        {
          "output_type": "execute_result",
          "data": {
            "text/plain": [
              "<matplotlib.image.AxesImage at 0x7fb7bcd90b38>"
            ]
          },
          "metadata": {
            "tags": []
          },
          "execution_count": 57
        },
        {
          "output_type": "display_data",
          "data": {
            "image/png": "[encoded data removed]",
            "text/plain": [
              "<Figure size 432x288 with 1 Axes>"
            ]
          },
          "metadata": {
            "tags": []
          }
        }
      ]
    },
    {
      "cell_type": "markdown",
      "metadata": {
        "id": "x-MhOA6XP-op",
        "colab_type": "text"
      },
      "source": [
        "#### Transpose products\n",
        "\n",
        "Calculate X'Y, X'Z, X'Y, Y'Y, Y'Z, Y'X Z'Z, Z'X and Z'Y."
      ]
    },
    {
      "cell_type": "code",
      "metadata": {
        "id": "YCFYLn3sQVU2",
        "colab_type": "code",
        "outputId": "f3d627e7-3e17-45f0-9cca-6050813dbd5e",
        "colab": {
          "base_uri": "https://localhost:8080/",
          "height": 175
        }
      },
      "source": [
        "# X'Z\\Z'X\n",
        "XtZ = np.matmul(X.transpose(0,2,1),Ztmp)\n",
        "ZtX = XtZ.transpose(0,2,1)\n",
        "\n",
        "# Z'Y\\Y'Z\n",
        "YtZ = np.matmul(Y.transpose(0,2,1),Ztmp)\n",
        "ZtY = YtZ.transpose(0,2,1)\n",
        "\n",
        "# Y'X/X'Y\n",
        "YtX = np.matmul(Y.transpose(0,2,1),X)\n",
        "XtY = YtX.transpose(0,2,1)\n",
        "\n",
        "# YtY\n",
        "YtY = np.matmul(Y.transpose(0,2,1),Y)\n",
        "\n",
        "# ZtZ\n",
        "ZtZ = np.matmul(Ztmp.transpose(0,2,1),Ztmp)\n",
        "\n",
        "# X'X\n",
        "XtX = np.matmul(X.transpose(0,2,1),X)\n",
        "\n",
        "\n",
        "print(XtZ.shape)\n",
        "print(ZtX.shape)\n",
        "\n",
        "print(XtY.shape)\n",
        "print(YtX.shape)\n",
        "\n",
        "print(YtZ.shape)\n",
        "print(ZtY.shape)\n",
        "\n",
        "print(XtX.shape)\n",
        "\n",
        "print(YtY.shape)\n",
        "\n",
        "print(ZtZ.shape)"
      ],
      "execution_count": 0,
      "outputs": [
        {
          "output_type": "stream",
          "text": [
            "(1, 5, 100)\n",
            "(1, 100, 5)\n",
            "(8000, 5, 1)\n",
            "(8000, 1, 5)\n",
            "(8000, 1, 100)\n",
            "(8000, 100, 1)\n",
            "(1, 5, 5)\n",
            "(8000, 1, 1)\n",
            "(1, 100, 100)\n"
          ],
          "name": "stdout"
        }
      ]
    },
    {
      "cell_type": "markdown",
      "metadata": {
        "id": "qYxYXW3AUu3H",
        "colab_type": "text"
      },
      "source": [
        "### Demonstration: Time taken just looping\n",
        "\n",
        "This is a demonstration showing how long PLS takes when doing each voxel seperately."
      ]
    },
    {
      "cell_type": "code",
      "metadata": {
        "id": "pgah7SUnUt5k",
        "colab_type": "code",
        "outputId": "26377872-1af4-4068-92c5-7559839a682f",
        "colab": {
          "base_uri": "https://localhost:8080/",
          "height": 281
        }
      },
      "source": [
        "# Initialize empty estimates\n",
        "beta_est = np.zeros(beta.shape)\n",
        "\n",
        "# Initialize temporary X'X, X'Z, Z'X and Z'Z\n",
        "XtZtmp = matrix(XtZ[0,:,:])\n",
        "ZtXtmp = matrix(ZtX[0,:,:])\n",
        "ZtZtmp = cvxopt.sparse(matrix(ZtZ[0,:,:]))\n",
        "XtXtmp = matrix(XtX[0,:,:])\n",
        "\n",
        "# Initial theta value. Bates (2005) suggests using [vech(I_q1),...,vech(I_qr)] where I is the identity matrix\n",
        "theta0 = np.array([])\n",
        "for i in np.arange(r):\n",
        "  theta0 = np.hstack((theta0, mat2vech(np.eye(nparams[i])).reshape(np.int64(nparams[i]*(nparams[i]+1)/2))))\n",
        "  \n",
        "# Obtain a random Lambda matrix with the correct sparsity for the permutation vector\n",
        "tinds,rinds,cinds=get_mapping(nlevels, nparams)\n",
        "Lam=mapping(np.random.randn(theta0.shape[0]),tinds,rinds,cinds)\n",
        "\n",
        "# Obtain Lambda'Z'ZLambda\n",
        "LamtZtZLam = spmatrix.trans(Lam)*cvxopt.sparse(matrix(ZtZtmp))*Lam\n",
        "\n",
        "\n",
        "# Identity (Actually quicker to calculate outside of estimation)\n",
        "I = spmatrix(1.0, range(Lam.size[0]), range(Lam.size[0]))\n",
        "\n",
        "# Obtaining permutation for PLS\n",
        "P=cvxopt.amd.order(LamtZtZLam)\n",
        "\n",
        "demo = False\n",
        "\n",
        "if demo:\n",
        "  \n",
        "  nv_tmp = beta.shape[0]\n",
        "  \n",
        "else:\n",
        "  \n",
        "  nv_tmp = 5\n",
        "\n",
        "t1 = time.time()\n",
        "for i in np.arange(nv_tmp):\n",
        "  \n",
        "  print(i)\n",
        "  \n",
        "  XtYtmp = matrix(XtY[i,:,:]) \n",
        "  ZtYtmp = matrix(ZtY[i,:,:]) \n",
        "  YtYtmp = matrix(YtY[i,:,:]) \n",
        "  YtZtmp = matrix(YtZ[i,:,:])\n",
        "  YtXtmp = matrix(YtX[i,:,:])\n",
        "  \n",
        "  theta_est = minimize(PLS, theta0, args=(ZtXtmp, ZtYtmp, XtXtmp, ZtZtmp, XtYtmp, YtXtmp, YtZtmp, XtZtmp, YtYtmp, n, P, I, tinds, rinds, cinds), method='L-BFGS-B', tol=1e-6)\n",
        "  nit = theta_est.nit\n",
        "  theta_est = theta_est.x\n",
        "  print(nit)\n",
        "  \n",
        "  # Get current beta\n",
        "  beta_current = PLS_getBeta(theta_est, ZtXtmp, ZtYtmp, XtXtmp, ZtZtmp, XtYtmp, YtXtmp, YtZtmp, XtZtmp, YtYtmp, n, P,tinds, rinds, cinds)\n",
        "  \n",
        "  beta_est[i,:,:] = beta_current[:]\n",
        "  \n",
        "t2 = time.time()\n",
        "print(\"Time taken in seconds for this example:\")\n",
        "print(t2-t1)\n",
        "print(\"Estimated time taken for this example on a nifti of size (100x100x100), in hours:\")\n",
        "print(100*100*100*(t2-t1)/(nv_tmp*60*60))\n",
        "\n",
        "print(\"True beta (3)\")\n",
        "\n",
        "if demo:\n",
        "  beta_map=beta.reshape(dimv[0],dimv[1],dimv[2],beta.shape[1])\n",
        "  beta_est_map=beta_est.reshape(dimv[0],dimv[1],dimv[2],beta.shape[1])\n",
        "\n",
        "\n",
        "  # Show true beta, 3rd x-slice, 3rd parameter\n",
        "  imshow(beta_map[3,:,:,3].reshape(dimv[0],dimv[1]), \\\n",
        "                    interpolation='nearest', aspect='auto')\n"
      ],
      "execution_count": 0,
      "outputs": [
        {
          "output_type": "stream",
          "text": [
            "0\n",
            "21\n",
            "1\n",
            "20\n",
            "2\n",
            "18\n",
            "3\n",
            "28\n",
            "4\n",
            "21\n",
            "Time taken in seconds for this example:\n",
            "0.5967667102813721\n",
            "Estimated time taken for this example on a nifti of size (100x100x100), in hours:\n",
            "33.15370612674289\n",
            "True beta (3)\n"
          ],
          "name": "stdout"
        }
      ]
    },
    {
      "cell_type": "code",
      "metadata": {
        "id": "JQyp_7qj56-b",
        "colab_type": "code",
        "colab": {}
      },
      "source": [
        "if demo:\n",
        "  print(\"Estimated beta (3)\")\n",
        "\n",
        "  # Show estimated beta, 3rd x-slice, 3rd parameter\n",
        "  imshow(beta_est_map[3,:,:,3].reshape(10,10), \\\n",
        "                    interpolation='nearest', aspect='auto')\n",
        "  plt.colorbar()\n"
      ],
      "execution_count": 0,
      "outputs": []
    },
    {
      "cell_type": "code",
      "metadata": {
        "id": "lzs1yhAt6WTs",
        "colab_type": "code",
        "colab": {}
      },
      "source": [
        "if demo:\n",
        "  # Sanity check, lets look at the differences\n",
        "  imshow((beta_est_map[3,:,:,3]-beta_map[3,:,:,3]).reshape(10,10), \\\n",
        "                    interpolation='nearest', aspect='auto')\n",
        "  plt.colorbar()"
      ],
      "execution_count": 0,
      "outputs": []
    },
    {
      "cell_type": "markdown",
      "metadata": {
        "id": "8jr5TiVBqzbD",
        "colab_type": "text"
      },
      "source": [
        "Now lets try the same but with Dask delayed.\n"
      ]
    },
    {
      "cell_type": "code",
      "metadata": {
        "id": "bBHSWUbNqwvf",
        "colab_type": "code",
        "colab": {}
      },
      "source": [
        "import dask\n",
        "\n",
        "@dask.delayed\n",
        "def minPLS(theta0, ZtXtmp, ZtYtmp, XtXtmp, ZtZtmp, XtYtmp, YtXtmp, YtZtmp, XtZtmp, YtYtmp, n, P, I, tinds, rinds, cinds):\n",
        "  \n",
        "  theta_est = minimize(PLS, theta0, args=(ZtXtmp, ZtYtmp, XtXtmp, ZtZtmp, XtYtmp, YtXtmp, YtZtmp, XtZtmp, YtYtmp, n, P, I, tinds, rinds, cinds), method='L-BFGS-B', tol=1e-6)\n",
        "  nit = theta_est.nit\n",
        "  print(nit)\n",
        "  theta_est = theta_est.x\n",
        "  \n",
        "  return(theta_est)\n",
        "\n",
        "@dask.delayed\n",
        "def getBeta(theta_est, ZtXtmp, ZtYtmp, XtXtmp, ZtZtmp, XtYtmp, YtXtmp, YtZtmp, XtZtmp, YtYtmp, n, P,tinds, rinds, cinds, beta_est, i):\n",
        "\n",
        "  beta_est = copy(beta_est)\n",
        "  beta_current = PLS_getBeta(theta_est, ZtXtmp, ZtYtmp, XtXtmp, ZtZtmp, XtYtmp, YtXtmp, YtZtmp, XtZtmp, YtYtmp, n, P,tinds, rinds, cinds)\n",
        "  beta_est[i,:,:] = beta_current[:]\n",
        "  \n",
        "  return(beta_est)\n",
        "  \n",
        "# Initialize empty estimates\n",
        "beta_est = np.zeros(beta.shape)\n",
        "t1 = time.time()\n",
        "for i in np.arange(beta.shape[0]):\n",
        "  \n",
        "  theta_est = minPLS(theta0, ZtXtmp, matrix(ZtY[i,:,:]), XtXtmp, ZtZtmp, matrix(XtY[i,:,:]), matrix(YtX[i,:,:]), matrix(YtZ[i,:,:]), XtZtmp, matrix(YtY[i,:,:]), n, P, I, tinds, rinds, cinds)\n",
        "  \n",
        "  # Get current beta\n",
        "  beta_est = getBeta(theta_est, ZtXtmp, matrix(ZtY[i,:,:]), XtXtmp, ZtZtmp, matrix(XtY[i,:,:]), matrix(YtX[i,:,:]), matrix(YtZ[i,:,:]), XtZtmp, matrix(YtY[i,:,:]), n, P,tinds, rinds, cinds, beta_est, i)\n",
        "  \n",
        "beta_est.compute()\n",
        "\n",
        "t2 = time.time()\n",
        "print(\"Time taken in seconds for this example:\")\n",
        "print(t2-t1)\n",
        "print(\"Estimated time taken for this example on a nifti of size (100x100x100), in hours:\")\n",
        "print(100*100*100*(t2-t1)/(nv*60*60))\n",
        "\n",
        "print(\"True beta (3)\")\n",
        "beta_map=beta.reshape(dimv[0],dimv[1],dimv[2],beta.shape[1])\n",
        "beta_est_map=beta_est.reshape(dimv[0],dimv[1],dimv[2],beta.shape[1])\n",
        "\n",
        "\n",
        "# Show true beta, 3rd x-slice, 3rd parameter\n",
        "imshow(beta_map[3,:,:,3].reshape(dimv[0],dimv[1]), \\\n",
        "                    interpolation='nearest', aspect='auto')\n"
      ],
      "execution_count": 0,
      "outputs": []
    },
    {
      "cell_type": "markdown",
      "metadata": {
        "id": "aDkUiAca6p5G",
        "colab_type": "text"
      },
      "source": [
        "Now, let's try the neighbour method, see how the results change."
      ]
    },
    {
      "cell_type": "code",
      "metadata": {
        "id": "0ZFyOOob6qtH",
        "colab_type": "code",
        "colab": {}
      },
      "source": [
        "t1 = time.time()\n",
        "for i in np.arange(beta.shape[0]):\n",
        "  \n",
        "  XtYtmp = matrix(XtY[i,:,:]) \n",
        "  ZtYtmp = matrix(ZtY[i,:,:]) \n",
        "  YtYtmp = matrix(YtY[i,:,:]) \n",
        "  YtZtmp = matrix(YtZ[i,:,:])\n",
        "  YtXtmp = matrix(YtX[i,:,:])\n",
        "  \n",
        "  if i==0:\n",
        "    theta_est = minimize(PLS, theta0, args=(ZtXtmp, ZtYtmp, XtXtmp, ZtZtmp, XtYtmp, YtXtmp, YtZtmp, XtZtmp, YtYtmp, n, P, I, tinds, rinds, cinds), method='L-BFGS-B', tol=1e-6).x\n",
        "  else:\n",
        "    theta_est = minimize(PLSneighbour, theta0, args=(beta_current, ZtXtmp, ZtYtmp, XtXtmp, ZtZtmp, XtYtmp, YtXtmp, YtZtmp, XtZtmp, YtYtmp, n, P, I, tinds, rinds, cinds), method='L-BFGS-B', tol=1e-6).x\n",
        "\n",
        "  # Get current beta\n",
        "  beta_current = PLS_getBeta(theta_est, ZtXtmp, ZtYtmp, XtXtmp, ZtZtmp, XtYtmp, YtXtmp, YtZtmp, XtZtmp, YtYtmp, n, P,tinds, rinds, cinds)\n",
        "  beta_est[i,:,:] = beta_current[:]\n",
        "  \n",
        "t2 = time.time()\n",
        "print(\"Time taken in seconds for this example:\")\n",
        "print(t2-t1)\n",
        "print(\"Estimated time taken for this example on a nifti of size (100x100x100), in hours:\")\n",
        "print(1000*(t2-t1)/(60*60))\n",
        "\n",
        "# Lets look at the differences\n",
        "beta_map=beta.reshape(10,10,10,beta.shape[1])\n",
        "beta_est_map=beta_est.reshape(10,10,10,beta.shape[1])\n",
        "imshow((beta_est_map[3,:,:,3]-beta_map[3,:,:,3]).reshape(10,10), \\\n",
        "                    interpolation='nearest', aspect='auto')\n",
        "plt.colorbar()"
      ],
      "execution_count": 0,
      "outputs": []
    },
    {
      "cell_type": "markdown",
      "metadata": {
        "id": "EfeS68Db9J1v",
        "colab_type": "text"
      },
      "source": [
        "Lets try checking the re-used starting point method.\n",
        "\n",
        "**Conclusion:** The added penalty had neglible effect."
      ]
    },
    {
      "cell_type": "code",
      "metadata": {
        "id": "h8nM3SJC9KAM",
        "colab_type": "code",
        "colab": {}
      },
      "source": [
        "t1 = time.time()\n",
        "for i in np.arange(beta.shape[0]):\n",
        "  XtYtmp = matrix(XtY[i,:,:]) \n",
        "  ZtYtmp = matrix(ZtY[i,:,:]) \n",
        "  YtYtmp = matrix(YtY[i,:,:]) \n",
        "  YtZtmp = matrix(YtZ[i,:,:])\n",
        "  YtXtmp = matrix(YtX[i,:,:])\n",
        "  \n",
        "  if i==0:\n",
        "    theta_est = minimize(PLS, theta0, args=(ZtXtmp, ZtYtmp, XtXtmp, ZtZtmp, XtYtmp, YtXtmp, YtZtmp, XtZtmp, YtYtmp, n, P, I, tinds, rinds, cinds), method='L-BFGS-B', tol=1e-6).x\n",
        "  else:\n",
        "    theta_est = minimize(PLS, theta_est, args=(ZtXtmp, ZtYtmp, XtXtmp, ZtZtmp, XtYtmp, YtXtmp, YtZtmp, XtZtmp, YtYtmp, n, P, I, tinds, rinds, cinds), method='L-BFGS-B', tol=1e-6).x\n",
        "    \n",
        "  # Get current beta\n",
        "  beta_current = PLS_getBeta(theta_est, ZtXtmp, ZtYtmp, XtXtmp, ZtZtmp, XtYtmp, YtXtmp, YtZtmp, XtZtmp, YtYtmp, n, P,tinds, rinds, cinds)\n",
        "  beta_est[i,:,:] = beta_current[:]\n",
        "  \n",
        "t2 = time.time()\n",
        "print(\"Time taken in seconds for this example:\")\n",
        "print(t2-t1)\n",
        "print(\"Estimated time taken for this example on a nifti of size (100x100x100), in hours:\")\n",
        "print(1000*(t2-t1)/(60*60))\n",
        "\n",
        "# Lets look at the differences\n",
        "beta_map=beta.reshape(10,10,10,beta.shape[1])\n",
        "beta_est_map=beta_est.reshape(10,10,10,beta.shape[1])\n",
        "imshow((beta_est_map[3,:,:,3]-beta_map[3,:,:,3]).reshape(10,10), \\\n",
        "                    interpolation='nearest', aspect='auto')\n",
        "plt.colorbar()"
      ],
      "execution_count": 0,
      "outputs": []
    },
    {
      "cell_type": "markdown",
      "metadata": {
        "id": "x78FGBZoIYEI",
        "colab_type": "text"
      },
      "source": [
        "\n",
        "\n",
        "**Conclusion:** Often marked improvement in terms of time efficiency!"
      ]
    },
    {
      "cell_type": "markdown",
      "metadata": {
        "id": "KowcFHBSSAIa",
        "colab_type": "text"
      },
      "source": [
        "### Idea 3: Broadcast everything we can\n",
        "\n",
        "The title for this idea speaks for itself. The only operations that cannot be broadcast are those that must be done in `cvxopt`, the only for which it is absolutely must use `cvxopt` is the sparse cholesky decomposition."
      ]
    },
    {
      "cell_type": "code",
      "metadata": {
        "id": "XkCJOA2DkdNn",
        "colab_type": "code",
        "colab": {}
      },
      "source": [
        "# Try dask formatting first\n",
        "import dask.array as da\n",
        "\n",
        "XtX_da = da.from_array(XtX, chunks=(1, 4000, 4000))\n",
        "XtY_da = da.from_array(XtY, chunks=(100, 400, 400))\n",
        "XtZ_da = da.from_array(XtZ, chunks=(1, 4000, 4000))\n",
        "YtX_da = da.from_array(YtX, chunks=(100, 4000, 4000))\n",
        "YtY_da = da.from_array(YtY, chunks=(100, 1, 1))\n",
        "YtZ_da = da.from_array(YtZ, chunks=(100, 400, 400))\n",
        "ZtX_da = da.from_array(ZtX, chunks=(1, 4000, 4000))\n",
        "ZtY_da = da.from_array(ZtY, chunks=(1, 4000, 4000))\n",
        "ZtZ_da = da.from_array(ZtZ, chunks=(1, 4000, 4000)).map_blocks(sparse.COO).rechunk('auto')\n",
        "\n",
        "nv = np.prod(dimv) # Number of voxels"
      ],
      "execution_count": 0,
      "outputs": []
    },
    {
      "cell_type": "markdown",
      "metadata": {
        "id": "UsNtMTsfZEzm",
        "colab_type": "text"
      },
      "source": [
        "#### Helper functions for idea 3\n",
        "\n",
        "Idea 3 needs broadcasted equivalents of the previous functions; these are given below:"
      ]
    },
    {
      "cell_type": "markdown",
      "metadata": {
        "id": "IJFifADzZNvL",
        "colab_type": "text"
      },
      "source": [
        "#### Get the 3D mapping\n",
        "\n",
        "This function returns a 3D mapping equivalent to the previous mapping from a vector of parameters, theta, to indices which maps the parameters the to lower triangular block diagonal matrix, lambda; but for every voxel.\n",
        "\n",
        "---\n",
        "The following inputs are required for this function:\n",
        "\n",
        "---\n",
        "\n",
        " - **nlevels**: a vector of the number of levels for each grouping factor. e.g. nlevels=[10,2] means there are 10 levels for factor 1 and 2 levels for factor 2.\n",
        " - **nparams**: a vector of the number of variables for each grouping factor. e.g. nparams=[3,4] means there are 3 variables for factor 1 and 4 variables for factor 2.\n",
        " - **nv**: The number of voxels the mapping is required for.\n",
        "\n",
        "All arrays must be np arrays.\n",
        "\n",
        "Note: It is assumed that all voxels have the same mapping here, i.e. they all have the same number of parameters and levels. This could be removed if needed but I suggest removing this assumption would have little practical use."
      ]
    },
    {
      "cell_type": "code",
      "metadata": {
        "id": "2w_peMYTZE6J",
        "colab_type": "code",
        "colab": {}
      },
      "source": [
        "def get_3D_mapping(nlevels, nparams, nv, P=None):\n",
        "\n",
        "    # Work out the 2D mapping for one voxel\n",
        "    theta_repeated_inds, row_indices, col_indices = get_mapping(nlevels, nparams)\n",
        "    \n",
        "    print('1')\n",
        "    \n",
        "    # Repeat the row and column indices for each voxel\n",
        "    row_indices_3D = np.tile(row_indices, nv)\n",
        "    col_indices_3D = np.tile(col_indices, nv)\n",
        "    \n",
        "    print('2')\n",
        "    \n",
        "    if not (P is None):\n",
        "      # Work out the inverse permutation\n",
        "      P = np.array(P[:]).reshape(P.size[0])\n",
        "      invP = np.arange(len(P))[np.argsort(P)]\n",
        "      \n",
        "      # Permute the columns using the inverse permutation\n",
        "      print('invP')\n",
        "      print(type(invP))\n",
        "      print(invP)\n",
        "      \n",
        "      col_indices_P = invP[col_indices.astype(np.int64)]\n",
        "      \n",
        "      # Tile across voxels\n",
        "      col_indices_P_3D = np.tile(col_indices_P, nv)\n",
        "    else:\n",
        "      col_indices_P_3D = col_indices_3D\n",
        "    \n",
        "    print('3')\n",
        "    \n",
        "    # Make an array for the coordinate representing which voxel we are looking \n",
        "    # at.\n",
        "    vox_indices_3D = np.repeat(np.arange(nv), len(col_indices))\n",
        "    \n",
        "    print('4')\n",
        "    \n",
        "    # Make 3D theta indices\n",
        "    theta_indices_3D = np.tile(theta_repeated_inds, nv)#+vox_indices_3D*len(col_indices)#Not correct \n",
        "    \n",
        "    print('5')\n",
        "    \n",
        "    # We need unique theta elements for each voxel so we change the 3D theta indices \n",
        "    theta_indices_3D = theta_indices_3D + vox_indices_3D*(np.max(theta_repeated_inds)+1)\n",
        "    \n",
        "    print('6')\n",
        "    \n",
        "    # Return \n",
        "    return(theta_indices_3D.astype(np.int64), row_indices_3D.astype(np.int16), col_indices_3D.astype(np.int16), col_indices_P_3D.astype(np.int16), vox_indices_3D.astype(np.int16))\n",
        "\n",
        "print(nparams)\n",
        "print(nlevels)\n",
        "theta_indices_3D, row_indices_3D, col_indices_3D, col_indices_P_3D, vox_indices_3D = get_3D_mapping(nlevels, nparams, nv)\n",
        "\n",
        "print(len(P))\n",
        "x = np.random.randn(len(P),len(P))\n",
        "\n",
        "import sys\n",
        "print(x.shape)\n",
        "print(x[:,P].reshape(x.shape[0], x.shape[1]).shape)\n",
        "np.set_printoptions(threshold=sys.maxsize)\n",
        "\n",
        "print(x)\n",
        "print(x[:,P].reshape(x.shape[0], x.shape[1]))\n",
        "\n",
        "print(P)\n"
      ],
      "execution_count": 0,
      "outputs": []
    },
    {
      "cell_type": "markdown",
      "metadata": {
        "id": "oKqSBrIPz32K",
        "colab_type": "text"
      },
      "source": [
        "#### Permute Lambda\n",
        "\n",
        "The below function takes in Lambda and an `approximate minimum degree` permutation vector and applies the permutation to Lambda. (This function is mainly just applied to make it clearer where we are applying the permutation).\n",
        "\n",
        "---\n",
        "The following inputs are required for this function:\n",
        "\n",
        "---\n",
        " - Lambda: The \n",
        " - nparams: The number of parameters vector."
      ]
    },
    {
      "cell_type": "code",
      "metadata": {
        "id": "Is9Rmt0fz4BK",
        "colab_type": "code",
        "colab": {}
      },
      "source": [
        "def permuteLambda(Lambda, P):\n",
        "  \n",
        "  return(Lambda[:,P])"
      ],
      "execution_count": 0,
      "outputs": []
    },
    {
      "cell_type": "markdown",
      "metadata": {
        "id": "NZhUF3lKvWXw",
        "colab_type": "text"
      },
      "source": [
        "### Apply 3D mapping function\n",
        "\n",
        "The below function applies a mapping to a vector of parameters for a list of voxels.\n",
        "\n",
        "---\n",
        "The following inputs are required for this function:\n",
        "\n",
        "---\n",
        "\n",
        " - **theta**: the vector of theta parameters for all voxels (i.e. if one voxel has 6 parameters and there are 10 voxels, then theta is 60 by 1 and laid out as [$p_1$,$p_2$,...,$p_{10}$] where $p_n$ is the parameter vector for voxel n.\n",
        " - **v_inds**: A vector specifying which voxel each entry in the theta vector belongs to. E.g. v_inds[i]=j means the $i^{th}$ parameter entry belongs to voxel $j$.\n",
        " - **t_inds**: A vector specifying how many times each theta parameter should be repeated. For example, if theta=[0.1,0.8,0.3] and theta_inds=[0,0,0,1,2,2], then the values to be mapped into the sparse matrix would be [0.1,0.1,0.1,0.8,0.3,0.3].\n",
        " - **r_inds**: The row indices of the elements mapped into the sparse matrix.\n",
        " - **c_inds**: The column indices of the elements mapped into the sparse matrix."
      ]
    },
    {
      "cell_type": "code",
      "metadata": {
        "id": "xcdMAE1syUfa",
        "colab_type": "code",
        "colab": {}
      },
      "source": [
        "def mapping_3D(theta, v_inds, t_inds, r_inds, c_inds):\n",
        "  \n",
        "  # Create the coordinate matrix\n",
        "  coords = np.array([v_inds, r_inds, c_inds])\n",
        "\n",
        "  # Create Lambda\n",
        "  lam = sparse.COO(coords, theta[t_inds.astype(np.int64)].tolist(), shape=(np.max(v_inds)+1,np.max(r_inds)+1,np.max(c_inds)+1))\n",
        "\n",
        "  return(lam)\n",
        "\n",
        "# Random theta to test with\n",
        "print(len(vox_indices_3D))\n",
        "print(len(theta_indices_3D))\n",
        "print(len(row_indices_3D))\n",
        "print(len(col_indices_3D))\n",
        "print(np.max(theta_indices_3D))\n",
        "print(nv)\n",
        "print((np.sum((nparams*(nparams+1)/2)))*nv)\n",
        "print(np.int16((np.sum((nparams*(nparams+1)/2)))*nv))\n",
        "theta = np.random.randn(np.int64((np.sum((nparams*(nparams+1)/2)))*nv))\n",
        "\n",
        "print(theta.shape)\n",
        "\n",
        "# Get lambda\n",
        "lam = mapping_3D(theta, vox_indices_3D, theta_indices_3D, row_indices_3D, col_indices_3D)"
      ],
      "execution_count": 0,
      "outputs": []
    },
    {
      "cell_type": "markdown",
      "metadata": {
        "id": "8Kg_SG7m8vsI",
        "colab_type": "text"
      },
      "source": [
        "#### Initial Theta function\n",
        "\n",
        "The below function calculates the initial theta vector for the whole brain.\n",
        "\n",
        "---\n",
        "The following inputs are required for this function:\n",
        "\n",
        "---\n",
        " - nv: The number of voxels.\n",
        " - nparams: The number of parameters vector."
      ]
    },
    {
      "cell_type": "code",
      "metadata": {
        "id": "tTBeQKxE8v2Q",
        "colab_type": "code",
        "colab": {}
      },
      "source": [
        "def init_theta(nv, nparams):\n",
        "  \n",
        "  # Get the initial parameter values for a single voxel\n",
        "  # These are given by the lower triangle of an identity\n",
        "  # for each factor of size #params by #params\n",
        "  init_theta_tmp = np.array([])\n",
        "  for nump in nparams:\n",
        "    \n",
        "    I = np.eye(nump)\n",
        "    lower = I[np.tril_indices(nump)]\n",
        "    init_theta_tmp = np.hstack((init_theta_tmp, np.array(lower[:])))\n",
        "    \n",
        "  # Repeat for all voxels and return.\n",
        "  return(np.tile(init_theta_tmp, reps=nv))"
      ],
      "execution_count": 0,
      "outputs": []
    },
    {
      "cell_type": "markdown",
      "metadata": {
        "id": "wbsGqStlYAas",
        "colab_type": "text"
      },
      "source": [
        "#### Broadcasted PLS function\n",
        "\n",
        "Commented lines still need doing... documentation also coming soon..."
      ]
    },
    {
      "cell_type": "code",
      "metadata": {
        "id": "gkkDPCSRYG-4",
        "colab_type": "code",
        "colab": {}
      },
      "source": [
        "from dask.diagnostics import Profiler, ResourceProfiler, CacheProfiler\n",
        "import dask\n",
        "\n",
        "def PLS_broadcasted(theta, ZtX, ZtY, XtX, ZtZ, XtY, YtX, YtZ, XtZ, YtY, P, n, tinds, rinds, cinds, cinds_permuted, vinds):\n",
        "    \n",
        "    t1 = time.time()\n",
        "    # Obtain Lambda and Lambda*P\n",
        "    Lambda = mapping_3D(theta[:], vinds, tinds, rinds, cinds_permuted)\n",
        "    #LambdaP = mapping_3D(theta[:], vinds, tinds, rinds, cinds)\n",
        "    \n",
        "    print('1')\n",
        "    print(time.time()-t1)\n",
        "    t1 = time.time()\n",
        "    \n",
        "    # Obtain Lambda'\n",
        "    Lambdat = Lambda.transpose((0,2,1))\n",
        "\n",
        "    print('2')\n",
        "    print(time.time()-t1)\n",
        "    t1 = time.time()\n",
        "    \n",
        "    # Obtain Lambda'Z'Y and Lambda'Z'X\n",
        "    LambdatZtY = da.matmul(Lambdat,ZtY).rechunk((16000, 10, 1)) #### SLOW: PRESUMABLY COS LAM NOT DASK ARRAY\n",
        "    LambdatZtX = da.matmul(Lambdat,ZtX).rechunk((100, 400, 400))\n",
        "\n",
        "    print('3')\n",
        "    print(time.time()-t1)\n",
        "    t1 = time.time()\n",
        "    \n",
        "    # Obtain the cholesky decomposition \n",
        "    LambdatZtZLambda = da.matmul(da.matmul(Lambdat,ZtZ),Lambda)\n",
        "    I = da.eye(Lambda.shape[1], chunks=4000).map_blocks(sparse.COO).rechunk('auto') #fast - could be removed though\n",
        "    \n",
        "    print('4')\n",
        "    print(time.time()-t1)\n",
        "    t1 = time.time()\n",
        "    \n",
        "    print((LambdatZtZLambda+I).shape)\n",
        "    \n",
        "    # Get P in numpy format\n",
        "    P_np = np.array(P[:]).reshape(P.size[0])\n",
        "    \n",
        "    # Permute lambda'Z'X and lambda'Z'Y\n",
        "    print(LambdatZtX.chunks)\n",
        "    #LambdatZtXP = LambdatZtX[:,P_np,:].compute() #NB - about half a second\n",
        "    \n",
        "    LambdatZtXP, LambdatZtYP = dask.compute(LambdatZtX[:,P_np,:], LambdatZtY[:,P_np,:])\n",
        "    print('5')\n",
        "    print(time.time()-t1)\n",
        "    t1 = time.time()\n",
        "    print(LambdatZtY.shape)\n",
        "    print(LambdatZtY.chunks)\n",
        "    #LambdatZtYP = LambdatZtY[:,P_np,:].compute() # 86 seconds? Weird\n",
        "    \n",
        "    \n",
        "    print('6')\n",
        "    print(time.time()-t1)\n",
        "    t1 = time.time()\n",
        "    \n",
        "    # Add identity to Lambda'Z'ZLambda\n",
        "    LambdatZtZLambdaplusI = LambdatZtZLambda + I\n",
        "    LambdatZtZLambdaplusI = LambdatZtZLambdaplusI.compute() # 27 seconds - Probably chunking problems\n",
        "    \n",
        "    print('7')\n",
        "    print(time.time()-t1)\n",
        "    t1 = time.time()\n",
        "    \n",
        "    # Initialize empty arrays to store RZX and Cu\n",
        "    RZX = np.zeros((Lambda.shape[0], ZtZ.shape[1], XtX.shape[1]))\n",
        "    Cu = np.zeros((Lambda.shape[0], ZtZ.shape[1], 1))\n",
        "    L = np.zeros((Lambda.shape[0], ZtZ.shape[1], ZtZ.shape[1])) # All fast - 0.4s-ish\n",
        "    \n",
        "    print('8')\n",
        "    print(time.time()-t1)\n",
        "    t1 = time.time()\n",
        "    \n",
        "    for i in np.arange(Lambda.shape[0]):\n",
        "      print(i)\n",
        "      \n",
        "      # Perform sparse cholesky on lambda'Z'Zlambda + I\n",
        "      data = LambdatZtZLambdaplusI[i,:,:].data\n",
        "      coords = LambdatZtZLambdaplusI[i,:,:].coords\n",
        "      chol_dict = sparse_chol(spmatrix(data, coords[0,:],coords[1,:],size=(Lambda.shape[1],Lambda.shape[1])), perm=P, retF=True, retP=False, retL=False)\n",
        "      F = chol_dict['F']\n",
        "      \n",
        "      # Obtain Cu\n",
        "      Cu_tmp = matrix(LambdatZtYP[i,:,:])\n",
        "      cholmod.solve(F,Cu_tmp,sys=4)\n",
        "      \n",
        "      # Save Cu\n",
        "      Cu[i,:,:] = np.array(Cu_tmp)\n",
        "      \n",
        "      # Obtain RZX\n",
        "      RZXtmp = matrix(LambdatZtXP[i,:,:])\n",
        "      cholmod.solve(F,RZXtmp,sys=4)\n",
        "      \n",
        "      # Save RZX\n",
        "      RZX[i,:,:] = np.array(RZXtmp)\n",
        "    \n",
        "      # Obtain L (for later - note: has to be done last as this changes F)\n",
        "      Ltmp=cholmod.getfactor(F)\n",
        "      L[i,:,:] = np.array(matrix(Ltmp))\n",
        "      \n",
        "    \n",
        "    print('9')# Shockingly fast - 23.156267166137695\n",
        "    print(time.time()-t1)\n",
        "    t1 = time.time()\n",
        "      \n",
        "    # Obtain RXtRX\n",
        "    RZX = da.from_array(RZX, chunks=(100, 400, 400))\n",
        "    RXtRX = XtX - da.matmul(RZX.transpose(0,2,1),RZX)\n",
        "    \n",
        "\n",
        "    # Obtain beta estimates \n",
        "    Cu = da.from_array(Cu, chunks=(400, 400, 1))\n",
        "    XtYminusRZXtCu = XtY - da.matmul(RZX.transpose(0,2,1),Cu)\n",
        "    \n",
        "    #Get betahat\n",
        "    RXtRX, XtYminusRZXtCu = dask.compute(RXtRX, XtYminusRZXtCu)\n",
        "    betahat = da.from_array(np.linalg.solve(RXtRX, XtYminusRZXtCu), chunks=(100, 400, 400))\n",
        "    print(time.time()-t1)\n",
        "    betahat = da.apply_gufunc(np.linalg.solve,  \"(i,j),(i,k)->(j,k)\", RXtRX, XtYminusRZXtCu, vectorize=True,output_dtypes=RXtRX.dtype).rechunk('auto') # suspected time kill\n",
        "    \n",
        "    \n",
        "    \n",
        "    print('10') #5s\n",
        "    print(time.time()-t1)\n",
        "    t1 = time.time()\n",
        "    \n",
        "    # Obtain L\n",
        "    # Obtain RXtRX\n",
        "    L = da.from_array(L, chunks=(100, 400, 400))\n",
        "    \n",
        "    \n",
        "    print('11')\n",
        "    print(time.time()-t1)\n",
        "    t1 = time.time()\n",
        "    \n",
        "    # Obtain u estimates\n",
        "    CuminusRZXbetahat = Cu - da.matmul(RZX, betahat)\n",
        "    \n",
        "    #Get betahat\n",
        "    uhat = da.apply_gufunc(np.linalg.solve,  \"(i,j),(i,k)->(j,k)\", L.transpose(0,2,1), CuminusRZXbetahat, vectorize=True,output_dtypes=RXtRX.dtype).rechunk('auto')\n",
        "    \n",
        "    print('12')\n",
        "    print(time.time()-t1)\n",
        "    t1 = time.time()\n",
        "    \n",
        "    print(L.shape)\n",
        "    print(CuminusRZXbetahat.shape)\n",
        "    print(uhat.shape)\n",
        "    \n",
        "    # Permute U from the left to make the correct uhat\n",
        "    uhat = uhat[:,P_np,:]\n",
        "\n",
        "    # Obtain b estimates\n",
        "    print(Lambda.shape)\n",
        "    print(uhat.shape)\n",
        "    bhat = da.matmul(Lambda,uhat)\n",
        "\n",
        "    # Obtain residuals sum of squares\n",
        "    resss = YtY-2*da.matmul(YtX,betahat)-2*da.matmul(YtZ,bhat)+2*da.matmul(da.matmul(betahat.transpose(0,2,1),XtZ),bhat)+da.matmul(betahat.transpose(0,2,1),da.matmul(XtX,betahat))+da.matmul(bhat.transpose(0,2,1),da.matmul(ZtZ,bhat))\n",
        "\n",
        "    # Obtain penalised residual sum of squares\n",
        "    pss = (resss + da.matmul(uhat.transpose(0,2,1),uhat)).compute()\n",
        "\n",
        "    print('13')\n",
        "    print(time.time()-t1)\n",
        "    t1 = time.time()\n",
        "    \n",
        "    # Obtain Log(|L|^2)\n",
        "    #logdet = 2*da.trace(da.log(L))\n",
        "    logdet = 2*np.sum(np.log(np.diagonal(L.compute(),axis1=1,axis2=2)))\n",
        "\n",
        "    print('14')\n",
        "    print(time.time()-t1)\n",
        "    t1 = time.time()\n",
        "    \n",
        "    # Obtain log likelihood\n",
        "    logllh = -logdet/2-n/2*(1+da.log(2*np.pi*pss)-np.log(n))\n",
        "\n",
        "    print('15')\n",
        "    print(time.time()-t1)\n",
        "    t1 = time.time()\n",
        "    \n",
        "    return(-logllh)\n",
        "\n",
        "# Make the initial theta estimate\n",
        "theta0 = init_theta(nv,nparams)\n",
        "\n",
        "# Obtain the mapping indices\n",
        "tinds, rinds, cinds, cinds_permuted, vinds = get_3D_mapping(nlevels, nparams, nv, P)\n",
        "\n",
        "t1 = time.time()\n",
        "llhmap = PLS_broadcasted(theta0, ZtX_da, ZtY_da, XtX_da, ZtZ_da, XtY_da, YtX_da, YtZ_da, XtZ_da, YtY_da, P, n, tinds, rinds, cinds, cinds_permuted, vinds)\n",
        "t2 = time.time()\n",
        "\n",
        "print(t2-t1)\n",
        "print((t2-t1)*1000*100/(60*60))"
      ],
      "execution_count": 0,
      "outputs": []
    },
    {
      "cell_type": "code",
      "metadata": {
        "id": "Pb75nTHT6R6V",
        "colab_type": "code",
        "colab": {}
      },
      "source": [
        "def cvxopt2Scipy(M):\n",
        "  \n",
        "  Vdim = M.V.size[0]*M.V.size[1]\n",
        "  Idim = M.I.size[0]*M.I.size[1]\n",
        "  Jdim = M.J.size[0]*M.J.size[1]\n",
        "  V = np.array(M.V).reshape(Vdim)\n",
        "  I = np.array(M.I).reshape(Idim)\n",
        "  J = np.array(M.J).reshape(Jdim)\n",
        "  \n",
        "  return(scipy.sparse.coo_matrix((V,(I,J))))"
      ],
      "execution_count": 0,
      "outputs": []
    },
    {
      "cell_type": "code",
      "metadata": {
        "id": "G9-EHSWWr9NP",
        "colab_type": "code",
        "colab": {}
      },
      "source": [
        "def PLS_broadcasted2(theta, ZtX, ZtY, XtX, ZtZ, XtY, YtX, YtZ, XtZ, YtY, P, n, tinds, rinds, cinds, cinds_permuted, vinds):\n",
        "    print('running_it')\n",
        "    #ZtX_ov = cvxopt.matrix(ZtX[0,:,:]) \n",
        "    #ZtY_ov = cvxopt.matrix(ZtY[10,:,:])\n",
        "    #XtX_ov = cvxopt.matrix(XtX[0,:,:])\n",
        "    #ZtZ_ov = cvxopt.sparse(cvxopt.matrix(ZtZ[0,:,:]))\n",
        "    #XtY_ov = cvxopt.matrix(XtY[10,:,:])\n",
        "    #YtX_ov = cvxopt.matrix(YtX[10,:,:])\n",
        "    #YtZ_ov = cvxopt.matrix(YtZ[10,:,:])\n",
        "    #XtZ_ov = cvxopt.matrix(XtZ[0,:,:])\n",
        "    #YtY_ov = cvxopt.matrix(YtY[10,:,:])\n",
        "    \n",
        "    #t1 = time.time()\n",
        "    # Obtain Lambda and Lambda*P\n",
        "    Lambda = mapping_3D(theta[:], vinds, tinds, rinds, cinds)\n",
        "    #LambdaP = mapping_3D(theta[:], vinds, tinds, rinds, cinds)\n",
        "    \n",
        "    #theta_ov = theta[0:(len(theta)//ZtY.shape[0])]\n",
        "    #tinds_ov,rinds_ov,cinds_ov=get_mapping(nlevels, nparams)\n",
        "    #Lambda_ov = mapping(theta_ov, tinds_ov, rinds_ov, cinds_ov)\n",
        "    #print('lambda check')\n",
        "    #print(type(cvxopt2Scipy(Lambda_ov)))\n",
        "    #print(type(Lambda[10,:,:]))\n",
        "    #print((cvxopt2Scipy(Lambda_ov) - Lambda[10,:,:].to_scipy_sparse()).toarray())\n",
        "    \n",
        "    \n",
        "    #print('1')\n",
        "    #print(time.time()-t1)\n",
        "    #t1 = time.time()\n",
        "    \n",
        "    # Obtain Lambda'\n",
        "    Lambdat = sparse.COO(Lambda.transpose((0,2,1)))\n",
        "    #Lambdat_ov = spmatrix.trans(Lambda_ov)\n",
        "    #print('lambda transpose check')\n",
        "    #print((cvxopt2Scipy(Lambdat_ov) - Lambdat[10,:,:].to_scipy_sparse()).toarray())\n",
        "    \n",
        "    #print('2')\n",
        "    #print(time.time()-t1)\n",
        "    #t1 = time.time()\n",
        "    \n",
        "    # Obtain Lambda'Z'Y and Lambda'Z'X\n",
        "    LambdatZtY = np.matmul(Lambdat,ZtY)\n",
        "    LambdatZtX = np.matmul(Lambdat,ZtX)\n",
        "    \n",
        "    #LambdatZtY_ov = Lambdat_ov*ZtY_ov\n",
        "    #LambdatZtX_ov = Lambdat_ov*ZtX_ov\n",
        "    #print('Lambda ZtY check')\n",
        "    #print(type(LambdatZtY[10,:,:]))\n",
        "    #print(type(LambdatZtY_ov))\n",
        "    #print(np.array(LambdatZtY_ov)-np.array(LambdatZtY[10,:,:]))\n",
        "    #print('Lambda ZtX check')\n",
        "    #print(type(LambdatZtX[10,:,:]))\n",
        "    #print(type(LambdatZtX_ov))\n",
        "    #print(np.array(LambdatZtX_ov)-np.array(LambdatZtX[10,:,:]))\n",
        "    \n",
        "\n",
        "    #print('3')\n",
        "    #print(time.time()-t1)\n",
        "    #t1 = time.time()\n",
        "    \n",
        "    ZtZLambda = np.matmul(ZtZ,Lambda)\n",
        "    #ZtZLambda_ov = ZtZ_ov*Lambda_ov\n",
        "    #print(np.array(ZtZLambda[10,:,:])-np.array(cvxopt.matrix(ZtZLambda_ov)))\n",
        "    #print(type(ZtZLambda))\n",
        "    #print(type(ZtZLambda_ov))\n",
        "    # Obtain the cholesky decomposition \n",
        "    LambdatZtZLambda = np.matmul(np.matmul(Lambdat,ZtZ),Lambda)\n",
        "    #LambdatZtZLambda_ov = Lambdat_ov*(ZtZ_ov*Lambda_ov)\n",
        "    I = np.eye(Lambda.shape[1])\n",
        "    \n",
        "    \n",
        "    #print('Lambdat ZtZ Lambda check')\n",
        "    #print(np.array(LambdatZtZLambda[10,:,:])-np.array(cvxopt.matrix(LambdatZtZLambda_ov)))\n",
        "    \n",
        "    #print('4')\n",
        "    #print(time.time()-t1)\n",
        "    #t1 = time.time()\n",
        "    \n",
        "    #print((LambdatZtZLambda+I).shape)\n",
        "    \n",
        "    # Get P in numpy format\n",
        "    P_np = np.array(P[:]).reshape(P.size[0])\n",
        "    \n",
        "    LambdatZtXP = LambdatZtX[:,P_np,:]\n",
        "    LambdatZtYP = LambdatZtY[:,P_np,:]\n",
        "    \n",
        "    #LambdatZtXP_ov = LambdatZtX_ov[P,:]\n",
        "    #LambdatZtYP_ov = LambdatZtY_ov[P,:]\n",
        "    \n",
        "    #print('permuted ZtX check')\n",
        "    #print(np.array(LambdatZtXP[10,:,:])-np.array(LambdatZtXP_ov))\n",
        "    #print('permuted ZtY check')\n",
        "    #print(np.array(LambdatZtYP[10,:,:])-np.array(LambdatZtYP_ov))\n",
        "    \n",
        "    #print('5')\n",
        "    #print(time.time()-t1)\n",
        "    #t1 = time.time()\n",
        "    #LambdatZtYP = LambdatZtY[:,P_np,:].compute() # 86 seconds? Weird\n",
        "    \n",
        "    \n",
        "    #print('6')\n",
        "    #print(time.time()-t1)\n",
        "    #t1 = time.time()\n",
        "    \n",
        "    # Add identity to Lambda'Z'ZLambda\n",
        "    LambdatZtZLambdaplusI = LambdatZtZLambda + I\n",
        "    \n",
        "    #print('7')\n",
        "    #print(time.time()-t1)\n",
        "    #t1 = time.time()\n",
        "    \n",
        "    # Initialize empty arrays to store RZX and Cu\n",
        "    RZX = np.zeros((Lambda.shape[0], ZtZ.shape[1], XtX.shape[1]))\n",
        "    Cu = np.zeros((Lambda.shape[0], ZtZ.shape[1], 1))\n",
        "    L = np.zeros((Lambda.shape[0], ZtZ.shape[1], ZtZ.shape[1])) # All fast - 0.4s-ish\n",
        "    \n",
        "    #print('8')\n",
        "    #print(time.time()-t1)\n",
        "    #t1 = time.time()\n",
        "    \n",
        "    for i in np.arange(Lambda.shape[0]):\n",
        "      #print(i)\n",
        "      \n",
        "      # Perform sparse cholesky on lambda'Z'Zlambda + I\n",
        "      #print(type(LambdatZtZLambdaplusI[i,:,:]))\n",
        "      chol_dict = sparse_chol(cvxopt.sparse(matrix(LambdatZtZLambdaplusI[i,:,:])), perm=P, retF=True, retP=False, retL=False)\n",
        "      F = chol_dict['F']\n",
        "      \n",
        "      # Obtain Cu\n",
        "      Cu_tmp = matrix(LambdatZtYP[i,:,:])\n",
        "      cholmod.solve(F,Cu_tmp,sys=4)\n",
        "      \n",
        "      # Save Cu\n",
        "      Cu[i,:,:] = np.array(Cu_tmp)\n",
        "      \n",
        "      # Obtain RZX\n",
        "      RZXtmp = matrix(LambdatZtXP[i,:,:])\n",
        "      cholmod.solve(F,RZXtmp,sys=4)\n",
        "      \n",
        "      # Save RZX\n",
        "      RZX[i,:,:] = np.array(RZXtmp)\n",
        "    \n",
        "      # Obtain L (for later - note: has to be done last as this changes F)\n",
        "      Ltmp=cholmod.getfactor(F)\n",
        "      L[i,:,:] = np.array(matrix(Ltmp))\n",
        "      \n",
        "      \n",
        "      \n",
        "      #if i == 10:\n",
        "        \n",
        "      #  print(ZtZ.shape)\n",
        "      #  print(ZtZ_ov.size)\n",
        "      #  I_ov = spmatrix(1.0, range(ZtZ_ov.size[1]), range(ZtZ_ov.size[1]))\n",
        "\n",
        "      #  print(type(LambdatZtZLambda_ov+I_ov))\n",
        "      #  print((LambdatZtZLambda_ov+I_ov).size)\n",
        "      #  chol_dict_ov = sparse_chol(LambdatZtZLambda_ov+I_ov, perm=P, retF=True, retP=False, retL=False)\n",
        "      #  F_ov = chol_dict_ov['F']\n",
        "        \n",
        "      #  Cu_ov = LambdatZtY_ov[P,:]\n",
        "      #  cholmod.solve(F_ov,Cu_ov,sys=4)\n",
        "        \n",
        "      #  print('Cu check')\n",
        "      #  print(Cu[10,:,:]-Cu_ov)\n",
        "        \n",
        "      #  RZX_ov = LambdatZtX_ov[P,:]\n",
        "      #  cholmod.solve(F_ov,RZX_ov,sys=4)\n",
        "        \n",
        "      #  print('RZX check')\n",
        "      #  print(RZX[10,:,:]-RZX_ov)\n",
        "        \n",
        "    \n",
        "    #print('9')# Shockingly fast - 23.156267166137695\n",
        "    #print(time.time()-t1)\n",
        "    #t1 = time.time()\n",
        "      \n",
        "    # Obtain RXtRX\n",
        "    RXtRX = XtX - np.matmul(RZX.transpose(0,2,1),RZX)\n",
        "    \n",
        "    \n",
        "    #RXtRX_ov = XtX_ov - matrix.trans(RZX_ov)*RZX_ov\n",
        "\n",
        "    #print('RXtRX check')\n",
        "    #print(RXtRX_ov-RXtRX[10,:,:])\n",
        "    \n",
        "    # Obtain beta estimates \n",
        "    XtYminusRZXtCu = XtY - np.matmul(RZX.transpose(0,2,1),Cu)\n",
        "    \n",
        "    #XtYminusRZXtCu_ov = XtY_ov - matrix.trans(RZX_ov)*Cu_ov\n",
        "    \n",
        "    #print('XtY - RZXtCu check')\n",
        "    #print(XtYminusRZXtCu_ov - XtYminusRZXtCu[10,:,:])\n",
        "    \n",
        "    #Get betahat\n",
        "    betahat = np.linalg.solve(RXtRX, XtYminusRZXtCu)\n",
        "    \n",
        "    \n",
        "    #betahat_ov = XtY_ov - matrix.trans(RZX_ov)*Cu_ov\n",
        "    #lapack.posv(RXtRX_ov, betahat_ov)\n",
        "    \n",
        "    #print('betahat check')\n",
        "    #print(betahat_ov-betahat[10,:,:])\n",
        "    \n",
        "    #print('10') #5s\n",
        "    #print(time.time()-t1)\n",
        "    #t1 = time.time()\n",
        "    \n",
        "    # Obtain L\n",
        "    # Obtain RXtRX\n",
        "    \n",
        "    \n",
        "    #print('11')\n",
        "    #print(time.time()-t1)\n",
        "    #t1 = time.time()\n",
        "    \n",
        "    # Obtain u estimates\n",
        "    CuminusRZXbetahat = Cu - np.matmul(RZX, betahat)\n",
        "    \n",
        "    #Get betahat\n",
        "    uhat = np.linalg.solve(L.transpose(0,2,1), CuminusRZXbetahat)\n",
        "    \n",
        "    \n",
        "    #uhat_ov = Cu_ov-RZX_ov*betahat_ov\n",
        "    #cholmod.solve(F_ov,uhat_ov,sys=5)\n",
        "    #cholmod.solve(F_ov,uhat_ov,sys=8)\n",
        "    \n",
        "    #print('12')\n",
        "    #print(time.time()-t1)\n",
        "    #t1 = time.time()\n",
        "    \n",
        "    #print(L.shape)\n",
        "    #print(CuminusRZXbetahat.shape)\n",
        "    #print(uhat.shape)\n",
        "    \n",
        "    # Permute U from the left to make the correct uhat\n",
        "    invP_np = np.arange(len(P_np))[np.argsort(P_np)]\n",
        "    uhat = uhat[:,invP_np,:]\n",
        "\n",
        "    #print('uhat check')\n",
        "    #print(uhat_ov - uhat[10,:,:])\n",
        "    \n",
        "    # Obtain b estimates\n",
        "    #print(Lambda.shape)\n",
        "    #print(uhat.shape)\n",
        "    bhat = np.matmul(Lambda,uhat)\n",
        "\n",
        "    #bhat_ov = Lambda_ov*uhat_ov\n",
        "    #print('bhat check')\n",
        "    #print(bhat_ov-bhat[10,:,:])\n",
        "    \n",
        "    # Obtain residuals sum of squares\n",
        "    resss = YtY-2*np.matmul(YtX,betahat)-2*np.matmul(YtZ,bhat)+2*np.matmul(np.matmul(betahat.transpose(0,2,1),XtZ),bhat)+np.matmul(betahat.transpose(0,2,1),np.matmul(XtX,betahat))+np.matmul(bhat.transpose(0,2,1),np.matmul(ZtZ,bhat))\n",
        "\n",
        "    #resss_ov = YtY_ov-2*YtX_ov*betahat_ov-2*YtZ_ov*bhat_ov+2*matrix.trans(betahat_ov)*XtZ_ov*bhat_ov+matrix.trans(betahat_ov)*XtX_ov*betahat_ov+matrix.trans(bhat_ov)*ZtZ_ov*bhat_ov\n",
        "   \n",
        "    #print('resss check')\n",
        "    #print(resss[10,:,:]-resss_ov)\n",
        "    \n",
        "    # Obtain penalised residual sum of squares\n",
        "    pss = resss + np.matmul(uhat.transpose(0,2,1),uhat)\n",
        "    #pss_ov = resss_ov + matrix.trans(uhat_ov)*uhat_ov\n",
        "\n",
        "    #print('pss check')\n",
        "    #print(pss[10,:,:]-pss_ov)\n",
        "    \n",
        "    #print('13')\n",
        "    #print(time.time()-t1)\n",
        "    #t1 = time.time()\n",
        "    \n",
        "    # Obtain Log(|L|^2)\n",
        "    #logdet = 2*da.trace(da.log(L))\n",
        "    #tmp = np.log(np.diagonal(L,axis1=1,axis2=2))\n",
        "    #print(tmp.shape)\n",
        "    #print(np.sum(tmp).shape)\n",
        "    #print(np.sum(tmp, axis=0).shape)\n",
        "    #print(np.sum(tmp, axis=1).shape)\n",
        "    #print(2*np.sum(np.log(np.diagonal(L,axis1=1,axis2=2)),axis=1).shape)\n",
        "    logdet = 2*np.sum(np.log(np.diagonal(L,axis1=1,axis2=2)),axis=1).reshape((nv,1,1))\n",
        "    #logdet_ov = 2*sum(cvxopt.log(cholmod.diag(F_ov)))\n",
        "    #print(logdet)\n",
        "    #print(logdet.shape)\n",
        "    #print('logdet check')\n",
        "    #print(logdet[10]-logdet_ov)\n",
        "    \n",
        "    #print('14')\n",
        "    #print(time.time()-t1)\n",
        "    #t1 = time.time()\n",
        "    \n",
        "    # Obtain log likelihood\n",
        "    logllh = -logdet/2-n/2*(1+np.log(2*np.pi*pss)-np.log(n))\n",
        "\n",
        "    #print('15')\n",
        "    #print(time.time()-t1)\n",
        "    #t1 = time.time()\n",
        "    \n",
        "    return(np.amax(-logllh))\n",
        "\n",
        "    #return(-logllh)\n",
        "  \n",
        "# Make the initial theta estimate\n",
        "theta0 = init_theta(nv,nparams)\n",
        "\n",
        "# Obtain the mapping indices\n",
        "tinds, rinds, cinds, cinds_permuted, vinds = get_3D_mapping(nlevels, nparams, nv, P)\n",
        "\n",
        "t1 = time.time()\n",
        "llhmap = PLS_broadcasted2(theta0, ZtX, ZtY, XtX, ZtZ, XtY, YtX, YtZ, XtZ, YtY, P, n, tinds, rinds, cinds, cinds_permuted, vinds)\n",
        "t2 = time.time()\n",
        "\n",
        "print(t2-t1)\n",
        "print((t2-t1)*100*100*100/(nv*60*60))"
      ],
      "execution_count": 0,
      "outputs": []
    },
    {
      "cell_type": "code",
      "metadata": {
        "id": "AQC-daPsD8wz",
        "colab_type": "code",
        "colab": {}
      },
      "source": [
        "print(llhmap.shape)\n",
        "llhmap_imageformat = llhmap.reshape((dimv[0],dimv[1],dimv[2]))\n",
        "\n",
        "imshow(llhmap_imageformat[1,:,:].reshape(dimv[0],dimv[1]), \\\n",
        "                    interpolation='nearest', aspect='auto')\n",
        "\n",
        "plt.colorbar()\n",
        "\n",
        "print((t2-t1)*10/3*10/3*10/3*100/(60*60))"
      ],
      "execution_count": 0,
      "outputs": []
    },
    {
      "cell_type": "code",
      "metadata": {
        "id": "9krmSRHV47jc",
        "colab_type": "code",
        "colab": {}
      },
      "source": [
        "print(type(theta0))\n",
        "print(len(theta0)/nv)\n",
        "\n",
        "theta0tmp = theta0[0:(len(theta0)//nv)]\n",
        "\n",
        "# Obtain a random Lambda matrix with the correct sparsity for the permutation vector\n",
        "tindstmp,rindstmp,cindstmp=get_mapping(nlevels, nparams)\n",
        "\n",
        "t1 = time.time()\n",
        "llh2map = np.zeros(nv)\n",
        "\n",
        "for i in np.arange(nv):\n",
        "  #print(i)\n",
        "  XtYtmp = matrix(XtY[i,:,:]) \n",
        "  ZtYtmp = matrix(ZtY[i,:,:]) \n",
        "  YtYtmp = matrix(YtY[i,:,:]) \n",
        "  YtZtmp = matrix(YtZ[i,:,:])\n",
        "  YtXtmp = matrix(YtX[i,:,:])\n",
        "  \n",
        "  llh2map[i] = PLS(theta0tmp, ZtXtmp, ZtYtmp, XtXtmp, ZtZtmp, XtYtmp, YtXtmp, YtZtmp, XtZtmp, YtYtmp, n, P, I, tindstmp, rindstmp, cindstmp)\n",
        "\n",
        "t2 = time.time()\n",
        "\n",
        "print(t2-t1)\n",
        "print((t2-t1)*10/3*10/3*10/3*100/(60*60))\n",
        "  \n",
        "print(llh2map.shape)\n",
        "llh2map_imageformat = llh2map.reshape((dimv[0],dimv[1],dimv[2]))\n",
        "\n",
        "imshow(llh2map_imageformat[1,:,:].reshape(dimv[0],dimv[1]), \\\n",
        "                    interpolation='nearest', aspect='auto')\n",
        "plt.colorbar()"
      ],
      "execution_count": 0,
      "outputs": []
    },
    {
      "cell_type": "code",
      "metadata": {
        "id": "xuHjWoarZI7F",
        "colab_type": "code",
        "colab": {}
      },
      "source": [
        "t1 = time.time()\n",
        "minimize(PLS_broadcasted3, theta0, args=(ZtX, ZtY, XtX, ZtZ, XtY, YtX, YtZ, XtZ, YtY, P, n, tinds, rinds, cinds, cinds_permuted, vinds), method='L-BFGS-B', tol=1e-6)\n",
        "print((time.time()-t1)*100*100*100/(nv*60*60))"
      ],
      "execution_count": 0,
      "outputs": []
    },
    {
      "cell_type": "code",
      "metadata": {
        "id": "Iy6lhX5mjgLu",
        "colab_type": "code",
        "colab": {}
      },
      "source": [
        "def PLS_broadcasted3(theta, ZtX, ZtY, XtX, ZtZ, XtY, YtX, YtZ, XtZ, YtY, P, n, tinds, rinds, cinds, cinds_permuted, vinds):\n",
        "    print('running_it')\n",
        "    #ZtX_ov = cvxopt.matrix(ZtX[0,:,:]) \n",
        "    #ZtY_ov = cvxopt.matrix(ZtY[10,:,:])\n",
        "    #XtX_ov = cvxopt.matrix(XtX[0,:,:])\n",
        "    #ZtZ_ov = cvxopt.sparse(cvxopt.matrix(ZtZ[0,:,:]))\n",
        "    #XtY_ov = cvxopt.matrix(XtY[10,:,:])\n",
        "    #YtX_ov = cvxopt.matrix(YtX[10,:,:])\n",
        "    #YtZ_ov = cvxopt.matrix(YtZ[10,:,:])\n",
        "    #XtZ_ov = cvxopt.matrix(XtZ[0,:,:])\n",
        "    #YtY_ov = cvxopt.matrix(YtY[10,:,:])\n",
        "    \n",
        "    #t1 = time.time()\n",
        "    # Obtain Lambda and Lambda*P\n",
        "    Lambda = mapping_3D(theta[:], vinds, tinds, rinds, cinds)\n",
        "    #LambdaP = mapping_3D(theta[:], vinds, tinds, rinds, cinds)\n",
        "    \n",
        "    #theta_ov = theta[0:(len(theta)//ZtY.shape[0])]\n",
        "    #tinds_ov,rinds_ov,cinds_ov=get_mapping(nlevels, nparams)\n",
        "    #Lambda_ov = mapping(theta_ov, tinds_ov, rinds_ov, cinds_ov)\n",
        "    #print('lambda check')\n",
        "    #print(type(cvxopt2Scipy(Lambda_ov)))\n",
        "    #print(type(Lambda[10,:,:]))\n",
        "    #print((cvxopt2Scipy(Lambda_ov) - Lambda[10,:,:].to_scipy_sparse()).toarray())\n",
        "    \n",
        "    \n",
        "    #print('1')\n",
        "    #print(time.time()-t1)\n",
        "    #t1 = time.time()\n",
        "    \n",
        "    # Obtain Lambda'\n",
        "    Lambdat = sparse.COO(Lambda.transpose((0,2,1)))\n",
        "    #Lambdat_ov = spmatrix.trans(Lambda_ov)\n",
        "    #print('lambda transpose check')\n",
        "    #print((cvxopt2Scipy(Lambdat_ov) - Lambdat[10,:,:].to_scipy_sparse()).toarray())\n",
        "    \n",
        "    #print('2')\n",
        "    #print(time.time()-t1)\n",
        "    #t1 = time.time()\n",
        "    \n",
        "    # Obtain Lambda'Z'Y and Lambda'Z'X\n",
        "    LambdatZtY = np.matmul(Lambdat,ZtY)\n",
        "    LambdatZtX = np.matmul(Lambdat,ZtX)\n",
        "    \n",
        "    #LambdatZtY_ov = Lambdat_ov*ZtY_ov\n",
        "    #LambdatZtX_ov = Lambdat_ov*ZtX_ov\n",
        "    #print('Lambda ZtY check')\n",
        "    #print(type(LambdatZtY[10,:,:]))\n",
        "    #print(type(LambdatZtY_ov))\n",
        "    #print(np.array(LambdatZtY_ov)-np.array(LambdatZtY[10,:,:]))\n",
        "    #print('Lambda ZtX check')\n",
        "    #print(type(LambdatZtX[10,:,:]))\n",
        "    #print(type(LambdatZtX_ov))\n",
        "    #print(np.array(LambdatZtX_ov)-np.array(LambdatZtX[10,:,:]))\n",
        "    \n",
        "\n",
        "    #print('3')\n",
        "    #print(time.time()-t1)\n",
        "    #t1 = time.time()\n",
        "    \n",
        "    #print(np.array(ZtZLambda[10,:,:])-np.array(cvxopt.matrix(ZtZLambda_ov)))\n",
        "    #print(type(ZtZLambda))\n",
        "    #print(type(ZtZLambda_ov))\n",
        "    # Obtain the cholesky decomposition \n",
        "    LambdatZtZLambda = np.matmul(np.matmul(Lambdat,ZtZ),Lambda)\n",
        "    #LambdatZtZLambda_ov = Lambdat_ov*(ZtZ_ov*Lambda_ov)\n",
        "    I = np.eye(Lambda.shape[1])\n",
        "    \n",
        "    \n",
        "    #print('Lambdat ZtZ Lambda check')\n",
        "    #print(np.array(LambdatZtZLambda[10,:,:])-np.array(cvxopt.matrix(LambdatZtZLambda_ov)))\n",
        "    \n",
        "    #print('4')\n",
        "    #print(time.time()-t1)\n",
        "    #t1 = time.time()\n",
        "    \n",
        "    #print((LambdatZtZLambda+I).shape)\n",
        "    \n",
        "    # Get P in numpy format\n",
        "    #P_np = np.array(P[:]).reshape(P.size[0])\n",
        "    \n",
        "    #LambdatZtXP = LambdatZtX[:,P_np,:]\n",
        "    #LambdatZtYP = LambdatZtY[:,P_np,:]\n",
        "    \n",
        "    #LambdatZtXP_ov = LambdatZtX_ov[P,:]\n",
        "    #LambdatZtYP_ov = LambdatZtY_ov[P,:]\n",
        "    \n",
        "    #print('permuted ZtX check')\n",
        "    #print(np.array(LambdatZtXP[10,:,:])-np.array(LambdatZtXP_ov))\n",
        "    #print('permuted ZtY check')\n",
        "    #print(np.array(LambdatZtYP[10,:,:])-np.array(LambdatZtYP_ov))\n",
        "    \n",
        "    #print('5')\n",
        "    #print(time.time()-t1)\n",
        "    #t1 = time.time()\n",
        "    #LambdatZtYP = LambdatZtY[:,P_np,:].compute() # 86 seconds? Weird\n",
        "    \n",
        "    \n",
        "    #print('6')\n",
        "    #print(time.time()-t1)\n",
        "    #t1 = time.time()\n",
        "    \n",
        "    # Add identity to Lambda'Z'ZLambda\n",
        "    LambdatZtZLambdaplusI = LambdatZtZLambda + I\n",
        "    \n",
        "    #print('7')\n",
        "    #print(time.time()-t1)\n",
        "    #t1 = time.time()\n",
        "    \n",
        "    #print('8')\n",
        "    #print(time.time()-t1)\n",
        "    #t1 = time.time()\n",
        "    \n",
        "    #print(type(LambdatZtZLambdaplusI[:,P_np,:][:,:,P_np]))\n",
        "    #print(LambdatZtZLambdaplusI[:,P_np,:][:,:,P_np].shape)\n",
        "    L = np.linalg.cholesky(LambdatZtZLambdaplusI)#[:,P_np,:][:,:,P_np])\n",
        "    Cu = np.linalg.solve(L,LambdatZtY)#P)\n",
        "    RZX = np.linalg.solve(L,LambdatZtX)#P)\n",
        "    \n",
        "    #for i in np.arange(Lambda.shape[0]):\n",
        "      #print(i)\n",
        "      \n",
        "      # Perform sparse cholesky on lambda'Z'Zlambda + I\n",
        "      #print(type(LambdatZtZLambdaplusI[i,:,:]))\n",
        "      #chol_dict = sparse_chol(cvxopt.sparse(matrix(LambdatZtZLambdaplusI[i,:,:])), perm=P, retF=True, retP=False, retL=False)\n",
        "      #F = chol_dict['F']\n",
        "      \n",
        "      # Obtain Cu\n",
        "      #Cu_tmp = matrix(LambdatZtYP[i,:,:])\n",
        "      #cholmod.solve(F,Cu_tmp,sys=4)\n",
        "      \n",
        "      # Save Cu\n",
        "      #Cu[i,:,:] = np.array(Cu_tmp)\n",
        "      \n",
        "      # Obtain RZX\n",
        "      #RZXtmp = matrix(LambdatZtXP[i,:,:])\n",
        "      #cholmod.solve(F,RZXtmp,sys=4)\n",
        "      \n",
        "      # Save RZX\n",
        "      #RZX[i,:,:] = np.array(RZXtmp)\n",
        "    \n",
        "      # Obtain L (for later - note: has to be done last as this changes F)\n",
        "      #Ltmp=cholmod.getfactor(F)\n",
        "      #L[i,:,:] = np.array(matrix(Ltmp))\n",
        "      \n",
        "      \n",
        "      \n",
        "      #if i == 10:\n",
        "        \n",
        "      #  print(ZtZ.shape)\n",
        "      #  print(ZtZ_ov.size)\n",
        "      #  I_ov = spmatrix(1.0, range(ZtZ_ov.size[1]), range(ZtZ_ov.size[1]))\n",
        "\n",
        "      #  print(type(LambdatZtZLambda_ov+I_ov))\n",
        "      #  print((LambdatZtZLambda_ov+I_ov).size)\n",
        "      #  chol_dict_ov = sparse_chol(LambdatZtZLambda_ov+I_ov, perm=P, retF=True, retP=False, retL=False)\n",
        "      #  F_ov = chol_dict_ov['F']\n",
        "        \n",
        "      #  Cu_ov = LambdatZtY_ov[P,:]\n",
        "      #  cholmod.solve(F_ov,Cu_ov,sys=4)\n",
        "        \n",
        "      #  print('Cu check')\n",
        "      #  print(Cu[10,:,:]-Cu_ov)\n",
        "        \n",
        "      #  RZX_ov = LambdatZtX_ov[P,:]\n",
        "      #  cholmod.solve(F_ov,RZX_ov,sys=4)\n",
        "        \n",
        "      #  print('RZX check')\n",
        "      #  print(RZX[10,:,:]-RZX_ov)\n",
        "        \n",
        "    \n",
        "    #print('9')# Shockingly fast - 23.156267166137695\n",
        "    #print(time.time()-t1)\n",
        "    #t1 = time.time()\n",
        "      \n",
        "    # Obtain RXtRX\n",
        "    RXtRX = XtX - np.matmul(RZX.transpose(0,2,1),RZX)\n",
        "    \n",
        "    \n",
        "    #RXtRX_ov = XtX_ov - matrix.trans(RZX_ov)*RZX_ov\n",
        "\n",
        "    #print('RXtRX check')\n",
        "    #print(RXtRX_ov-RXtRX[10,:,:])\n",
        "    \n",
        "    # Obtain beta estimates \n",
        "    XtYminusRZXtCu = XtY - np.matmul(RZX.transpose(0,2,1),Cu)\n",
        "    \n",
        "    #XtYminusRZXtCu_ov = XtY_ov - matrix.trans(RZX_ov)*Cu_ov\n",
        "    \n",
        "    #print('XtY - RZXtCu check')\n",
        "    #print(XtYminusRZXtCu_ov - XtYminusRZXtCu[10,:,:])\n",
        "    \n",
        "    #Get betahat\n",
        "    betahat = np.linalg.solve(RXtRX, XtYminusRZXtCu)\n",
        "    \n",
        "    \n",
        "    #betahat_ov = XtY_ov - matrix.trans(RZX_ov)*Cu_ov\n",
        "    #lapack.posv(RXtRX_ov, betahat_ov)\n",
        "    \n",
        "    #print('betahat check')\n",
        "    #print(betahat_ov-betahat[10,:,:])\n",
        "    \n",
        "    #print('10') #5s\n",
        "    #print(time.time()-t1)\n",
        "    #t1 = time.time()\n",
        "    \n",
        "    # Obtain L\n",
        "    # Obtain RXtRX\n",
        "    \n",
        "    \n",
        "    #print('11')\n",
        "    #print(time.time()-t1)\n",
        "    #t1 = time.time()\n",
        "    \n",
        "    # Obtain u estimates\n",
        "    CuminusRZXbetahat = Cu - np.matmul(RZX, betahat)\n",
        "    \n",
        "    #Get betahat\n",
        "    uhat = np.linalg.solve(L.transpose(0,2,1), CuminusRZXbetahat)\n",
        "    \n",
        "    \n",
        "    #uhat_ov = Cu_ov-RZX_ov*betahat_ov\n",
        "    #cholmod.solve(F_ov,uhat_ov,sys=5)\n",
        "    #cholmod.solve(F_ov,uhat_ov,sys=8)\n",
        "    \n",
        "    #print('12')\n",
        "    #print(time.time()-t1)\n",
        "    #t1 = time.time()\n",
        "    \n",
        "    #print(L.shape)\n",
        "    #print(CuminusRZXbetahat.shape)\n",
        "    #print(uhat.shape)\n",
        "    \n",
        "    # Permute U from the left to make the correct uhat\n",
        "    #invP_np = np.arange(len(P_np))[np.argsort(P_np)]\n",
        "    #uhat = uhat[:,invP_np,:]\n",
        "\n",
        "    #print('uhat check')\n",
        "    #print(uhat_ov - uhat[10,:,:])\n",
        "    \n",
        "    # Obtain b estimates\n",
        "    #print(Lambda.shape)\n",
        "    #print(uhat.shape)\n",
        "    bhat = np.matmul(Lambda,uhat)\n",
        "\n",
        "    #bhat_ov = Lambda_ov*uhat_ov\n",
        "    #print('bhat check')\n",
        "    #print(bhat_ov-bhat[10,:,:])\n",
        "    \n",
        "    # Obtain residuals sum of squares\n",
        "    resss = YtY-2*np.matmul(YtX,betahat)-2*np.matmul(YtZ,bhat)+2*np.matmul(np.matmul(betahat.transpose(0,2,1),XtZ),bhat)+np.matmul(betahat.transpose(0,2,1),np.matmul(XtX,betahat))+np.matmul(bhat.transpose(0,2,1),np.matmul(ZtZ,bhat))\n",
        "\n",
        "    #resss_ov = YtY_ov-2*YtX_ov*betahat_ov-2*YtZ_ov*bhat_ov+2*matrix.trans(betahat_ov)*XtZ_ov*bhat_ov+matrix.trans(betahat_ov)*XtX_ov*betahat_ov+matrix.trans(bhat_ov)*ZtZ_ov*bhat_ov\n",
        "   \n",
        "    #print('resss check')\n",
        "    #print(resss[10,:,:]-resss_ov)\n",
        "    \n",
        "    # Obtain penalised residual sum of squares\n",
        "    pss = resss + np.matmul(uhat.transpose(0,2,1),uhat)\n",
        "    #pss_ov = resss_ov + matrix.trans(uhat_ov)*uhat_ov\n",
        "\n",
        "    #print('pss check')\n",
        "    #print(pss[10,:,:]-pss_ov)\n",
        "    \n",
        "    #print('13')\n",
        "    #print(time.time()-t1)\n",
        "    #t1 = time.time()\n",
        "    \n",
        "    # Obtain Log(|L|^2)\n",
        "    #logdet = 2*da.trace(da.log(L))\n",
        "    #tmp = np.log(np.diagonal(L,axis1=1,axis2=2))\n",
        "    #print(tmp.shape)\n",
        "    #print(np.sum(tmp).shape)\n",
        "    #print(np.sum(tmp, axis=0).shape)\n",
        "    #print(np.sum(tmp, axis=1).shape)\n",
        "    #print(2*np.sum(np.log(np.diagonal(L,axis1=1,axis2=2)),axis=1).shape)\n",
        "    logdet = 2*np.sum(np.log(np.diagonal(L,axis1=1,axis2=2)),axis=1).reshape((nv,1,1))\n",
        "    #logdet_ov = 2*sum(cvxopt.log(cholmod.diag(F_ov)))\n",
        "    #print(logdet)\n",
        "    #print(logdet.shape)\n",
        "    #print('logdet check')\n",
        "    #print(logdet[10]-logdet_ov)\n",
        "    \n",
        "    #print('14')\n",
        "    #print(time.time()-t1)\n",
        "    #t1 = time.time()\n",
        "    \n",
        "    # Obtain log likelihood\n",
        "    logllh = -logdet/2-n/2*(1+np.log(2*np.pi*pss)-np.log(n))\n",
        "\n",
        "    #print('15')\n",
        "    #print(time.time()-t1)\n",
        "    #t1 = time.time()\n",
        "    \n",
        "    #return(np.amax(-logllh))\n",
        "\n",
        "    return(-logllh)\n",
        "  \n",
        "# Make the initial theta estimate\n",
        "theta0 = init_theta(nv,nparams)\n",
        "\n",
        "# Obtain the mapping indices\n",
        "tinds, rinds, cinds, cinds_permuted, vinds = get_3D_mapping(nlevels, nparams, nv, P)\n",
        "\n",
        "t1 = time.time()\n",
        "llhmap = PLS_broadcasted3(theta0, ZtX, ZtY, XtX, ZtZ, XtY, YtX, YtZ, XtZ, YtY, P, n, tinds, rinds, cinds, cinds_permuted, vinds)\n",
        "t2 = time.time()\n",
        "\n",
        "print(t2-t1)\n",
        "print((t2-t1)*100*100*100/(nv*60*60))"
      ],
      "execution_count": 0,
      "outputs": []
    },
    {
      "cell_type": "code",
      "metadata": {
        "id": "5piUAH8ckqKX",
        "colab_type": "code",
        "colab": {}
      },
      "source": [
        "print(llhmap.shape)\n",
        "llhmap_imageformat = llhmap.reshape((dimv[0],dimv[1],dimv[2]))\n",
        "\n",
        "imshow(llhmap_imageformat[1,:,:].reshape(dimv[0],dimv[1]), \\\n",
        "                    interpolation='nearest', aspect='auto')\n",
        "\n",
        "plt.colorbar()\n"
      ],
      "execution_count": 0,
      "outputs": []
    },
    {
      "cell_type": "markdown",
      "metadata": {
        "id": "pR2epLIRi95N",
        "colab_type": "text"
      },
      "source": [
        "### Idea 4: Large sparse diagonals\n",
        "\n",
        "Below is a brief concept check... it didn't work consistently."
      ]
    },
    {
      "cell_type": "code",
      "metadata": {
        "id": "oZNddOmJi-OX",
        "colab_type": "code",
        "colab": {}
      },
      "source": [
        "# Concept check\n",
        "LamtZtZLam2 = LamtZtZLam\n",
        "t1 = time.time()\n",
        "for i in np.arange(100):\n",
        "  LamtZtZLam2 = cvxopt.spdiag([LamtZtZLam2,LamtZtZLam])\n",
        "f=sparse_chol(LamtZtZLam2)\n",
        "t2 = time.time()\n",
        "print(t2-t1)\n",
        "\n",
        "t1 = time.time()\n",
        "for i in np.arange(101):\n",
        "  f=sparse_chol(LamtZtZLam)\n",
        "t2 = time.time()\n",
        "print(t2-t1)"
      ],
      "execution_count": 0,
      "outputs": []
    },
    {
      "cell_type": "markdown",
      "metadata": {
        "id": "SCNtb5-TdAal",
        "colab_type": "text"
      },
      "source": [
        "### Idea 5: Smooth between iterations\n",
        "\n",
        "This idea is relatively simple. Specify a number of smoothing steps, say 10 and, at regular intervals between 1 and \"tol\" stop the iteration, smooth the estimates and then continue. This is inspired by the observation in idea 2 that reusing estimates between voxels did have some limited positive effect on time efficiency.\n"
      ]
    },
    {
      "cell_type": "code",
      "metadata": {
        "id": "PXkSM5mmc_gA",
        "colab_type": "code",
        "colab": {}
      },
      "source": [
        "# Initialize temporary X'X, X'Z, Z'X and Z'Z\n",
        "XtZtmp = matrix(XtZ[0,:,:])\n",
        "ZtXtmp = matrix(ZtX[0,:,:])\n",
        "ZtZtmp = cvxopt.sparse(matrix(ZtZ[0,:,:]))\n",
        "XtXtmp = matrix(XtX[0,:,:])\n",
        "\n",
        "# Initial theta value. Bates (2005) suggests using [vech(I_q1),...,vech(I_qr)] where I is the identity matrix\n",
        "theta0 = np.array([])\n",
        "for i in np.arange(r):\n",
        "  theta0 = np.hstack((theta0, mat2vech(np.eye(nparams[i])).reshape(np.int64(nparams[i]*(nparams[i]+1)/2))))\n",
        "\n",
        "# Initialize empty estimates\n",
        "beta_est = np.zeros(beta.shape)\n",
        "theta_est_3D = np.zeros((beta.shape[0], theta0.shape[0]))\n",
        "\n",
        "# Obtain a random Lambda matrix with the correct sparsity for the permutation vector\n",
        "tinds,rinds,cinds=get_mapping(nlevels, nparams)\n",
        "Lam=mapping(np.random.randn(theta0.shape[0]),tinds,rinds,cinds)\n",
        "\n",
        "# Obtain Lambda'Z'ZLambda\n",
        "LamtZtZLam = spmatrix.trans(Lam)*cvxopt.sparse(matrix(ZtZtmp))*Lam\n",
        "\n",
        "\n",
        "# Identity (Actually quicker to calculate outside of estimation)\n",
        "I = spmatrix(1.0, range(Lam.size[0]), range(Lam.size[0]))\n",
        "\n",
        "# Obtaining permutation for PLS\n",
        "P=cvxopt.amd.order(LamtZtZLam)\n",
        "\n",
        "tolArray = np.array([1e-2,1e-4,1e-6])\n",
        "\n",
        "for tolVal in tolArray:\n",
        "  \n",
        "  t1 = time.time()\n",
        "  for i in np.arange(nv):\n",
        "\n",
        "    print(i)\n",
        "\n",
        "    XtYtmp = matrix(XtY[i,:,:]) \n",
        "    ZtYtmp = matrix(ZtY[i,:,:]) \n",
        "    YtYtmp = matrix(YtY[i,:,:]) \n",
        "    YtZtmp = matrix(YtZ[i,:,:])\n",
        "    YtXtmp = matrix(YtX[i,:,:])\n",
        "\n",
        "    if tolVal==tolArray[0]:\n",
        "      theta_est = minimize(PLS, theta0, args=(ZtXtmp, ZtYtmp, XtXtmp, ZtZtmp, XtYtmp, YtXtmp, YtZtmp, XtZtmp, YtYtmp, n, P, I, tinds, rinds, cinds), method='L-BFGS-B', tol=tolVal)\n",
        "    else:\n",
        "      theta_est = minimize(PLS, theta_est_3D[i,:], args=(ZtXtmp, ZtYtmp, XtXtmp, ZtZtmp, XtYtmp, YtXtmp, YtZtmp, XtZtmp, YtYtmp, n, P, I, tinds, rinds, cinds), method='L-BFGS-B', tol=tolVal)\n",
        "      \n",
        "    nit = theta_est.nit\n",
        "    theta_est_3D[i,:] = theta_est.x\n",
        "    print(nit)\n",
        "\n",
        "  t2 = time.time()\n",
        "  print(\"Time taken in seconds for this tol:\" + str(tolVal))\n",
        "  print(t2-t1)\n",
        "  print(\"Estimated time taken for this example on a nifti of size (100x100x100), in hours:\")\n",
        "  print(100*100*100*(t2-t1)/(nv*60*60))\n",
        "  \n",
        "  t1 = time.time()\n",
        "  \n",
        "  for j in np.arange(theta_est_3D.shape[1]):\n",
        "    \n",
        "    # Get the theta estimates for one theta parameter.\n",
        "    theta_est_us = theta_est_3D[:,j].reshape(dimv[0],dimv[1],dimv[2])\n",
        "    \n",
        "    # Some random affine, not hugely important\n",
        "    affine = np.diag([1, 1, 1, 1])\n",
        "    theta_est_us_nii = nib.Nifti1Image(theta_est_us, affine)\n",
        "\n",
        "    # Smoothed theta nifti\n",
        "    theta_est_s_nii = nilearn.image.smooth_img(theta_est_us_nii, 5)\n",
        "\n",
        "    # Final theta estimate\n",
        "    theta_est_3D[:,j] = theta_est_s_nii.get_fdata().reshape(theta_est_3D[:,j].shape)\n",
        "  \n",
        "  t2 = time.time()\n",
        "  \n",
        "  print(\"Time taken smoothing\")\n",
        "  print(t2-t1)\n",
        "  print(\"Estimated time taken for this smoothing on a nifti of size (100x100x100), in hours:\")\n",
        "  print(100*100*100*(t2-t1)/(nv*60*60))\n",
        "  \n",
        "  \n",
        "  \n"
      ],
      "execution_count": 0,
      "outputs": []
    },
    {
      "cell_type": "markdown",
      "metadata": {
        "id": "BPT7ufJlX6jg",
        "colab_type": "text"
      },
      "source": [
        "### Sandbox"
      ]
    },
    {
      "cell_type": "code",
      "metadata": {
        "id": "54iwTXilX6CV",
        "colab_type": "code",
        "colab": {}
      },
      "source": [
        "import cvxopt.amd\n",
        "import cvxopt\n",
        "from cvxopt import cholmod\n",
        "import numpy as np\n",
        "import dask.array as da\n",
        "import dask\n",
        "import time\n",
        "import sparse\n",
        "import os\n",
        "import tensorflow as tf\n",
        "\n",
        "os.environ[\"SPARSE_AUTO_DENSIFY\"] = \"1\"\n",
        "runningnptime=np.zeros(1000)\n",
        "runningsptime=np.zeros(1000)\n",
        "runningdatime=np.zeros(1000)\n",
        "runningdaptime=np.zeros(1000)\n",
        "runningcvxtime=np.zeros(1000)\n",
        "runningcvxptime=np.zeros(1000)\n",
        "\n",
        "dask.config.set({'array.chunk-size':'20MiB'})\n",
        "for n in np.arange(800,1000):\n",
        "  for i in np.arange(1):\n",
        "    print(n)\n",
        "    print(i)\n",
        "    X = np.random.randn(n+1,n+1)\n",
        "    X[X<1.7]=0\n",
        "    X = X + np.eye(n+1)\n",
        "\n",
        "    XtX = np.matmul(X.transpose(), X)\n",
        "\n",
        "    XtX_tf = tf.constant(XtX)\n",
        "\n",
        "    XtX_cvxopt = cvxopt.sparse(cvxopt.matrix(XtX))\n",
        "    P = cvxopt.amd.order(XtX_cvxopt)\n",
        "\n",
        "    P_np = np.array(P[:]).reshape(n+1)\n",
        "\n",
        "    #print(P_np)\n",
        "    # To get the permuted X from the amd ordering must do X[:,P]\n",
        "    XtX_P = np.matmul((X[:,P_np]).transpose(),X[:,P_np])\n",
        "    XtX_tf_P = tf.constant(XtX_P)\n",
        "\n",
        "    #print(X[P_np,:].shape)\n",
        "\n",
        "    XtX_P_cvxopt = XtX_cvxopt[P,P]\n",
        "\n",
        "    #print(XtX_P)\n",
        "    #print(XtX_P_cvxopt)\n",
        "\n",
        "    #print(cvxopt.sparse(cvxopt.matrix(XtX_P))-XtX_P_cvxopt)\n",
        "\n",
        "\n",
        "    F=sparse_chol(XtX_cvxopt, perm=None, retF=False, retP=True, retL=True)\n",
        "\n",
        "    L_cvxopt_spchol = F['L']\n",
        "\n",
        "    #print(L_cvxopt_spchol*spmatrix.trans(L_cvxopt_spchol)-cvxopt.sparse(cvxopt.matrix(XtX_P)))\n",
        "\n",
        "    t1 = time.time()\n",
        "    L_np_chol = np.linalg.cholesky(XtX)\n",
        "    t2 = time.time()\n",
        "    nptime=t2-t1\n",
        "\n",
        "    t1 = time.time()\n",
        "    L_np_spchol = np.linalg.cholesky(XtX_P)\n",
        "    t2 = time.time()\n",
        "    sptime=t2-t1\n",
        "\n",
        "    XtX_da = da.from_array(XtX, chunks=\"auto\").map_blocks(sparse.COO)\n",
        "    XtX_da_P = da.from_array(XtX_P, chunks=\"auto\").map_blocks(sparse.COO)\n",
        "    print(XtX_da.chunks)\n",
        "\n",
        "    #da.map_blocks()\n",
        "\n",
        "    t1 = time.time()\n",
        "    L_dap_chol = da.linalg.cholesky(XtX_da_P).compute()\n",
        "    t2 = time.time()\n",
        "    daptime=t2-t1\n",
        "\n",
        "    t1 = time.time()\n",
        "    L_da_chol = da.linalg.cholesky(XtX_da).compute()\n",
        "    t2 = time.time()\n",
        "    datime=t2-t1\n",
        "\n",
        "    t1 = time.time()\n",
        "    L_cvxp_chol = sparse_chol(XtX_P_cvxopt, perm=None, retF=False, retP=False, retL=True)\n",
        "    t2 = time.time()\n",
        "    cvxptime=t2-t1\n",
        "\n",
        "    t1 = time.time()\n",
        "    L_cvx_chol = sparse_chol(XtX_cvxopt, perm=None, retF=False, retP=False, retL=True)\n",
        "    t2 = time.time()\n",
        "    cvxtime=t2-t1\n",
        "\n",
        "    runningnptime[n] = runningnptime[n] + nptime\n",
        "    runningsptime[n] = runningsptime[n] + sptime\n",
        "    runningdatime[n] = runningdatime[n] + datime\n",
        "    runningdaptime[n] = runningdaptime[n] + daptime\n",
        "    runningcvxtime[n] = runningcvxtime[n] + cvxtime\n",
        "    runningcvxptime[n] = runningcvxptime[n] + cvxptime\n"
      ],
      "execution_count": 0,
      "outputs": []
    },
    {
      "cell_type": "code",
      "metadata": {
        "id": "zYNnmvll3BEE",
        "colab_type": "code",
        "colab": {}
      },
      "source": [
        "\n",
        "\n",
        "#print(runningdatime)\n",
        "#print(runningdaptime)\n",
        "\n",
        "fig = plt.figure()\n",
        "ax1 = fig.add_subplot(111)\n",
        "\n",
        "ax1.scatter(np.arange(800,1000),runningdatime[800:1000], marker=\"x\", label='Dask array without amd')\n",
        "ax1.scatter(np.arange(800,1000),runningdaptime[800:1000], marker=\"x\", label='Dask array with amd')\n",
        "ax1.scatter(np.arange(800,1000),runningcvxtime[800:1000], marker=\"x\", label='Cvxopt array without amd')\n",
        "ax1.scatter(np.arange(800,1000),runningcvxptime[800:1000], marker=\"x\", label='Cvxopt array with amd')\n",
        "ax1.scatter(np.arange(800,1000),runningnptime[800:1000], marker=\"x\", label='Numpy array without amd')\n",
        "ax1.scatter(np.arange(800,1000),runningsptime[800:1000], marker=\"x\", label='Numpy array with amd')\n",
        "plt.legend(loc='upper left');\n",
        "plt.ylim(-0.002, 0.1)\n",
        "plt.show()"
      ],
      "execution_count": 0,
      "outputs": []
    },
    {
      "cell_type": "code",
      "metadata": {
        "id": "jFOXArMV0NX2",
        "colab_type": "code",
        "colab": {}
      },
      "source": [
        "X = np.random.randn(10,10)\n",
        "X[X<1.7]=0\n",
        "X = X + np.eye(10)\n",
        "\n",
        "XtX = np.matmul(X.transpose(), X)\n",
        "\n",
        "XtX_cvxopt = cvxopt.sparse(cvxopt.matrix(XtX))\n",
        "P = cvxopt.amd.order(XtX_cvxopt)\n",
        "print(P)\n",
        "\n",
        "print(XtX_cvxopt.J)\n",
        "XtX_permuted = XtX[:,np.array(P[:]).reshape(P.size[0])]\n",
        "print(XtX_permuted.shape)\n",
        "XtX_permuted = scipy.sparse.csr_matrix(XtX_permuted)\n",
        "\n",
        "rowinds = XtX_cvxopt.I\n",
        "colinds = XtX_cvxopt.J\n",
        "data = XtX_cvxopt.V\n",
        "\n",
        "P = np.array(P[:]).reshape(P.size[0])\n",
        "invP = np.arange(len(P))[np.argsort(P)]\n",
        "print(invP)\n",
        "colinds_perm = invP[XtX_cvxopt.J]\n",
        "\n",
        "print(np.array(data[:]).shape)\n",
        "print(np.array(rowinds[:]).shape)\n",
        "print(np.array(colinds_perm[:]).shape)\n",
        "\n",
        "rowinds = np.array(rowinds[:])\n",
        "colinds_perm = np.array(colinds_perm[:])\n",
        "data = np.array(data[:])\n",
        "\n",
        "rowinds = rowinds.reshape(rowinds.shape[0])\n",
        "colinds_perm = colinds_perm.reshape(colinds_perm.shape[0])\n",
        "data = data.reshape(data.shape[0])\n",
        "\n",
        "XtX_permuted2 = scipy.sparse.csr_matrix((data, (rowinds, colinds_perm)))\n",
        "\n",
        "import sys\n",
        "np.set_printoptions(threshold=sys.maxsize)\n",
        "\n",
        "\n",
        "print(XtX_permuted.toarray()-XtX_permuted2.toarray())"
      ],
      "execution_count": 0,
      "outputs": []
    },
    {
      "cell_type": "code",
      "metadata": {
        "id": "xn8aEz01u2mp",
        "colab_type": "code",
        "colab": {}
      },
      "source": [
        "print(XtX)"
      ],
      "execution_count": 0,
      "outputs": []
    },
    {
      "cell_type": "code",
      "metadata": {
        "id": "8hWHKvosvWY8",
        "colab_type": "code",
        "colab": {}
      },
      "source": [
        "import numba\n",
        "import cvxopt\n",
        "from cvxopt import cholmod\n",
        "from cvxopt import sparse\n",
        "from cvxopt import matrix\n",
        "import numpy as np\n",
        "import time\n",
        "\n",
        "@numba.jit(forceobj=True, parallel=True)\n",
        "def multicvxopt(XtX):\n",
        "  \n",
        "  np.linalg.cholesky(XtX)\n",
        "    \n",
        "    \n",
        "def spcholblock(XtX):\n",
        "  \n",
        "  tmp = LambdatZtZLambda[i,:,:].compute()\n",
        "  data = tmp.data\n",
        "  coords = tmp.coords\n",
        "  chol_dict = sparse_chol(spmatrix(data, coords[0,:],coords[1,:],size=(Lambda.shape[1],Lambda.shape[1]))+I, perm=P, retF=True, retP=False, retL=False)\n",
        "  \n",
        "#dask.array.map_blocks()\n",
        "\n",
        "XtX = np.zeros((1,1000,1000))\n",
        "for i in np.arange(1):\n",
        "    X = np.random.randn(1000,1000)\n",
        "    X[X<1.7]=0\n",
        "    X = X + np.eye(1000)\n",
        "\n",
        "    XtXi = np.matmul(X.transpose(), X)\n",
        "\n",
        "    XtX[i,:,:] = XtXi\n",
        "    \n",
        "t1 = time.time()\n",
        "multicvxopt(XtX)\n",
        "t2 = time.time()\n",
        "print(t2-t1)\n",
        "\n",
        "t1 = time.time()\n",
        "multicvxopt(XtX)\n",
        "t2 = time.time()\n",
        "print(t2-t1)\n",
        "\n",
        "\n",
        "t1 = time.time()\n",
        "for i in np.arange(XtX.shape[0]):\n",
        "\n",
        "  XtXi=cvxopt.sparse(cvxopt.matrix(XtX[i,:,:]))\n",
        "  \n",
        "  t1 = time.time()\n",
        "  F=cholmod.symbolic(XtXi)\n",
        "  cholmod.numeric(XtXi, F)\n",
        "  L=cholmod.getfactor(F)\n",
        "  t2 = time.time()\n",
        "  print(t2-t1)\n",
        "  \n",
        "t2 = time.time()\n",
        "print(t2-t1)"
      ],
      "execution_count": 0,
      "outputs": []
    },
    {
      "cell_type": "code",
      "metadata": {
        "id": "N-oH5gUphhJ_",
        "colab_type": "code",
        "colab": {}
      },
      "source": [
        "from sparse import COO\n",
        "import sparse\n",
        "\n",
        "def GaxCholBC2(XtX):\n",
        "  \n",
        "  print(XtX)\n",
        "  \n",
        "  for i in np.arange(XtX.shape[0]):\n",
        "    \n",
        "    print(i)\n",
        "    \n",
        "    for j in np.arange(XtX.shape[1]):\n",
        "      \n",
        "      print(j)\n",
        "\n",
        "      if j > 0:\n",
        "        \n",
        "        FirstProd = XtX[i,j:,:j]\n",
        "        SecondProd = XtX[i,:j,j]\n",
        "          \n",
        "        XtX[i,j:,j] = XtX[i,j:,j] - sparse.matmul(FirstProd,SecondProd)\n",
        "\n",
        "      XtX[i,j:,j] = XtX[i,j:,j]/np.sqrt(XtX[i,j,j])\n",
        "\n",
        "  return(A)\n",
        "\n",
        "XtX = np.zeros((10000,50,50))\n",
        "for i in np.arange(10000):\n",
        "  X = np.random.randn(50,50)\n",
        "  X[X<1.7]=0\n",
        "  X = X + np.eye(50)\n",
        "\n",
        "  XtXi = np.matmul(X.transpose(), X)\n",
        "\n",
        "  XtX[i,:,:] = XtXi\n",
        "  \n",
        "XtX = sparse.COO.from_numpy(XtX)\n",
        "\n",
        "GaxCholBC2(XtX)"
      ],
      "execution_count": 0,
      "outputs": []
    },
    {
      "cell_type": "markdown",
      "metadata": {
        "id": "zULOU154BE6k",
        "colab_type": "text"
      },
      "source": [
        "### Idea 6: Divide and Conquer"
      ]
    },
    {
      "cell_type": "code",
      "metadata": {
        "id": "hdAmz9BtBFC_",
        "colab_type": "code",
        "colab": {}
      },
      "source": [
        "def divAndConq(init_theta, current_inds, ZtX, ZtY, XtX, ZtZ, XtY, YtX, YtZ, XtZ, YtY, n, P, I, tinds, rinds, cinds):\n",
        "  \n",
        "  # Number of voxels and dimension of block we are looking at\n",
        "  current_dimv = current_inds.shape\n",
        "  current_nv = np.prod(current_dimv)\n",
        "  \n",
        "  # Current indices as a vector\n",
        "  current_inds_vec = current_inds.reshape(current_nv)\n",
        "  \n",
        "  # Matrices for estimating mean of current block\n",
        "  XtX_current = cvxopt.matrix(XtX[0,:,:])\n",
        "  XtY_current = cvxopt.matrix(np.mean(XtY[current_inds_vec,:,:], axis=0))\n",
        "  XtZ_current = cvxopt.matrix(XtZ[0,:,:])\n",
        "  YtX_current = cvxopt.matrix(np.mean(YtX[current_inds_vec,:,:],axis=0))\n",
        "  YtY_current = cvxopt.matrix(np.mean(YtY[current_inds_vec,:,:],axis=0))\n",
        "  YtZ_current = cvxopt.matrix(np.mean(YtZ[current_inds_vec,:,:],axis=0))\n",
        "  ZtX_current = cvxopt.matrix(ZtX[0,:,:])\n",
        "  ZtY_current = cvxopt.matrix(np.mean(ZtY[current_inds_vec,:,:],axis=0))\n",
        "  ZtZ_current = cvxopt.sparse(cvxopt.matrix(ZtZ[0,:,:]))\n",
        "  \n",
        "  # Get new theta\n",
        "  tmp = minimize(PLS, init_theta, args=(ZtX_current, ZtY_current, XtX_current, ZtZ_current, XtY_current, YtX_current, YtZ_current, XtZ_current, YtY_current, n, P, I, tinds, rinds, cinds), method='L-BFGS-B', tol=1e-6)\n",
        "  new_theta = tmp.x\n",
        "  \n",
        "  if current_nv > 1e3:\n",
        "    print('nv: ', current_nv)\n",
        "    print('nit: ', tmp.nit)\n",
        "\n",
        "  \n",
        "  if current_dimv[0]!=1 and current_dimv[1]!=1 and current_dimv[2]!=1:\n",
        "  \n",
        "    # Split into blocks - assuming current inds is a block\n",
        "    current_inds_block1 = current_inds[:(current_dimv[0]//2),:(current_dimv[1]//2),:(current_dimv[2]//2)]\n",
        "    current_inds_block2 = current_inds[(current_dimv[0]//2):,:(current_dimv[1]//2),:(current_dimv[2]//2)]\n",
        "    current_inds_block3 = current_inds[:(current_dimv[0]//2),(current_dimv[1]//2):,:(current_dimv[2]//2)]\n",
        "    current_inds_block4 = current_inds[:(current_dimv[0]//2),:(current_dimv[1]//2),(current_dimv[2]//2):]\n",
        "    current_inds_block5 = current_inds[(current_dimv[0]//2):,(current_dimv[1]//2):,:(current_dimv[2]//2)]\n",
        "    current_inds_block6 = current_inds[(current_dimv[0]//2):,:(current_dimv[1]//2),(current_dimv[2]//2):]\n",
        "    current_inds_block7 = current_inds[:(current_dimv[0]//2),(current_dimv[1]//2):,(current_dimv[2]//2):]\n",
        "    current_inds_block8 = current_inds[(current_dimv[0]//2):,(current_dimv[1]//2):,(current_dimv[2]//2):]\n",
        "  \n",
        "    divAndConq(new_theta, current_inds_block1, ZtX, ZtY, XtX, ZtZ, XtY, YtX, YtZ, XtZ, YtY, n, P, I, tinds, rinds, cinds)\n",
        "    divAndConq(new_theta, current_inds_block2, ZtX, ZtY, XtX, ZtZ, XtY, YtX, YtZ, XtZ, YtY, n, P, I, tinds, rinds, cinds)\n",
        "    divAndConq(new_theta, current_inds_block3, ZtX, ZtY, XtX, ZtZ, XtY, YtX, YtZ, XtZ, YtY, n, P, I, tinds, rinds, cinds)\n",
        "    divAndConq(new_theta, current_inds_block4, ZtX, ZtY, XtX, ZtZ, XtY, YtX, YtZ, XtZ, YtY, n, P, I, tinds, rinds, cinds)\n",
        "    divAndConq(new_theta, current_inds_block5, ZtX, ZtY, XtX, ZtZ, XtY, YtX, YtZ, XtZ, YtY, n, P, I, tinds, rinds, cinds)\n",
        "    divAndConq(new_theta, current_inds_block6, ZtX, ZtY, XtX, ZtZ, XtY, YtX, YtZ, XtZ, YtY, n, P, I, tinds, rinds, cinds)\n",
        "    divAndConq(new_theta, current_inds_block7, ZtX, ZtY, XtX, ZtZ, XtY, YtX, YtZ, XtZ, YtY, n, P, I, tinds, rinds, cinds)\n",
        "    divAndConq(new_theta, current_inds_block8, ZtX, ZtY, XtX, ZtZ, XtY, YtX, YtZ, XtZ, YtY, n, P, I, tinds, rinds, cinds)\n",
        "  \n",
        "  elif current_dimv[0]!=1 and current_dimv[1]!=1:\n",
        "    \n",
        "    # Split into blocks - assuming current inds is a block\n",
        "    current_inds_block1 = current_inds[:(current_dimv[0]//2),:(current_dimv[1]//2),:]\n",
        "    current_inds_block2 = current_inds[(current_dimv[0]//2):,:(current_dimv[1]//2),:]\n",
        "    current_inds_block3 = current_inds[:(current_dimv[0]//2),(current_dimv[1]//2):,:]\n",
        "    current_inds_block4 = current_inds[(current_dimv[0]//2):,(current_dimv[1]//2):,:]\n",
        "  \n",
        "    divAndConq(new_theta, current_inds_block1, ZtX, ZtY, XtX, ZtZ, XtY, YtX, YtZ, XtZ, YtY, n, P, I, tinds, rinds, cinds)\n",
        "    divAndConq(new_theta, current_inds_block2, ZtX, ZtY, XtX, ZtZ, XtY, YtX, YtZ, XtZ, YtY, n, P, I, tinds, rinds, cinds)\n",
        "    divAndConq(new_theta, current_inds_block3, ZtX, ZtY, XtX, ZtZ, XtY, YtX, YtZ, XtZ, YtY, n, P, I, tinds, rinds, cinds)\n",
        "    divAndConq(new_theta, current_inds_block4, ZtX, ZtY, XtX, ZtZ, XtY, YtX, YtZ, XtZ, YtY, n, P, I, tinds, rinds, cinds)\n",
        "    \n",
        "  elif current_dimv[0]!=1 and current_dimv[2]!=1:\n",
        "\n",
        "    # Split into blocks - assuming current inds is a block\n",
        "    current_inds_block1 = current_inds[:(current_dimv[0]//2),:,:(current_dimv[2]//2)]\n",
        "    current_inds_block2 = current_inds[(current_dimv[0]//2):,:,:(current_dimv[2]//2)]\n",
        "    current_inds_block3 = current_inds[:(current_dimv[0]//2),:,(current_dimv[2]//2):]\n",
        "    current_inds_block4 = current_inds[(current_dimv[0]//2):,:,(current_dimv[2]//2):]\n",
        "  \n",
        "    divAndConq(new_theta, current_inds_block1, ZtX, ZtY, XtX, ZtZ, XtY, YtX, YtZ, XtZ, YtY, n, P, I, tinds, rinds, cinds)\n",
        "    divAndConq(new_theta, current_inds_block2, ZtX, ZtY, XtX, ZtZ, XtY, YtX, YtZ, XtZ, YtY, n, P, I, tinds, rinds, cinds)\n",
        "    divAndConq(new_theta, current_inds_block3, ZtX, ZtY, XtX, ZtZ, XtY, YtX, YtZ, XtZ, YtY, n, P, I, tinds, rinds, cinds)\n",
        "    divAndConq(new_theta, current_inds_block4, ZtX, ZtY, XtX, ZtZ, XtY, YtX, YtZ, XtZ, YtY, n, P, I, tinds, rinds, cinds)\n",
        "    \n",
        "  \n",
        "  elif current_dimv[1]!=1 and current_dimv[2]!=1:\n",
        "\n",
        "    # Split into blocks - assuming current inds is a block\n",
        "    current_inds_block1 = current_inds[:,:(current_dimv[1]//2),:(current_dimv[2]//2)]\n",
        "    current_inds_block2 = current_inds[:,(current_dimv[1]//2):,:(current_dimv[2]//2)]\n",
        "    current_inds_block3 = current_inds[:,:(current_dimv[1]//2),(current_dimv[2]//2):]\n",
        "    current_inds_block4 = current_inds[:,(current_dimv[1]//2):,(current_dimv[2]//2):]\n",
        "  \n",
        "    divAndConq(new_theta, current_inds_block1, ZtX, ZtY, XtX, ZtZ, XtY, YtX, YtZ, XtZ, YtY, n, P, I, tinds, rinds, cinds)\n",
        "    divAndConq(new_theta, current_inds_block2, ZtX, ZtY, XtX, ZtZ, XtY, YtX, YtZ, XtZ, YtY, n, P, I, tinds, rinds, cinds)\n",
        "    divAndConq(new_theta, current_inds_block3, ZtX, ZtY, XtX, ZtZ, XtY, YtX, YtZ, XtZ, YtY, n, P, I, tinds, rinds, cinds)\n",
        "    divAndConq(new_theta, current_inds_block4, ZtX, ZtY, XtX, ZtZ, XtY, YtX, YtZ, XtZ, YtY, n, P, I, tinds, rinds, cinds)\n",
        "    \n",
        "  elif current_dimv[0]!=1:\n",
        "    \n",
        "    current_inds_block1 = current_inds[:(current_dimv[0]//2),:,:]\n",
        "    current_inds_block2 = current_inds[(current_dimv[0]//2):,:,:]\n",
        "    \n",
        "    divAndConq(new_theta, current_inds_block1, ZtX, ZtY, XtX, ZtZ, XtY, YtX, YtZ, XtZ, YtY, n, P, I, tinds, rinds, cinds)\n",
        "    divAndConq(new_theta, current_inds_block2, ZtX, ZtY, XtX, ZtZ, XtY, YtX, YtZ, XtZ, YtY, n, P, I, tinds, rinds, cinds)\n",
        "  \n",
        "  elif current_dimv[1]!=1:\n",
        "    \n",
        "    current_inds_block1 = current_inds[:,:(current_dimv[1]//2),:]\n",
        "    current_inds_block2 = current_inds[:,(current_dimv[1]//2):,:]\n",
        "    \n",
        "    divAndConq(new_theta, current_inds_block1, ZtX, ZtY, XtX, ZtZ, XtY, YtX, YtZ, XtZ, YtY, n, P, I, tinds, rinds, cinds)\n",
        "    divAndConq(new_theta, current_inds_block2, ZtX, ZtY, XtX, ZtZ, XtY, YtX, YtZ, XtZ, YtY, n, P, I, tinds, rinds, cinds)\n",
        "  \n",
        "  elif current_dimv[2]!=1:\n",
        "    \n",
        "    current_inds_block1 = current_inds[:,:,:(current_dimv[2]//2)]\n",
        "    current_inds_block2 = current_inds[:,:,(current_dimv[2]//2):]\n",
        "    \n",
        "    divAndConq(new_theta, current_inds_block1, ZtX, ZtY, XtX, ZtZ, XtY, YtX, YtZ, XtZ, YtY, n, P, I, tinds, rinds, cinds)\n",
        "    divAndConq(new_theta, current_inds_block2, ZtX, ZtY, XtX, ZtZ, XtY, YtX, YtZ, XtZ, YtY, n, P, I, tinds, rinds, cinds)\n",
        "  \n",
        "  #print('considering... ')\n",
        "  #print(current_inds)\n",
        "  #print('current dimv')\n",
        "  #print(current_dimv)\n",
        "  \n",
        "  #PLS(theta, ZtX, ZtY, XtX, ZtZ, XtY, YtX, YtZ, XtZ, YtY, n, P, I, tinds, rinds, cinds)\n",
        "  \n",
        "t1 = time.time()\n",
        "divAndConq(theta0, inds, ZtX, ZtY, XtX, ZtZ, XtY, YtX, YtZ, XtZ, YtY, n, P, I, tinds, rinds, cinds)\n",
        "t2 = time.time()\n",
        "print('Time taken (seconds):', t2-t1)\n",
        "print('Estimated time taken on Nifti of size 100 by 100 by 100 (hours):', (t2-t1)*100*100*100/(nv*60*60))"
      ],
      "execution_count": 0,
      "outputs": []
    },
    {
      "cell_type": "code",
      "metadata": {
        "id": "qYPAtn7ZGP5Q",
        "colab_type": "code",
        "colab": {}
      },
      "source": [
        "import numpy as np\n",
        "x = np.random.randn(10,2,2)\n",
        "print(x.shape)\n",
        "\n",
        "\n",
        "print(np.mean(x,axis=0).shape)"
      ],
      "execution_count": 0,
      "outputs": []
    },
    {
      "cell_type": "code",
      "metadata": {
        "id": "YBYuLIE2RbOm",
        "colab_type": "code",
        "colab": {}
      },
      "source": [
        "def divAndConq2(init_theta, current_inds, ZtX, ZtY, XtX, ZtZ, XtY, YtX, YtZ, XtZ, YtY, n, P, I, tinds, rinds, cinds):\n",
        "  \n",
        "  # Number of voxels and dimension of block we are looking at\n",
        "  current_dimv = current_inds.shape\n",
        "  current_nv = np.prod(current_dimv)\n",
        "  \n",
        "  # Current indices as a vector\n",
        "  current_inds_vec = current_inds.reshape(current_nv)\n",
        "  \n",
        "  # Matrices for estimating mean of current block\n",
        "  XtX_current = cvxopt.matrix(XtX[0,:,:])\n",
        "  XtY_current = cvxopt.matrix(np.mean(XtY[current_inds_vec,:,:], axis=0))\n",
        "  XtZ_current = cvxopt.matrix(XtZ[0,:,:])\n",
        "  YtX_current = cvxopt.matrix(np.mean(YtX[current_inds_vec,:,:],axis=0))\n",
        "  YtY_current = cvxopt.matrix(np.mean(YtY[current_inds_vec,:,:],axis=0))\n",
        "  YtZ_current = cvxopt.matrix(np.mean(YtZ[current_inds_vec,:,:],axis=0))\n",
        "  ZtX_current = cvxopt.matrix(ZtX[0,:,:])\n",
        "  ZtY_current = cvxopt.matrix(np.mean(ZtY[current_inds_vec,:,:],axis=0))\n",
        "  ZtZ_current = cvxopt.sparse(cvxopt.matrix(ZtZ[0,:,:]))\n",
        "  \n",
        "  # Get new theta\n",
        "  tmp = minimize(PLS, init_theta, args=(ZtX_current, ZtY_current, XtX_current, ZtZ_current, XtY_current, YtX_current, YtZ_current, XtZ_current, YtY_current, n, P, I, tinds, rinds, cinds), method='L-BFGS-B', tol=1e-6)\n",
        "  new_theta = tmp.x\n",
        "  \n",
        "  if current_nv > 1e3:\n",
        "    print('nv: ', current_nv)\n",
        "    print('nit: ', tmp.nit)\n",
        "\n",
        "  \n",
        "  if np.amax(current_dimv)!=1:\n",
        "    \n",
        "    if np.amax(current_dimv)==current_dimv[0]:\n",
        "  \n",
        "      # Split into blocks - assuming current inds is a block\n",
        "      current_inds_block1 = current_inds[:(current_dimv[0]//2),:,:]\n",
        "      current_inds_block2 = current_inds[(current_dimv[0]//2):,:,:]\n",
        "\n",
        "      divAndConq2(new_theta, current_inds_block1, ZtX, ZtY, XtX, ZtZ, XtY, YtX, YtZ, XtZ, YtY, n, P, I, tinds, rinds, cinds)\n",
        "      divAndConq2(new_theta, current_inds_block2, ZtX, ZtY, XtX, ZtZ, XtY, YtX, YtZ, XtZ, YtY, n, P, I, tinds, rinds, cinds)\n",
        "  \n",
        "\n",
        "    elif np.amax(current_dimv)==current_dimv[1]:\n",
        "\n",
        "      current_inds_block1 = current_inds[:,:(current_dimv[1]//2),:]\n",
        "      current_inds_block2 = current_inds[:,(current_dimv[1]//2):,:]\n",
        "\n",
        "      divAndConq2(new_theta, current_inds_block1, ZtX, ZtY, XtX, ZtZ, XtY, YtX, YtZ, XtZ, YtY, n, P, I, tinds, rinds, cinds)\n",
        "      divAndConq2(new_theta, current_inds_block2, ZtX, ZtY, XtX, ZtZ, XtY, YtX, YtZ, XtZ, YtY, n, P, I, tinds, rinds, cinds)\n",
        "\n",
        "    elif np.amax(current_dimv)==current_dimv[2]:\n",
        "\n",
        "      current_inds_block1 = current_inds[:,:,:(current_dimv[2]//2)]\n",
        "      current_inds_block2 = current_inds[:,:,(current_dimv[2]//2):]\n",
        "\n",
        "      divAndConq2(new_theta, current_inds_block1, ZtX, ZtY, XtX, ZtZ, XtY, YtX, YtZ, XtZ, YtY, n, P, I, tinds, rinds, cinds)\n",
        "      divAndConq2(new_theta, current_inds_block2, ZtX, ZtY, XtX, ZtZ, XtY, YtX, YtZ, XtZ, YtY, n, P, I, tinds, rinds, cinds)\n",
        "  \n",
        "  #print('considering... ')\n",
        "  #print(current_inds)\n",
        "  #print('current dimv')\n",
        "  #print(current_dimv)\n",
        "  \n",
        "  #PLS(theta, ZtX, ZtY, XtX, ZtZ, XtY, YtX, YtZ, XtZ, YtY, n, P, I, tinds, rinds, cinds)\n",
        "  \n",
        "t1 = time.time()\n",
        "divAndConq2(theta0, inds, ZtX, ZtY, XtX, ZtZ, XtY, YtX, YtZ, XtZ, YtY, n, P, I, tinds, rinds, cinds)\n",
        "t2 = time.time()\n",
        "print('Time taken (seconds):', t2-t1)\n",
        "print('Estimated time taken on Nifti of size 100 by 100 by 100 (hours):', (t2-t1)*100*100*100/(nv*60*60))"
      ],
      "execution_count": 0,
      "outputs": []
    },
    {
      "cell_type": "code",
      "metadata": {
        "id": "SYP93Pg1GY4y",
        "colab_type": "code",
        "colab": {}
      },
      "source": [
        "#dimv = np.array([30,30,30])\n",
        "\n",
        "nv = np.prod(dimv)\n",
        "\n",
        "inds = np.arange(nv).reshape(dimv)\n",
        "\n",
        "print(inds)\n",
        "\n",
        "print(inds.reshape(nv))"
      ],
      "execution_count": 0,
      "outputs": []
    },
    {
      "cell_type": "code",
      "metadata": {
        "id": "4JnpaQhXHKKA",
        "colab_type": "code",
        "colab": {}
      },
      "source": [
        "print(3//2)"
      ],
      "execution_count": 0,
      "outputs": []
    },
    {
      "cell_type": "code",
      "metadata": {
        "id": "lfBCTa1oIRMD",
        "colab_type": "code",
        "colab": {}
      },
      "source": [
        "print(theta0.shape)"
      ],
      "execution_count": 0,
      "outputs": []
    },
    {
      "cell_type": "code",
      "metadata": {
        "id": "7i2LJ0xgnfqM",
        "colab_type": "code",
        "colab": {}
      },
      "source": [
        ""
      ],
      "execution_count": 0,
      "outputs": []
    },
    {
      "cell_type": "code",
      "metadata": {
        "id": "s-mEMsaendYN",
        "colab_type": "code",
        "colab": {}
      },
      "source": [
        "# Initial theta value. Bates (2005) suggests using [vech(I_q1),...,vech(I_qr)] where I is the identity matrix\n",
        "theta0 = np.array([])\n",
        "for i in np.arange(r):\n",
        "  theta0 = np.hstack((theta0, mat2vech(np.eye(nparams[i])).reshape(np.int64(nparams[i]*(nparams[i]+1)/2))))\n",
        "\n",
        "P = cvxopt.amd.order(cvxopt.sparse(cvxopt.matrix(ZtZ[0,:,:])))\n",
        "I = spmatrix(1.0, range(ZtZ.shape[1]), range(ZtZ.shape[1]))\n",
        "tinds,rinds,cinds=get_mapping(nlevels, nparams)"
      ],
      "execution_count": 0,
      "outputs": []
    },
    {
      "cell_type": "markdown",
      "metadata": {
        "id": "5RoeSTyUSVJP",
        "colab_type": "text"
      },
      "source": [
        ""
      ]
    },
    {
      "cell_type": "code",
      "metadata": {
        "id": "v6X7u5HongjZ",
        "colab_type": "code",
        "colab": {}
      },
      "source": [
        ""
      ],
      "execution_count": 0,
      "outputs": []
    }
  ]
}