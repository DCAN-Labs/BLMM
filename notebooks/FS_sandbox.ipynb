{
  "nbformat": 4,
  "nbformat_minor": 0,
  "metadata": {
    "colab": {
      "name": "FS_sandbox.ipynb",
      "provenance": [],
      "collapsed_sections": [
        "q4JYRICVBtjl",
        "AS5zhoWCDZ8E"
      ],
      "machine_shape": "hm"
    },
    "kernelspec": {
      "name": "python3",
      "display_name": "Python 3"
    },
    "accelerator": "GPU"
  },
  "cells": [
    {
      "cell_type": "markdown",
      "metadata": {
        "id": "TIMtrhFKB3Ay",
        "colab_type": "text"
      },
      "source": [
        "# FS implementation in python\n",
        "\n",
        "This code implements the Fisher Scoring algorithm for estimating the parameters of linear mixed effects models as described in [Demidenko 2013](https://www.wiley.com/en-us/Mixed+Models%3A+Theory+and+Applications+with+R%2C+2nd+Edition-p-9781118091579)."
      ]
    },
    {
      "cell_type": "markdown",
      "metadata": {
        "id": "GNFQ0-MpQuBm",
        "colab_type": "text"
      },
      "source": [
        "## Pip Installations\n",
        "\n",
        "Pip install everything."
      ]
    },
    {
      "cell_type": "code",
      "metadata": {
        "id": "UX02P0KvBWJr",
        "colab_type": "code",
        "outputId": "1257008f-8ec2-4955-cf57-cdbff49d919f",
        "colab": {
          "base_uri": "https://localhost:8080/"
        }
      },
      "source": [
        "!pip install numpy\n",
        "!pip install pandas\n",
        "!pip install scipy\n",
        "!pip install matplotlib\n",
        "!pip install sparse\n",
        "!pip install nibabel\n",
        "!pip install nilearn"
      ],
      "execution_count": 0,
      "outputs": [
        {
          "output_type": "stream",
          "text": [
            "Requirement already satisfied: numpy in /usr/local/lib/python3.6/dist-packages (1.17.5)\n",
            "Requirement already satisfied: pandas in /usr/local/lib/python3.6/dist-packages (0.25.3)\n",
            "Requirement already satisfied: pytz>=2017.2 in /usr/local/lib/python3.6/dist-packages (from pandas) (2018.9)\n",
            "Requirement already satisfied: numpy>=1.13.3 in /usr/local/lib/python3.6/dist-packages (from pandas) (1.17.5)\n",
            "Requirement already satisfied: python-dateutil>=2.6.1 in /usr/local/lib/python3.6/dist-packages (from pandas) (2.6.1)\n",
            "Requirement already satisfied: six>=1.5 in /usr/local/lib/python3.6/dist-packages (from python-dateutil>=2.6.1->pandas) (1.12.0)\n",
            "Requirement already satisfied: scipy in /usr/local/lib/python3.6/dist-packages (1.4.1)\n",
            "Requirement already satisfied: numpy>=1.13.3 in /usr/local/lib/python3.6/dist-packages (from scipy) (1.17.5)\n",
            "Requirement already satisfied: matplotlib in /usr/local/lib/python3.6/dist-packages (3.1.3)\n",
            "Requirement already satisfied: numpy>=1.11 in /usr/local/lib/python3.6/dist-packages (from matplotlib) (1.17.5)\n",
            "Requirement already satisfied: pyparsing!=2.0.4,!=2.1.2,!=2.1.6,>=2.0.1 in /usr/local/lib/python3.6/dist-packages (from matplotlib) (2.4.6)\n",
            "Requirement already satisfied: kiwisolver>=1.0.1 in /usr/local/lib/python3.6/dist-packages (from matplotlib) (1.1.0)\n",
            "Requirement already satisfied: python-dateutil>=2.1 in /usr/local/lib/python3.6/dist-packages (from matplotlib) (2.6.1)\n",
            "Requirement already satisfied: cycler>=0.10 in /usr/local/lib/python3.6/dist-packages (from matplotlib) (0.10.0)\n",
            "Requirement already satisfied: setuptools in /usr/local/lib/python3.6/dist-packages (from kiwisolver>=1.0.1->matplotlib) (45.2.0)\n",
            "Requirement already satisfied: six>=1.5 in /usr/local/lib/python3.6/dist-packages (from python-dateutil>=2.1->matplotlib) (1.12.0)\n",
            "Requirement already satisfied: sparse in /usr/local/lib/python3.6/dist-packages (0.9.1)\n",
            "Requirement already satisfied: numpy in /usr/local/lib/python3.6/dist-packages (from sparse) (1.17.5)\n",
            "Requirement already satisfied: scipy>=0.19 in /usr/local/lib/python3.6/dist-packages (from sparse) (1.4.1)\n",
            "Requirement already satisfied: numba>=0.45 in /usr/local/lib/python3.6/dist-packages (from sparse) (0.47.0)\n",
            "Requirement already satisfied: llvmlite>=0.31.0dev0 in /usr/local/lib/python3.6/dist-packages (from numba>=0.45->sparse) (0.31.0)\n",
            "Requirement already satisfied: setuptools in /usr/local/lib/python3.6/dist-packages (from numba>=0.45->sparse) (45.2.0)\n",
            "Requirement already satisfied: nibabel in /usr/local/lib/python3.6/dist-packages (2.3.3)\n",
            "Requirement already satisfied: bz2file in /usr/local/lib/python3.6/dist-packages (from nibabel) (0.98)\n",
            "Requirement already satisfied: six>=1.3 in /usr/local/lib/python3.6/dist-packages (from nibabel) (1.12.0)\n",
            "Requirement already satisfied: numpy>=1.7.1 in /usr/local/lib/python3.6/dist-packages (from nibabel) (1.17.5)\n",
            "Requirement already satisfied: nilearn in /usr/local/lib/python3.6/dist-packages (0.6.2)\n",
            "Requirement already satisfied: joblib>=0.11 in /usr/local/lib/python3.6/dist-packages (from nilearn) (0.14.1)\n",
            "Requirement already satisfied: nibabel>=2.0.2 in /usr/local/lib/python3.6/dist-packages (from nilearn) (2.3.3)\n",
            "Requirement already satisfied: scipy>=0.19 in /usr/local/lib/python3.6/dist-packages (from nilearn) (1.4.1)\n",
            "Requirement already satisfied: numpy>=1.11 in /usr/local/lib/python3.6/dist-packages (from nilearn) (1.17.5)\n",
            "Requirement already satisfied: sklearn in /usr/local/lib/python3.6/dist-packages (from nilearn) (0.0)\n",
            "Requirement already satisfied: scikit-learn>=0.19 in /usr/local/lib/python3.6/dist-packages (from nilearn) (0.22.1)\n",
            "Requirement already satisfied: six>=1.3 in /usr/local/lib/python3.6/dist-packages (from nibabel>=2.0.2->nilearn) (1.12.0)\n",
            "Requirement already satisfied: bz2file in /usr/local/lib/python3.6/dist-packages (from nibabel>=2.0.2->nilearn) (0.98)\n"
          ],
          "name": "stdout"
        }
      ]
    },
    {
      "cell_type": "markdown",
      "metadata": {
        "id": "q4JYRICVBtjl",
        "colab_type": "text"
      },
      "source": [
        "\n",
        "## Python Imports\n",
        "\n",
        "\n"
      ]
    },
    {
      "cell_type": "markdown",
      "metadata": {
        "id": "YkTBWbRKQ5ah",
        "colab_type": "text"
      },
      "source": [
        "We need:\n",
        " - `numpy` for matrix handling.\n",
        " - `scipy` for sparse matrix functions.\n",
        " - `pandas` for quick reading and writing of csv files.\n",
        " - `os` and `sys` for basic commandline functions\n",
        " - `time` for timing functions.\n",
        " - `matplotlib` for making displays."
      ]
    },
    {
      "cell_type": "code",
      "metadata": {
        "id": "tebSlxvBBruv",
        "colab_type": "code",
        "colab": {}
      },
      "source": [
        "import numpy as np\n",
        "import cvxopt\n",
        "import pandas as pd\n",
        "import os\n",
        "import time\n",
        "import scipy.sparse\n",
        "import scipy.sparse.linalg\n",
        "import matplotlib.pyplot as plt\n",
        "from matplotlib.pyplot import imshow\n",
        "import sys\n",
        "import nibabel as nib\n",
        "import nilearn"
      ],
      "execution_count": 0,
      "outputs": []
    },
    {
      "cell_type": "markdown",
      "metadata": {
        "id": "AS5zhoWCDZ8E",
        "colab_type": "text"
      },
      "source": [
        "## Toy Dataset\n",
        "\n",
        "This section read ins and formats a toy dataset. The files used here were generated in `R` and with **True** values (those with postfix `True`) being those used to generate the data and **Estimated** (those with postfix `REst`) values being the estimates `R`'s `lmer` package generated from this data."
      ]
    },
    {
      "cell_type": "code",
      "metadata": {
        "id": "qy39zwuhkn4C",
        "colab_type": "code",
        "colab": {}
      },
      "source": [
        "# Import shutil and remove old testdata\n",
        "#import shutil\n",
        "#shutil.rmtree('/Data')\n",
        "\n",
        "# Make a data directory\n",
        "if not os.path.isdir('/Data'):\n",
        "  os.mkdir('/Data')\n",
        "  \n",
        "os.chdir('/Data')\n",
        "\n",
        "# Clone small git repo containg some csv files.\n",
        "if not os.path.isdir('/Data/BLMM-testdata'):\n",
        "  !git clone https://github.com/TomMaullin/BLMM-testdata.git\n",
        "  "
      ],
      "execution_count": 0,
      "outputs": []
    },
    {
      "cell_type": "markdown",
      "metadata": {
        "id": "2EWsCZjCQcc9",
        "colab_type": "text"
      },
      "source": [
        "\n",
        "### Z matrix\n",
        "\n",
        "The below reads in Z and makes an image of Z transpose.\n"
      ]
    },
    {
      "cell_type": "code",
      "metadata": {
        "id": "aoKOwHqcEKDT",
        "colab_type": "code",
        "outputId": "2f24ddc0-e0ca-46f4-cc56-68ba935e5d46",
        "colab": {
          "base_uri": "https://localhost:8080/"
        }
      },
      "source": [
        "# Read in random effects design matrix and convert it into it's sparse format in\n",
        "# cvxopt.\n",
        "Z_3col=pd.read_csv('/Data/BLMM-testdata/Z_3col.csv',header=None).values#pd.read_csv('/Data/BLMM-testdata/Z_3col_1factor.csv',header=None).values#\n",
        "Z = scipy.sparse.csr_matrix((Z_3col[:,2].tolist(), \\\n",
        "                            ((Z_3col[:,0]-1).astype(np.int64), \\\n",
        "                             (Z_3col[:,1]-1).astype(np.int64))))\n",
        "\n",
        "# Create an image of Z'\n",
        "imshow(Z.toarray().transpose(), \\\n",
        "       interpolation='nearest', vmin=-5, vmax=5, aspect='auto')\n",
        "\n",
        "# Number of subjects\n",
        "n = Z.shape[0]"
      ],
      "execution_count": 0,
      "outputs": [
        {
          "output_type": "display_data",
          "data": {
            "image/png": "[encoded data removed]",
            "text/plain": [
              "<Figure size 432x288 with 1 Axes>"
            ]
          },
          "metadata": {
            "tags": []
          }
        }
      ]
    },
    {
      "cell_type": "markdown",
      "metadata": {
        "id": "JaiuxkypB7L8",
        "colab_type": "text"
      },
      "source": [
        "#### Dealing with ill-specified intercept models\n",
        "\n",
        "The above Random effects design matrix has multiple intercepts and is therefore of less than rank $q$; to resolve this we transform $Z$ by a matrix $c$ such that it's now has ($q-\\sum_{i=1}^r\\mathbb{1_{[\\text{Factor i has an intercept}]}}$) orthogonal columns (where $\\mathbb{1}$ is an indicator function). This is achieved in the below code by having $c$ as the unique matrix which subtracts, for each factor, the intercept for the last level of the factor away from the other levels of said factor. This may be clearer to understand in matrix format:\n",
        "\n",
        "Example:\n",
        "\n",
        "$$\\begin{bmatrix} z_1 & 0 & 0 \\\\ z_2 & 0 & 0 \\\\ z_3 & 0 & 0 \\\\0 & z_4 & 0 \\\\ 0 & z_5 & 0 \\\\ 0 & z_6 & 0 \\\\ 0 & 0 & z_7 \\\\ 0 & 0 & z_8 \\\\ 0 & 0 & z_9 \\\\ \\end{bmatrix} c = \\begin{bmatrix} z_1 & 0 \\\\ z_2 & 0 \\\\ z_3 & 0 \\\\0 & z_4 \\\\ 0 & z_5 \\\\ 0 & z_6 \\\\ -z_7 & -z_7 \\\\ -z_8 & -z_8  \\\\ -z_9 & -z_9  \\\\ \\end{bmatrix}$$\n",
        "\n",
        "In this example, $c$ would be given by the matrix:\n",
        "\n",
        "$$c = \\begin{bmatrix} 1 & 0 \\\\ 0 & 1 \\\\ -1 & -1\\end{bmatrix}$$\n",
        "\n",
        "In this code I have made the assumption WLOG that the intercept for each factor, should it be included, is the first parameter listed for each factor.\n",
        "\n",
        "UPDATE: SCRAPPED - RUINED BLOCK DIAGONAL STRUCTURE OF Z"
      ]
    },
    {
      "cell_type": "code",
      "metadata": {
        "id": "G9Y29RLDB7af",
        "colab_type": "code",
        "colab": {}
      },
      "source": [
        "#import numba\n",
        "\n",
        "#@numba.jit\n",
        "#def obtainC(nlevels, nparams, interceptIndicator):\n",
        "  \n",
        "  # Columns per factor\n",
        "  # This array tells us how many columns each factor has in Z.\n",
        "  # i.e. colsPerFactor[k]=4 means the kth factor has 4 columns\n",
        "#  colsPerFactor = nlevels*nparams\n",
        "  \n",
        "  # List of first column of Z for each level of each factor (If an intercept has\n",
        "  # been included for factor k, then it is assumed that the intercept is in the \n",
        "  # first column of each level of factor k; therefore this list contains all \n",
        "  # intercept column indices by assumption). One additional entry is included at \n",
        "  # the end which is the number of columns in z; this can be useful looping.\n",
        "#  interceptCols = np.insert(np.cumsum(np.repeat(nparams, nlevels)),0,0)\n",
        "\n",
        "  # The below array marks the first entry for each factor in interceptCols\n",
        "  # i.e. interceptCols[factorChangepoints[k]] is the first intercept for\n",
        "  # factor k\n",
        "#  factorChangepoints = np.insert(np.cumsum(nlevels),0,0)\n",
        "\n",
        "  # Loop through each factor\n",
        "#  for k in np.arange(len(nlevels)):\n",
        "  \n",
        "    # If we have an intercept for this factor work out which\n",
        "    # columns hold the intercepts\n",
        "#    if interceptIndicator[k]==1:\n",
        "      \n",
        "      # Get the intercept columns for factor k\n",
        "#      interceptCols_k = interceptCols[factorChangepoints[k]:factorChangepoints[k+1]]-interceptCols[factorChangepoints[k]]\n",
        "      \n",
        "      # Get a vector with -1 in each position for all intercept columns\n",
        "#      negativeCols = np.zeros(colsPerFactor[k])\n",
        "#      negativeCols[interceptCols_k] = -1\n",
        "      \n",
        "      # Get an identity matrix which is number of columns for factor k by number\n",
        "      # of columns for factor k in size. This will become c for factor k\n",
        "#      c_k = np.eye(colsPerFactor[k])\n",
        "      \n",
        "      # This is the index of the column we are removing from Z with this transform\n",
        "#      toRemove = interceptCols_k[-1]\n",
        "      \n",
        "      # Place the negative Cols matrix in the row corresponding to the intercept \n",
        "      # column\n",
        "#      c_k[toRemove,:] = negativeCols\n",
        "#      c_k = np.delete(c_k,toRemove,axis=1)\n",
        "      \n",
        "#      if k == 0:\n",
        "        \n",
        "#        c = c_k\n",
        "        \n",
        "#      else:\n",
        "        \n",
        "#        c = scipy.linalg.block_diag(c, c_k)\n",
        "      \n",
        "#  imshow(c, \\\n",
        "#     interpolation='nearest', aspect='auto',vmax=2,vmin=-1)\n",
        "#  plt.colorbar()\n",
        "\n",
        "#  return(c)\n",
        "\n",
        "#t1 = time.time()\n",
        "#c=obtainC(nlevels, nparams, [1,1])      \n",
        "#t2 = time.time()\n",
        "#print(t2-t1)\n",
        "\n",
        "#t1 = time.time()\n",
        "#obtainC(nlevels, nparams, [1,1])      \n",
        "#t2 = time.time()\n",
        "#print(t2-t1)\n",
        "\n",
        "\n",
        "#print(np.cumsum(nlevels * nparams))\n",
        "\n",
        "#nparams = [2,2]\n",
        "#nparamstmp[1] = 3\n",
        "\n",
        "# List of columns of Z containing intercept\n",
        "#interceptCols = np.insert(np.cumsum(np.repeat(nparams, nlevels)),0,0)[:-1]\n",
        "\n",
        "# The below array marks the first entry for each factor in interceptCols\n",
        "# i.e. interceptCols[factorChangepoints[k]] is the first intercept for\n",
        "# factor k\n",
        "#factorChangepoints = np.insert(np.cumsum(nlevels),0,0)\n",
        "#print('factor change points')\n",
        "#print(factorChangepoints)\n",
        "\n",
        "# Columns per factor\n",
        "# This array tells us how many columns each factor has in Z.\n",
        "# i.e. colsPerFactor[k]=4 means the kth factor has 4 columns\n",
        "#colsPerFactor = nlevels*nparams\n",
        "#print('colsPerFactor')\n",
        "#print(colsPerFactor)\n",
        "\n",
        "#k = 0\n",
        "# Intercept columns for one factor\n",
        "#print(interceptCols[factorChangepoints[k]:factorChangepoints[k+1]])\n",
        "\n",
        "#print(interceptCols)\n",
        "#print(len(interceptCols))\n",
        "\n",
        "#print(Z[:, interceptCols].toarray())\n",
        "\n",
        "#print(np.cumsum(nlevels))\n",
        "\n",
        "#print(nparams)\n",
        "      \n",
        "  "
      ],
      "execution_count": 0,
      "outputs": []
    },
    {
      "cell_type": "code",
      "metadata": {
        "id": "_chXrSrlWjra",
        "colab_type": "code",
        "colab": {}
      },
      "source": [
        "\n",
        "#imshow((Z @ scipy.sparse.csr_matrix(c)).toarray(), \\\n",
        "#     interpolation='nearest', aspect='auto', vmax = 2, vmin = -1)\n",
        "#plt.colorbar()\n"
      ],
      "execution_count": 0,
      "outputs": []
    },
    {
      "cell_type": "code",
      "metadata": {
        "id": "tfRwOu46X44A",
        "colab_type": "code",
        "colab": {}
      },
      "source": [
        "\n",
        "#imshow(((Z @ scipy.sparse.csr_matrix(c)).transpose() @ (Z @ scipy.sparse.csr_matrix(c))).toarray(), \\\n",
        "#     interpolation='nearest', aspect='auto', vmax = 2, vmin = -1)\n",
        "#plt.colorbar()"
      ],
      "execution_count": 0,
      "outputs": []
    },
    {
      "cell_type": "code",
      "metadata": {
        "id": "9umWv0H7XGAV",
        "colab_type": "code",
        "colab": {}
      },
      "source": [
        "#imshow((Z).toarray(), \\\n",
        "#     interpolation='nearest', aspect='auto', vmax = 2, vmin = -1)\n",
        "#plt.colorbar()"
      ],
      "execution_count": 0,
      "outputs": []
    },
    {
      "cell_type": "code",
      "metadata": {
        "id": "nBtxdq-gXtI3",
        "colab_type": "code",
        "colab": {}
      },
      "source": [
        "#imshow((Z.transpose() @ Z).toarray(), \\\n",
        "#     interpolation='nearest', aspect='auto')\n",
        "#plt.colorbar()"
      ],
      "execution_count": 0,
      "outputs": []
    },
    {
      "cell_type": "markdown",
      "metadata": {
        "id": "ENn5FJVkU2ie",
        "colab_type": "text"
      },
      "source": [
        "#### Demean and rescale Z"
      ]
    },
    {
      "cell_type": "code",
      "metadata": {
        "id": "-RivNVCyU21E",
        "colab_type": "code",
        "outputId": "5b84698f-7d61-4142-f497-bdde9687a641",
        "colab": {
          "base_uri": "https://localhost:8080/"
        }
      },
      "source": [
        "def demeanAndRescaleZ(Z, nparams, nlevels):\n",
        "  \n",
        "  # List of columns of Z containing intercept, assume if there is an intercept;\n",
        "  # that it is in the first column of each level of each factor\n",
        "  interceptCols = np.insert(np.cumsum(np.repeat(nparams, nlevels)),0,0)[:-1]\n",
        "  \n",
        "  # Make demeaned and rescaled Z\n",
        "  Z_dr = Z\n",
        "  \n",
        "  # Loop through each column\n",
        "  for i in np.arange(Z.shape[1]):\n",
        "    \n",
        "    # Check if column is an intercept\n",
        "    if i in interceptCols:\n",
        "      \n",
        "      # If the array doesn't contain only zero and one\n",
        "      if not np.array_equal(np.unique(Z[:,i]), np.array([0,1])):\n",
        "        \n",
        "        Z_dr[np.nonzero(Z_dr[:,i]),i] = (Z_dr[np.nonzero(Z_dr[:,i]),i]-np.mean(Z_dr[np.nonzero(Z_dr[:,i]),i]))/np.std(Z_dr[np.nonzero(Z_dr[:,i]),i])\n",
        "                                         \n",
        "    else:\n",
        "      \n",
        "      Z_dr[np.nonzero(Z_dr[:,i]),i] = (Z_dr[np.nonzero(Z_dr[:,i]),i]-np.mean(Z_dr[np.nonzero(Z_dr[:,i]),i]))/np.std(Z_dr[np.nonzero(Z_dr[:,i]),i])\n",
        "        \n",
        "  return(Z_dr)\n",
        "nlevels = np.array([20,3])#])#\n",
        "nparams = np.array([2,2])#])#\n",
        "Z_dr = demeanAndRescaleZ(Z.toarray(), nparams, nlevels)\n",
        "\n",
        "imshow(Z_dr, \\\n",
        "     interpolation='nearest', aspect='auto')\n",
        "plt.colorbar()\n"
      ],
      "execution_count": 0,
      "outputs": [
        {
          "output_type": "execute_result",
          "data": {
            "text/plain": [
              "<matplotlib.colorbar.Colorbar at 0x7f8edffbfa58>"
            ]
          },
          "metadata": {
            "tags": []
          },
          "execution_count": 8
        },
        {
          "output_type": "display_data",
          "data": {
            "image/png": "[encoded data removed]",
            "text/plain": [
              "<Figure size 432x288 with 2 Axes>"
            ]
          },
          "metadata": {
            "tags": []
          }
        }
      ]
    },
    {
      "cell_type": "code",
      "metadata": {
        "id": "pzweedO6Yw09",
        "colab_type": "code",
        "outputId": "7867c2c6-075b-4f33-bfe3-37cbbf44f33e",
        "colab": {
          "base_uri": "https://localhost:8080/"
        }
      },
      "source": [
        "imshow(Z.toarray(), \\\n",
        "     interpolation='nearest', aspect='auto')\n",
        "plt.colorbar()\n",
        "\n",
        "#Z_orig = Z.toarray()\n",
        "#Z = scipy.sparse.csr_matrix(Z_dr)"
      ],
      "execution_count": 0,
      "outputs": [
        {
          "output_type": "execute_result",
          "data": {
            "text/plain": [
              "<matplotlib.colorbar.Colorbar at 0x7f8edfef9198>"
            ]
          },
          "metadata": {
            "tags": []
          },
          "execution_count": 9
        },
        {
          "output_type": "display_data",
          "data": {
            "image/png": "[encoded data removed]",
            "text/plain": [
              "<Figure size 432x288 with 2 Axes>"
            ]
          },
          "metadata": {
            "tags": []
          }
        }
      ]
    },
    {
      "cell_type": "markdown",
      "metadata": {
        "id": "rkd2LdwKLWtP",
        "colab_type": "text"
      },
      "source": [
        "### Estimated Random Effects matrix\n",
        "\n",
        "The below reads in the Random effects variance predicted by `R`'s `lmer`."
      ]
    },
    {
      "cell_type": "code",
      "metadata": {
        "id": "tOqQRAROqdkv",
        "colab_type": "code",
        "colab": {}
      },
      "source": [
        "# Read in estimated variance\n",
        "RFXVar_REst = pd.read_csv('/Data/BLMM-testdata/estd_rfxvar.csv',header=None).values#pd.read_csv('/Data/BLMM-testdata/estd_rfxvar_1factor.csv',header=None).values#"
      ],
      "execution_count": 0,
      "outputs": []
    },
    {
      "cell_type": "markdown",
      "metadata": {
        "id": "RStOLwF_LlTE",
        "colab_type": "text"
      },
      "source": [
        "### Y vector\n",
        "\n",
        "The response vector is read in here:"
      ]
    },
    {
      "cell_type": "code",
      "metadata": {
        "id": "DG8eWNdpPQOs",
        "colab_type": "code",
        "colab": {}
      },
      "source": [
        "Y=pd.read_csv('/Data/BLMM-testdata/Y.csv',header=None).values#pd.read_csv('/Data/BLMM-testdata/Y_1factor.csv',header=None).values#"
      ],
      "execution_count": 0,
      "outputs": []
    },
    {
      "cell_type": "markdown",
      "metadata": {
        "id": "RHm6DjdbPTvg",
        "colab_type": "text"
      },
      "source": [
        "### X matrix\n",
        "\n",
        "The fixed effects design matrix is read in here. It consists of an intercept and two random (Gaussian) columns.\n"
      ]
    },
    {
      "cell_type": "code",
      "metadata": {
        "id": "xqTKH4n_Po8e",
        "colab_type": "code",
        "outputId": "dccb0e9f-8da3-436a-b0c4-193b77e889c0",
        "colab": {
          "base_uri": "https://localhost:8080/"
        }
      },
      "source": [
        "X=pd.read_csv('/Data/BLMM-testdata/X.csv',header=None).values#pd.read_csv('/Data/BLMM-testdata/X_1factor.csv',header=None).values#\n",
        "\n",
        "# Image of the first 20 rows of X\n",
        "imshow(X[1:20,:])"
      ],
      "execution_count": 0,
      "outputs": [
        {
          "output_type": "execute_result",
          "data": {
            "text/plain": [
              "<matplotlib.image.AxesImage at 0x7f8edfe619e8>"
            ]
          },
          "metadata": {
            "tags": []
          },
          "execution_count": 12
        },
        {
          "output_type": "display_data",
          "data": {
            "image/png": "[encoded data removed]",
            "text/plain": [
              "<Figure size 432x288 with 1 Axes>"
            ]
          },
          "metadata": {
            "tags": []
          }
        }
      ]
    },
    {
      "cell_type": "markdown",
      "metadata": {
        "id": "W_sXGD8qzskp",
        "colab_type": "text"
      },
      "source": [
        "### Number of Levels and Parameters\n",
        "\n",
        "The number of levels is given by a vector with one entry for each grouping factor. e.g. nlevels=[10,2] means there are 10 levels for factor 1 and 2 levels for factor 2. \n",
        "\n",
        "The number of parameters is given by a vector with one entry for each grouping factor. e.g. nparams=[3,4] means there are 3 variables for factor 1 and 4 variables for factor 2."
      ]
    },
    {
      "cell_type": "code",
      "metadata": {
        "id": "_e5bUA2DztCf",
        "colab_type": "code",
        "colab": {}
      },
      "source": [
        "nlevels = np.array([20,3])#])#\n",
        "nparams = np.array([2,2])#])#"
      ],
      "execution_count": 0,
      "outputs": []
    },
    {
      "cell_type": "markdown",
      "metadata": {
        "id": "0byKXygpCa1P",
        "colab_type": "text"
      },
      "source": [
        "### True b values\n",
        "\n",
        "The true recorded values of the random effects b vector in this example."
      ]
    },
    {
      "cell_type": "code",
      "metadata": {
        "id": "LzwuuWSdCbCJ",
        "colab_type": "code",
        "colab": {}
      },
      "source": [
        "b_True=pd.read_csv('/Data/BLMM-testdata/true_b.csv',header=None).values#pd.read_csv('/Data/BLMM-testdata/true_b_1factor.csv',header=None).values#"
      ],
      "execution_count": 0,
      "outputs": []
    },
    {
      "cell_type": "markdown",
      "metadata": {
        "id": "Bvfns6c-CbPd",
        "colab_type": "text"
      },
      "source": [
        "### True beta values\n",
        "\n",
        "The true fixed effects parameters used to generate this example."
      ]
    },
    {
      "cell_type": "code",
      "metadata": {
        "id": "mlvolWwvCbbP",
        "colab_type": "code",
        "colab": {}
      },
      "source": [
        "beta_True=pd.read_csv('/Data/BLMM-testdata/true_beta.csv',header=None).values#pd.read_csv('/Data/BLMM-testdata/true_beta_1factor.csv',header=None).values#"
      ],
      "execution_count": 0,
      "outputs": []
    },
    {
      "cell_type": "markdown",
      "metadata": {
        "id": "bVyBWvQK2Gw5",
        "colab_type": "text"
      },
      "source": [
        "### Product Matrices\n",
        "\n",
        "All products of matrices are calculated beforehand as it is both more computationally efficient and also similar to the setting we are interested in. "
      ]
    },
    {
      "cell_type": "code",
      "metadata": {
        "id": "e53HYCsj2G7I",
        "colab_type": "code",
        "outputId": "d199bdc0-d054-4175-f2f7-c8b8ef8b9c4d",
        "colab": {
          "base_uri": "https://localhost:8080/"
        }
      },
      "source": [
        "# Z transpose Z\n",
        "print(Z.shape)\n",
        "ZtZ = np.matmul(Z.toarray().transpose(),Z.toarray()) # This works for products involving sparse\n",
        "# Sparse \n",
        "# ZtZ = Z.transpose() * Z\n",
        "\n",
        "# Z transpose X\n",
        "XtZ = np.matmul(X.transpose(),Z.toarray())\n",
        "\n",
        "# X transpose Z\n",
        "ZtX = np.matmul(Z.toarray().transpose(),X)\n",
        "\n",
        "# ZtY\n",
        "ZtY = np.matmul(Z.toarray().transpose(),Y)\n",
        "\n",
        "# YtZ\n",
        "YtZ = np.matmul(Y.transpose(),Z.toarray())\n",
        "\n",
        "# XtX\n",
        "XtX = np.matmul(X.transpose(),X)\n",
        "\n",
        "# XtY\n",
        "XtY = np.matmul(X.transpose(),Y)\n",
        "\n",
        "# YtX\n",
        "YtX = np.matmul(Y.transpose(),X)\n",
        "\n",
        "# YtX\n",
        "YtY = np.matmul(Y.transpose(),Y)"
      ],
      "execution_count": 0,
      "outputs": [
        {
          "output_type": "stream",
          "text": [
            "(1000, 46)\n"
          ],
          "name": "stdout"
        }
      ]
    },
    {
      "cell_type": "markdown",
      "metadata": {
        "id": "ilAB3qmDMHa8",
        "colab_type": "text"
      },
      "source": [
        "## Helper Functions\n",
        "\n",
        "This section contains miscellaneous functions used to help the `FS` function including functions to work out the duplication matrix.\n"
      ]
    },
    {
      "cell_type": "markdown",
      "metadata": {
        "id": "cVkJVMSo1fCF",
        "colab_type": "text"
      },
      "source": [
        "###Matrix to Vector function\n",
        "\n",
        "This function takes in a matrix and vectorizes it (i.e. transforms it to a vector of each of the columns of the matrix stacked on top of one another). Example:\n",
        "\n",
        "$$\\begin{bmatrix} a & b & c \\\\ d & e & f \\\\ g & h & i \\\\\\end{bmatrix} \\rightarrow \\begin{bmatrix} a \\\\ d \\\\ g \\\\ b \\\\ e \\\\ h \\\\ c \\\\ f \\\\ i \\end{bmatrix}$$."
      ]
    },
    {
      "cell_type": "code",
      "metadata": {
        "id": "rBhQXRF01d9n",
        "colab_type": "code",
        "outputId": "59102d92-dc6c-4e25-cb77-348b88f47814",
        "colab": {
          "base_uri": "https://localhost:8080/",
          "height": 221
        }
      },
      "source": [
        "def mat2vec(matrix):\n",
        "  \n",
        "  #Return vectorised matrix\n",
        "  return(matrix.transpose().reshape(matrix.shape[0]*matrix.shape[1],1))\n",
        "\n",
        "# Example:\n",
        "matrix = np.random.randn(3,3)\n",
        "print(matrix)\n",
        "print(mat2vec(matrix))"
      ],
      "execution_count": 0,
      "outputs": [
        {
          "output_type": "stream",
          "text": [
            "[[-0.24743997 -0.44658289  1.14229487]\n",
            " [ 0.16295752  0.13361416  0.4584038 ]\n",
            " [-0.35327204  0.14878323 -2.72201285]]\n",
            "[[-0.24743997]\n",
            " [ 0.16295752]\n",
            " [-0.35327204]\n",
            " [-0.44658289]\n",
            " [ 0.13361416]\n",
            " [ 0.14878323]\n",
            " [ 1.14229487]\n",
            " [ 0.4584038 ]\n",
            " [-2.72201285]]\n"
          ],
          "name": "stdout"
        }
      ]
    },
    {
      "cell_type": "markdown",
      "metadata": {
        "id": "EcIJAyHi1eTj",
        "colab_type": "text"
      },
      "source": [
        "###Matrix to Vector function\n",
        "\n",
        "This function takes in a (symmetric, square) matrix and half-vectorizes it (i.e. transforms it to a vector of each of the columns of the matrix, below and including the diagonal, stacked on top of one another). Example:\n",
        "\n",
        "$$\\begin{bmatrix} a & b & c \\\\ b & d & e \\\\ c & e & f \\\\\\end{bmatrix} \\rightarrow \\begin{bmatrix} a \\\\ b \\\\ c \\\\ d \\\\ e \\\\ f \\end{bmatrix}$$."
      ]
    },
    {
      "cell_type": "code",
      "metadata": {
        "id": "6fpQzdwA3QGq",
        "colab_type": "code",
        "outputId": "49b1d095-83e3-40ef-9f62-da1ac422e105",
        "colab": {
          "base_uri": "https://localhost:8080/",
          "height": 170
        }
      },
      "source": [
        "def mat2vech(matrix):\n",
        "  \n",
        "  # Get lower triangular indices\n",
        "  rowinds, colinds = np.tril_indices(matrix.shape[0]) #Try mat.transpose()[trilu]?\n",
        "  \n",
        "  # They're in the wrong order so we need to order them\n",
        "  # To do this we first hash them\n",
        "  indhash = colinds*matrix.shape[0]+rowinds\n",
        "  \n",
        "  # Sort permutation\n",
        "  perm=np.argsort(indhash)\n",
        "  \n",
        "  # Return vectorised half-matrix\n",
        "  return(np.array([matrix[rowinds[perm],colinds[perm]]]).transpose())\n",
        "\n",
        "# Example:\n",
        "matrix = np.random.randn(3,3)\n",
        "print(matrix*matrix.transpose())\n",
        "print(mat2vech(matrix*matrix.transpose()))\n",
        "\n",
        "#print(vech2mat(invDupMat(3) @ mat2vec(matrix*matrix.transpose())))"
      ],
      "execution_count": 0,
      "outputs": [
        {
          "output_type": "stream",
          "text": [
            "[[ 5.68884519  0.05285794  1.24727827]\n",
            " [ 0.05285794  0.88935512 -0.06957667]\n",
            " [ 1.24727827 -0.06957667  0.044964  ]]\n",
            "[[ 5.68884519]\n",
            " [ 0.05285794]\n",
            " [ 1.24727827]\n",
            " [ 0.88935512]\n",
            " [-0.06957667]\n",
            " [ 0.044964  ]]\n"
          ],
          "name": "stdout"
        }
      ]
    },
    {
      "cell_type": "markdown",
      "metadata": {
        "id": "V79rfwHp9eNe",
        "colab_type": "text"
      },
      "source": [
        ""
      ]
    },
    {
      "cell_type": "code",
      "metadata": {
        "id": "1DmbjUOh9euy",
        "colab_type": "code",
        "colab": {}
      },
      "source": [
        "def vec2mat(vec):\n",
        "  \n",
        "  # Return matrix\n",
        "  return(vec.reshape(np.int64(np.sqrt(vec.shape[0])),np.int64(np.sqrt(vec.shape[0]))).transpose())\n",
        "\n",
        "# Example\n",
        "#vec = np.array([[1,2,3,4]]).transpose()\n",
        "#mat = vec2mat(vec)\n",
        "#print(vec)\n",
        "#print(mat)"
      ],
      "execution_count": 0,
      "outputs": []
    },
    {
      "cell_type": "markdown",
      "metadata": {
        "id": "ijBvOZsu9iKg",
        "colab_type": "text"
      },
      "source": [
        ""
      ]
    },
    {
      "cell_type": "code",
      "metadata": {
        "id": "nhitZciM9hcz",
        "colab_type": "code",
        "colab": {}
      },
      "source": [
        "def vech2mat(vech):\n",
        "  \n",
        "  # dimension of matrix\n",
        "  n = np.int64((-1+np.sqrt(1+8*vech.shape[0]))/2)\n",
        "  matrix = np.zeros((n,n))\n",
        "  \n",
        "  # Get lower triangular indices\n",
        "  rowinds, colinds = np.tril_indices(matrix.shape[0])\n",
        "  \n",
        "  # They're in the wrong order so we need to order them\n",
        "  # To do this we first hash them\n",
        "  indhash = colinds*matrix.shape[0]+rowinds\n",
        "  \n",
        "  # Sort permutation\n",
        "  perm=np.argsort(indhash)\n",
        "  \n",
        "  # Assign values to lower half\n",
        "  matrix[rowinds[perm],colinds[perm]] = vech.reshape(vech.shape[0])\n",
        "  \n",
        "  # Assign values to upper half\n",
        "  matrix[colinds[perm],rowinds[perm]] = vech.reshape(vech.shape[0])\n",
        "  \n",
        "  # Return vectorised half-matrix\n",
        "  return(matrix)\n",
        "\n",
        "# Example:\n",
        "#vech = np.array([[1],[2],[3],[4],[5],[6],[7],[8],[9],[10]])\n",
        "#matrix = vech2mat(vech)\n",
        "#print(vech)\n",
        "#print(matrix)"
      ],
      "execution_count": 0,
      "outputs": []
    },
    {
      "cell_type": "markdown",
      "metadata": {
        "id": "Gd3_jaDe-MNy",
        "colab_type": "text"
      },
      "source": [
        ""
      ]
    },
    {
      "cell_type": "code",
      "metadata": {
        "id": "qutTs-8S-MuT",
        "colab_type": "code",
        "colab": {}
      },
      "source": [
        "def vec2vech(vec):\n",
        "  \n",
        "  # Return vech\n",
        "  return(mat2vech(vec2mat(vec)))\n",
        "\n",
        "# Example\n",
        "#vec = np.array([[1],[2],[3],[2],[4],[5],[3],[5],[6]])\n",
        "#vech = vec2vech(vec)\n",
        "\n",
        "#print(vec)\n",
        "#print(vech)"
      ],
      "execution_count": 0,
      "outputs": []
    },
    {
      "cell_type": "markdown",
      "metadata": {
        "id": "Z-Yp9RjT-PmL",
        "colab_type": "text"
      },
      "source": [
        ""
      ]
    },
    {
      "cell_type": "code",
      "metadata": {
        "id": "P8txTVtu-Pwc",
        "colab_type": "code",
        "colab": {}
      },
      "source": [
        "def vech2vec(vech):\n",
        "  \n",
        "  # Return vec\n",
        "  return(mat2vec(vech2mat(vech)))\n",
        "\n",
        "# Example\n",
        "#vech = np.array([[1],[2],[3],[4],[5],[6],[7],[8],[9],[10]])\n",
        "#vec = vech2vec(vech)\n",
        "\n",
        "#print(vech)\n",
        "#print(vec)"
      ],
      "execution_count": 0,
      "outputs": []
    },
    {
      "cell_type": "markdown",
      "metadata": {
        "id": "kG22u6mq9mQT",
        "colab_type": "text"
      },
      "source": [
        ""
      ]
    },
    {
      "cell_type": "code",
      "metadata": {
        "id": "2PD6f9bD9mgx",
        "colab_type": "code",
        "colab": {}
      },
      "source": [
        "def dupMat(n):\n",
        "  \n",
        "  # Make vech of 1:(n(n+1)/2)\n",
        "  vech = np.arange(n*(n+1)/2)\n",
        "  \n",
        "  # Convert to vec\n",
        "  vec = vech2vec(vech)\n",
        "  \n",
        "  # Make D (sparse one hot encoded vec)\n",
        "  D = scipy.sparse.csr_matrix((np.ones(n**2),(np.arange(n**2),np.int64(vec).reshape(vec.shape[0]))))\n",
        "  \n",
        "  return(D)\n",
        "\n",
        "# Example\n",
        "#print(dupMat(3))"
      ],
      "execution_count": 0,
      "outputs": []
    },
    {
      "cell_type": "markdown",
      "metadata": {
        "id": "TVrM3CsGSIHL",
        "colab_type": "text"
      },
      "source": [
        ""
      ]
    },
    {
      "cell_type": "code",
      "metadata": {
        "id": "2FR-cwIkSIQJ",
        "colab_type": "code",
        "outputId": "8ba9aee0-3050-4613-fdee-e4b55b0cf598",
        "colab": {
          "base_uri": "https://localhost:8080/",
          "height": 170
        }
      },
      "source": [
        "def invDupMat(n):\n",
        "  \n",
        "  \n",
        "  # Make vech of 1:(n(n+1)/2)\n",
        "  vech = np.arange(n*(n+1)/2)\n",
        "  \n",
        "  # Convert to vec\n",
        "  vec = np.int64(vech2vec(vech))\n",
        "  vec = vec.reshape(vec.shape[0])\n",
        "  \n",
        "  # Work out frequency of each entry\n",
        "  freq = 1/np.bincount(vec)\n",
        "  \n",
        "  # Work out duplication matrix\n",
        "  D = scipy.sparse.csr_matrix((freq[vec],(vec,np.arange(n**2))))\n",
        "  \n",
        "  return(D)\n",
        "\n",
        "import scipy.sparse\n",
        "# Example\n",
        "print(invDupMat(3))"
      ],
      "execution_count": 0,
      "outputs": [
        {
          "output_type": "stream",
          "text": [
            "  (0, 0)\t1.0\n",
            "  (1, 1)\t0.5\n",
            "  (1, 3)\t0.5\n",
            "  (2, 2)\t0.5\n",
            "  (2, 6)\t0.5\n",
            "  (3, 4)\t1.0\n",
            "  (4, 5)\t0.5\n",
            "  (4, 7)\t0.5\n",
            "  (5, 8)\t1.0\n"
          ],
          "name": "stdout"
        }
      ]
    },
    {
      "cell_type": "markdown",
      "metadata": {
        "id": "ZiPsThtWbwJS",
        "colab_type": "text"
      },
      "source": [
        "#### Commutation matrix\n",
        "\n",
        "----\n",
        "This function takes as input;\n",
        "\n",
        "----\n",
        " - $a$: A postive integer.\n",
        " - $b$: A postive integer.\n",
        "\n",
        "----\n",
        "And returns:\n",
        "\n",
        "----\n",
        " - $K$: The commutation matrix (in sparse format) which maps $vec(A)$ to $vec(A')$ for an arbitrary matrix $A$ of dimensions $(a \\times b)$, i.e. $K$ is the unique matrix which satisfies, for all $A$;\n",
        "\n",
        " $$K vec(A) = vec(A')$$"
      ]
    },
    {
      "cell_type": "code",
      "metadata": {
        "id": "q3HR-zVobwee",
        "colab_type": "code",
        "colab": {}
      },
      "source": [
        "#def comMat2D(a, b):\n",
        "#\n",
        "#  # Example matrix with unique elements\n",
        "#  m = np.arange(a*b).reshape(a,b)\n",
        "#\n",
        "#  # Vec(m) and Vec(m')\n",
        "#  vecm = mat2vec(m)\n",
        "#  vecmt = mat2vec(m.transpose())\n",
        "#\n",
        "#  # Work out mapping between them.\n",
        "#  K=scipy.sparse.csr_matrix((vecm.transpose()==vecmt).astype(int))\n",
        "#\n",
        "#  return(K)\n",
        "\n",
        "def comMat2D(a, b):\n",
        "\n",
        "  # Get row indices\n",
        "  row  = np.arange(a*b)\n",
        "\n",
        "  # Get column indices\n",
        "  col  = row.reshape((a, b), order='F').ravel()\n",
        "\n",
        "  # Ones to put in the matrix\n",
        "  data = np.ones(a*b, dtype=np.int8)\n",
        "\n",
        "  # Sparse it\n",
        "  K = scipy.sparse.csr_matrix((data, (row, col)), shape=(a*b, a*b))\n",
        "  \n",
        "  # Return K\n",
        "  return(K)"
      ],
      "execution_count": 0,
      "outputs": []
    },
    {
      "cell_type": "markdown",
      "metadata": {
        "id": "NbUAVObBcki5",
        "colab_type": "text"
      },
      "source": [
        "The below code tests and times ``comMat2D``."
      ]
    },
    {
      "cell_type": "code",
      "metadata": {
        "id": "zfcMJM3ecOHl",
        "colab_type": "code",
        "outputId": "ed632f67-26b2-4c0e-af08-f3e0c1c9f4d3",
        "colab": {
          "base_uri": "https://localhost:8080/",
          "height": 51
        }
      },
      "source": [
        "# Random dimensions\n",
        "a = np.random.randint(100,500)\n",
        "b = np.random.randint(100,500)\n",
        "\n",
        "# Get K\n",
        "t1 = time.time()\n",
        "K = comMat2D(a,b)\n",
        "t2 = time.time()\n",
        "print(t2-t1)\n",
        "\n",
        "# Random A\n",
        "A = np.random.randn(a,b)\n",
        "\n",
        "print(np.allclose(mat2vec(A.transpose()),K @ mat2vec(A)))"
      ],
      "execution_count": 0,
      "outputs": [
        {
          "output_type": "stream",
          "text": [
            "0.0019652843475341797\n",
            "True\n"
          ],
          "name": "stdout"
        }
      ]
    },
    {
      "cell_type": "markdown",
      "metadata": {
        "id": "kA-MNCZb-ew-",
        "colab_type": "text"
      },
      "source": [
        "#### Permutation of I kron K kron I\n",
        "\n",
        "The below function takes as inputs:\n",
        " \n",
        " ----\n",
        " - $k_1$: A positive integer.\n",
        " - $k_2$: A positive integer.\n",
        " - $n_1$: A positive integer.\n",
        " - $n_2$: A positive integer.\n",
        "\n",
        " \n",
        " ----\n",
        "\n",
        "And returns the permutation vector $p$ such that for any matrix $A$ of appropriate dimensions.\n",
        "\n",
        "$(I_{k_1} \\otimes K_{n_1,k_2} \\otimes I_{n_2})A=A_p$\n",
        "\n",
        "Where $A_p$ is the matrix $A$ with $p$ applied to it's rows and $K_{n_1,k_2}$ is the $(n_1,k_2)$, commutation matrix."
      ]
    },
    {
      "cell_type": "code",
      "metadata": {
        "id": "TMel4jN_-e-f",
        "colab_type": "code",
        "colab": {}
      },
      "source": [
        "def permOfIkKkI(k1,k2,n1,n2):\n",
        "\n",
        "  # First we need the permutation represented by matrix K in vector format\n",
        "  permP = np.arange(n1*k2).reshape((n1, k2), order='F').ravel()\n",
        "\n",
        "  # Now we work out the permutation obtained by the first kronecker product (i.e. I kron K)\n",
        "  permKron1 = np.repeat(np.arange(k1),n1*k2)*n1*k2+np.tile(permP,k1)\n",
        "\n",
        "  # Now we work out the final permutation by appplying the second kronecker product (i.e. I kron K kron I)\n",
        "  p = np.repeat(permKron1,n2)*n2+np.tile(np.arange(n2),n1*k1*k2)\n",
        "\n",
        "  # Return the permutation\n",
        "  return(p)"
      ],
      "execution_count": 0,
      "outputs": []
    },
    {
      "cell_type": "markdown",
      "metadata": {
        "id": "yLlfPcOa_Np5",
        "colab_type": "text"
      },
      "source": [
        "The below code tests and times the above function."
      ]
    },
    {
      "cell_type": "code",
      "metadata": {
        "id": "ZlvUzHC2_L6A",
        "colab_type": "code",
        "outputId": "26fcb31c-d874-4654-f925-1ca967504dd8",
        "colab": {
          "base_uri": "https://localhost:8080/",
          "height": 323
        }
      },
      "source": [
        "m = np.random.randint(1,10)\n",
        "n1=np.random.randint(1,10)\n",
        "n2=np.random.randint(1,10)\n",
        "k1=np.random.randint(1,10)\n",
        "k2=np.random.randint(1,10)\n",
        "\n",
        "print('Example Shapes:')\n",
        "print('m: ', m)\n",
        "print('k1, k2: ', k1, k2)\n",
        "print('n1, n2: ', n1, n2)\n",
        "\n",
        "testMat = np.random.randn(k1*k2*n1*n2,m)\n",
        "\n",
        "t1 = time.time()\n",
        "K = comMat2D(n1, k2).toarray()\n",
        "\n",
        "print(K.shape)\n",
        "IPI = np.kron(np.kron(np.eye(k1), K), np.eye(n2))\n",
        "print(IPI)\n",
        "print(IPI.shape)\n",
        "print(testMat.shape)\n",
        "result1 = IPI @ testMat\n",
        "t2 = time.time()\n",
        "print(t2-t1)\n",
        "\n",
        "t1 = time.time()\n",
        "perm = permOfIkKkI(k1,k2,n1,n2)\n",
        "result2 = testMat[perm,:]\n",
        "t2 = time.time()\n",
        "print(t2-t1)\n",
        "\n",
        "print(np.allclose(result1,result2))\n",
        "print(K.shape)\n"
      ],
      "execution_count": 0,
      "outputs": [
        {
          "output_type": "stream",
          "text": [
            "Example Shapes:\n",
            "m:  9\n",
            "k1, k2:  7 3\n",
            "n1, n2:  7 3\n",
            "(21, 21)\n",
            "[[1. 0. 0. ... 0. 0. 0.]\n",
            " [0. 1. 0. ... 0. 0. 0.]\n",
            " [0. 0. 1. ... 0. 0. 0.]\n",
            " ...\n",
            " [0. 0. 0. ... 1. 0. 0.]\n",
            " [0. 0. 0. ... 0. 1. 0.]\n",
            " [0. 0. 0. ... 0. 0. 1.]]\n",
            "(441, 441)\n",
            "(441, 9)\n",
            "0.0072536468505859375\n",
            "0.0004546642303466797\n",
            "True\n",
            "(21, 21)\n"
          ],
          "name": "stdout"
        }
      ]
    },
    {
      "cell_type": "markdown",
      "metadata": {
        "id": "qndbOyXjfZWY",
        "colab_type": "text"
      },
      "source": [
        "#### Convert blocked matrix to stacked matrix\n",
        "\n",
        "----\n",
        "This function takes as inputs:\n",
        "\n",
        "----\n",
        " - `A`: A 2D matrix of size $(m_1 \\times m_2)$.\n",
        " - `pA`: The size of the block partitions of $A$, e.g. if $A_{i,j}$ is of dimension $(n_1 \\times n_2)$ then ``pA=[n1, n2]``.\n",
        "\n",
        "----\n",
        "And returns as output:\n",
        "\n",
        "----\n",
        " - `As`: The matrix $A$ reshaped to have all blocks $A_{i,j}$ on top of one another. I.e. the below mapping has been performed:\n",
        "\n",
        "$$A = \\begin{bmatrix} A_{1,1} & A_{1,2} & ... & A_{1,l_2} \\\\ A_{2,1} & A_{2,2} & ... & A_{2,l_2} \\\\ \\vdots \\\\ A_{l_1,1} & A_{l_1,2} & ... & A_{l_1,l_2} \\end{bmatrix} \\rightarrow A_s = \\begin{bmatrix} A_{1,1} \\\\ A_{1,2} \\\\ \\vdots \\\\ A_{1,l_2} \\\\ A_{2,1} \\\\ \\vdots \\\\ A_{l_1,l_2} \\end{bmatrix}$$"
      ]
    },
    {
      "cell_type": "code",
      "metadata": {
        "id": "cu6a_dOufZly",
        "colab_type": "code",
        "colab": {}
      },
      "source": [
        "def block2stacked2D(A, pA):\n",
        "\n",
        "  # Work out shape of A\n",
        "  m1 = A.shape[0]\n",
        "  m2 = A.shape[1]\n",
        "\n",
        "  # Work out shape of As\n",
        "  n1 = pA[0]\n",
        "  n2 = pA[1]\n",
        "  \n",
        "  # Change A to stacked form\n",
        "  As = A.reshape((m1//n1,n1,m2//n2,n2)).transpose(0,2,1,3).reshape(m1*m2//n2,n2)\n",
        "\n",
        "  return(As)"
      ],
      "execution_count": 0,
      "outputs": []
    },
    {
      "cell_type": "markdown",
      "metadata": {
        "id": "KPt_DYxmf2B6",
        "colab_type": "text"
      },
      "source": [
        "Below is a demonstration/test of this function:"
      ]
    },
    {
      "cell_type": "code",
      "metadata": {
        "id": "dXZUJB_ef2P7",
        "colab_type": "code",
        "outputId": "7fdca7d2-68c8-4d36-ca79-a5f1bf16e96e",
        "colab": {
          "base_uri": "https://localhost:8080/",
          "height": 153
        }
      },
      "source": [
        "# Random block sizes\n",
        "n1 = np.random.randint(2,6)\n",
        "n2 = np.random.randint(2,6)\n",
        "pA = np.array([n1,n2])\n",
        "\n",
        "# Random number of blocks\n",
        "l1 = np.random.randint(1,3)\n",
        "l2 = np.random.randint(1,3)\n",
        "\n",
        "# Shape of A\n",
        "m1 = l1*n1\n",
        "m2 = l2*n2\n",
        "\n",
        "# Create A\n",
        "A = np.random.randn(m1,m2)\n",
        "print(n1,n2,m1,m2)\n",
        "print(A.shape)\n",
        "# Print A\n",
        "print(A)\n",
        "print(block2stacked2D(A,pA))"
      ],
      "execution_count": 0,
      "outputs": [
        {
          "output_type": "stream",
          "text": [
            "3 4 3 4\n",
            "(3, 4)\n",
            "[[ 2.21542127 -0.52650135 -0.03271491 -0.72991395]\n",
            " [ 0.50035739  1.49795226 -0.60384647  0.94698649]\n",
            " [ 1.83891815  1.03529662 -0.21601111  0.30875488]]\n",
            "[[ 2.21542127 -0.52650135 -0.03271491 -0.72991395]\n",
            " [ 0.50035739  1.49795226 -0.60384647  0.94698649]\n",
            " [ 1.83891815  1.03529662 -0.21601111  0.30875488]]\n"
          ],
          "name": "stdout"
        }
      ]
    },
    {
      "cell_type": "markdown",
      "metadata": {
        "id": "Yee09PD0gITc",
        "colab_type": "text"
      },
      "source": [
        "#### Convert blocked matrix to a stacked vector matrix\n",
        "\n",
        "The below function takes the following inputs:\n",
        "\n",
        "----\n",
        " - `mat`: An abritary matrix whose dimensions are multiples of `p[0]` and `p[1]` respectively.\n",
        " - `p`. The size of the chunks we are partitioning `mat` into.\n",
        "\n",
        "----\n",
        "And gives the following outputs:\n",
        "\n",
        "----\n",
        " - `vecb`: A matrix composed of each block of `mat`, converted to row vectors, stacked on top of one another. I.e. for an arbitrary matrix $A$ of appropriate dimensions, $vecb(A)$ is the result of the mapping;\n",
        "\n",
        " \n",
        "$$A = \\begin{bmatrix} A_{1,1} & A_{1,2} & ... & A_{1,l_2} \\\\ A_{2,1} & A_{2,2} & ... & A_{2,l_2} \\\\ \\vdots \\\\ A_{l_1,1} & A_{l_1,2} & ... & A_{l_1,l_2} \\end{bmatrix} \\rightarrow \\tilde{a} = \\begin{bmatrix} vec'(A_{1,1}) \\\\ vec'(A_{1,2}) \\\\ \\vdots \\\\ vec'(A_{1,l_2}) \\\\ vec'(A_{2,1}) \\\\ \\vdots \\\\ vec'(A_{l_1,l_2}) \\end{bmatrix}$$\n",
        "\n",
        "Where $A_{i,j}$ has dimensions $($ `p[0]` $\\times$ `p[1]` $)$ for all $i$ and $j$."
      ]
    },
    {
      "cell_type": "code",
      "metadata": {
        "id": "MlatzaAZgIhw",
        "colab_type": "code",
        "colab": {}
      },
      "source": [
        "# Block vec with row-wise chunks of size n\n",
        "def mat2vecb2D(mat,p):\n",
        "\n",
        "  # Change to stacked block format, if necessary\n",
        "  if p[1]!=mat.shape[1]:\n",
        "    mat = block2stacked2D(mat,p)\n",
        "\n",
        "  # Get height of block.\n",
        "  n = p[0]\n",
        "  \n",
        "  # Work out shape of matrix.\n",
        "  m = mat.shape[0]\n",
        "  k = mat.shape[1]\n",
        "\n",
        "  # Convert to stacked vector format\n",
        "  vecb = mat.reshape(m//n, n, k).transpose((1, 0, 2)).reshape(n, m*k//n).transpose().reshape(m//n,n*k)\n",
        "\n",
        "  #Return vecb\n",
        "  return(vecb)"
      ],
      "execution_count": 0,
      "outputs": []
    },
    {
      "cell_type": "markdown",
      "metadata": {
        "id": "0jP4HbatgbEs",
        "colab_type": "text"
      },
      "source": [
        "The below code tests and outputs the above function."
      ]
    },
    {
      "cell_type": "code",
      "metadata": {
        "id": "1Zaef1TcgbU8",
        "colab_type": "code",
        "outputId": "d9596fe5-fb83-4c75-e5e8-c0807364bcea",
        "colab": {
          "base_uri": "https://localhost:8080/",
          "height": 272
        }
      },
      "source": [
        "# Random block sizes\n",
        "n1 = np.random.randint(2,4)\n",
        "n2 = np.random.randint(2,4)\n",
        "\n",
        "# Blocksize\n",
        "p = np.array([n1,n2])\n",
        "\n",
        "# Random number of blocks\n",
        "l1 = np.random.randint(2,4)\n",
        "l2 = np.random.randint(2,4)\n",
        "\n",
        "# Resultant matrix sizes\n",
        "m1 = l1*n1\n",
        "m2 = l2*n2\n",
        "\n",
        "# Random matrices\n",
        "A = np.random.randn(m1,m2)\n",
        "\n",
        "print(A)\n",
        "print(mat2vecb2D(A,p))"
      ],
      "execution_count": 0,
      "outputs": [
        {
          "output_type": "stream",
          "text": [
            "[[-2.59471889 -0.16395385 -2.96685959  0.38299481  1.41426412  0.77254921]\n",
            " [-0.22682522  1.19420201  1.4842787  -0.26310432  0.09563809  2.41971959]\n",
            " [-0.12669333 -0.42498082 -1.49403867  0.18342952 -0.1933991  -1.22022735]\n",
            " [-0.18524884 -0.99999577 -0.64308299  0.66144199 -1.30490375  1.63828227]\n",
            " [ 1.12973749 -1.24105313 -0.63562492 -0.53397306 -0.28808039 -0.23097332]\n",
            " [-0.1040141  -0.39748972 -0.27735959 -1.20313122 -1.94984221 -0.1960168 ]]\n",
            "[[-2.59471889 -0.22682522 -0.16395385  1.19420201]\n",
            " [-2.96685959  1.4842787   0.38299481 -0.26310432]\n",
            " [ 1.41426412  0.09563809  0.77254921  2.41971959]\n",
            " [-0.12669333 -0.18524884 -0.42498082 -0.99999577]\n",
            " [-1.49403867 -0.64308299  0.18342952  0.66144199]\n",
            " [-0.1933991  -1.30490375 -1.22022735  1.63828227]\n",
            " [ 1.12973749 -0.1040141  -1.24105313 -0.39748972]\n",
            " [-0.63562492 -0.27735959 -0.53397306 -1.20313122]\n",
            " [-0.28808039 -1.94984221 -0.23097332 -0.1960168 ]]\n"
          ],
          "name": "stdout"
        }
      ]
    },
    {
      "cell_type": "markdown",
      "metadata": {
        "id": "9tex5_YDWeNj",
        "colab_type": "text"
      },
      "source": [
        "#### Sum of Aij multiplied by Bij transpose\n",
        "\n",
        "This function takes in the following inputs:\n",
        "\n",
        "----\n",
        " - A: A 2D matrix of dimension $(m_1 \\times m_2)$.\n",
        " - B: A 2D matrix of dimension $(m_1' \\times m_2)$.\n",
        " - pA: The size of the block partitions of $A$, e.g. if $A_{i,j}$ is of dimension $(n_1 \\times n_2)$ then ``pA=[n1, n2]``.\n",
        " - pB: The size of the block partitions of $B$, e.g. if $B_{i,j}$ is of dimension $(n_1' \\times n_2)$ then ``pB=[n1', n2]``.\n",
        "\n",
        "----\n",
        "And gives the following output:\n",
        "\n",
        "----\n",
        " - S: The sum of the partitions of $A$ multiplied by the transpose of the partitions of $B$; i.e. \n",
        " \n",
        " $$\\sum_{j=1}^{l_1}\\sum_{i=1}^{l_2} A_{i,j}B_{i,j}'$$\n",
        "  \n",
        "  where $l_1:=\\frac{m_1}{n_1}=\\frac{m_1'}{n_1'}$ and $l_2:=\\frac{m_2}{n_2}$."
      ]
    },
    {
      "cell_type": "code",
      "metadata": {
        "id": "xz5mHm5EWecD",
        "colab_type": "code",
        "colab": {}
      },
      "source": [
        "def sumAijBijt2D(A, B, pA, pB):\n",
        "  \n",
        "  # Work out second (the common) dimension of the reshaped A and B\n",
        "  nA = pA[0]\n",
        "  nB = pB[0]\n",
        "\n",
        "  # Work out the first (the common) dimension of reshaped A and B\n",
        "  mA = A.shape[0]*A.shape[1]//nA\n",
        "  mB = B.shape[0]*B.shape[1]//nB\n",
        "\n",
        "  # Check mA equals mB\n",
        "  if mA != mB:\n",
        "    raise Exception('Matrix dimensions incompatible.')\n",
        "\n",
        "  # Convert both matrices to stacked block format.\n",
        "  A = block2stacked2D(A,pA)\n",
        "  B = block2stacked2D(B,pB)\n",
        "\n",
        "  # Work out the sum\n",
        "  S = A.transpose().reshape((mA,nA)).transpose() @ B.transpose().reshape((mB,nB))\n",
        "\n",
        "  # Return result\n",
        "  return(S)"
      ],
      "execution_count": 0,
      "outputs": []
    },
    {
      "cell_type": "markdown",
      "metadata": {
        "id": "RNMIdLT3WeoL",
        "colab_type": "text"
      },
      "source": [
        "Below is a test of the function to check it is outputting as expected. It is also timed."
      ]
    },
    {
      "cell_type": "code",
      "metadata": {
        "id": "qiGQGtoqWewu",
        "colab_type": "code",
        "outputId": "c95de800-d8c2-42c0-a31f-6fc3364dac7b",
        "colab": {
          "base_uri": "https://localhost:8080/",
          "height": 68
        }
      },
      "source": [
        "# Random number of blocks\n",
        "l1 = np.random.randint(1,3000)\n",
        "l2 = np.random.randint(1,3000)\n",
        "\n",
        "# Random blocksizes (the second dimension must be the same for both)\n",
        "n1 = np.random.randint(1,5)\n",
        "n1prime = np.random.randint(1,5)\n",
        "n2 = np.random.randint(1,5)\n",
        "\n",
        "# Save block sizes\n",
        "pA = np.array([n1,n2])\n",
        "pB = np.array([n1prime,n2])\n",
        "\n",
        "m1 = n1*l1\n",
        "m1prime = n1prime*l1\n",
        "m2 = n2*l2\n",
        "\n",
        "k=100\n",
        "l1 = m1//n1\n",
        "l2 = m2//n2\n",
        "\n",
        "# Create A\n",
        "A = np.random.randn(m1,m2)\n",
        "B = np.random.randn(m1prime,m2)\n",
        "\n",
        "# Calculation by summing\n",
        "t1 = time.time()\n",
        "\n",
        "# Initiate empty sum\n",
        "sumAB = np.zeros((n1,n1prime))\n",
        "for i in np.arange(m1//n1):\n",
        "  \n",
        "  for j in np.arange(m2//n2):\n",
        "\n",
        "    # Work out the row-wise chunks\n",
        "    Aij = A[n1*i:n1*(i+1),n2*j:n2*(j+1)]\n",
        "    Bij = B[n1prime*i:n1prime*(i+1),n2*j:n2*(j+1)]\n",
        "\n",
        "    # Perform the summation\n",
        "    sumAB = sumAB + Aij @ Bij.transpose()\n",
        "\n",
        "\n",
        "t2 = time.time()\n",
        "print('Time (Summing):', t2-t1)\n",
        "\n",
        "t1 = time.time()\n",
        "sumAB2 = sumAijBijt2D(A, B, pA, pB)\n",
        "t2=time.time()\n",
        "print('Time (Function):', t2-t1)\n",
        "\n",
        "print(np.allclose(sumAB,sumAB2))"
      ],
      "execution_count": 0,
      "outputs": [
        {
          "output_type": "stream",
          "text": [
            "Time (Summing): 6.279120683670044\n",
            "Time (Function): 0.17411351203918457\n",
            "True\n"
          ],
          "name": "stdout"
        }
      ]
    },
    {
      "cell_type": "markdown",
      "metadata": {
        "id": "T4z6QhhmXbcB",
        "colab_type": "text"
      },
      "source": [
        "#### Sum of Aij kron Bij\n",
        "\n",
        "This function takes in the following inputs:\n",
        "\n",
        "----\n",
        " - `A`: A 2D matrix of dimension $(m_1 \\times m_2)$.\n",
        " - `B`: A 2D matrix of dimension $(m_1 \\times m_2)$.\n",
        " - `p`: The size of the block partitions of $A$ and $B$, e.g. if $A_{i,j}$ and$B_{i,j}$ are of dimension $(n_1 \\times n_2)$ then ``pA=[n1, n2]``.\n",
        " - `perm` (optional): The permutation vector representing the matrix kronecker product $I_{n_2} \\otimes K_{n_2,n_1} \\otimes I_{n_1}$.\n",
        "\n",
        "----\n",
        "\n",
        "And gives the following output:\n",
        "\n",
        "----\n",
        "\n",
        " - S: The sum of the partitions of $A$ multiplied by the transpose of the partitions of $B$; i.e. \n",
        " \n",
        " $$\\sum_{j=1}^{l_1}\\sum_{i=1}^{l_2} A_{i,j} \\otimes B_{i,j}$$\n",
        "  \n",
        "  where $l_1:=\\frac{m_1}{n_1}$ and $l_2:=\\frac{m_2}{n_2}$.\n",
        "\n",
        "- `perm`: The permutation (same as input) used for calculation (useful for later computation)."
      ]
    },
    {
      "cell_type": "code",
      "metadata": {
        "id": "hfPAIAVVXbpN",
        "colab_type": "code",
        "colab": {}
      },
      "source": [
        "def sumAijKronBij2D(A, B, p, perm=None):\n",
        "\n",
        "  # Check dim A and B and pA and pB all same\n",
        "  n1 = p[0]\n",
        "  n2 = p[1]\n",
        "\n",
        "  # This matrix only needs be calculated once\n",
        "  if perm is None:\n",
        "    perm = permOfIkKkI(n2,n1,n2,n1) \n",
        "\n",
        "  # Convert to vecb format\n",
        "  atilde = mat2vecb2D(A,p)\n",
        "  btilde = mat2vecb2D(B,p)\n",
        "\n",
        "  # Multiply and convert to vector\n",
        "  vecba = mat2vec(btilde.transpose() @ atilde)\n",
        "\n",
        "  # Permute\n",
        "  S_noreshape = vecba[perm,:] \n",
        "\n",
        "  # Reshape to correct shape\n",
        "  S = S_noreshape.reshape(n2**2,n1**2).transpose()\n",
        "\n",
        "  return(S,perm)"
      ],
      "execution_count": 0,
      "outputs": []
    },
    {
      "cell_type": "markdown",
      "metadata": {
        "id": "j2hu_74-Xb2u",
        "colab_type": "text"
      },
      "source": [
        "The below code tests and times the above function."
      ]
    },
    {
      "cell_type": "code",
      "metadata": {
        "id": "sdNtt19uXcD9",
        "colab_type": "code",
        "outputId": "7945ca49-83a0-49b4-b5f3-293cdc383acc",
        "colab": {
          "base_uri": "https://localhost:8080/",
          "height": 102
        }
      },
      "source": [
        "# Random block sizes\n",
        "n1 = np.random.randint(2,10)\n",
        "n2 = np.random.randint(2,10)\n",
        "\n",
        "# Blocksize\n",
        "p = np.array([n1,n2])\n",
        "\n",
        "# Random number of blocks\n",
        "l1 = np.random.randint(2,30)\n",
        "l2 = np.random.randint(2,30)\n",
        "\n",
        "# Resultant matrix sizes\n",
        "m1 = l1*n1\n",
        "m2 = l2*n2\n",
        "\n",
        "# Random matrices\n",
        "A = np.random.randn(m1,m2)\n",
        "B = np.random.randn(m1,m2)\n",
        "\n",
        "# Sum version\n",
        "t1 = time.time()\n",
        "\n",
        "runningSum = np.zeros((n1**2,n2**2))\n",
        "# LHS calculation\n",
        "t1 = time.time()\n",
        "for i in np.arange(l1):\n",
        "  for j in np.arange(l2):\n",
        "\n",
        "    Aij = A[n1*i:n1*(i+1),n2*j:n2*(j+1)]\n",
        "    Bij = B[n1*i:n1*(i+1),n2*j:n2*(j+1)]\n",
        "\n",
        "    runningSum = runningSum + np.kron(Aij, Bij)\n",
        "\n",
        "t2 = time.time()\n",
        "print('Time (summing): ', t2-t1)\n",
        "\n",
        "# Now with function\n",
        "t1 = time.time()\n",
        "S, perm = sumAijKronBij2D(A, B, p)\n",
        "t2 = time.time()\n",
        "\n",
        "print('Time (function): ', t2-t1)\n",
        "print(np.allclose(S,runningSum))\n",
        "\n",
        "t1 = time.time()\n",
        "S, _ = sumAijKronBij2D(A, B, p, perm)\n",
        "t2 = time.time()\n",
        "\n",
        "print('Time (function, with perm): ', t2-t1)\n",
        "\n",
        "print(np.allclose(S,runningSum))\n",
        "#print(S)\n",
        "#print(runningSum)"
      ],
      "execution_count": 0,
      "outputs": [
        {
          "output_type": "stream",
          "text": [
            "Time (summing):  0.03720569610595703\n",
            "Time (function):  0.00376129150390625\n",
            "True\n",
            "Time (function, with perm):  0.0008482933044433594\n",
            "True\n"
          ],
          "name": "stdout"
        }
      ]
    },
    {
      "cell_type": "markdown",
      "metadata": {
        "id": "2byzJx5Kf5fS",
        "colab_type": "text"
      },
      "source": [
        ""
      ]
    },
    {
      "cell_type": "code",
      "metadata": {
        "id": "gFCU4gxkf5r8",
        "colab_type": "code",
        "colab": {}
      },
      "source": [
        "def blockInverse(matrix, blockSize, numBlocks):\n",
        "\n",
        "  invMatrix = scipy.sparse.csr_matrix((np.array([]), (np.array([]),np.array([]))),shape=matrix.shape)\n",
        "  \n",
        "  # For each level, invert the corresponding block on the diagonal\n",
        "  for i in range(numBlocks):\n",
        "    \n",
        "    # The block is nparams by nparams\n",
        "    blockInds = np.ix_(np.arange(i*blockSize,(i+1)*blockSize),np.arange(i*blockSize,(i+1)*blockSize))\n",
        "    \n",
        "    # Get the block\n",
        "    block = matrix[blockInds]\n",
        "    \n",
        "    # Replace it with it's inverse\n",
        "    invMatrix[blockInds]=scipy.sparse.linalg.inv(block)\n",
        "    \n",
        "  return(invMatrix)\n",
        "\n",
        "# Example - need to have loaded in data first\n",
        "\n",
        "# Get ZtZ just for the first grouping factor\n",
        "firstFactorIndices = np.ix_(np.arange(nlevels[0]*nparams[0]),np.arange(nlevels[0]*nparams[0]))\n",
        "ZtZ_f1 = ZtZ[firstFactorIndices]\n",
        "\n",
        "# Compute the block inverse for ZtZ_f1\n",
        "#t1 = time.time()\n",
        "#ZtZ_f1_inv = blockInverse(matrix=ZtZ_f1, blockSize=nparams[0], numBlocks=nlevels[0])\n",
        "#t2 = time.time()\n",
        "#blockInverse_time = t2-t1\n",
        "\n",
        "# Compare it to the inverse scipy would calculate\n",
        "#t1 = time.time()\n",
        "#ZtZ_f1_inv_sp = scipy.sparse.linalg.inv(ZtZ_f1)\n",
        "#t2 = time.time()\n",
        "#scipyInverse_time = t2-t1\n",
        "\n",
        "#print(blockInverse_time)\n",
        "#print(scipyInverse_time)\n"
      ],
      "execution_count": 0,
      "outputs": []
    },
    {
      "cell_type": "markdown",
      "metadata": {
        "id": "-BdQ3jh7x71k",
        "colab_type": "text"
      },
      "source": [
        ""
      ]
    },
    {
      "cell_type": "code",
      "metadata": {
        "id": "77gBbWIAx8AZ",
        "colab_type": "code",
        "outputId": "6f32f964-ab0f-43f7-ad0b-07c03b66103b",
        "colab": {
          "base_uri": "https://localhost:8080/",
          "height": 170
        }
      },
      "source": [
        "def recursiveInverse(M, nparams, nlevels):\n",
        "  \n",
        "  # Check if we have a matrix we can partition into more than 1 block\n",
        "  if len(nparams) > 1:\n",
        "  \n",
        "    # Work out qc\n",
        "    qc = nparams[-1]*nlevels[-1]\n",
        "    # Make q\n",
        "    q = M.shape[0]\n",
        "\n",
        "    # Get A, B and C where M=[[A,B],[B',C]]\n",
        "    # A\n",
        "    A_inds = np.ix_(np.arange(0,(q-qc)),np.arange(0,(q-qc)))\n",
        "    A = M[A_inds]\n",
        "\n",
        "    # B\n",
        "    B_inds = np.ix_(np.arange(0,(q-qc)),np.arange((q-qc),q))\n",
        "    B = M[B_inds].toarray() # B is dense\n",
        "\n",
        "    # C\n",
        "    C_inds = np.ix_(np.arange((q-qc),q),np.arange((q-qc),q))\n",
        "    C = M[C_inds].toarray() # C is small and now only involved in dense mutliplys\n",
        "\n",
        "    # Recursive inverse A\n",
        "    if nparams[:-1].shape[0] > 1:\n",
        "\n",
        "      Ainv = recursiveInverse(A, nparams[:-1], nlevels[:-1]).toarray()\n",
        "\n",
        "    else:\n",
        "\n",
        "      #Ainv = blockInverse(A, nparams[0], nlevels[0]) - much slower\n",
        "      Ainv = scipy.sparse.linalg.inv(scipy.sparse.csc_matrix(A)).toarray()\n",
        "\n",
        "    # Schur complement\n",
        "    S = C-np.matmul(np.matmul(B.transpose(),Ainv),B)\n",
        "    Sinv = np.linalg.inv(S)\n",
        "\n",
        "    # Top Left Hand Side of inverse\n",
        "    TLHS = Ainv + np.matmul(np.matmul(np.matmul(np.matmul(Ainv,B),Sinv),B.transpose()),Ainv)\n",
        "\n",
        "\n",
        "    # Top Right Hand Side of inverse\n",
        "    TRHS = -np.matmul(np.matmul(Ainv,B),Sinv)\n",
        "\n",
        "\n",
        "    # Bottom Right Hand Side of inverse\n",
        "    BRHS = Sinv\n",
        "\n",
        "    # Join together\n",
        "    top = np.hstack((TLHS,TRHS))\n",
        "    bottom = np.hstack((TRHS.transpose(), BRHS))\n",
        "\n",
        "    # Make Minv\n",
        "    Minv = np.vstack((top, bottom))\n",
        "    \n",
        "  else:\n",
        "    \n",
        "    # If we have only one block; invert it\n",
        "    Minv = scipy.sparse.linalg.inv(scipy.sparse.csc_matrix(M)).toarray() \n",
        "  \n",
        "  return(Minv)\n",
        "\n",
        "# Example\n",
        "t1 = time.time()\n",
        "ZtZinv_rec = recursiveInverse(scipy.sparse.csc_matrix(ZtZ), nparams, nlevels)\n",
        "t2 = time.time()\n",
        "inv_rec_time = t2-t1\n",
        "\n",
        "t1 = time.time()\n",
        "ZtZinv_sp = scipy.sparse.linalg.inv(scipy.sparse.csc_matrix(ZtZ))\n",
        "t2 = time.time()\n",
        "inv_sp_time = t2-t1\n",
        "\n",
        "t1 = time.time()\n",
        "ZtZinv_np = np.linalg.inv(ZtZ)\n",
        "t2 = time.time()\n",
        "inv_np_time = t2-t1\n",
        "\n",
        "\n",
        "print('Distance (norm) from identity (scipy)')\n",
        "print(np.linalg.norm(np.matmul(ZtZinv_sp.toarray(),ZtZ)-np.eye(ZtZ.shape[0])))\n",
        "print('Distance (norm) from identity (numpy)')\n",
        "print(np.linalg.norm(np.matmul(ZtZinv_np,ZtZ)-np.eye(ZtZ.shape[0])))\n",
        "print('Distance (norm) from identity (rec)')\n",
        "print(np.linalg.norm(np.matmul(ZtZinv_rec,ZtZ)-np.eye(ZtZ.shape[0])))\n",
        "\n",
        "print(inv_sp_time)\n",
        "print(inv_np_time)\n",
        "print(inv_rec_time)\n"
      ],
      "execution_count": 0,
      "outputs": [
        {
          "output_type": "stream",
          "text": [
            "Distance (norm) from identity (scipy)\n",
            "289.8902619901572\n",
            "Distance (norm) from identity (numpy)\n",
            "1955.403906774292\n",
            "Distance (norm) from identity (rec)\n",
            "381.4130003726553\n",
            "0.024462223052978516\n",
            "0.0003294944763183594\n",
            "0.03153562545776367\n"
          ],
          "name": "stdout"
        }
      ]
    },
    {
      "cell_type": "markdown",
      "metadata": {
        "id": "AyCloufz0W3U",
        "colab_type": "text"
      },
      "source": [
        "#### Force symmetric\n",
        "\n",
        "The below function takes in a matrix $X$ and returns a symmetric matrix $X_s$ given by:\n",
        "\n",
        "$$X_s = (X+X^T)/2$$\n",
        "\n",
        "The effect of this is that if $X$ is expected to be symmetric but is not due to computational error, any antisymmetric errors will be resolved/reduced."
      ]
    },
    {
      "cell_type": "code",
      "metadata": {
        "id": "CR4xAjhO0W-f",
        "colab_type": "code",
        "outputId": "e10b7bbd-54e4-49b8-fc66-027f0c9c8f33",
        "colab": {
          "base_uri": "https://localhost:8080/",
          "height": 51
        }
      },
      "source": [
        "import numba\n",
        "@numba.jit\n",
        "def forceSym(x):\n",
        "  \n",
        "  # Force it to be symmetric\n",
        "  return((x+x.transpose())/2)\n",
        "\n",
        "#print(ZtZ-forceSym(ZtZ))\n",
        "\n",
        "t1 = time.time()\n",
        "ZtZ = forceSym(forceSym(ZtZ))\n",
        "print(time.time()-t1)\n",
        "\n",
        "t1 = time.time()\n",
        "ZtZ = forceSym(forceSym(ZtZ))\n",
        "print(time.time()-t1)"
      ],
      "execution_count": 0,
      "outputs": [
        {
          "output_type": "stream",
          "text": [
            "0.48226308822631836\n",
            "6.67572021484375e-05\n"
          ],
          "name": "stdout"
        }
      ]
    },
    {
      "cell_type": "markdown",
      "metadata": {
        "id": "MPgPFpnOLxdG",
        "colab_type": "text"
      },
      "source": [
        "### Sum of square residuals\n",
        "\n",
        "The function below calculates the sum of the square residuals, $e^Te$, using the below formula:\n",
        "\n",
        "$$e^Te = (Y-X\\beta)^T(Y-X\\beta)$$ \n",
        "$$=Y^TY - 2Y^TX\\beta + \\beta^T X^TX \\beta$$\n",
        "\n",
        "\n",
        "----\n",
        "\n",
        "This function takes the following inputs:\n",
        "\n",
        "----\n",
        "\n",
        " - `YtX`: $Y$ transpose multiplied by $X$ ($Y^TX$ in the above notation).\n",
        " - `YtY`: $Y$ transpose multiplied by $Y$ ($Y^TY$ in the above notation).\n",
        " - `XtX`: $X$ transpose multiplied by $X$ ($X^TX$ in the above notation).\n",
        " - `beta`: An estimate of the parameter vector ($\\beta$ in the above notation).\n",
        " \n",
        "----\n",
        "\n",
        "It returns as outputs:\n",
        "\n",
        "----\n",
        "\n",
        "\n",
        " - `ete`: The sum of square residuals ($e^Te$ in the above notation)."
      ]
    },
    {
      "cell_type": "code",
      "metadata": {
        "id": "KK0i7TkgNNZD",
        "colab_type": "code",
        "outputId": "c1364f2b-4f1d-49dd-f7ee-312067a2a9da",
        "colab": {
          "base_uri": "https://localhost:8080/",
          "height": 34
        }
      },
      "source": [
        "def ssr(YtX, YtY, XtX, beta):\n",
        "  \n",
        "  # Return the sum of squared residuals\n",
        "  return(YtY - 2*YtX @ beta + beta.transpose() @ XtX @ beta)\n",
        "\n",
        "t1 = time.time()\n",
        "ete = ssr(YtX, YtY, XtX, np.array([[1],[2],[3]]))\n",
        "t2 = time.time()\n",
        "print(t2-t1)\n"
      ],
      "execution_count": 0,
      "outputs": [
        {
          "output_type": "stream",
          "text": [
            "0.00021457672119140625\n"
          ],
          "name": "stdout"
        }
      ]
    },
    {
      "cell_type": "markdown",
      "metadata": {
        "id": "JffLr-FTZ2Zs",
        "colab_type": "text"
      },
      "source": [
        "#### Get Factor Indices\n",
        "\n",
        "This function gives the indices of the columns of the $Z$ matrix which correspond to factor $k$ level $j$. \n",
        "\n",
        "\n",
        "----\n",
        "\n",
        "This function takes the following inputs:\n",
        "\n",
        "----\n",
        "\n",
        " - `k`: The grouping factor we need the columns of.\n",
        " - `nlevels`: A vector containing the number of levels for each factor, e.g. `nlevels=[3,4]` would mean the first factor has 3 levels and the second factor has 4 levels.\n",
        " - `nparams`: A vector containing the number of parameters for each factor, e.g. `nlevels=[2,1]` would mean the first factor has 2 parameters and the second factor has 1 parameter.\n",
        " \n",
        "----\n",
        "\n",
        "It returns as outputs:\n",
        "\n",
        "----\n",
        "\n",
        "- `Ik`: The indices of the columns of $Z$ corresponding to factor $k$."
      ]
    },
    {
      "cell_type": "code",
      "metadata": {
        "id": "cJccybRtaFvS",
        "colab_type": "code",
        "outputId": "724a66cb-d80c-44fe-934a-6c6eb0989a86",
        "colab": {
          "base_uri": "https://localhost:8080/",
          "height": 68
        }
      },
      "source": [
        "# k is zero indexed\n",
        "def fac_indices(k, nlevels, nparams):\n",
        "  \n",
        "  # Get indices for all factors\n",
        "  allInds = np.insert(np.cumsum(nlevels*nparams),0,0)\n",
        "\n",
        "  # Work out the first index\n",
        "  start = allInds[k]\n",
        "\n",
        "  # Work out the last index\n",
        "  end = allInds[k+1]\n",
        "\n",
        "  return(np.arange(start,end))\n",
        "\n",
        "t1 = time.time()\n",
        "print(fac_indices(0, nlevels, nparams))\n",
        "t2 = time.time()\n",
        "\n",
        "print(t2-t1)"
      ],
      "execution_count": 0,
      "outputs": [
        {
          "output_type": "stream",
          "text": [
            "[ 0  1  2  3  4  5  6  7  8  9 10 11 12 13 14 15 16 17 18 19 20 21 22 23\n",
            " 24 25 26 27 28 29 30 31 32 33 34 35 36 37 38 39]\n",
            "0.0007023811340332031\n"
          ],
          "name": "stdout"
        }
      ]
    },
    {
      "cell_type": "markdown",
      "metadata": {
        "id": "LO_68uYYxCvf",
        "colab_type": "text"
      },
      "source": [
        "#### Get Factor/Level Indices\n",
        "\n",
        "This function gives the indices of the columns of the $Z$ matrix which correspond to factor $k$ level $j$. \n",
        "\n",
        "\n",
        "----\n",
        "\n",
        "This function takes the following inputs:\n",
        "\n",
        "----\n",
        "\n",
        " - `k`: The grouping factor we need the columns of.\n",
        " - `j`: The level of the grouping factor $k$ which we are interested in.\n",
        " - `nlevels`: A vector containing the number of levels for each factor, e.g. `nlevels=[3,4]` would mean the first factor has 3 levels and the second factor has 4 levels.\n",
        " - `nparams`: A vector containing the number of parameters for each factor, e.g. `nlevels=[2,1]` would mean the first factor has 2 parameters and the second factor has 1 parameter.\n",
        " \n",
        "----\n",
        "\n",
        "It returns as outputs:\n",
        "\n",
        "----\n",
        "\n",
        "- `Ikj`: The indices of the columns of $Z$ corresponding to factor $k$ level $j$."
      ]
    },
    {
      "cell_type": "code",
      "metadata": {
        "id": "iSrodNh0zI0_",
        "colab_type": "code",
        "outputId": "bbb952d3-57b6-4887-ef5a-2d4e1ec32cd7",
        "colab": {
          "base_uri": "https://localhost:8080/",
          "height": 34
        }
      },
      "source": [
        "import numba\n",
        "\n",
        "@numba.jit\n",
        "# k and j are both zero indexed\n",
        "def faclev_indices(k, j, nlevels, nparams):\n",
        "  \n",
        "  # Work out the starting point of the indices\n",
        "  start = np.concatenate((np.array([0]), np.cumsum(nlevels*nparams)))[k] + nparams[k]*j\n",
        "  \n",
        "  # work out the end point of the indices\n",
        "  end = start + nparams[k]\n",
        "  \n",
        "  return(np.arange(start, end))\n",
        "\n",
        "t1 = time.time()\n",
        "faclev_indices(0, 1, nlevels, nparams)\n",
        "t2 = time.time()\n",
        "\n",
        "print(t2-t1)"
      ],
      "execution_count": 0,
      "outputs": [
        {
          "output_type": "stream",
          "text": [
            "0.5273518562316895\n"
          ],
          "name": "stdout"
        }
      ]
    },
    {
      "cell_type": "code",
      "metadata": {
        "id": "QYv59en2gpt3",
        "colab_type": "code",
        "outputId": "c7fc9b2d-4438-4c80-d801-3a5d67b2d95d",
        "colab": {
          "base_uri": "https://localhost:8080/",
          "height": 34
        }
      },
      "source": [
        "t1 = time.time()\n",
        "faclev_indices(0, 1, nlevels, nparams)\n",
        "t2 = time.time()\n",
        "\n",
        "print(t2-t1)"
      ],
      "execution_count": 0,
      "outputs": [
        {
          "output_type": "stream",
          "text": [
            "9.679794311523438e-05\n"
          ],
          "name": "stdout"
        }
      ]
    },
    {
      "cell_type": "markdown",
      "metadata": {
        "id": "ENLuSjo07vTW",
        "colab_type": "text"
      },
      "source": [
        "### Initial Beta\n",
        "\n",
        "The below function returns the OLS estimator for $\\hat{\\beta}$, given by:\n",
        "\n",
        "$$\\hat{\\beta}_{OLS}=(X'X)^{-1}X'Y$$\n",
        "\n",
        "----\n",
        "\n",
        "This function takes the following inputs:\n",
        "\n",
        "----\n",
        "\n",
        " - `XtX`: The design matrix transposed and multiplied by itself ($X'X$ in the above notation)\n",
        " - `XtY`: The design matrix transposed and multiplied by the response vector ($X'Y$ in the above notation).\n",
        " \n",
        "----\n",
        "\n",
        "It returns as outputs:\n",
        "\n",
        "----\n",
        "\n",
        "- `beta`: The OLS estimate of $\\beta$ ($\\hat{\\beta}_{OLS}$ in the above notation).\n",
        "\n"
      ]
    },
    {
      "cell_type": "code",
      "metadata": {
        "id": "3Ue2gIHo7veU",
        "colab_type": "code",
        "outputId": "55778a9d-2aca-46d2-bf50-0f274724b81e",
        "colab": {
          "base_uri": "https://localhost:8080/",
          "height": 119
        }
      },
      "source": [
        "def initBeta(XtX, XtY):\n",
        "  \n",
        "  # Get the beta estimator\n",
        "  beta = np.linalg.solve(XtX,XtY)\n",
        "  \n",
        "  # Return the result\n",
        "  return(beta)\n",
        "\n",
        "print(initBeta(XtX,XtY))\n",
        "print(np.linalg.inv(XtX) @ XtY)"
      ],
      "execution_count": 0,
      "outputs": [
        {
          "output_type": "stream",
          "text": [
            "[[0.1591389 ]\n",
            " [3.83124154]\n",
            " [3.14595612]]\n",
            "[[0.1591389 ]\n",
            " [3.83124154]\n",
            " [3.14595612]]\n"
          ],
          "name": "stdout"
        }
      ]
    },
    {
      "cell_type": "markdown",
      "metadata": {
        "id": "2xeRsXZBJUGd",
        "colab_type": "text"
      },
      "source": [
        "#### Initial Sigma\n",
        "\n",
        "The function below returns an initial estimate for the Fixed Effects Variance, $\\sigma^2$. The estimator used is based on the suggested OLS estimator in Demidenko (2012) and is given by:\n",
        "\n",
        "$$\\hat{\\sigma}^2_{OLS}=\\frac{1}{n}(Y-X\\beta)^T(Y-X\\beta)$$\n",
        "$$=\\frac{1}{n}e^Te$$\n",
        "\n",
        "----\n",
        "\n",
        "This function takes the following inputs:\n",
        "\n",
        "----\n",
        "\n",
        " - `ete`: The sum of square residuals ($e^Te$ in the above notation).\n",
        " - `n`: The total number of observations ($n$ in the above notation).\n",
        " \n",
        "----\n",
        "\n",
        "It returns as outputs:\n",
        "\n",
        "----\n",
        "\n",
        "- `sigma2`: The OLS estimate of $\\sigma^2$ ($\\hat{\\sigma}^2_{OLS}$ in the above notation)."
      ]
    },
    {
      "cell_type": "code",
      "metadata": {
        "id": "_STdZ1mNLWbR",
        "colab_type": "code",
        "colab": {}
      },
      "source": [
        "def initSigma2(ete, n):\n",
        "\n",
        "  # Return the OLS estimate of sigma\n",
        "  return(1/n*ete[0,0])"
      ],
      "execution_count": 0,
      "outputs": []
    },
    {
      "cell_type": "markdown",
      "metadata": {
        "id": "rdtIeA0NNsZl",
        "colab_type": "text"
      },
      "source": [
        "#### Initial D_k\n",
        "\n",
        "The function below returns an initial estimate for the Random Effects Variance matrix for the $k^{th}$ grouping factor, $D_k$. The estimator used is an adaption of the suggested estimator in Demidenko (2012) and is given by:\n",
        "\n",
        "$$vec(\\hat{D}_{k})=\\bigg[\\sum_{i=1}^{l_k}\\sum_{j=1}^{l_k}(Z_{(k,i)}^TZ_{(k,j)}) \\otimes (Z_{(k,i)}^TZ_{(k,j)})\\bigg]^{-1}vec\\bigg(\\sum_{j=1}^{l_k}[\\hat{\\sigma}^{-2}_{OLS}Z_{(k,j)}^Tee^TZ_{(k,j)} - Z_{(k,j)}^TZ_{(k,j)}]\\bigg)$$\n",
        "\n",
        "Or:\n",
        "\n",
        "$$\\hat{D}_{k}=matrix\\bigg(\\bigg[\\sum_{i=1}^{l_k}\\sum_{j=1}^{l_k}(Z_{(k,i)}^TZ_{(k,j)}) \\otimes (Z_{(k,i)}^TZ_{(k,j)})\\bigg]^{-1}vec\\bigg(\\sum_{j=1}^{l_k}[\\hat{\\sigma}^{-2}_{OLS}Z_{(k,j)}^Tee^TZ_{(k,j)} - Z_{(k,j)}^TZ_{(k,j)}]\\bigg)\\bigg)$$\n",
        "\n",
        "----\n",
        "\n",
        "This function takes the following inputs:\n",
        "\n",
        "----\n",
        "\n",
        " - `k`: The grouping factor we wish to estimate $D$ for ($k$ in the above notation)\n",
        " - `lk`: The number of levels belonging to grouping factor $k$ ($l_k$ in the above notation).\n",
        " - `ZtZ`: The $Z$ matrix transposed and then multiplied by itself ($Z^TZ$ in the above notation).\n",
        " - `Zte`: The $Z$ matrix transposed and then multiplied by the OLS residuals ($Z^Te=Z^T(Y-X\\beta)$ in the above notation).\n",
        " - `sigma2`: The OLS estimate of $\\sigma^2$ ($\\hat{\\sigma}^2_{OLS}$ in the above notation).\n",
        " \n",
        "----\n",
        "\n",
        "It returns as outputs:\n",
        "\n",
        "----\n",
        "\n",
        "- `Dkest`: The inital estimate of $D_k$ ($\\hat{D}_k$ in the above notation).\n"
      ]
    },
    {
      "cell_type": "code",
      "metadata": {
        "id": "I0J2CFTrNrhq",
        "colab_type": "code",
        "outputId": "46d12304-b22e-4d8a-9da2-8be325d24119",
        "colab": {
          "base_uri": "https://localhost:8080/",
          "height": 51
        }
      },
      "source": [
        "def initDk(k, lk, ZtZ, Zte, sigma2):\n",
        "  \n",
        "  # Initalize D to zeros\n",
        "  invSig2ZteetZminusZtZ = np.zeros((nparams[k],nparams[k]))\n",
        "  \n",
        "  # For each level j we need to add a term\n",
        "  for j in np.arange(nlevels[k]):\n",
        "    \n",
        "    Ikj = faclev_indices(k, j, nlevels, nparams)\n",
        "\n",
        "    # Work out Z_(k, j)'Z_(k, j)\n",
        "    ZkjtZkj = ZtZ[np.ix_(Ikj,Ikj)]\n",
        "    \n",
        "    # Work out Z_(k,j)'e\n",
        "    Zkjte = Zte[Ikj,:]\n",
        "    \n",
        "    if j==0:\n",
        "      \n",
        "      # Add first Z_(k,j)'Z_(k,j) kron Z_(k,j)'Z_(k,j)\n",
        "      ZtZkronZtZ = np.kron(ZkjtZkj,ZkjtZkj.transpose())\n",
        "      \n",
        "      # Add first \\sigma^{-2}Z'ee'Z - Z_(k,j)'Z_(k,j)\n",
        "      invSig2ZteetZminusZtZ = 1/sigma2*(Zkjte @ Zkjte.transpose()) - ZkjtZkj\n",
        "      \n",
        "    else:\n",
        "      \n",
        "      # Add next Z_(k,j)'Z_(k,j) kron Z_(k,j)'Z_(k,j)\n",
        "      ZtZkronZtZ = ZtZkronZtZ + np.kron(ZkjtZkj,ZkjtZkj.transpose())\n",
        "      \n",
        "      # Add next \\sigma^{-2}Z'ee'Z - Z_(k,j)'Z_(k,j)\n",
        "      invSig2ZteetZminusZtZ = invSig2ZteetZminusZtZ + 1/sigma2*(Zkjte @ Zkjte.transpose()) - ZkjtZkj\n",
        "  \n",
        "  # Work out the final term.\n",
        "  Dkest = vec2mat(np.linalg.inv(ZtZkronZtZ) @ mat2vec(invSig2ZteetZminusZtZ)) \n",
        "  \n",
        "  return(Dkest)\n",
        "\n",
        "Zte = ZtY-ZtX @ np.array([[1],[2],[3]])\n",
        "\n",
        "t1 = time.time()\n",
        "initDk(0, nlevels[0], ZtZ, Zte , 1)\n",
        "t2 = time.time()\n",
        "\n",
        "print(t2-t1)\n",
        "\n",
        "t1 = time.time()\n",
        "initDk(0, nlevels[0], ZtZ, Zte , 1)\n",
        "t2 = time.time()\n",
        "\n",
        "print(t2-t1)"
      ],
      "execution_count": 0,
      "outputs": [
        {
          "output_type": "stream",
          "text": [
            "0.0037517547607421875\n",
            "0.0031020641326904297\n"
          ],
          "name": "stdout"
        }
      ]
    },
    {
      "cell_type": "markdown",
      "metadata": {
        "id": "hjypr01QTJh5",
        "colab_type": "text"
      },
      "source": [
        "#### Non-negative Definite D\n",
        "\n",
        "The below function takes in a covariance matrix $D$ and finds nearest projection onto the space of non-negative definite matrices $\\mathbb{D}_+$. It uses the following method taken from Demidenko (2012), page 105:\n",
        "\n",
        "If $D$ is non-negative definite and has eigenvalue decomposition $D=P\\Lambda P^T$ it's closest projection into $\\mathbb{D}_+$ is defined by the matrix below:\n",
        "\n",
        "$$\\hat{D}_+ = P\\Lambda_+P'$$\n",
        "\n",
        "Where $\\Lambda_+$ is defined by the elementwise maximum of $\\Lambda$ and 0; i.e. $\\Lambda_{+(i,j)} = max(\\Lambda_{+(i,j)},0)$.\n",
        "\n",
        "Note: This is not to be confused with the generalized inverse of the duplication matrix $\\mathcal{D}^+$.\n",
        "\n",
        "----\n",
        "\n",
        "This function takes the following inputs:\n",
        "\n",
        "----\n",
        "\n",
        " - `D`: A square symmetric matrix.\n",
        " \n",
        "----\n",
        "\n",
        "It returns as outputs:\n",
        "\n",
        "----\n",
        "\n",
        "- `D_nnd`: The nearest projection of $D$ onto the space of non-negative definite matrices $\\mathbb{D}_+$."
      ]
    },
    {
      "cell_type": "code",
      "metadata": {
        "id": "k2rW_uOBTJ0l",
        "colab_type": "code",
        "colab": {}
      },
      "source": [
        "def makeDnnd(D):\n",
        "  \n",
        "  # Check if we have negative eigenvalues\n",
        "  if not np.all(np.linalg.eigvals(D)>0):\n",
        "  \n",
        "    # If we have negative eigenvalues\n",
        "    eigvals,eigvecs = np.linalg.eigh(D)\n",
        "    \n",
        "    # Work out elementwise max of lambda and 0\n",
        "    lamplus = np.diag(np.maximum(eigvals,0))\n",
        "    \n",
        "    # Work out D+\n",
        "    D_nnd = eigvecs @ lamplus @ np.linalg.inv(eigvecs)\n",
        "    \n",
        "  else:\n",
        "    \n",
        "    # D is already non-negative in this case\n",
        "    D_nnd = D\n",
        "    \n",
        "  return(D_nnd)\n",
        "  "
      ],
      "execution_count": 0,
      "outputs": []
    },
    {
      "cell_type": "markdown",
      "metadata": {
        "id": "fWz8h5WUFn7R",
        "colab_type": "text"
      },
      "source": [
        "#### Log likelihood of $(\\beta, \\sigma^2, D)$\n",
        "\n",
        "This function returns the log likelihood of $(\\beta, \\sigma^2, D)$ which is given by the below equation:\n",
        "\n",
        "$$l(\\beta,\\sigma^2,D) = -\\frac{1}{2}\\bigg\\{ n\\text{ln}(\\sigma^2) + \\text{ln}|I+Z'ZD| + \\sigma^{-2}(e'e-e'ZD(I+Z'ZD)^{-1}Z'e)\\bigg\\}$$\n",
        "\n",
        "\n",
        "----\n",
        "\n",
        "This function takes the following inputs:\n",
        "\n",
        "----\n",
        "\n",
        " - `n`: The total number of observations.\n",
        " - `ZtZ`: The $Z$ matrix transposed and then multiplied by Z ($Z'Z$ in the above notation).\n",
        " - `Zte`: The $Z$ matrix transposed and then multiplied by the OLS residuals ($Z'e=Z'(Y-X\\beta)$ in the above notation).\n",
        " - `ete`: The OLS residuals transposed and then multiplied by themselves ($e'e=(Y-X\\beta)'(Y-X\\beta)$ in the above notation).\n",
        " - `sigma2`: The fixed effects variance ($\\sigma^2$ in the above notation).\n",
        " - `DinvIplusZtZD`: The product $D(I+Z'ZD)^{-1}$.\n",
        " - `D`: The random effects variance-covariance matrix ($D$ in the above notation)\n",
        " \n",
        "----\n",
        "\n",
        "It returns as outputs:\n",
        "\n",
        "----\n",
        "\n",
        "- `llh`: The log likelihood of $(\\beta, \\sigma^2, D)$ ($l(\\beta,\\sigma^2,D)$ in the above notation).\n"
      ]
    },
    {
      "cell_type": "code",
      "metadata": {
        "id": "3oaXHL55Fnlv",
        "colab_type": "code",
        "outputId": "dc77d4dd-6948-4f6e-bf39-d1bbdc53f686",
        "colab": {
          "base_uri": "https://localhost:8080/",
          "height": 170
        }
      },
      "source": [
        "def llh(n, ZtZ, Zte, ete, sigma2, DinvIplusZtZD,D):\n",
        "  \n",
        "  # Work out the log likelihood\n",
        "  llh = -0.5*(n*np.log(sigma2) + np.log(np.linalg.det(np.eye(ZtZ.shape[0]) + ZtZ @ D)) + (1/sigma2)*(ete - forceSym(Zte.transpose() @ DinvIplusZtZD @ Zte)))\n",
        "  \n",
        "  # Return result\n",
        "  return(llh)\n",
        "\n",
        "Ddict = dict()\n",
        "print(RFXVar_REst)\n",
        "for k in np.arange(len(nparams)):\n",
        "  \n",
        "  Ddict[k] = RFXVar_REst[np.ix_(np.arange(2*k,2*(k+1)),np.arange(2*k,2*(k+1)))]#makeDnnd(initDk(k, nlevels[k], ZtZ, Zte, sigma2))#\n",
        "  print(Ddict[k])\n",
        "\n",
        "# Matrix version\n",
        "D = np.array([])\n",
        "for i in np.arange(len(nparams)):\n",
        "  \n",
        "  for j in np.arange(nlevels[i]):\n",
        "    \n",
        "    if i == 0 and j == 0:\n",
        "\n",
        "      D = Ddict[i]\n",
        "\n",
        "    else:\n",
        "\n",
        "      D = scipy.linalg.block_diag(D, Ddict[i])\n",
        "\n",
        "beta = beta_True\n",
        "q = Z.shape[1]\n",
        "sigma2 = 1\n",
        "Zte = ZtY - ZtX @ beta\n",
        "ete = ssr(YtX, YtY, XtX, beta)\n",
        "\n",
        "DinvIplusZtZD = D @ np.linalg.inv(np.eye(q) + ZtZ @ D)\n",
        "t1 = time.time()\n",
        "loglh = llh(n, ZtZ, Zte, ete, sigma2, DinvIplusZtZD,D)\n",
        "t2 = time.time()\n",
        "\n",
        "print(loglh)\n",
        "\n"
      ],
      "execution_count": 0,
      "outputs": [
        {
          "output_type": "stream",
          "text": [
            "[[ 1.24022707  0.36034323  0.          0.        ]\n",
            " [ 0.36034323  5.0719078   0.          0.        ]\n",
            " [ 0.          0.         20.68631165 -0.79595202]\n",
            " [ 0.          0.         -0.79595202  0.21015464]]\n",
            "[[1.24022707 0.36034323]\n",
            " [0.36034323 5.0719078 ]]\n",
            "[[20.68631165 -0.79595202]\n",
            " [-0.79595202  0.21015464]]\n",
            "[[-683.03796665]]\n"
          ],
          "name": "stdout"
        }
      ]
    },
    {
      "cell_type": "markdown",
      "metadata": {
        "id": "70shU6hKlDMR",
        "colab_type": "text"
      },
      "source": [
        "#### Derivative of $l$ with respect to $\\beta$\n",
        "\n",
        "The below function calculates the derivative of the log likelihood with respect to $\\beta$. This is given by the following equation:\n",
        "\n",
        "$$\\frac{\\delta l}{\\delta \\beta} = \\sigma^{-2}X'(I+ZDZ')^{-1}(Y-X\\beta)$$\n",
        "$$ = \\sigma^{-2}X'(I-ZD(I+Z'ZD)^{-1}Z')(Y-X\\beta)$$\n",
        "$$ = \\sigma^{-2}X'(Y-X\\beta)-X'ZD(I+Z'ZD)^{-1}Z'(Y-X\\beta) $$\n",
        "$$ = \\sigma^{-2}X'e-X'ZD(I+Z'ZD)^{-1}Z'e$$\n",
        "\n",
        "----\n",
        "\n",
        "This function takes the following inputs:\n",
        "\n",
        "----\n",
        "\n",
        " - `XtZ`: The $X$ matrix transposed and then multiplied by Z ($X^TZ$ in the above notation).\n",
        " - `Zte`: The $Z$ matrix transposed and then multiplied by the OLS residuals ($Z^Te=Z^T(Y-X\\beta)$ in the above notation).\n",
        " - `sigma2`: The fixed effects variance ($\\sigma^2$ in the above notation).\n",
        " - `DinvIplusZtZD`: The product $D(I+Z'ZD)^{-1}$.\n",
        " \n",
        "----\n",
        "\n",
        "It returns as outputs:\n",
        "\n",
        "----\n",
        "\n",
        "- `dldb`: The derivative of $l$ with respect to $\\beta$.\n",
        "\n"
      ]
    },
    {
      "cell_type": "code",
      "metadata": {
        "id": "pX6LfLOBlDVn",
        "colab_type": "code",
        "outputId": "05f965ed-5665-4eef-cd5d-11290719c7c2",
        "colab": {
          "base_uri": "https://localhost:8080/",
          "height": 187
        }
      },
      "source": [
        "def get_dldB(sigma2, Xte, XtZ, DinvIplusZtZD, Zte):\n",
        "  \n",
        "  # Return the derivative\n",
        "  return(1/sigma2*(Xte - (XtZ @ DinvIplusZtZD @ Zte)))\n",
        "\n",
        "### Test example\n",
        "\n",
        "p = X.shape[1]\n",
        "beta = np.random.randn(p,1)\n",
        "\n",
        "sigma2=1.1\n",
        "D = np.array([])\n",
        "q=Z.shape[1]\n",
        "n=Z.shape[0]\n",
        "for i in np.arange(len(nparams)):\n",
        "  \n",
        "  for j in np.arange(nlevels[i]):\n",
        "    \n",
        "    if i == 0 and j == 0:\n",
        "\n",
        "      D = initDk(i, nlevels[i], ZtZ, Zte, sigma2)\n",
        "\n",
        "    else:\n",
        "\n",
        "      D = scipy.linalg.block_diag(D, initDk(i, nlevels[i], ZtZ, Zte, sigma2))\n",
        "      \n",
        "IplusZtZD = np.eye(q) + ZtZ @ D\n",
        "DinvIplusZtZD = D @ np.linalg.inv(IplusZtZD)\n",
        "\n",
        "print(X.shape)\n",
        "\n",
        "dldb1 = (sigma2)**(-1)*(X.transpose() @ np.linalg.inv(np.eye(n) + Z @ D @ Z.transpose()) @ (Y - X @ beta))\n",
        "\n",
        "Xte = XtY- XtX @ beta\n",
        "\n",
        "Zte = ZtY- ZtX @ beta\n",
        "\n",
        "DinvIplusZtZD = D @ np.linalg.inv(np.eye(q) + ZtZ @ D)\n",
        "\n",
        "dldb2 = get_dldB(sigma2, Xte, XtZ, DinvIplusZtZD, Zte)\n",
        "\n",
        "print(dldb1)\n",
        "print(dldb2)\n",
        "\n",
        "\n",
        "print(dldb2-dldb1)"
      ],
      "execution_count": 0,
      "outputs": [
        {
          "output_type": "stream",
          "text": [
            "(1000, 3)\n",
            "[[2.92522147e-01]\n",
            " [1.91760962e+03]\n",
            " [2.65428220e+03]]\n",
            "[[2.92522147e-01]\n",
            " [1.91760962e+03]\n",
            " [2.65428220e+03]]\n",
            "[[-2.01555217e-10]\n",
            " [ 1.43553734e-07]\n",
            " [ 1.07038431e-08]]\n"
          ],
          "name": "stdout"
        }
      ]
    },
    {
      "cell_type": "markdown",
      "metadata": {
        "colab_type": "text",
        "id": "pL8p641GAgxF"
      },
      "source": [
        "#### Derivative of $l$ with respect to $\\sigma^2$\n",
        "\n",
        "The below function calculates the derivative of the log likelihood with respect to $\\beta$. This is given by the following equation:\n",
        "\n",
        "$$\\frac{\\delta l}{\\delta \\sigma^2} = -\\frac{n}{2\\sigma^2} + \\frac{1}{2\\sigma^4}(Y-X\\beta)'(I+ZDZ')^{-1}(Y-X\\beta)$$\n",
        "$$  = -\\frac{n}{2\\sigma^2} + \\frac{1}{2\\sigma^4}e'(I+ZDZ')^{-1}e$$\n",
        "$$  = -\\frac{n}{2\\sigma^2} + \\frac{1}{2\\sigma^4}e'(I-ZD(I+ZZ'D)^{-1}Z')e$$\n",
        "$$  = -\\frac{n}{2\\sigma^2} + \\frac{1}{2\\sigma^4}(e'e-e'ZD(I+ZZ'D)^{-1}Z'e)$$\n",
        "\n",
        "----\n",
        "\n",
        "This function takes the following inputs:\n",
        "\n",
        "----\n",
        "\n",
        " - `n`: The number of observations.\n",
        " - `ete`: The OLS residuals transposed and then multiplied by themselvess ($e^Te=(Y-X\\beta)^T(Y-X\\beta)$ in the above notation).\n",
        " - `Zte`: The $Z$ matrix transposed and then multiplied by the OLS residuals ($Z^Te=Z^T(Y-X\\beta)$ in the above notation).\n",
        " - `sigma2`: The fixed effects variance ($\\sigma^2$ in the above notation).\n",
        " - `DinvIplusZtZD`: The product $D(I+Z'ZD)^{-1}$.\n",
        " \n",
        "----\n",
        "\n",
        "It returns as outputs:\n",
        "\n",
        "----\n",
        "\n",
        "- `dldsigma2`: The derivative of $l$ with respect to $\\sigma^2$."
      ]
    },
    {
      "cell_type": "code",
      "metadata": {
        "colab_type": "code",
        "id": "R0T-_zfJAhRK",
        "outputId": "4792343b-1ae1-4a14-e9cb-bc2099a68e0a",
        "colab": {
          "base_uri": "https://localhost:8080/",
          "height": 68
        }
      },
      "source": [
        "def get_dldsigma2(n, ete, Zte, sigma2, DinvIplusZtZD):\n",
        "  \n",
        "  # Return the bottom expression in the above derivation\n",
        "  return(-n/(2*sigma2) + 1/(2*(sigma2**2))*(ete - forceSym(Zte.transpose() @ DinvIplusZtZD @ Zte)))\n",
        "\n",
        "\n",
        "# Toy example - recalculate the required inputs\n",
        "Zte = Z.toarray().transpose() @ (Y - X @ beta)\n",
        "ete = (Y - X @ beta).transpose() @ (Y - X @ beta)\n",
        "DinvIplusZtZD = D @ np.linalg.inv(np.eye(q) + ZtZ @ D)\n",
        "\n",
        "# Time the code\n",
        "t1 = time.time()\n",
        "dldsigma2_1 = get_dldsigma2(n, ete, Zte, sigma2, DinvIplusZtZD)\n",
        "t2 = time.time()\n",
        "print(t2-t1)\n",
        "\n",
        "\n",
        "dldsigma2_2 = -n/(2*sigma2) + 1/(2*(sigma2**2))*(Y - X @ beta).transpose() @ np.linalg.inv(np.eye(n) + (Z @ D @ Z.transpose())) @ (Y - X @ beta)\n",
        "\n",
        "\n",
        "ZtZ = Z.toarray().transpose() @ Z.toarray()\n",
        "\n",
        "# Cannot test against n by n inversion as n by n inversion is extremely bad\n",
        "print(np.amax(np.eye(n) - Z.toarray() @ D @ np.linalg.inv(np.eye(q) + ZtZ @ D) @ Z.toarray().transpose()-np.linalg.inv(np.eye(n) + (Z.toarray() @ D @ Z.toarray().transpose()))))\n",
        "\n",
        "tmp1 = (Y - X @ beta).transpose() @ np.linalg.inv(np.eye(n) + (Z.toarray() @ D @ Z.toarray().transpose())) @ (Y - X @ beta)\n",
        "\n",
        "tmp2 = (Y - X @ beta).transpose() @ (np.eye(n) - Z.toarray() @ D @ np.linalg.inv(np.eye(q) + ZtZ @ D) @ Z.toarray().transpose()) @ (Y - X @ beta)\n",
        "\n",
        "#print(tmp1)\n",
        "#print(tmp2)\n",
        "print(tmp2-tmp1)"
      ],
      "execution_count": 0,
      "outputs": [
        {
          "output_type": "stream",
          "text": [
            "0.0001361370086669922\n",
            "2.7351480260361105e-10\n",
            "[[-6.94179107e-07]]\n"
          ],
          "name": "stdout"
        }
      ]
    },
    {
      "cell_type": "markdown",
      "metadata": {
        "id": "g0yUC5yE1qin",
        "colab_type": "text"
      },
      "source": [
        "#### Derivative of $l$ with respect to $D_k$\n",
        "\n",
        "The below function calculates the derivative of the log likelihood with respect to $D_k$, the random effects covariance matrix for factor $k$. This is given by the following equation:\n",
        "\n",
        "$$\\frac{\\delta l}{\\delta D_k} = \\frac{1}{2}\\sum_{j=1}^{l_k}(T_{(k,j)}u)(T_{(k,j)}u)'-\\frac{1}{2}\\sum_{j=1}^{l_k}T_{(k,j)}T_{(k,j)}'$$\n",
        "\n",
        "Where $T_{(i,j)}=Z'_{(i,j)}(I+ZDZ')^{-\\frac{1}{2}}$ and $u=\\sigma^{-1}(I+ZDZ')^{-\\frac{1}{2}}(Y-X\\beta)\\sim N(0,\\mathbb{I})$.\n",
        "\n",
        "$$= \\frac{1}{2\\sigma^2}\\sum_{j=1}^{l_k}Z'_{(k,j)}(I+ZDZ')^{-1}ee'(I+ZDZ')^{-1}Z_{(k,j)} - \\frac{1}{2}\\sum_{j=1}^{l_k}Z'_{(k,j)}(I+ZDZ')^{-1}Z_{(k,j)}$$\n",
        "\n",
        "$$= \\frac{1}{2\\sigma^2}\\sum_{j=1}^{l_k}Z'_{(k,j)}(I-ZD(I+Z'ZD)^{-1}Z')ee'(I-ZD(I+Z'ZD)^{-1}Z')'Z_{(k,j)} - \\frac{1}{2}\\sum_{j=1}^{l_k}Z'_{(k,j)}(I-ZD(I+Z'ZD)^{-1})Z_{(k,j)}$$\n",
        "\n",
        "$$= \\frac{1}{2\\sigma^2}\\sum_{j=1}^{l_k}(Z'_{(k,j)}e-Z'_{(k,j)}ZD(I+Z'ZD)^{-1}Z'e)(Z'_{(k,j)}e-Z'_{(k,j)}ZD(I+Z'ZD)^{-1}Z'e)' - \\frac{1}{2}\\sum_{j=1}^{l_k}Z'_{(k,j)}Z_{(k,j)}-Z'_{(k,j)}ZD(I+Z'ZD)^{-1}Z'Z_{(k,j)}$$\n",
        "\n",
        "----\n",
        "\n",
        "This function takes the following inputs:\n",
        "\n",
        "----\n",
        "\n",
        " - `k`: The factor we wish to estimate the derivative of the covariance matrix of.\n",
        " - `nlevels`: A vector containing the number of levels for each factor, e.g. `nlevels=[3,4]` would mean the first factor has 3 levels and the second factor has 4 levels.\n",
        " - `nparams`: A vector containing the number of parameters for each factor, e.g. `nlevels=[2,1]` would mean the first factor has 2 parameters and the second factor has 1 parameter.\n",
        " - `ZtZ`: The $Z$ matrix transposed and then multiplied by itself ($Z^TZ$ in the above notation).\n",
        " - `Zte`: The $Z$ matrix transposed and then multiplied by the OLS residuals ($Z^Te=Z^T(Y-X\\beta)$ in the above notation).\n",
        " - `sigma2`: The fixed effects variance ($\\sigma^2$ in the above notation).\n",
        " - `DinvIplusZtZD`: The product $D(I+Z'ZD)^{-1}$.\n",
        " \n",
        "----\n",
        "\n",
        "It returns as outputs:\n",
        "\n",
        "----\n",
        "\n",
        "- `dldD`: The derivative of $l$ with respect to $D_k$."
      ]
    },
    {
      "cell_type": "code",
      "metadata": {
        "id": "_D43Adi61quy",
        "colab_type": "code",
        "outputId": "9edeb8d8-b52f-4eda-fd60-7c40927e23fc",
        "colab": {
          "base_uri": "https://localhost:8080/",
          "height": 119
        }
      },
      "source": [
        "def get_dldDk(k, nlevels, nparams, ZtZ, Zte, sigma2, DinvIplusZtZD, ZtZmat=None, mode = 'original'):\n",
        "\n",
        "  if mode=='original':\n",
        "    # Initalize the derivative to zeros\n",
        "    dldDk = np.zeros((nparams[k],nparams[k]))\n",
        "\n",
        "    # For each level j we need to add a term\n",
        "    for j in np.arange(nlevels[k]):\n",
        "\n",
        "      # Get the indices for the kth factor jth level\n",
        "      Ikj = faclev_indices(k, j, nlevels, nparams)\n",
        "\n",
        "      # Get (the kj^th columns of Z)^T multiplied by Z\n",
        "      Z_kjtZ = ZtZ[Ikj,:]\n",
        "      Z_kjte = Zte[Ikj,:]\n",
        "\n",
        "      # Get the first term of the derivative\n",
        "      Z_kjtVinve = Z_kjte - (Z_kjtZ @ DinvIplusZtZD @ Zte)\n",
        "      firstterm = 1/sigma2 * forceSym(Z_kjtVinve @ Z_kjtVinve.transpose())\n",
        "      \n",
        "      # Get (the kj^th columns of Z)^T multiplied by (the kj^th columns of Z)\n",
        "      Z_kjtZ_kj = ZtZ[np.ix_(Ikj,Ikj)]\n",
        "      secondterm = forceSym(Z_kjtZ_kj) - forceSym(Z_kjtZ @ DinvIplusZtZD @ Z_kjtZ.transpose())\n",
        "      #print('TT')\n",
        "      #print(secondterm)\n",
        "      \n",
        "      if j == 0:\n",
        "        \n",
        "        # Start a running sum over j\n",
        "        dldDk = firstterm - secondterm\n",
        "        \n",
        "      else:\n",
        "      \n",
        "        # Add these to the running sum\n",
        "        dldDk = dldDk + firstterm - secondterm\n",
        "        \n",
        "      #print(j)\n",
        "      #print(dldDk)\n",
        "\n",
        "    # Halve the sum (the coefficient of a half was not included in the above)\n",
        "    dldDk = forceSym(dldDk/2)\n",
        "\n",
        "  else:\n",
        "    \n",
        "    # We only need calculate this once across all iterations\n",
        "    if ZtZmat is None:\n",
        "\n",
        "      # Instantiate to zeros\n",
        "      ZtZmat = np.zeros(nparams[k],nparams[k])\n",
        "\n",
        "      for j in np.arange(nlevels[k]):\n",
        "\n",
        "        # Get the indices for the kth factor jth level\n",
        "        Ikj = faclev_indices(k, j, nlevels, nparams)\n",
        "\n",
        "        # Work out R_(k, j)\n",
        "        ZtZterm = ZtZ[np.ix_(Ikj,Ikj)]\n",
        "\n",
        "        # Add together\n",
        "        ZtZmat = ZtZmat + ZtZterm\n",
        "\n",
        "    # Get the indices for the factors \n",
        "    Ik = fac_indices(k, nlevels, nparams)\n",
        "\n",
        "    # Work out lk\n",
        "    lk = nlevels[k]\n",
        "\n",
        "    # Work out block size\n",
        "    qk = nparams[k]\n",
        "    p = np.array([qk,1])\n",
        "\n",
        "    # Work out the second term in TT'\n",
        "    secondTerm = sumAijBijt2D(ZtZ[Ik,:] @ DinvIplusZtZD, ZtZ[Ik,:], p, p)\n",
        "\n",
        "    # Obtain RkSum=sum (TkjTkj')\n",
        "    RkSum = ZtZmat - secondTerm\n",
        "\n",
        "    # Work out T_ku*sigma\n",
        "    TuSig = Zte[Ik,:] - (ZtZ[Ik,:] @ DinvIplusZtZD @ Zte)\n",
        "\n",
        "    # Obtain Sum Tu(Tu)'\n",
        "    TuuTSum = sumAijBijt2D(TuSig, TuSig, p, p)/sigma2\n",
        "\n",
        "    # Work out dldDk\n",
        "    dldDk = 0.5*(forceSym(TuuTSum - RkSum))\n",
        "\n",
        "  # Store it in the dictionary\n",
        "  return(dldDk,ZtZmat)\n",
        "\n",
        "IplusZtZD = np.eye(q) + ZtZ @ D\n",
        "DinvIplusZtZD = D @ np.linalg.inv(IplusZtZD)\n",
        "\n",
        "ZtZ = Z.toarray().transpose() @ Z.toarray()\n",
        "Zte = Z.toarray().transpose() @ (Y - X @ beta)\n",
        "\n",
        "k=0\n",
        "sigma2=0.5\n",
        "Zte = ZtY - ZtX @ beta\n",
        "\n",
        "D = np.eye(D.shape[0])\n",
        "\n",
        "DinvIplusZtZD = D @ np.linalg.inv(np.eye(q) + ZtZ @ D)\n",
        "\n",
        "t1 = time.time()\n",
        "dldDk,_ = get_dldDk(k, nlevels, nparams, ZtZ, Zte, sigma2, DinvIplusZtZD)\n",
        "t2 = time.time()\n",
        "print(t2-t1)\n",
        "\n",
        "t1 = time.time()\n",
        "dldDk3, ZtZmat = get_dldDk(k, nlevels, nparams, ZtZ, Zte, sigma2, DinvIplusZtZD, ZtZmat=None, mode='new')\n",
        "t2 = time.time()\n",
        "print(t2-t1)\n",
        "\n",
        "t1 = time.time()\n",
        "dldDk4,_ = get_dldDk(k, nlevels, nparams, ZtZ, Zte, sigma2, DinvIplusZtZD, ZtZmat, mode='new')\n",
        "t2 = time.time()\n",
        "print(t2-t1)\n",
        "\n",
        "sqrtinvIplusZDZt = forceSym(scipy.linalg.sqrtm(np.eye(n) - Z @ DinvIplusZtZD @ Z.transpose()))\n",
        "for j in np.arange(nlevels[k]):\n",
        "\n",
        "  Ikj = faclev_indices(k, j, nlevels, nparams)\n",
        "  \n",
        "  #print(Zte[Ikj,:] - (Z[:,Ikj].transpose() @ (Y - X @ beta)))\n",
        "  \n",
        "  Z_kjt = Z[:,Ikj].transpose()\n",
        "  Tkj = Z_kjt @ sqrtinvIplusZDZt\n",
        "\n",
        "  u = 1/np.sqrt(sigma2)*sqrtinvIplusZDZt @ (Y - X @ beta)\n",
        "  \n",
        "\n",
        "  Tkju = Tkj @ u\n",
        "\n",
        "  TkjuTkjut = Tkju @ Tkju.transpose()\n",
        "  \n",
        "  TkjTkjt = Tkj @ Tkj.transpose()\n",
        "\n",
        "  \n",
        "  if j == 0:\n",
        "    \n",
        "    sum1 = TkjuTkjut\n",
        "    sum2 = TkjTkjt\n",
        "    \n",
        "  else:\n",
        "    \n",
        "    sum1 = sum1 + TkjuTkjut\n",
        "    sum2 = sum2 + TkjTkjt\n",
        "    \n",
        "  \n",
        "dldDk2 = 0.5*(sum1-sum2)\n",
        "print(np.allclose(dldDk,dldDk2))\n",
        "print(np.allclose(dldDk2,dldDk3))\n",
        "print(np.allclose(dldDk3,dldDk4))"
      ],
      "execution_count": 0,
      "outputs": [
        {
          "output_type": "stream",
          "text": [
            "0.002299785614013672\n",
            "0.0013098716735839844\n",
            "0.0005180835723876953\n",
            "True\n",
            "True\n",
            "True\n"
          ],
          "name": "stdout"
        }
      ]
    },
    {
      "cell_type": "markdown",
      "metadata": {
        "id": "F-i38jdBJ8RR",
        "colab_type": "text"
      },
      "source": [
        "#### Covariance of $\\frac{\\delta l}{\\delta \\beta}$ \n",
        "\n",
        "The below function calculates the covariance between the derivative of the log likelihood with respect to $\\beta$, given by the below formula:\n",
        "\n",
        "$$\\text{cov}\\bigg(\\frac{\\delta l(\\theta | y)}{\\delta \\beta}\\bigg) = \\sigma^{-2} X'(I+ZDZ')^{-1}X$$\n",
        "$$= \\sigma^{-2} X'(I-ZD(I+Z'ZD)^{-1}Z')X$$\n",
        "$$= \\sigma^{-2} (X'X-X'ZD(I+Z'ZD)^{-1}Z'X)$$\n",
        "\n",
        "\n",
        "\n",
        "\n",
        "----\n",
        "\n",
        "This function takes the following inputs:\n",
        "\n",
        "----\n",
        "\n",
        " - `XtZ`: $X$ transpose multiplied by $Z$.\n",
        " - `XtX`: $X$ transpose multiplied by $X$.\n",
        " - `ZtZ`: $Z$ transpose multiplied by $Z$.\n",
        " - `DinvIplusZtZD`: $D(I+Z'ZD)^{-1}$ in the above notation.\n",
        " - `sigma2`: The fixed effects variance ($\\sigma^2$ in the above notation).\n",
        " \n",
        "----\n",
        "\n",
        "It returns as outputs:\n",
        "\n",
        "----\n",
        "\n",
        "- `covdldbeta`: The covariance of the derivative of the log likelihood with respect to $\\beta$."
      ]
    },
    {
      "cell_type": "code",
      "metadata": {
        "id": "EH4TsQPIJ8ZI",
        "colab_type": "code",
        "outputId": "391441fa-93c3-419d-a65c-f90369bf1e7b",
        "colab": {
          "base_uri": "https://localhost:8080/",
          "height": 51
        }
      },
      "source": [
        "def get_covdldbeta(XtZ, XtX, ZtZ, DinvIplusZtZD, sigma2):\n",
        "  \n",
        "  # Return the covariance of the derivative\n",
        "  return((1/sigma2)*(XtX - forceSym(XtZ @ DinvIplusZtZD @ XtZ.transpose())))\n",
        "\n",
        "## test\n",
        "\n",
        "IplusZtZD = np.eye(q) + ZtZ @ D\n",
        "DinvIplusZtZD = D @ np.linalg.inv(IplusZtZD)\n",
        "\n",
        "t1 = time.time()\n",
        "covdldbeta_1 = get_covdldbeta(XtZ, XtX, ZtZ, DinvIplusZtZD, sigma2)\n",
        "t2 = time.time()\n",
        "print(t2-t1)\n",
        "\n",
        "\n",
        "covdldbeta_2 = sigma2**(-1) * (X.transpose() @ np.linalg.inv(np.eye(n) + Z.toarray() @ D @ Z.toarray().transpose()) @ X)\n",
        "\n",
        "#print(covdldbeta_1)\n",
        "#print(covdldbeta_2)\n",
        "\n",
        "# Inverting the n by n is (perhaps obviously) awful though... this was just a\n",
        "# rough check... see below how far out from the identity the inversion mutliplied\n",
        "# by the original matrix is\n",
        "#print(np.linalg.inv(np.eye(n) + Z.toarray() @ D @ Z.toarray().transpose()) @ (np.eye(n) + Z.toarray() @ D @ Z.toarray().transpose()))\n",
        "\n",
        "#print(np.linalg.inv(IplusZtZD) @ IplusZtZD)\n",
        "#print(D)\n",
        "print('solve vs inv')\n",
        "#print((np.linalg.solve(IplusZtZD, D) @ IplusZtZD)-D)\n",
        "#print(DinvIplusZtZD)\n",
        "#print(np.linalg.solve(IplusZtZD, D)-DinvIplusZtZD)"
      ],
      "execution_count": 0,
      "outputs": [
        {
          "output_type": "stream",
          "text": [
            "0.00016427040100097656\n",
            "solve vs inv\n"
          ],
          "name": "stdout"
        }
      ]
    },
    {
      "cell_type": "markdown",
      "metadata": {
        "id": "uh61qPojq_xg",
        "colab_type": "text"
      },
      "source": [
        "#### Covariance of $\\frac{\\delta l}{\\delta \\text{vech}(D_{k})}$ and $\\frac{\\delta l}{\\delta \\sigma^2}$\n",
        "\n",
        "The below function calculates the covariance between the derivative of the log likelihood with respect to $\\text{vech}(D_{k})$ and the derivative with respect to $\\sigma^2$.\n",
        "\n",
        "\n",
        "----\n",
        "\n",
        "This function takes the following inputs:\n",
        "\n",
        "----\n",
        "\n",
        " - `k`: The number of the first factor ($k$ in the above notation).\n",
        " - `sigma2`: The fixed effects variance ($\\sigma^2$ in the above notation).\n",
        " - `nlevels`: A vector containing the number of levels for each factor, e.g. `nlevels=[3,4]` would mean the first factor has 3 levels and the second factor has 4 levels.\n",
        " - `nparams`: A vector containing the number of parameters for each factor, e.g. `nlevels=[2,1]` would mean the first factor has 2 parameters and the second factor has 1 parameter.\n",
        " - `ZtZ`: $Z$ transpose multiplied by $Z$.\n",
        " - `DinvIplusZtZD`: $D(I+Z'ZD)^{-1}$ in the above notation.\n",
        " - `invDupMatdict`: A dictionary of inverse duplication matrices such that `invDupMatdict[k]` = $\\mathcal{D}_k^+$.\n",
        " \n",
        "----\n",
        "\n",
        "It returns as outputs:\n",
        "\n",
        "----\n",
        "\n",
        "- `covdldDdldsigma2`: The covariance between the derivative of the log likelihood with respect to $\\text{vech}(D_{k_1})$ and the derivative with respect to $\\sigma^2$.\n"
      ]
    },
    {
      "cell_type": "code",
      "metadata": {
        "id": "OEx5GJJkq_8-",
        "colab_type": "code",
        "outputId": "32c5f2d6-3bb6-4651-d5a5-e9b0cbf7a795",
        "colab": {
          "base_uri": "https://localhost:8080/",
          "height": 357
        }
      },
      "source": [
        "def get_covdldDkdsigma2(k, sigma2, nlevels, nparams, ZtZ, DinvIplusZtZD, invDupMatdict, ZtZmat=None,mode='original'):\n",
        "  \n",
        "  if mode=='original':\n",
        "\n",
        "    # Sum of R_(k, j) over j\n",
        "    RkSum = np.zeros(nparams[k],nparams[k])\n",
        "\n",
        "    for j in np.arange(nlevels[k]):\n",
        "\n",
        "      # Get the indices for the kth factor jth level\n",
        "      Ikj = faclev_indices(k, j, nlevels, nparams)\n",
        "\n",
        "      # Work out R_(k, j)\n",
        "      Rkj = ZtZ[np.ix_(Ikj,Ikj)] - forceSym(ZtZ[Ikj,:] @ DinvIplusZtZD @ ZtZ[:,Ikj])\n",
        "\n",
        "      # Add together\n",
        "      RkSum = RkSum + Rkj\n",
        "\n",
        "  else:\n",
        "\n",
        "    # We only need calculate this once across all iterations\n",
        "    if ZtZmat is None:\n",
        "\n",
        "      # Instantiate to zeros\n",
        "      ZtZmat = np.zeros(nparams[k],nparams[k])\n",
        "\n",
        "      for j in np.arange(nlevels[k]):\n",
        "\n",
        "        # Get the indices for the kth factor jth level\n",
        "        Ikj = faclev_indices(k, j, nlevels, nparams)\n",
        "\n",
        "        # Work out R_(k, j)\n",
        "        ZtZterm = ZtZ[np.ix_(Ikj,Ikj)]\n",
        "\n",
        "        # Add together\n",
        "        ZtZmat = ZtZmat + ZtZterm\n",
        "\n",
        "    # Get the indices for the factors \n",
        "    Ik = fac_indices(k, nlevels, nparams)\n",
        "\n",
        "    # Work out lk\n",
        "    lk = nlevels[k]\n",
        "\n",
        "    # Work out block size\n",
        "    q = np.sum(nlevels*nparams)\n",
        "    qk = nparams[k]\n",
        "    p = np.array([qk,q])\n",
        "\n",
        "    # Work out the second term\n",
        "    secondTerm = sumAijBijt2D(ZtZ[Ik,:] @ DinvIplusZtZD, ZtZ[Ik,:], p, p)\n",
        "\n",
        "    # Obtain ZtZmat\n",
        "    RkSum = ZtZmat - secondTerm\n",
        "\n",
        "  # Multiply by duplication matrices and save\n",
        "  covdldDdldsigma2 = 1/(2*sigma2) * invDupMatdict[k] @ mat2vec(RkSum)\n",
        "  \n",
        "  return(covdldDdldsigma2,ZtZmat)\n",
        "\n",
        "\n",
        "\n",
        "invDupMatdict = dict()\n",
        "for i in np.arange(len(nparams)):\n",
        "  \n",
        "  invDupMatdict[i] = invDupMat(nparams[i])\n",
        "\n",
        "print(ZtZ)\n",
        "print(sigma2)\n",
        "\n",
        "\n",
        "\n",
        "t1 = time.time()\n",
        "covdldDdldsigma2_1,_=get_covdldDkdsigma2(k, sigma2, nlevels, nparams, ZtZ, DinvIplusZtZD, invDupMatdict,ZtZmat=None,mode='original')\n",
        "t2 = time.time()\n",
        "print(t2-t1)\n",
        "\n",
        "t1 = time.time()\n",
        "covdldDdldsigma2_2,ZtZmat=get_covdldDkdsigma2(k, sigma2, nlevels, nparams, ZtZ, DinvIplusZtZD, invDupMatdict,ZtZmat=None,mode='new')\n",
        "t2 = time.time()\n",
        "print(t2-t1)\n",
        "\n",
        "t1 = time.time()\n",
        "covdldDdldsigma2_3,_=get_covdldDkdsigma2(k, sigma2, nlevels, nparams, ZtZ, DinvIplusZtZD, invDupMatdict,ZtZmat=ZtZmat,mode='new')\n",
        "t2 = time.time()\n",
        "print(t2-t1)\n",
        "\n",
        "print(np.allclose(covdldDdldsigma2_3,covdldDdldsigma2_2))\n",
        "print(np.allclose(covdldDdldsigma2_2,covdldDdldsigma2_1))\n",
        "print(np.allclose(covdldDdldsigma2_1,covdldDdldsigma2_3))"
      ],
      "execution_count": 0,
      "outputs": [
        {
          "output_type": "stream",
          "text": [
            "[[ 5.00000000e+01 -3.53848226e+01  0.00000000e+00 ... -1.89673372e+01\n",
            "   1.60000000e+01 -4.77010601e+01]\n",
            " [-3.53848226e+01  2.12177714e+04  0.00000000e+00 ...  5.72911850e+02\n",
            "  -9.70764641e+01  7.68081988e+02]\n",
            " [ 0.00000000e+00  0.00000000e+00  5.00000000e+01 ...  2.00888087e+01\n",
            "   1.90000000e+01 -8.31505044e+01]\n",
            " ...\n",
            " [-1.89673372e+01  5.72911850e+02  2.00888087e+01 ...  3.07902515e+04\n",
            "   0.00000000e+00  0.00000000e+00]\n",
            " [ 1.60000000e+01 -9.70764641e+01  1.90000000e+01 ...  0.00000000e+00\n",
            "   3.45000000e+02  8.14148559e+01]\n",
            " [-4.77010601e+01  7.68081988e+02 -8.31505044e+01 ...  0.00000000e+00\n",
            "   8.14148559e+01  3.27603629e+04]]\n",
            "0.5\n",
            "0.0021965503692626953\n",
            "0.0014600753784179688\n",
            "0.0009067058563232422\n",
            "True\n",
            "True\n",
            "True\n"
          ],
          "name": "stdout"
        }
      ]
    },
    {
      "cell_type": "markdown",
      "metadata": {
        "id": "qW-p5bOy4K-u",
        "colab_type": "text"
      },
      "source": [
        "\n",
        "#### Covariance of $\\frac{\\delta l}{\\delta \\text{vech}(D_{k_1})}$ and $\\frac{\\delta l}{\\delta \\text{vech}(D_{k_2})}$\n",
        "\n",
        "The below function calculates the covariance between the derivative of the log likelihood with respect to $\\text{vech}(D_{k_1})$ and the derivative with respect to $\\text{vech}(D_{k_2})$.\n",
        "\n",
        "$$\\text{cov}\\bigg(\\frac{\\delta l(\\theta | y)}{\\delta \\text{vech}(D_{k_2})},\\frac{\\delta l(\\theta | y)}{\\delta \\text{vech}(D_{k_2})}\\bigg)=\\frac{1}{2}\\mathcal{D}_{k_1}^+\\sum_{j=1}^{l_{k_2}}\\sum_{i=1}^{l_{k_1}}(R_{(k_1,k_2,i,j)}\\otimes R_{(k_1,k_2, i,j)})\\mathcal{D}_{k_2}^{+'}$$\n",
        "\n",
        "\n",
        "\n",
        "Where $R_{(k_1,k_2,i,j)}=Z_{(k_1,i)}'(I+ZDZ')^{-1}Z_{(k_2,j)}=Z_{(k_1,i)}'Z_{(k_2,j)} - Z_{(k_1,i)}'ZD(I+Z'ZD)^{-1}Z_{(k_2,j)}$.\n",
        "\n",
        "----\n",
        "\n",
        "This function takes the following inputs:\n",
        "\n",
        "----\n",
        "\n",
        " - `k1`: The number of the first factor ($k_1$ in the above notation).\n",
        " - `k2`: The number of the second factor ($k_2$ in the above notation).\n",
        " - `nlevels`: A vector containing the number of levels for each factor, e.g. `nlevels=[3,4]` would mean the first factor has 3 levels and the second factor has 4 levels.\n",
        " - `nparams`: A vector containing the number of parameters for each factor, e.g. `nlevels=[2,1]` would mean the first factor has 2 parameters and the second factor has 1 parameter.\n",
        " - `ZtZ`: $Z$ transpose multiplied by $Z$.\n",
        " - `DinvIplusZtZD`: $D(I+Z'ZD)^{-1}$ in the above notation.\n",
        " - `invDupMatdict`: A dictionary of inverse duplication matrices such that `invDupMatdict[k]` = $\\mathcal{D}_k^+$\n",
        " \n",
        "----\n",
        "\n",
        "It returns as outputs:\n",
        "\n",
        "----\n",
        "\n",
        "- `covdldDk1dldk2`: The covariance between the derivative of the log likelihood with respect to $\\text{vech}(D_{k_1})$ and the derivative with respect to $\\text{vech}(D_{k_2})$.\n",
        "\n"
      ]
    },
    {
      "cell_type": "code",
      "metadata": {
        "id": "VoAsQQtM4LLs",
        "colab_type": "code",
        "outputId": "c8cf6aa8-8c9e-4817-fe3f-ce7a7293dce0",
        "colab": {
          "base_uri": "https://localhost:8080/",
          "height": 85
        }
      },
      "source": [
        "def get_covdldDk1Dk2(k1, k2, nlevels, nparams, ZtZ, DinvIplusZtZD, invDupMatdict, perm=None, mode='original'):\n",
        "  \n",
        "  if mode=='original':\n",
        "\n",
        "    # Sum of R_(k1, k2, i, j) kron R_(k1, k2, i, j) over i and j \n",
        "    for i in np.arange(nlevels[k1]):\n",
        "\n",
        "      for j in np.arange(nlevels[k2]):\n",
        "        \n",
        "        # Get the indices for the k1th factor jth level\n",
        "        Ik1i = faclev_indices(k1, i, nlevels, nparams)\n",
        "        Ik2j = faclev_indices(k2, j, nlevels, nparams)\n",
        "        \n",
        "        # Work out R_(k1, k2, i, j)\n",
        "        Rk1k2ij = ZtZ[np.ix_(Ik1i,Ik2j)] - (ZtZ[Ik1i,:] @ DinvIplusZtZD @ ZtZ[:,Ik2j])\n",
        "        \n",
        "        # Work out Rk1k2ij kron Rk1k2ij\n",
        "        RkRt = np.kron(Rk1k2ij,Rk1k2ij)\n",
        "        \n",
        "        # Add together\n",
        "        if (i == 0) and (j == 0):\n",
        "        \n",
        "          RkRtSum = RkRt\n",
        "        \n",
        "        else:\n",
        "          \n",
        "          RkRtSum = RkRtSum + RkRt\n",
        "\n",
        "  else:\n",
        "\n",
        "    # Get the indices for the factors \n",
        "    Ik1 = fac_indices(k1, nlevels, nparams)\n",
        "    Ik2 = fac_indices(k2, nlevels, nparams)\n",
        "\n",
        "    # Work out R_(k1,k2)\n",
        "    Rk1k2 = ZtZ[np.ix_(Ik1,Ik2)] - (ZtZ[Ik1,:] @ DinvIplusZtZD @ ZtZ[:,Ik2])\n",
        "\n",
        "    # Work out block sizes\n",
        "    p = np.array([nparams[k1],nparams[k2]])\n",
        "\n",
        "    # Obtain permutation\n",
        "    RkRtSum,perm=sumAijKronBij2D(Rk1k2, Rk1k2, p, perm)\n",
        "\n",
        "    \n",
        "  # Multiply by duplication matrices and save\n",
        "  covdldDk1dldk2 = 1/2 * invDupMatdict[k1] @ RkRtSum @ invDupMatdict[k2].transpose()\n",
        "  \n",
        "  # Return the result\n",
        "  return(covdldDk1dldk2,perm)\n",
        "\n",
        "\n",
        "# Example\n",
        "\n",
        "# Check against alternative expression\n",
        "Ztmp = Z.toarray()\n",
        "\n",
        "IplusZDZt = np.eye(n) + Z.toarray() @ D @ Z.toarray().transpose()\n",
        "\n",
        "invIplusZDZt = np.linalg.inv(IplusZDZt)\n",
        "\n",
        "DinvIplusZtZD = D @ np.linalg.inv(np.eye(q) + Z.toarray().transpose() @ Z.toarray() @ D)\n",
        "\n",
        "invhalfIplusZDZt = scipy.linalg.sqrtm(np.linalg.inv(IplusZDZt))\n",
        "\n",
        "\n",
        "invDupMatdict = dict()\n",
        "for i in np.arange(len(nparams)):\n",
        "  \n",
        "  invDupMatdict[i] = invDupMat(nparams[i])\n",
        "  \n",
        "k1 = 0\n",
        "k2 = 0\n",
        "\n",
        "t1 = time.time()\n",
        "examplecov,_ = get_covdldDk1Dk2(k1, k2, nlevels, nparams, ZtZ, DinvIplusZtZD, invDupMatdict,perm=None,mode='original')\n",
        "t2 = time.time()\n",
        "\n",
        "print(t2-t1)\n",
        "\n",
        "t1 = time.time()\n",
        "examplecov, perm = get_covdldDk1Dk2(k1, k2, nlevels, nparams, ZtZ, DinvIplusZtZD, invDupMatdict,perm=None,mode='new')\n",
        "t2 = time.time()\n",
        "\n",
        "print(t2-t1)\n",
        "\n",
        "t1 = time.time()\n",
        "examplecov, perm = get_covdldDk1Dk2(k1, k2, nlevels, nparams, ZtZ, DinvIplusZtZD, invDupMatdict,perm=perm,mode='new')\n",
        "t2 = time.time()\n",
        "\n",
        "print(t2-t1)\n",
        "for j in np.arange(nlevels[k1]):\n",
        "  \n",
        "  Ikj = faclev_indices(k1, j, nlevels, nparams)\n",
        "\n",
        "  Tkj = Z[:,Ikj].transpose() @ invhalfIplusZDZt \n",
        "  \n",
        "  if j == 0:\n",
        "    \n",
        "    sumTkT = np.kron(Tkj,Tkj)\n",
        "  \n",
        "  else:\n",
        "    \n",
        "    sumTkT = np.kron(Tkj,Tkj) + sumTkT\n",
        "\n",
        "    \n",
        "for j in np.arange(nlevels[k2]):\n",
        "  \n",
        "  Ikj = faclev_indices(k2, j, nlevels, nparams)\n",
        "\n",
        "  Tkj = Z[:,Ikj].transpose() @ invhalfIplusZDZt \n",
        "  \n",
        "  Tkjt = Tkj.transpose()\n",
        "  \n",
        "  if j == 0:\n",
        "    \n",
        "    sumTtkTt = np.kron(Tkjt,Tkjt)\n",
        "  \n",
        "  else:\n",
        "    \n",
        "    sumTtkTt = np.kron(Tkjt,Tkjt) + sumTtkTt\n",
        "    \n",
        "\n",
        "# ------------------------------------------------------------------------------\n",
        "for i in np.arange(nlevels[k1]):\n",
        "  \n",
        "  for j in np.arange(nlevels[k2]):\n",
        "  \n",
        "    \n",
        "    Ik1i = faclev_indices(k1, i, nlevels, nparams)\n",
        "    Ik2j = faclev_indices(k2, j, nlevels, nparams)\n",
        "\n",
        "    Tk1iTk2jt = Z[:,Ik1i].transpose() @ invIplusZDZt @ Z[:,Ik2j]\n",
        "\n",
        "    if i==0 and j == 0:\n",
        "\n",
        "      sumTTtkTTt = np.kron(Tk1iTk2jt,Tk1iTk2jt)\n",
        "\n",
        "    else:\n",
        "\n",
        "      sumTTtkTTt = np.kron(Tk1iTk2jt,Tk1iTk2jt) + sumTTtkTTt\n",
        "\n",
        "    \n",
        "\n",
        "print(np.allclose(1/2 * invDupMatdict[k1] @ sumTkT @ sumTtkTt @ invDupMatdict[k2].transpose(), examplecov))"
      ],
      "execution_count": 0,
      "outputs": [
        {
          "output_type": "stream",
          "text": [
            "0.049247026443481445\n",
            "0.001379251480102539\n",
            "0.0011448860168457031\n",
            "True\n"
          ],
          "name": "stdout"
        }
      ]
    },
    {
      "cell_type": "markdown",
      "metadata": {
        "id": "Ze-tnNcl6cmK",
        "colab_type": "text"
      },
      "source": [
        "## Fisher Scoring implementation"
      ]
    },
    {
      "cell_type": "markdown",
      "metadata": {
        "id": "gC2U0nts6sO_",
        "colab_type": "text"
      },
      "source": [
        "The below function is the \"one-voxel\" implementation of Fisher Scoring.\n",
        "\n",
        "---\n",
        "\n",
        "The following inputs are required for this function:\n",
        "\n",
        "---\n",
        "\n",
        " - **ZtX**: Z transpose multiplied by X.\n",
        " - **ZtY**: Z transpose multiplied by Y.\n",
        " - **XtX**: X transpose multiplied by X.\n",
        " - **ZtZ**: Z transpose multiplied by Z.\n",
        " - **XtY**: X transpose multiplied by Y.\n",
        " - **YtX**: Y transpose multiplied by X.\n",
        " - **YtZ**: Y transpose multiplied by Z.\n",
        " - **XtZ**: X transpose multiplied by Z.\n",
        " - **YtY**: Y transpose multiplied by Y.\n",
        " - **nlevels**: A vector containing the number of levels for each factor, e.g. `nlevels=[3,4]` would mean the first factor has 3 levels and the second factor has 4 levels.\n",
        " - **nparams**: A vector containing the number of parameters for each factor, e.g. `nlevels=[2,1]` would mean the first factor has 2 parameters and the second factor has 1 parameter.\n",
        " - **tol**: The tolerance for convergence.\n",
        " \n",
        " \n",
        "---\n",
        "\n",
        "The following outputs are given by this function:\n",
        "\n",
        "---\n",
        "\n",
        " - **paramVec**: A vector containing the $\\beta$, $\\sigma^2$ and $D$ estimates for the mixed model.\n",
        " - **bvals**: A vector of b values for the mixed model."
      ]
    },
    {
      "cell_type": "code",
      "metadata": {
        "id": "5Nj_W4Ls6btZ",
        "colab_type": "code",
        "outputId": "f6b5012f-9e8a-4762-94ce-cc70e6ea1c8c",
        "colab": {
          "base_uri": "https://localhost:8080/",
          "height": 1000
        }
      },
      "source": [
        "def FS(XtX, XtY, ZtX, ZtY, ZtZ, XtZ, YtZ, YtY, YtX, nlevels, nparams, tol, n):\n",
        "  \n",
        "  # Useful scalars\n",
        "  # ------------------------------------------------------------------------------\n",
        "\n",
        "  # Number of factors, r\n",
        "  r = len(nlevels)\n",
        "\n",
        "  # Number of random effects, q\n",
        "  q = np.sum(np.dot(nparams,nlevels))\n",
        "\n",
        "  # Number of fixed effects, p\n",
        "  p = XtX.shape[0]\n",
        "\n",
        "  # Initial estimates\n",
        "  # ------------------------------------------------------------------------------\n",
        "\n",
        "  # Inital beta\n",
        "  beta = initBeta(XtX, XtY)\n",
        "\n",
        "  # Work out e'e\n",
        "  ete = ssr(YtX, YtY, XtX, beta)\n",
        "\n",
        "  # Initial sigma2\n",
        "  sigma2 = initSigma2(ete, n)\n",
        "\n",
        "  Zte = ZtY - (ZtX @ beta)\n",
        "\n",
        "  # Inital D\n",
        "  # Dictionary version\n",
        "  Ddict = dict()\n",
        "  for k in np.arange(len(nparams)):\n",
        "\n",
        "    Ddict[k] = makeDnnd(initDk(k, nlevels[k], ZtZ, Zte, sigma2))\n",
        "    \n",
        "  # Matrix version\n",
        "  D = np.array([])\n",
        "  for i in np.arange(len(nparams)):\n",
        "\n",
        "    for j in np.arange(nlevels[i]):\n",
        "\n",
        "      if i == 0 and j == 0:\n",
        "\n",
        "        D = Ddict[i]\n",
        "\n",
        "      else:\n",
        "\n",
        "        D = scipy.linalg.block_diag(D, Ddict[i])\n",
        "\n",
        "  # Duplication matrices\n",
        "  # ------------------------------------------------------------------------------\n",
        "  invDupMatdict = dict()\n",
        "  for i in np.arange(len(nparams)):\n",
        "\n",
        "    invDupMatdict[i] = invDupMat(nparams[i])\n",
        "\n",
        "  # Index variables\n",
        "  # ------------------------------------------------------------------------------\n",
        "  # Work out the total number of paramateres\n",
        "  tnp = np.int32(p + 1 + np.sum(nparams*(nparams+1)/2))\n",
        "\n",
        "  # Indices for submatrics corresponding to Dks\n",
        "  FishIndsDk = np.int32(np.cumsum(nparams*(nparams+1)/2) + p + 1)\n",
        "  FishIndsDk = np.insert(FishIndsDk,0,p+1)\n",
        "  #print('inds',FishIndsDk)\n",
        "\n",
        "  Zte = ZtY - (ZtX @ beta)\n",
        "\n",
        "  # Inverse of (I+Z'ZD) multiplied by DIplusDZtZ \n",
        "  IplusZtZD = np.eye(q) + ZtZ @ D\n",
        "  DinvIplusZtZD = forceSym(D @ scipy.sparse.linalg.inv(scipy.sparse.csc_matrix(IplusZtZD)))\n",
        "\n",
        "  # Step size lambda\n",
        "  lam = 1\n",
        "  \n",
        "  # Initial log likelihoods\n",
        "  llhprev = np.inf\n",
        "  llhcurr = -np.inf\n",
        "\n",
        "  # Miscelanous matrices that only need be computed once.\n",
        "  # ------------------------------------------------------------------------------\n",
        "\n",
        "  # This will hold the matrices: Sum_j^{l_k} Z_{i,j}'Z_{i,j}\n",
        "  ZtZmatdict = dict()\n",
        "  for k in np.arange(len(nparams)):\n",
        "    ZtZmatdict[k] = None\n",
        "\n",
        "  # This will hold the permutations needed for the covariance between the\n",
        "  # derivatives with respect to k1 and k2\n",
        "  permdict = dict()\n",
        "  for k1 in np.arange(len(nparams)):\n",
        "    for k2 in np.arange(len(nparams)):\n",
        "      permdict[str(k1)+str(k2)] = None\n",
        "  \n",
        "  counter = 0\n",
        "  while np.abs(llhprev-llhcurr)>tol:\n",
        "    \n",
        "    #print('nit', counter)\n",
        "    counter = counter+1\n",
        "    \n",
        "    # Change current likelihood to previous\n",
        "    llhprev = llhcurr\n",
        "\n",
        "    # Matrices needed later by many calculations:\n",
        "    # ----------------------------------------------------------------------------\n",
        "    # X transpose e and Z transpose e\n",
        "    Xte = XtY - (XtX @ beta)\n",
        "    Zte = ZtY - (ZtX @ beta)\n",
        "\n",
        "    # Inverse of (I+Z'ZD) multiplied by D\n",
        "    IplusZtZD = np.eye(q) + (ZtZ @ D)\n",
        "    DinvIplusZtZD = forceSym(D @ scipy.sparse.linalg.inv(scipy.sparse.csc_matrix(IplusZtZD)))\n",
        "\n",
        "    # Sum of squared residuals\n",
        "    ete = ssr(YtX, YtY, XtX, beta)\n",
        "\n",
        "    # Derivatives\n",
        "    # ----------------------------------------------------------------------------\n",
        "\n",
        "    # Derivative wrt beta\n",
        "    dldB = get_dldB(sigma2, Xte, XtZ, DinvIplusZtZD, Zte)\n",
        "\n",
        "    # Derivative wrt sigma^2\n",
        "    dldsigma2 = get_dldsigma2(n, ete, Zte, sigma2, DinvIplusZtZD)\n",
        "    \n",
        "    # For each factor, factor k, work out dl/dD_k\n",
        "    dldDdict = dict()\n",
        "    for k in np.arange(len(nparams)):\n",
        "      # Store it in the dictionary\n",
        "      if ZtZmatdict[k] is None:\n",
        "        dldDdict[k],ZtZmatdict[k] = get_dldDk(k, nlevels, nparams, ZtZ, Zte, sigma2, DinvIplusZtZD,ZtZmat=None,mode='new')\n",
        "      else:\n",
        "        dldDdict[k],_ = get_dldDk(k, nlevels, nparams, ZtZ, Zte, sigma2, DinvIplusZtZD,ZtZmat=ZtZmatdict[k],mode='new')\n",
        "\n",
        "    # Covariances\n",
        "    # ----------------------------------------------------------------------------\n",
        "\n",
        "    # Covariance of dl/dsigma2\n",
        "    covdldsigma2 = n/(2*(sigma2**2))\n",
        "\n",
        "    # Construct the Fisher Information matrix\n",
        "    # ----------------------------------------------------------------------------\n",
        "    FisherInfoMat = np.zeros((tnp,tnp))\n",
        "\n",
        "    # Add dl/dbeta covariance\n",
        "    FisherInfoMat[np.ix_(np.arange(p),np.arange(p))] = get_covdldbeta(XtZ, XtX, ZtZ, DinvIplusZtZD, sigma2)\n",
        "\n",
        "    # Add dl/dsigma2 covariance\n",
        "    FisherInfoMat[p,p] = covdldsigma2\n",
        "\n",
        "    # Add dl/dsigma2 dl/dD covariance\n",
        "    for k in np.arange(len(nparams)):\n",
        "\n",
        "      # Assign to the relevant block\n",
        "      if ZtZmatdict[k] is None:\n",
        "        covdldDksigma2,ZtZmatdict[k] = get_covdldDkdsigma2(k, sigma2, nlevels, nparams, ZtZ, DinvIplusZtZD, invDupMatdict, ZtZmat=None,mode='new')\n",
        "      else:\n",
        "        covdldDksigma2,_ = get_covdldDkdsigma2(k, sigma2, nlevels, nparams, ZtZ, DinvIplusZtZD, invDupMatdict, ZtZmat=ZtZmatdict[k],mode='new')\n",
        "\n",
        "      FisherInfoMat[p, FishIndsDk[k]:FishIndsDk[k+1]] = covdldDksigma2.reshape(FishIndsDk[k+1]-FishIndsDk[k])\n",
        "      FisherInfoMat[FishIndsDk[k]:FishIndsDk[k+1],p] = FisherInfoMat[p, FishIndsDk[k]:FishIndsDk[k+1]].transpose()\n",
        "\n",
        "    # Add dl/dD covariance\n",
        "    for k1 in np.arange(len(nparams)):\n",
        "\n",
        "      for k2 in np.arange(k1+1):\n",
        "\n",
        "        IndsDk1 = np.arange(FishIndsDk[k1],FishIndsDk[k1+1])\n",
        "        IndsDk2 = np.arange(FishIndsDk[k2],FishIndsDk[k2+1])\n",
        "\n",
        "        # Get covariance between D_k1 and D_k2 \n",
        "        if permdict[str(k1)+str(k2)] is None:\n",
        "          FisherInfoMat[np.ix_(IndsDk1, IndsDk2)],_ = get_covdldDk1Dk2(k1, k2, nlevels, nparams, ZtZ, DinvIplusZtZD, invDupMatdict,perm=None,mode='new')\n",
        "        else:\n",
        "          FisherInfoMat[np.ix_(IndsDk1, IndsDk2)],_ = get_covdldDk1Dk2(k1, k2, nlevels, nparams, ZtZ, DinvIplusZtZD, invDupMatdict,perm=permdict[str(k1)+str(k2)],mode='new')\n",
        "\n",
        "        FisherInfoMat[np.ix_(IndsDk2, IndsDk1)] = FisherInfoMat[np.ix_(IndsDk1, IndsDk2)].transpose()\n",
        "\n",
        "    paramVector = np.concatenate((beta, np.array([[sigma2]])))\n",
        "    derivVector = np.concatenate((dldB, dldsigma2))\n",
        "\n",
        "    for k in np.arange(len(nparams)):\n",
        "\n",
        "      paramVector = np.concatenate((paramVector, mat2vech(Ddict[k])))\n",
        "      derivVector = np.concatenate((derivVector, mat2vech(dldDdict[k])))\n",
        "\n",
        "    FisherInfoMat = forceSym(FisherInfoMat)\n",
        "\n",
        "    paramVector = paramVector + lam*(np.linalg.inv(FisherInfoMat) @ derivVector)\n",
        "    \n",
        "    if sigma2<0:\n",
        "\n",
        "      sigspos[z]=1\n",
        "      sigma2 = np.maximum(sigma2,1e-6)\n",
        "\n",
        "    #print(paramVector)\n",
        "    beta = paramVector[0:p]\n",
        "    sigma2 = paramVector[p:(p+1)][0,0]\n",
        "\n",
        "    for k in np.arange(len(nparams)):\n",
        "\n",
        "      Ddict[k] = makeDnnd(vech2mat(paramVector[FishIndsDk[k]:FishIndsDk[k+1]]))\n",
        "      \n",
        "    for i in np.arange(len(nparams)):\n",
        "\n",
        "      for j in np.arange(nlevels[i]):\n",
        "\n",
        "\n",
        "        if i == 0 and j == 0:\n",
        "\n",
        "          D = Ddict[i]\n",
        "\n",
        "        else:\n",
        "\n",
        "          D = scipy.linalg.block_diag(D, Ddict[i])\n",
        "\n",
        "    # Update the step size\n",
        "    llhcurr = llh(n, ZtZ, Zte, ete, sigma2, DinvIplusZtZD,D)[0,0]\n",
        "    if llhprev>llhcurr:\n",
        "      lam = lam/2\n",
        "      \n",
        "  bvals = DinvIplusZtZD @ Zte\n",
        "  \n",
        "  return(paramVector, bvals)\n",
        "\n",
        "t1 = time.time()\n",
        "paramVec, bvals = FS(XtX, XtY, ZtX, ZtY, ZtZ, XtZ, YtZ, YtY, YtX, nlevels, nparams, 1e-6, n)\n",
        "t2 = time.time()\n",
        "print(t2-t1)\n",
        "\n",
        "t1 = time.time()\n",
        "paramVec, bvals = FS(XtX, XtY, ZtX, ZtY, ZtZ, XtZ, YtZ, YtY, YtX, nlevels, nparams, 1e-6, n)\n",
        "t2 = time.time()\n",
        "print(t2-t1)\n",
        "\n",
        "print(\"Predicted time on nifti of size 100x100x100 (in hours): \", 100*100*100*(t2-t1)/(60*60))\n",
        "\n",
        "\n",
        "\n",
        "print(\"U estimates (R)\")\n",
        "print(pd.read_csv('/Data/BLMM-testdata/estd_b.csv',header=None).values.reshape(23,2))\n",
        "print(\"U estimates (FS)\")\n",
        "print(bvals.reshape(23,2))\n",
        "print(\"U true\")\n",
        "print(pd.read_csv('/Data/BLMM-testdata/true_b.csv',header=None).values.reshape(23,2))"
      ],
      "execution_count": 0,
      "outputs": [
        {
          "output_type": "stream",
          "text": [
            "1.179828405380249\n",
            "0.9709312915802002\n",
            "Predicted time on nifti of size 100x100x100 (in hours):  269.7031365500556\n",
            "U estimates (R)\n",
            "[[-0.16266309 -4.21724427]\n",
            " [ 1.41643004  1.41243783]\n",
            " [ 1.59527575 -1.58921871]\n",
            " [ 1.57314783  0.40497904]\n",
            " [ 1.29727291  0.93796984]\n",
            " [-1.20537013  2.19715236]\n",
            " [-0.62177368 -1.1845146 ]\n",
            " [-0.8982196  -1.34761407]\n",
            " [ 0.2105669   2.5381855 ]\n",
            " [-0.57561587 -3.43679857]\n",
            " [ 1.33808317  0.10724134]\n",
            " [-1.20676845 -2.43712662]\n",
            " [ 0.64262693  1.33629341]\n",
            " [-0.9916963  -0.08043681]\n",
            " [ 1.44782818  2.19618068]\n",
            " [-1.25815704  4.3074814 ]\n",
            " [ 0.27424557  0.87149959]\n",
            " [-0.78704685 -3.16062475]\n",
            " [-1.48916827 -0.24116661]\n",
            " [-0.47444214  3.13847411]\n",
            " [ 1.80633411  0.64368738]\n",
            " [ 2.06756827 -0.15742136]\n",
            " [-7.37272861  0.43752657]]\n",
            "U estimates (FS)\n",
            "[[-0.16277237 -4.21724426]\n",
            " [ 1.41631016  1.41243782]\n",
            " [ 1.59515855 -1.58921869]\n",
            " [ 1.5730278   0.40497904]\n",
            " [ 1.29715167  0.93796983]\n",
            " [-1.20549151  2.19715239]\n",
            " [-0.62188845 -1.18451457]\n",
            " [-0.8983342  -1.34761406]\n",
            " [ 0.21044476  2.53818554]\n",
            " [-0.57572665 -3.43679866]\n",
            " [ 1.33796518  0.10724135]\n",
            " [-1.20688117 -2.43712659]\n",
            " [ 0.64250659  1.33629342]\n",
            " [-0.99181298 -0.08043681]\n",
            " [ 1.44770551  2.19618072]\n",
            " [-1.25828042  4.30748132]\n",
            " [ 0.27412685  0.87149954]\n",
            " [-0.78715787 -3.16062473]\n",
            " [-1.48928447 -0.24116662]\n",
            " [-0.47456435  3.13847416]\n",
            " [ 1.78155856  0.64368706]\n",
            " [ 2.04279921 -0.15742126]\n",
            " [-7.39750587  0.43752703]]\n",
            "U true\n",
            "[[-0.19301143 -4.22666242]\n",
            " [ 1.43735476  1.40883489]\n",
            " [ 1.34711832 -1.58788242]\n",
            " [ 1.81825209  0.3910735 ]\n",
            " [ 1.25654173  0.94063103]\n",
            " [-1.22775617  2.19293973]\n",
            " [-0.79408731 -1.19281546]\n",
            " [-0.9898057  -1.35221872]\n",
            " [-0.03319243  2.53178969]\n",
            " [-0.65604937 -3.43139032]\n",
            " [ 1.42910277  0.11018046]\n",
            " [-0.96244844 -2.43071144]\n",
            " [ 0.70088294  1.33487455]\n",
            " [-1.3137399  -0.07784482]\n",
            " [ 1.45666816  2.19521647]\n",
            " [-1.3663195   4.30629966]\n",
            " [ 0.22757187  0.87208539]\n",
            " [-0.89571743 -3.14622337]\n",
            " [-1.51292639 -0.23242295]\n",
            " [-0.5588196   3.15054584]\n",
            " [ 1.85205881  0.64080503]\n",
            " [ 2.10133112 -0.1570577 ]\n",
            " [-7.27154738  0.44280999]]\n"
          ],
          "name": "stdout"
        }
      ]
    },
    {
      "cell_type": "markdown",
      "metadata": {
        "id": "_Nazpuh-A5vx",
        "colab_type": "text"
      },
      "source": [
        "# Scaling up the computation (Random field)\n",
        "\n",
        "This section has several implemented ideas for scaling up the computation to compute several similar models at once. For simplicity it is assumed here that X and Z are the same across voxels."
      ]
    },
    {
      "cell_type": "markdown",
      "metadata": {
        "id": "WQqn-irnDVbw",
        "colab_type": "text"
      },
      "source": [
        "### Toy dataset (for a random field)"
      ]
    },
    {
      "cell_type": "markdown",
      "metadata": {
        "id": "q70VwMBhDZpG",
        "colab_type": "text"
      },
      "source": [
        "#### Matrix Dimensions\n",
        "\n",
        "Below are the matrix dimensions used for **one voxel** in this example. If the model has form:\n",
        "\n",
        "$$Y=X\\beta+Zb+\\epsilon$$ With $\\epsilon \\sim N(0,\\sigma^2I_n)$ and $b \\sim N(0,\\sigma^2D)$, then the dimensions of each matrix are as follows:\n",
        "\n",
        " - $Y$: $(n \\times 1)$\n",
        " - $X$: $(n \\times p)$\n",
        " - $\\beta$: $(p \\times 1)$\n",
        " - $Z$: $(n \\times q)$\n",
        " - $b$: $(q \\times 1)$\n",
        " - $\\epsilon$: $(n \\times 1)$\n",
        " - $D$: $(p\\times p)$"
      ]
    },
    {
      "cell_type": "code",
      "metadata": {
        "id": "wmvGEtodDXRF",
        "colab_type": "code",
        "outputId": "f86862d0-1618-4f1f-ab65-c410e27c33bb",
        "colab": {
          "base_uri": "https://localhost:8080/",
          "height": 255
        }
      },
      "source": [
        "# Number of factors, random integer between 1 and 3\n",
        "r = 2#np.random.randint(2,4)#np.random.randint(1,4)\n",
        "print(\"Number of grouping factors for random effects:\")\n",
        "print(r)\n",
        "\n",
        "# Number of levels, random number between 2 and 8\n",
        "nlevels = np.random.randint(2,8,size=(r))\n",
        "# Let the first number of levels be a little larger (typically like subjects)\n",
        "nlevels[0] = np.random.randint(2,35,size=1)\n",
        "nlevels = np.sort(nlevels)[::-1]\n",
        "print(\"Number of levels for each factor:\")\n",
        "print(nlevels)\n",
        "\n",
        "# Number of parameters, random number between 1 and 5\n",
        "nparams = np.random.randint(1,6,size=(r))\n",
        "print(\"Number of parameters for each factor:\")\n",
        "print(nparams)\n",
        "\n",
        "# Dimension of D\n",
        "print(\"Dimension of D, q:\")\n",
        "q = np.sum(nlevels*nparams)\n",
        "print(q)\n",
        "\n",
        "# Number of fixed effects, random number between 6 and 30\n",
        "p = np.random.randint(6,31)\n",
        "print(\"Number of fixed effects:\")\n",
        "print(p)\n",
        "\n",
        "# Number of subjects, n\n",
        "n = 1000\n",
        "print(\"Number of subjects:\")\n",
        "print(n)\n",
        "\n",
        "# Voxel dimensions\n",
        "dimv = [30,30,30]\n",
        "nv = np.prod(dimv)\n",
        "print(\"Number of voxels:\")\n",
        "print(nv)\n"
      ],
      "execution_count": 0,
      "outputs": [
        {
          "output_type": "stream",
          "text": [
            "Number of grouping factors for random effects:\n",
            "2\n",
            "Number of levels for each factor:\n",
            "[14  5]\n",
            "Number of parameters for each factor:\n",
            "[2 5]\n",
            "Dimension of D, q:\n",
            "53\n",
            "Number of fixed effects:\n",
            "11\n",
            "Number of subjects:\n",
            "1000\n",
            "Number of voxels:\n",
            "27000\n"
          ],
          "name": "stdout"
        }
      ]
    },
    {
      "cell_type": "markdown",
      "metadata": {
        "id": "3NvSqz2ADc7X",
        "colab_type": "text"
      },
      "source": [
        "#### Fixed Effects matrix (X)\n",
        "\n",
        "For simplicity, in this example $X$ is the same for all voxels. "
      ]
    },
    {
      "cell_type": "code",
      "metadata": {
        "id": "4689w6FrDaDO",
        "colab_type": "code",
        "outputId": "f9fe3b0c-6464-411f-97a7-7589b3102355",
        "colab": {
          "base_uri": "https://localhost:8080/",
          "height": 282
        }
      },
      "source": [
        "# Initialize empty x\n",
        "X = np.zeros((n,p))\n",
        "\n",
        "# First column is intercept\n",
        "X[:,0] = 1\n",
        "\n",
        "# Rest of the columns we will make random noise \n",
        "X[:,1:] = np.random.randn(n*(p-1)).reshape((n,(p-1)))\n",
        "\n",
        "# Image of the last 20 rows of X\n",
        "imshow(X[-20:-1,:])\n"
      ],
      "execution_count": 0,
      "outputs": [
        {
          "output_type": "execute_result",
          "data": {
            "text/plain": [
              "<matplotlib.image.AxesImage at 0x7f8ed753dc88>"
            ]
          },
          "metadata": {
            "tags": []
          },
          "execution_count": 57
        },
        {
          "output_type": "display_data",
          "data": {
            "image/png": "[encoded data removed]",
            "text/plain": [
              "<Figure size 432x288 with 1 Axes>"
            ]
          },
          "metadata": {
            "tags": []
          }
        }
      ]
    },
    {
      "cell_type": "markdown",
      "metadata": {
        "id": "CQLC39CYDqa7",
        "colab_type": "text"
      },
      "source": [
        "#### Random Effects matrix (Z)\n",
        "\n",
        "For simplicity, in this example $Z$ is the same for all voxels. "
      ]
    },
    {
      "cell_type": "code",
      "metadata": {
        "id": "yyZSa63dDi8Z",
        "colab_type": "code",
        "outputId": "9490f3fa-7329-488b-984f-28774ace9902",
        "colab": {
          "base_uri": "https://localhost:8080/",
          "height": 303
        }
      },
      "source": [
        "import sparse\n",
        "# We need to create a block of Z for each level of each factor\n",
        "for i in np.arange(r):\n",
        "  \n",
        "  Zdata_factor = np.random.randn(n,nparams[i])\n",
        "  \n",
        "  if i==0:\n",
        "    \n",
        "    #The first factor should be block diagonal, so the factor indices are grouped\n",
        "    factorVec = np.repeat(np.arange(nlevels[i]), repeats=np.floor(n/max(nlevels[i],1)))\n",
        "    \n",
        "    if len(factorVec) < n:\n",
        "      \n",
        "      # Quick fix incase rounding leaves empty columns\n",
        "      factorVecTmp = np.zeros(n)\n",
        "      factorVecTmp[0:len(factorVec)] = factorVec\n",
        "      factorVecTmp[len(factorVec):n] = nlevels[i]-1\n",
        "      factorVec = np.int64(factorVecTmp)\n",
        "      \n",
        "    \n",
        "    # Crop the factor vector - otherwise have a few too many\n",
        "    factorVec = factorVec[0:n]\n",
        "    \n",
        "    # Give the data an intercept\n",
        "    Zdata_factor[:,0]=1\n",
        "    \n",
        "  else:\n",
        "    \n",
        "    # The factor is randomly arranged across subjects\n",
        "    factorVec = np.random.randint(0,nlevels[i],size=n) \n",
        "  \n",
        "  # Build a matrix showing where the elements of Z should be\n",
        "  indicatorMatrix_factor = np.zeros((n,nlevels[i]))\n",
        "  indicatorMatrix_factor[np.arange(n),factorVec] = 1\n",
        "  \n",
        "  # Need to repeat for each parameter the factor has \n",
        "  indicatorMatrix_factor = np.repeat(indicatorMatrix_factor, nparams[i], axis=1)\n",
        "  \n",
        "  # Enter the Z values\n",
        "  indicatorMatrix_factor[indicatorMatrix_factor==1]=Zdata_factor.reshape(Zdata_factor.shape[0]*Zdata_factor.shape[1])\n",
        "  \n",
        "  # Make sparse\n",
        "  Zfactor = scipy.sparse.csr_matrix(indicatorMatrix_factor)\n",
        "\n",
        "  # Put all the factors together\n",
        "  if i == 0:\n",
        "    Z = Zfactor\n",
        "  else:\n",
        "    Z = scipy.sparse.hstack((Z, Zfactor))\n",
        "\n",
        "\n",
        "Z2 = sparse.COO.from_scipy_sparse(Z)\n",
        "\n",
        "# Create an image of Z\n",
        "imshow(Z.toarray(), \\\n",
        "       interpolation='nearest', vmin=-5, vmax=5, aspect='auto')\n",
        "\n",
        "print(nlevels)\n",
        "print(nparams)\n"
      ],
      "execution_count": 0,
      "outputs": [
        {
          "output_type": "stream",
          "text": [
            "[14  5]\n",
            "[2 5]\n"
          ],
          "name": "stdout"
        },
        {
          "output_type": "display_data",
          "data": {
            "image/png": "[encoded data removed]",
            "text/plain": [
              "<Figure size 432x288 with 1 Axes>"
            ]
          },
          "metadata": {
            "tags": []
          }
        }
      ]
    },
    {
      "cell_type": "markdown",
      "metadata": {
        "id": "aRsq7mmwD4uG",
        "colab_type": "text"
      },
      "source": [
        "#### Smooth random beta\n",
        "Smooth random beta image."
      ]
    },
    {
      "cell_type": "code",
      "metadata": {
        "id": "YH2F-3D8Doqr",
        "colab_type": "code",
        "outputId": "22f36fe9-a689-4550-f333-28d831d12f32",
        "colab": {
          "base_uri": "https://localhost:8080/",
          "height": 301
        }
      },
      "source": [
        "# Random 4D matrix (unsmoothed)\n",
        "beta_us = np.random.randn(nv*p).reshape(dimv[0],dimv[1],dimv[2],p)*20\n",
        "beta_us[10:15,10:15,10:15,3] = beta_us[10:15,10:15,10:15,3] + 100\n",
        "\n",
        "t1 = time.time()\n",
        "# Some random affine, not important for this simulation\n",
        "affine = np.diag([1, 1, 1, 1])\n",
        "beta_us_nii = nib.Nifti1Image(beta_us, affine)\n",
        "\n",
        "# Smoothed beta nifti\n",
        "beta_s_nii = nilearn.image.smooth_img(beta_us_nii, 5)\n",
        "\n",
        "# Final beta\n",
        "beta = beta_s_nii.get_fdata()\n",
        "\n",
        "t2 = time.time()\n",
        "print(t2-t1)\n",
        "\n",
        "# Show unsmoothed\n",
        "imshow(beta_us[3,:,:,3].reshape(dimv[0],dimv[1]), \\\n",
        "                    interpolation='nearest', aspect='auto')\n",
        "\n",
        "plt.colorbar()"
      ],
      "execution_count": 0,
      "outputs": [
        {
          "output_type": "stream",
          "text": [
            "0.014941215515136719\n"
          ],
          "name": "stdout"
        },
        {
          "output_type": "execute_result",
          "data": {
            "text/plain": [
              "<matplotlib.colorbar.Colorbar at 0x7f8ed74d8198>"
            ]
          },
          "metadata": {
            "tags": []
          },
          "execution_count": 59
        },
        {
          "output_type": "display_data",
          "data": {
            "image/png": "[encoded data removed]",
            "text/plain": [
              "<Figure size 432x288 with 2 Axes>"
            ]
          },
          "metadata": {
            "tags": []
          }
        }
      ]
    },
    {
      "cell_type": "code",
      "metadata": {
        "id": "d_jmFhBhD6tL",
        "colab_type": "code",
        "outputId": "506cf64c-2316-4db5-ff48-76005b8bd8a1",
        "colab": {
          "base_uri": "https://localhost:8080/",
          "height": 283
        }
      },
      "source": [
        "# Show smoothed\n",
        "imshow(beta[3,:,:,3].reshape(dimv[0],dimv[1]), \\\n",
        "                    interpolation='nearest', aspect='auto')\n",
        "plt.colorbar()"
      ],
      "execution_count": 0,
      "outputs": [
        {
          "output_type": "execute_result",
          "data": {
            "text/plain": [
              "<matplotlib.colorbar.Colorbar at 0x7f8ed73f3128>"
            ]
          },
          "metadata": {
            "tags": []
          },
          "execution_count": 60
        },
        {
          "output_type": "display_data",
          "data": {
            "image/png": "[encoded data removed]",
            "text/plain": [
              "<Figure size 432x288 with 2 Axes>"
            ]
          },
          "metadata": {
            "tags": []
          }
        }
      ]
    },
    {
      "cell_type": "markdown",
      "metadata": {
        "id": "7FrGMBAwEP8e",
        "colab_type": "text"
      },
      "source": [
        "#### Smooth random b\n",
        "Smooth random b image."
      ]
    },
    {
      "cell_type": "code",
      "metadata": {
        "id": "CadvEVzeEM7F",
        "colab_type": "code",
        "outputId": "22fe5331-4322-49e1-f8c7-2b678caf286d",
        "colab": {
          "base_uri": "https://localhost:8080/",
          "height": 283
        }
      },
      "source": [
        "# Random 4D matrix (unsmoothed)\n",
        "b_us = np.random.randn(nv*q).reshape(dimv[0],dimv[1],dimv[2],q)*20\n",
        "\n",
        "# Some random affine, not important for this simulation\n",
        "affine = np.diag([1, 1, 1, 1])\n",
        "b_us_nii = nib.Nifti1Image(b_us, affine)\n",
        "\n",
        "# Smoothed beta nifti\n",
        "b_s_nii = nilearn.image.smooth_img(b_us_nii, 5)\n",
        "\n",
        "# Final beta\n",
        "b = b_s_nii.get_fdata()\n",
        "\n",
        "# Show unsmoothed\n",
        "imshow(b_us[3,:,:,1].reshape(dimv[0],dimv[1]), \\\n",
        "                    interpolation='nearest', aspect='auto')"
      ],
      "execution_count": 0,
      "outputs": [
        {
          "output_type": "execute_result",
          "data": {
            "text/plain": [
              "<matplotlib.image.AxesImage at 0x7f8ed73d9b70>"
            ]
          },
          "metadata": {
            "tags": []
          },
          "execution_count": 61
        },
        {
          "output_type": "display_data",
          "data": {
            "image/png": "[encoded data removed]",
            "text/plain": [
              "<Figure size 432x288 with 1 Axes>"
            ]
          },
          "metadata": {
            "tags": []
          }
        }
      ]
    },
    {
      "cell_type": "code",
      "metadata": {
        "id": "aCNew36kESqR",
        "colab_type": "code",
        "outputId": "4b51ee50-6b05-47e0-b3cc-01c06efb13ee",
        "colab": {
          "base_uri": "https://localhost:8080/",
          "height": 283
        }
      },
      "source": [
        "# Show smoothed\n",
        "imshow(b[3,:,:,1].reshape(dimv[0],dimv[1]), \\\n",
        "                    interpolation='nearest', aspect='auto')"
      ],
      "execution_count": 0,
      "outputs": [
        {
          "output_type": "execute_result",
          "data": {
            "text/plain": [
              "<matplotlib.image.AxesImage at 0x7f8ed7336320>"
            ]
          },
          "metadata": {
            "tags": []
          },
          "execution_count": 62
        },
        {
          "output_type": "display_data",
          "data": {
            "image/png": "[encoded data removed]",
            "text/plain": [
              "<Figure size 432x288 with 1 Axes>"
            ]
          },
          "metadata": {
            "tags": []
          }
        }
      ]
    },
    {
      "cell_type": "markdown",
      "metadata": {
        "id": "J5n048xZEW-d",
        "colab_type": "text"
      },
      "source": [
        " #### Y vector (New response)\n",
        " \n",
        "Generate response for the whole field."
      ]
    },
    {
      "cell_type": "code",
      "metadata": {
        "id": "7jadlKZcEUxx",
        "colab_type": "code",
        "outputId": "78567b0b-a522-4705-cf2d-7e87b9665135",
        "colab": {
          "base_uri": "https://localhost:8080/",
          "height": 85
        }
      },
      "source": [
        "\n",
        "# Reshape X\n",
        "X = X.reshape(1, X.shape[0], X.shape[1])\n",
        "\n",
        "# Reshape beta\n",
        "beta = beta.reshape(beta.shape[0]*beta.shape[1]*beta.shape[2],beta.shape[3],1)\n",
        "beta_True = beta\n",
        "\n",
        "# Reshape Z (note: This step is slow because of the sparse to dense conversion;\n",
        "# it could probably be made quicker but this is only for one simulation at current)\n",
        "Ztmp = Z.toarray().reshape(1, Z.shape[0], Z.shape[1])\n",
        "\n",
        "# Reshape b\n",
        "b = b.reshape(b.shape[0]*b.shape[1]*b.shape[2],b.shape[3],1)\n",
        "\n",
        "print(X.shape)\n",
        "print(Ztmp.shape)\n",
        "print(beta.shape)\n",
        "print(b.shape)\n",
        "\n",
        "# Generate Y\n",
        "Y = np.matmul(X,beta)+np.matmul(Ztmp,b) + np.random.randn(n,1)"
      ],
      "execution_count": 0,
      "outputs": [
        {
          "output_type": "stream",
          "text": [
            "(1, 1000, 11)\n",
            "(1, 1000, 53)\n",
            "(27000, 11, 1)\n",
            "(27000, 53, 1)\n"
          ],
          "name": "stdout"
        }
      ]
    },
    {
      "cell_type": "markdown",
      "metadata": {
        "id": "7V1oJXx2EcEX",
        "colab_type": "text"
      },
      "source": [
        "Check Y looks reasonable."
      ]
    },
    {
      "cell_type": "code",
      "metadata": {
        "id": "Nk8lqtsbEZ1J",
        "colab_type": "code",
        "outputId": "89ed92e4-3749-4d05-893d-c82e0361a3b1",
        "colab": {
          "base_uri": "https://localhost:8080/",
          "height": 300
        }
      },
      "source": [
        "print(Y.shape)\n",
        "\n",
        "Y_imageformat = Y.reshape((dimv[0],dimv[1],dimv[2],n))\n",
        "\n",
        "imshow(Y_imageformat[3,:,:,1].reshape(dimv[0],dimv[1]), \\\n",
        "                    interpolation='nearest', aspect='auto')"
      ],
      "execution_count": 0,
      "outputs": [
        {
          "output_type": "stream",
          "text": [
            "(27000, 1000, 1)\n"
          ],
          "name": "stdout"
        },
        {
          "output_type": "execute_result",
          "data": {
            "text/plain": [
              "<matplotlib.image.AxesImage at 0x7f8ed7310c88>"
            ]
          },
          "metadata": {
            "tags": []
          },
          "execution_count": 64
        },
        {
          "output_type": "display_data",
          "data": {
            "image/png": "[encoded data removed]",
            "text/plain": [
              "<Figure size 432x288 with 1 Axes>"
            ]
          },
          "metadata": {
            "tags": []
          }
        }
      ]
    },
    {
      "cell_type": "markdown",
      "metadata": {
        "id": "0N-oRTM1EhCb",
        "colab_type": "text"
      },
      "source": [
        "#### Transpose products\n",
        "\n",
        "Calculate X'Y, X'Z, X'Y, Y'Y, Y'Z, Y'X Z'Z, Z'X and Z'Y."
      ]
    },
    {
      "cell_type": "code",
      "metadata": {
        "id": "px75KQpHEe7u",
        "colab_type": "code",
        "outputId": "b0a367c3-f0a3-4d3e-8bf3-0e8ccc4ba55f",
        "colab": {
          "base_uri": "https://localhost:8080/",
          "height": 170
        }
      },
      "source": [
        "# X'Z\\Z'X\n",
        "XtZ = np.matmul(X.transpose(0,2,1),Ztmp)\n",
        "ZtX = XtZ.transpose(0,2,1)\n",
        "\n",
        "# Z'Y\\Y'Z\n",
        "YtZ = np.matmul(Y.transpose(0,2,1),Ztmp)\n",
        "ZtY = YtZ.transpose(0,2,1)\n",
        "\n",
        "# Y'X/X'Y\n",
        "YtX = np.matmul(Y.transpose(0,2,1),X)\n",
        "XtY = YtX.transpose(0,2,1)\n",
        "\n",
        "# YtY\n",
        "YtY = np.matmul(Y.transpose(0,2,1),Y)\n",
        "\n",
        "# ZtZ\n",
        "ZtZ = np.matmul(Ztmp.transpose(0,2,1),Ztmp)\n",
        "\n",
        "# X'X\n",
        "XtX = np.matmul(X.transpose(0,2,1),X)\n",
        "\n",
        "\n",
        "print(XtZ.shape)\n",
        "print(ZtX.shape)\n",
        "\n",
        "print(XtY.shape)\n",
        "print(YtX.shape)\n",
        "\n",
        "print(YtZ.shape)\n",
        "print(ZtY.shape)\n",
        "\n",
        "print(XtX.shape)\n",
        "\n",
        "print(YtY.shape)\n",
        "\n",
        "print(ZtZ.shape)"
      ],
      "execution_count": 0,
      "outputs": [
        {
          "output_type": "stream",
          "text": [
            "(1, 11, 53)\n",
            "(1, 53, 11)\n",
            "(27000, 11, 1)\n",
            "(27000, 1, 11)\n",
            "(27000, 1, 53)\n",
            "(27000, 53, 1)\n",
            "(1, 11, 11)\n",
            "(27000, 1, 1)\n",
            "(1, 53, 53)\n"
          ],
          "name": "stdout"
        }
      ]
    },
    {
      "cell_type": "markdown",
      "metadata": {
        "id": "CUHZxjFvEmih",
        "colab_type": "text"
      },
      "source": [
        "### Demonstration: Time taken just looping\n",
        "\n",
        "This is a demonstration showing how long FS takes when doing each voxel seperately."
      ]
    },
    {
      "cell_type": "code",
      "metadata": {
        "id": "TokOi5r2Ej2T",
        "colab_type": "code",
        "outputId": "0e88381c-ae52-4523-9baa-e01275a8cb9e",
        "colab": {
          "base_uri": "https://localhost:8080/",
          "height": 34
        }
      },
      "source": [
        "# Initialize empty estimates\n",
        "beta_est = np.zeros(beta.shape)\n",
        "print(beta.shape)\n",
        "\n",
        "demo = False\n",
        "if demo:\n",
        "  \n",
        "  # Initialize temporary X'X, X'Z, Z'X and Z'Z\n",
        "  XtZtmp = XtZ[0,:,:]\n",
        "  ZtXtmp = ZtX[0,:,:]\n",
        "  ZtZtmp = ZtZ[0,:,:]\n",
        "  XtXtmp = XtX[0,:,:]\n",
        "\n",
        "  print(type(ZtZ))\n",
        "\n",
        "  t1 = time.time()\n",
        "  for i in np.arange(beta.shape[0]):\n",
        "\n",
        "    print(i)\n",
        "\n",
        "    XtYtmp = XtY[i,:,:]\n",
        "    ZtYtmp = ZtY[i,:,:] \n",
        "    YtYtmp = YtY[i,:,:] \n",
        "    YtZtmp = YtZ[i,:,:]\n",
        "    YtXtmp = YtX[i,:,:]\n",
        "\n",
        "    param_est,bvals = FS(XtXtmp, XtYtmp, ZtXtmp, ZtYtmp, ZtZtmp, XtZtmp, YtZtmp, YtYtmp, YtXtmp, nlevels, nparams, 1e-6, n)\n",
        "\n",
        "    # Get current beta\n",
        "    beta_est[i,:,:] = param_est[0:beta.shape[1]]\n",
        "\n",
        "  t2 = time.time()\n",
        "  print(\"Time taken in seconds for this example:\")\n",
        "  print(t2-t1)\n",
        "  print(\"Estimated time taken for this example on a nifti of size (100x100x100), in hours:\")\n",
        "  print(100*100*100*(t2-t1)/(nv*60*60))"
      ],
      "execution_count": 0,
      "outputs": [
        {
          "output_type": "stream",
          "text": [
            "(27000, 11, 1)\n"
          ],
          "name": "stdout"
        }
      ]
    },
    {
      "cell_type": "code",
      "metadata": {
        "id": "SJnJ524uFbV1",
        "colab_type": "code",
        "outputId": "cf66d388-da76-4660-9123-3a6212c0ea26",
        "colab": {
          "base_uri": "https://localhost:8080/",
          "height": 300
        }
      },
      "source": [
        "print(\"True beta (3)\")\n",
        "beta_map=beta.reshape(dimv[0],dimv[1],dimv[2],beta.shape[1])\n",
        "beta_est_map=beta_est.reshape(dimv[0],dimv[1],dimv[2],beta.shape[1])\n",
        "\n",
        "\n",
        "# Show true beta, 3rd x-slice, 3rd parameter\n",
        "imshow(beta_map[3,:,:,3].reshape(dimv[0],dimv[1]), \\\n",
        "                    interpolation='nearest', aspect='auto')\n",
        "plt.colorbar()"
      ],
      "execution_count": 0,
      "outputs": [
        {
          "output_type": "stream",
          "text": [
            "True beta (3)\n"
          ],
          "name": "stdout"
        },
        {
          "output_type": "execute_result",
          "data": {
            "text/plain": [
              "<matplotlib.colorbar.Colorbar at 0x7f8ed72a7e80>"
            ]
          },
          "metadata": {
            "tags": []
          },
          "execution_count": 67
        },
        {
          "output_type": "display_data",
          "data": {
            "image/png": "[encoded data removed]",
            "text/plain": [
              "<Figure size 432x288 with 2 Axes>"
            ]
          },
          "metadata": {
            "tags": []
          }
        }
      ]
    },
    {
      "cell_type": "code",
      "metadata": {
        "id": "iIodupfkRONO",
        "colab_type": "code",
        "outputId": "46f166b7-bc3b-4ef8-f09f-663c46220a5e",
        "colab": {
          "base_uri": "https://localhost:8080/",
          "height": 303
        }
      },
      "source": [
        "print(\"Estimated beta (3)\")\n",
        "\n",
        "# Show estimated beta, 3rd x-slice, 3rd parameter\n",
        "imshow(beta_est_map[3,:,:,3].reshape(dimv[0],dimv[1]), vmin=-3, vmax=3, \\\n",
        "                    interpolation='nearest', aspect='auto')\n",
        "plt.colorbar()\n"
      ],
      "execution_count": 0,
      "outputs": [
        {
          "output_type": "stream",
          "text": [
            "Estimated beta (3)\n"
          ],
          "name": "stdout"
        },
        {
          "output_type": "execute_result",
          "data": {
            "text/plain": [
              "<matplotlib.colorbar.Colorbar at 0x7f8ed76055f8>"
            ]
          },
          "metadata": {
            "tags": []
          },
          "execution_count": 68
        },
        {
          "output_type": "display_data",
          "data": {
            "image/png": "[encoded data removed]",
            "text/plain": [
              "<Figure size 432x288 with 2 Axes>"
            ]
          },
          "metadata": {
            "tags": []
          }
        }
      ]
    },
    {
      "cell_type": "markdown",
      "metadata": {
        "id": "wUapPX6JdyPG",
        "colab_type": "text"
      },
      "source": [
        "**Note:** Result is roughly similar... but lots of local minima disrupting the image."
      ]
    },
    {
      "cell_type": "markdown",
      "metadata": {
        "id": "Y3pBWlFqeRZx",
        "colab_type": "text"
      },
      "source": [
        "### Scaled up Helper Functions\n",
        "\n",
        "This section contains the Nifti-equivalent functions to those given *helper functions* for an individual voxel."
      ]
    },
    {
      "cell_type": "markdown",
      "metadata": {
        "id": "RlYTkC9Qgg3l",
        "colab_type": "text"
      },
      "source": [
        "#### Initial beta (broadcasted)\n",
        "\n",
        "The below function returns the OLS estimator for several voxels at once, where the OLS estimator for a given voxel, $\\hat{\\beta}$, is given by:\n",
        "\n",
        "$$\\hat{\\beta}_{OLS}=(X'X)^{-1}X'Y$$\n",
        "\n",
        "----\n",
        "\n",
        "This function takes the following inputs:\n",
        "\n",
        "----\n",
        "\n",
        " - `XtX`: The design matrices transposed and multiplied by themselves ($X'X$ in the above notation)\n",
        " - `XtY`: The design matrices transposed and multiplied by the response vectors ($X'Y$ in the above notation).\n",
        " \n",
        "----\n",
        "\n",
        "It returns as outputs:\n",
        "\n",
        "----\n",
        "\n",
        "- `beta`: The OLS estimates of $\\beta$ ($\\hat{\\beta}_{OLS}$ in the above notation).\n",
        "\n"
      ]
    },
    {
      "cell_type": "code",
      "metadata": {
        "id": "9QDdV-iTggJz",
        "colab_type": "code",
        "outputId": "efd5a2c4-dc6b-4bb6-cf9d-e0fbb0b08491",
        "colab": {
          "base_uri": "https://localhost:8080/",
          "height": 1000
        }
      },
      "source": [
        "def initBeta_broadcasted(XtX, XtY):\n",
        "  \n",
        "  # Get the beta estimator\n",
        "  beta = np.linalg.solve(XtX,XtY)\n",
        "  \n",
        "  # Return the result\n",
        "  return(beta)\n",
        "\n",
        "print(initBeta(XtX,XtY))\n",
        "print(np.linalg.inv(XtX) @ XtY)"
      ],
      "execution_count": 0,
      "outputs": [
        {
          "output_type": "stream",
          "text": [
            "[[[-0.84343553]\n",
            "  [ 0.12088461]\n",
            "  [ 0.71867051]\n",
            "  ...\n",
            "  [ 2.8935947 ]\n",
            "  [-0.67459789]\n",
            "  [-3.08122112]]\n",
            "\n",
            " [[-1.15673532]\n",
            "  [ 0.19642787]\n",
            "  [ 0.02968513]\n",
            "  ...\n",
            "  [ 2.36591741]\n",
            "  [-1.12653006]\n",
            "  [-3.83697017]]\n",
            "\n",
            " [[-1.51847724]\n",
            "  [ 0.36027867]\n",
            "  [-1.05392769]\n",
            "  ...\n",
            "  [ 1.65868609]\n",
            "  [-1.6253267 ]\n",
            "  [-4.65289381]]\n",
            "\n",
            " ...\n",
            "\n",
            " [[ 0.3159518 ]\n",
            "  [-4.31100121]\n",
            "  [-0.08756585]\n",
            "  ...\n",
            "  [ 3.92723822]\n",
            "  [ 1.89555932]\n",
            "  [ 2.2944746 ]]\n",
            "\n",
            " [[ 0.5566827 ]\n",
            "  [-4.47989404]\n",
            "  [ 0.02129297]\n",
            "  ...\n",
            "  [ 3.65367182]\n",
            "  [ 2.48438265]\n",
            "  [ 1.54267973]]\n",
            "\n",
            " [[ 0.77725834]\n",
            "  [-4.48429482]\n",
            "  [ 0.08583648]\n",
            "  ...\n",
            "  [ 3.34941247]\n",
            "  [ 2.76242843]\n",
            "  [ 0.91854611]]]\n",
            "[[[-0.84343553]\n",
            "  [ 0.12088461]\n",
            "  [ 0.71867051]\n",
            "  ...\n",
            "  [ 2.8935947 ]\n",
            "  [-0.67459789]\n",
            "  [-3.08122112]]\n",
            "\n",
            " [[-1.15673532]\n",
            "  [ 0.19642787]\n",
            "  [ 0.02968513]\n",
            "  ...\n",
            "  [ 2.36591741]\n",
            "  [-1.12653006]\n",
            "  [-3.83697017]]\n",
            "\n",
            " [[-1.51847724]\n",
            "  [ 0.36027867]\n",
            "  [-1.05392769]\n",
            "  ...\n",
            "  [ 1.65868609]\n",
            "  [-1.6253267 ]\n",
            "  [-4.65289381]]\n",
            "\n",
            " ...\n",
            "\n",
            " [[ 0.3159518 ]\n",
            "  [-4.31100121]\n",
            "  [-0.08756585]\n",
            "  ...\n",
            "  [ 3.92723822]\n",
            "  [ 1.89555932]\n",
            "  [ 2.2944746 ]]\n",
            "\n",
            " [[ 0.5566827 ]\n",
            "  [-4.47989404]\n",
            "  [ 0.02129297]\n",
            "  ...\n",
            "  [ 3.65367182]\n",
            "  [ 2.48438265]\n",
            "  [ 1.54267973]]\n",
            "\n",
            " [[ 0.77725834]\n",
            "  [-4.48429482]\n",
            "  [ 0.08583648]\n",
            "  ...\n",
            "  [ 3.34941247]\n",
            "  [ 2.76242843]\n",
            "  [ 0.91854611]]]\n"
          ],
          "name": "stdout"
        }
      ]
    },
    {
      "cell_type": "markdown",
      "metadata": {
        "id": "FA6sxYqhWDmg",
        "colab_type": "text"
      },
      "source": [
        "### Block to stacked matrix (3D)"
      ]
    },
    {
      "cell_type": "code",
      "metadata": {
        "id": "20sksbbhVuYf",
        "colab_type": "code",
        "colab": {}
      },
      "source": [
        "def block2stacked3D(A, pA):\n",
        "\n",
        "  # Work out shape of A\n",
        "  v = A.shape[0] # (Number of voxels)\n",
        "  m1 = A.shape[1]\n",
        "  m2 = A.shape[2]\n",
        "\n",
        "  # Work out shape of As\n",
        "  n1 = pA[0]\n",
        "  n2 = pA[1]\n",
        "  \n",
        "  # Change A to stacked form\n",
        "  As = A.reshape((v,m1//n1,n1,m2//n2,n2)).transpose(0,1,3,2,4).reshape(v,m1*m2//n2,n2)\n",
        "\n",
        "  return(As)"
      ],
      "execution_count": 0,
      "outputs": []
    },
    {
      "cell_type": "markdown",
      "metadata": {
        "id": "WG3wjSmwXJMj",
        "colab_type": "text"
      },
      "source": [
        "The below code checks the above function against it's 2D counterpart."
      ]
    },
    {
      "cell_type": "code",
      "metadata": {
        "id": "O0Gim8jhWI_a",
        "colab_type": "code",
        "outputId": "e7b78461-d391-48f5-8593-c461637df65d",
        "colab": {
          "base_uri": "https://localhost:8080/",
          "height": 68
        }
      },
      "source": [
        "# Random block sizes\n",
        "n1 = np.random.randint(2,60)\n",
        "n2 = np.random.randint(2,60)\n",
        "pA = np.array([n1,n2])\n",
        "\n",
        "# Number of voxels \n",
        "v = 100\n",
        "\n",
        "# Random number of blocks\n",
        "l1 = np.random.randint(1,31)\n",
        "l2 = np.random.randint(1,31)\n",
        "\n",
        "# Shape of A\n",
        "m1 = l1*n1\n",
        "m2 = l2*n2\n",
        "\n",
        "# Create A\n",
        "A = np.random.randn(v,m1,m2)\n",
        "print(v,n1,n2,m1,m2)\n",
        "print(A.shape)\n",
        "\n",
        "# Some index, i\n",
        "i = 6\n",
        "\n",
        "# Print A\n",
        "print(np.allclose(block2stacked3D(A,pA)[i,:,:],block2stacked2D(A[i,:,:],pA)))"
      ],
      "execution_count": 0,
      "outputs": [
        {
          "output_type": "stream",
          "text": [
            "100 7 41 56 902\n",
            "(100, 56, 902)\n",
            "True\n"
          ],
          "name": "stdout"
        }
      ]
    },
    {
      "cell_type": "markdown",
      "metadata": {
        "id": "fMNad1EKXaO5",
        "colab_type": "text"
      },
      "source": [
        "### Convert Blocked matrix to stacked vector format"
      ]
    },
    {
      "cell_type": "code",
      "metadata": {
        "id": "N8niyem7XmEV",
        "colab_type": "code",
        "colab": {}
      },
      "source": [
        "# Block vec with row-wise chunks of size n\n",
        "def mat2vecb3D(mat,p):\n",
        "\n",
        "  # Change to stacked block format, if necessary\n",
        "  if p[1]!=mat.shape[2]:\n",
        "    mat = block2stacked3D(mat,p)\n",
        "\n",
        "  # Get height of block.\n",
        "  n = p[0]\n",
        "  \n",
        "  # Work out shape of matrix.\n",
        "  v = mat.shape[0]\n",
        "  m = mat.shape[1]\n",
        "  k = mat.shape[2]\n",
        "\n",
        "  # Convert to stacked vector format\n",
        "  vecb = mat.reshape(v,m//n, n, k).transpose((0,2, 1, 3)).reshape(v,n, m*k//n).transpose((0,2,1)).reshape(v,m//n,n*k)\n",
        "\n",
        "  #Return vecb\n",
        "  return(vecb)"
      ],
      "execution_count": 0,
      "outputs": []
    },
    {
      "cell_type": "markdown",
      "metadata": {
        "id": "_kzFHAmUXk3I",
        "colab_type": "text"
      },
      "source": [
        "The below code tests the above function against it's 2D counterpart."
      ]
    },
    {
      "cell_type": "code",
      "metadata": {
        "id": "WIBiYD7TXmyt",
        "colab_type": "code",
        "outputId": "75b35ef0-a877-45a1-aa40-d6f4f02be2bf",
        "colab": {
          "base_uri": "https://localhost:8080/",
          "height": 34
        }
      },
      "source": [
        "# Random block sizes\n",
        "n1 = np.random.randint(2,4)\n",
        "n2 = np.random.randint(2,4)\n",
        "\n",
        "# Number of voxels\n",
        "v = 100\n",
        "\n",
        "# Blocksize\n",
        "p = np.array([n1,n2])\n",
        "\n",
        "# Random number of blocks\n",
        "l1 = np.random.randint(2,4)\n",
        "l2 = np.random.randint(2,4)\n",
        "\n",
        "# Resultant matrix sizes\n",
        "m1 = l1*n1\n",
        "m2 = l2*n2\n",
        "\n",
        "# Random matrices\n",
        "A = np.random.randn(v,m1,m2)\n",
        "\n",
        "# Random index i\n",
        "i = 9\n",
        "\n",
        "print(np.allclose(mat2vecb3D(A,p)[i,:,:],mat2vecb2D(A[i,:,:],p)))"
      ],
      "execution_count": 0,
      "outputs": [
        {
          "output_type": "stream",
          "text": [
            "True\n"
          ],
          "name": "stdout"
        }
      ]
    },
    {
      "cell_type": "markdown",
      "metadata": {
        "id": "24iy9fSWaGb-",
        "colab_type": "text"
      },
      "source": [
        "### Block sum of Aij Bij transpose"
      ]
    },
    {
      "cell_type": "code",
      "metadata": {
        "id": "9-y1N0XIaXhQ",
        "colab_type": "code",
        "colab": {}
      },
      "source": [
        "def sumAijBijt3D(A, B, pA, pB):\n",
        "  \n",
        "  # Number of voxels\n",
        "  v = A.shape[0]\n",
        "\n",
        "  # Work out second (the common) dimension of the reshaped A and B\n",
        "  nA = pA[0]\n",
        "  nB = pB[0]\n",
        "\n",
        "  # Work out the first (the common) dimension of reshaped A and B\n",
        "  mA = A.shape[1]*A.shape[2]//nA\n",
        "  mB = B.shape[1]*B.shape[2]//nB\n",
        "\n",
        "  # Check mA equals mB\n",
        "  if mA != mB:\n",
        "    raise Exception('Matrix dimensions incompatible.')\n",
        "\n",
        "  # Convert both matrices to stacked block format.\n",
        "  A = block2stacked3D(A,pA)\n",
        "  B = block2stacked3D(B,pB)\n",
        "\n",
        "  # Work out the sum\n",
        "  S = A.transpose((0,2,1)).reshape((v,mA,nA)).transpose((0,2,1)) @ B.transpose((0,2,1)).reshape((v,mB,nB))\n",
        "\n",
        "  # Return result\n",
        "  return(S)"
      ],
      "execution_count": 0,
      "outputs": []
    },
    {
      "cell_type": "markdown",
      "metadata": {
        "id": "7DGRplj8dc-f",
        "colab_type": "text"
      },
      "source": [
        "The below code tests the 3D function above against it's 2D counterpart."
      ]
    },
    {
      "cell_type": "code",
      "metadata": {
        "id": "8vZLTBZjddJQ",
        "colab_type": "code",
        "outputId": "fb814a05-6f24-46fc-ec9e-99c3c9531878",
        "colab": {
          "base_uri": "https://localhost:8080/",
          "height": 34
        }
      },
      "source": [
        "# Random number of blocks\n",
        "l1 = np.random.randint(1,300)\n",
        "l2 = np.random.randint(1,300)\n",
        "\n",
        "# Random blocksizes (the second dimension must be the same for both)\n",
        "n1 = np.random.randint(1,5)\n",
        "n1prime = np.random.randint(1,5)\n",
        "n2 = np.random.randint(1,5)\n",
        "\n",
        "# Number of voxels\n",
        "v = 61\n",
        "\n",
        "# Save block sizes\n",
        "pA = np.array([n1,n2])\n",
        "pB = np.array([n1prime,n2])\n",
        "\n",
        "m1 = n1*l1\n",
        "m1prime = n1prime*l1\n",
        "m2 = n2*l2\n",
        "\n",
        "k=100\n",
        "l1 = m1//n1\n",
        "l2 = m2//n2\n",
        "\n",
        "# Create A\n",
        "A = np.random.randn(v,m1,m2)\n",
        "B = np.random.randn(v,m1prime,m2)\n",
        "\n",
        "# index i\n",
        "i = 24\n",
        "\n",
        "sumAB = sumAijBijt2D(A[i,:,:], B[i,:,:], pA, pB)\n",
        "sumAB2 = sumAijBijt3D(A, B, pA, pB)[i,:,:]\n",
        "\n",
        "print(np.allclose(sumAB,sumAB2))"
      ],
      "execution_count": 0,
      "outputs": [
        {
          "output_type": "stream",
          "text": [
            "True\n"
          ],
          "name": "stdout"
        }
      ]
    },
    {
      "cell_type": "markdown",
      "metadata": {
        "id": "w7gpsuCTnUee",
        "colab_type": "text"
      },
      "source": [
        "#### Matrix to Vector (broadcasted)\n",
        "\n",
        "This function takes in a stack of matrices and returns the corresponding vectorized forms of those matrices."
      ]
    },
    {
      "cell_type": "code",
      "metadata": {
        "id": "IziwYuRbnUuG",
        "colab_type": "code",
        "outputId": "d605b137-248f-4837-fa31-ee0b26a1b38d",
        "colab": {
          "base_uri": "https://localhost:8080/",
          "height": 935
        }
      },
      "source": [
        "def mat2vec_broadcasted(matrix):\n",
        "  \n",
        "  #Return vectorised matrix\n",
        "  return(matrix.transpose(0,2,1).reshape(matrix.shape[0],matrix.shape[1]*matrix.shape[2],1))\n",
        "\n",
        "# Example:\n",
        "matrix = np.random.randn(4,3,3)\n",
        "print(matrix)\n",
        "print(mat2vec_broadcasted(matrix))"
      ],
      "execution_count": 0,
      "outputs": [
        {
          "output_type": "stream",
          "text": [
            "[[[ 1.12152257 -0.53891485 -0.79545757]\n",
            "  [-0.44217089 -0.32010966 -0.95993104]\n",
            "  [-0.25283493 -0.0387094   0.38020377]]\n",
            "\n",
            " [[ 1.57829504 -0.29963826 -0.05018347]\n",
            "  [ 0.43797271 -0.4446755  -0.26737488]\n",
            "  [-1.76171449 -1.68142624  0.14159867]]\n",
            "\n",
            " [[-0.46632936 -1.3517203  -0.13465773]\n",
            "  [-0.48191413 -0.62318696 -0.74503883]\n",
            "  [ 0.27666878  0.35333285  0.02270484]]\n",
            "\n",
            " [[ 0.41791691  0.90898366  1.01505147]\n",
            "  [-0.94352414  0.38345845  0.70748432]\n",
            "  [-2.1325694  -1.42764497  0.35452556]]]\n",
            "[[[ 1.12152257]\n",
            "  [-0.44217089]\n",
            "  [-0.25283493]\n",
            "  [-0.53891485]\n",
            "  [-0.32010966]\n",
            "  [-0.0387094 ]\n",
            "  [-0.79545757]\n",
            "  [-0.95993104]\n",
            "  [ 0.38020377]]\n",
            "\n",
            " [[ 1.57829504]\n",
            "  [ 0.43797271]\n",
            "  [-1.76171449]\n",
            "  [-0.29963826]\n",
            "  [-0.4446755 ]\n",
            "  [-1.68142624]\n",
            "  [-0.05018347]\n",
            "  [-0.26737488]\n",
            "  [ 0.14159867]]\n",
            "\n",
            " [[-0.46632936]\n",
            "  [-0.48191413]\n",
            "  [ 0.27666878]\n",
            "  [-1.3517203 ]\n",
            "  [-0.62318696]\n",
            "  [ 0.35333285]\n",
            "  [-0.13465773]\n",
            "  [-0.74503883]\n",
            "  [ 0.02270484]]\n",
            "\n",
            " [[ 0.41791691]\n",
            "  [-0.94352414]\n",
            "  [-2.1325694 ]\n",
            "  [ 0.90898366]\n",
            "  [ 0.38345845]\n",
            "  [-1.42764497]\n",
            "  [ 1.01505147]\n",
            "  [ 0.70748432]\n",
            "  [ 0.35452556]]]\n"
          ],
          "name": "stdout"
        }
      ]
    },
    {
      "cell_type": "markdown",
      "metadata": {
        "id": "KryF-ftSgqU3",
        "colab_type": "text"
      },
      "source": [
        "#### Sum of Aij kron Bij"
      ]
    },
    {
      "cell_type": "code",
      "metadata": {
        "id": "C2wzk5AXgqd4",
        "colab_type": "code",
        "colab": {}
      },
      "source": [
        "def sumAijKronBij3D(A, B, p, perm=None):\n",
        "\n",
        "  # Check dim A and B and pA and pB all same\n",
        "  n1 = p[0]\n",
        "  n2 = p[1]\n",
        "\n",
        "  # Number of voxels\n",
        "  v = A.shape[0]\n",
        "\n",
        "  # This matrix only needs be calculated once\n",
        "  if perm is None:\n",
        "    perm = permOfIkKkI(n2,n1,n2,n1) \n",
        "\n",
        "  # Convert to vecb format\n",
        "  atilde = mat2vecb3D(A,p)\n",
        "  btilde = mat2vecb3D(B,p)\n",
        "\n",
        "  # Multiply and convert to vector\n",
        "  vecba = mat2vec_broadcasted(btilde.transpose((0,2,1)) @ atilde)\n",
        "\n",
        "  # Permute\n",
        "  S_noreshape = vecba[:,perm,:] \n",
        "\n",
        "  # Reshape to correct shape\n",
        "  S = S_noreshape.reshape(v,n2**2,n1**2).transpose((0,2,1))\n",
        "\n",
        "  return(S,perm)"
      ],
      "execution_count": 0,
      "outputs": []
    },
    {
      "cell_type": "markdown",
      "metadata": {
        "id": "XW_YdVvCiN-N",
        "colab_type": "text"
      },
      "source": [
        "The below code tests the above function against it's 2D counterpart."
      ]
    },
    {
      "cell_type": "code",
      "metadata": {
        "id": "2HXjXKqCiONz",
        "colab_type": "code",
        "outputId": "058566fa-ac5d-49a6-bbe4-6fa605f4a991",
        "colab": {
          "base_uri": "https://localhost:8080/",
          "height": 34
        }
      },
      "source": [
        "# Random block sizes\n",
        "n1 = np.random.randint(2,10)\n",
        "n2 = np.random.randint(2,10)\n",
        "\n",
        "# Number of voxels \n",
        "v = 37\n",
        "\n",
        "# Blocksize\n",
        "p = np.array([n1,n2])\n",
        "\n",
        "# Random number of blocks\n",
        "l1 = np.random.randint(2,30)\n",
        "l2 = np.random.randint(2,30)\n",
        "\n",
        "# Resultant matrix sizes\n",
        "m1 = l1*n1\n",
        "m2 = l2*n2\n",
        "\n",
        "# Random matrices\n",
        "A = np.random.randn(v,m1,m2)\n",
        "B = np.random.randn(v,m1,m2)\n",
        "\n",
        "# Index i\n",
        "i = 17\n",
        "\n",
        "# Now with function\n",
        "S,_ = sumAijKronBij2D(A[i,:,:], B[i,:,:], p)\n",
        "S2,_ = sumAijKronBij3D(A, B, p)\n",
        "S2 = S2[i,:,:]\n",
        "\n",
        "print(np.allclose(S,S2))\n",
        "#print(S)\n",
        "#print(runningSum)"
      ],
      "execution_count": 0,
      "outputs": [
        {
          "output_type": "stream",
          "text": [
            "True\n"
          ],
          "name": "stdout"
        }
      ]
    },
    {
      "cell_type": "markdown",
      "metadata": {
        "id": "6FZyyQAEh3mp",
        "colab_type": "text"
      },
      "source": [
        "### Sum of square residuals (broadcasted)\n",
        "\n",
        "> Indented block\n",
        "\n",
        "\n",
        "\n",
        "The function below calculates the sum of the square residuals, $e^Te$, using the below formula:\n",
        "\n",
        "$$e^Te = (Y-X\\beta)^T(Y-X\\beta)$$ \n",
        "$$=Y^TY - 2Y^TX\\beta + \\beta^T X^TX \\beta$$\n",
        "\n",
        "\n",
        "----\n",
        "\n",
        "This function takes the following inputs:\n",
        "\n",
        "----\n",
        "\n",
        " - `YtX`: $Y$ transpose multiplied by $X$ ($Y^TX$ in the above notation).\n",
        " - `YtY`: $Y$ transpose multiplied by $Y$ ($Y^TY$ in the above notation).\n",
        " - `XtX`: $X$ transpose multiplied by $X$ ($X^TX$ in the above notation).\n",
        " - `beta`: An estimate of the parameter vector ($\\beta$ in the above notation).\n",
        " \n",
        "----\n",
        "\n",
        "It returns as outputs:\n",
        "\n",
        "----\n",
        "\n",
        "\n",
        " - `ete`: The sum of square residuals ($e^Te$ in the above notation)."
      ]
    },
    {
      "cell_type": "code",
      "metadata": {
        "id": "vFycwRkYeklg",
        "colab_type": "code",
        "colab": {}
      },
      "source": [
        "def ssr_broadcasted(YtX, YtY, XtX, beta):\n",
        "  \n",
        "  # Return the sum of squared residuals\n",
        "  return(YtY - 2*YtX @ beta + beta.transpose((0,2,1)) @ XtX @ beta)\n",
        "\n",
        "print(ssr_broadcasted(YtX,YtY,XtX,initBeta(XtX,XtY)))"
      ],
      "execution_count": 0,
      "outputs": []
    },
    {
      "cell_type": "markdown",
      "metadata": {
        "id": "MOvNqJPojgGp",
        "colab_type": "text"
      },
      "source": [
        "#### Initial Sigma (Broadcasted)\n",
        "\n",
        "The function below returns an initial estimate for the Fixed Effects Variance, $\\sigma^2$. The estimator used is based on the suggested OLS estimator in Demidenko (2012) and is given by:\n",
        "\n",
        "$$\\hat{\\sigma}^2_{OLS}=\\frac{1}{n}(Y-X\\beta)^T(Y-X\\beta)$$\n",
        "$$=\\frac{1}{n}e^Te$$\n",
        "\n",
        "----\n",
        "\n",
        "This function takes the following inputs:\n",
        "\n",
        "----\n",
        "\n",
        " - `ete`: The sum of square residuals ($e^Te$ in the above notation).\n",
        " - `n`: The total number of observations ($n$ in the above notation).\n",
        " \n",
        "----\n",
        "\n",
        "It returns as outputs:\n",
        "\n",
        "----\n",
        "\n",
        "- `sigma2`: The OLS estimate of $\\sigma^2$ ($\\hat{\\sigma}^2_{OLS}$ in the above notation)."
      ]
    },
    {
      "cell_type": "code",
      "metadata": {
        "id": "kY1ILWTLjnKy",
        "colab_type": "code",
        "colab": {}
      },
      "source": [
        "def initSigma2_broadcasted(ete, n):\n",
        "\n",
        "  # Return the OLS estimate of sigma\n",
        "  return(1/n*ete[:,0,0])\n",
        "\n",
        "print(initSigma2_broadcasted(ssr_broadcasted(YtX,YtY,XtX,initBeta(XtX,XtY)),n))"
      ],
      "execution_count": 0,
      "outputs": []
    },
    {
      "cell_type": "markdown",
      "metadata": {
        "id": "AAURtA0rlZVL",
        "colab_type": "text"
      },
      "source": [
        "### Kron (broadcasted)\n",
        "\n",
        "Taken from https://stackoverflow.com/questions/57259557/kronecker-product-of-matrix-array"
      ]
    },
    {
      "cell_type": "code",
      "metadata": {
        "id": "H5saAin0lY69",
        "colab_type": "code",
        "colab": {}
      },
      "source": [
        "def kron_broadcasted(A,B):\n",
        "  i,j,k = A.shape\n",
        "  i,l,m = B.shape\n",
        "  return(np.einsum(\"ijk,ilm->ijlkm\",A,B).reshape(i,j*l,k*m))"
      ],
      "execution_count": 0,
      "outputs": []
    },
    {
      "cell_type": "markdown",
      "metadata": {
        "id": "IdB9CszhoA1R",
        "colab_type": "text"
      },
      "source": [
        "#### Vector to matrix (broadcasted)\n",
        "\n",
        "This function takes in a stack of vectors and returns the corresponding matrix forms of those vectors."
      ]
    },
    {
      "cell_type": "code",
      "metadata": {
        "id": "Wud5dy0CoBFR",
        "colab_type": "code",
        "colab": {}
      },
      "source": [
        "def vec2mat_broadcasted(vec):\n",
        "  \n",
        "  # Return matrix\n",
        "  return(vec.reshape(vec.shape[0], np.int64(np.sqrt(vec.shape[1])),np.int64(np.sqrt(vec.shape[1]))).transpose(0,2,1))\n",
        "\n",
        "# Example\n",
        "vec = np.random.randn(4,4,1)\n",
        "mat = vec2mat_broadcasted(vec)\n",
        "print(vec)\n",
        "print(mat)"
      ],
      "execution_count": 0,
      "outputs": []
    },
    {
      "cell_type": "markdown",
      "metadata": {
        "id": "j75PTwshvngn",
        "colab_type": "text"
      },
      "source": [
        "#### Matrix to half vector (broadcasted)\n",
        "\n",
        "This function takes in a stack of matrices and returns the corresponding vector forms of the lower halves of those matrices."
      ]
    },
    {
      "cell_type": "code",
      "metadata": {
        "id": "E31shCYgvnx8",
        "colab_type": "code",
        "colab": {}
      },
      "source": [
        "def mat2vech_broadcasted(matrix):\n",
        "  \n",
        "  # Number of voxels, nv\n",
        "  nv = matrix.shape[0]\n",
        "  \n",
        "  # Get lower triangular indices\n",
        "  rowinds, colinds = np.tril_indices(matrix.shape[1]) \n",
        "  \n",
        "  # Number of covariance parameters, nc\n",
        "  nc = len(rowinds)\n",
        "  \n",
        "  # They're in the wrong order so we need to order them\n",
        "  # To do this we first hash them\n",
        "  indhash = colinds*matrix.shape[1]+rowinds\n",
        "  \n",
        "  # Sort permutation\n",
        "  perm=np.argsort(indhash)\n",
        "  \n",
        "  # Return vectorised half-matrix\n",
        "  return(matrix[:,rowinds[perm],colinds[perm]].reshape((nv,nc,1)))"
      ],
      "execution_count": 0,
      "outputs": []
    },
    {
      "cell_type": "markdown",
      "metadata": {
        "id": "LWzmL4Bp1QiX",
        "colab_type": "text"
      },
      "source": [
        "#### Half vector to matrix (broadcasted)\n",
        "\n",
        "This function takes in a stack of vectors and returns the corresponding matrix forms treating the elements of the vectors as the elements of lower halves of those matrices."
      ]
    },
    {
      "cell_type": "code",
      "metadata": {
        "id": "IV2UNK8L1Qxz",
        "colab_type": "code",
        "colab": {}
      },
      "source": [
        "def vech2mat_broadcasted(vech):\n",
        "  \n",
        "  # Number of voxels\n",
        "  nv = vech.shape[0]\n",
        "  \n",
        "  # dimension of matrix\n",
        "  n = np.int64((-1+np.sqrt(1+8*vech.shape[1]))/2)\n",
        "  matrix = np.zeros((nv,n,n))\n",
        "  \n",
        "  # Get lower triangular indices\n",
        "  rowinds, colinds = np.tril_indices(n)\n",
        "  \n",
        "  # They're in the wrong order so we need to order them\n",
        "  # To do this we first hash them\n",
        "  indhash = colinds*n+rowinds\n",
        "  \n",
        "  # Sort permutation\n",
        "  perm=np.argsort(indhash)\n",
        "  \n",
        "  # Assign values to lower half\n",
        "  matrix[:,rowinds[perm],colinds[perm]] = vech.reshape(vech.shape[0],vech.shape[1])\n",
        "  \n",
        "  # Assign values to upper half\n",
        "  matrix[:,colinds[perm],rowinds[perm]] = vech.reshape(vech.shape[0],vech.shape[1])\n",
        "  \n",
        "  # Return vectorised half-matrix\n",
        "  return(matrix)\n"
      ],
      "execution_count": 0,
      "outputs": []
    },
    {
      "cell_type": "markdown",
      "metadata": {
        "id": "vXZTnBHRkOm7",
        "colab_type": "text"
      },
      "source": [
        "#### Initial D_k (broadcasted)\n",
        "\n",
        "The function below returns an initial estimate for the Random Effects Variance matrix for the $k^{th}$ grouping factor, $D_k$. The estimator used is an adaption of the suggested estimator in Demidenko (2012) and is given by:\n",
        "\n",
        "$$vec(\\hat{D}_{k})=\\bigg[\\sum_{j=1}^{l_k}(Z_{(k,j)}^TZ_{(k,j)}) \\otimes (Z_{(k,j)}^TZ_{(k,j)})\\bigg]^{-1}vec\\bigg(\\sum_{j=1}^{l_k}[\\hat{\\sigma}^{-2}_{OLS}Z_{(k,j)}^Tee^TZ_{(k,j)} - Z_{(k,j)}^TZ_{(k,j)}]\\bigg)$$\n",
        "\n",
        "Or:\n",
        "\n",
        "$$\\hat{D}_{k}=matrix\\bigg(\\bigg[\\sum_{j=1}^{l_k}(Z_{(k,j)}^TZ_{(k,j)}) \\otimes (Z_{(k,j)}^TZ_{(k,j)})\\bigg]^{-1}vec\\bigg(\\sum_{j=1}^{l_k}[\\hat{\\sigma}^{-2}_{OLS}Z_{(k,j)}^Tee^TZ_{(k,j)} - Z_{(k,j)}^TZ_{(k,j)}]\\bigg)\\bigg)$$\n",
        "\n",
        "----\n",
        "\n",
        "This function takes the following inputs:\n",
        "\n",
        "----\n",
        "\n",
        " - `k`: The grouping factor we wish to estimate $D$ for ($k$ in the above notation)\n",
        " - `lk`: The number of levels belonging to grouping factor $k$ ($l_k$ in the above notation).\n",
        " - `ZtZ`: The $Z$ matrix transposed and then multiplied by itself ($Z^TZ$ in the above notation).\n",
        " - `Zte`: The $Z$ matrix transposed and then multiplied by the OLS residuals ($Z^Te=Z^T(Y-X\\beta)$ in the above notation).\n",
        " - `sigma2`: The OLS estimate of $\\sigma^2$ ($\\hat{\\sigma}^2_{OLS}$ in the above notation).\n",
        " \n",
        "----\n",
        "\n",
        "It returns as outputs:\n",
        "\n",
        "----\n",
        "\n",
        "- `Dkest`: The inital estimate of $D_k$ ($\\hat{D}_k$ in the above notation).\n",
        "\n",
        "\n",
        "###CHECK DERIVATION"
      ]
    },
    {
      "cell_type": "code",
      "metadata": {
        "id": "JSNOV2V5kO36",
        "colab_type": "code",
        "colab": {}
      },
      "source": [
        "def initDk_broadcasted(k, lk, ZtZ, Zte, sigma2):\n",
        "  \n",
        "  # Initalize D to zeros\n",
        "  invSig2ZteetZminusZtZ = np.zeros((Zte.shape[0],nparams[k],nparams[k]))\n",
        "  \n",
        "  # For each level j we need to add a term\n",
        "  for j in np.arange(nlevels[k]):\n",
        "    \n",
        "    Ikj = faclev_indices(k, j, nlevels, nparams)\n",
        "\n",
        "    # Work out Z_(k, j)'Z_(k, j)\n",
        "    ZkjtZkj = ZtZ[np.ix_(np.arange(ZtZ.shape[0]),Ikj,Ikj)]\n",
        "    \n",
        "    # Work out Z_(k,j)'e\n",
        "    Zkjte = Zte[:, Ikj,:]\n",
        "    \n",
        "    if j==0:\n",
        "      \n",
        "      # Add first Z_(k,j)'Z_(k,j) kron Z_(k,j)'Z_(k,j)\n",
        "      ZtZkronZtZ = kron_broadcasted(ZkjtZkj,ZkjtZkj.transpose(0,2,1))\n",
        "      \n",
        "      # Add first \\sigma^{-2}Z'ee'Z - Z_(k,j)'Z_(k,j)\n",
        "      invSig2ZteetZminusZtZ = np.einsum('i,ijk->ijk',1/sigma2,(Zkjte @ Zkjte.transpose(0,2,1))) - ZkjtZkj\n",
        "      \n",
        "    else:\n",
        "      \n",
        "      # Add next Z_(k,j)'Z_(k,j) kron Z_(k,j)'Z_(k,j)\n",
        "      ZtZkronZtZ = ZtZkronZtZ + kron_broadcasted(ZkjtZkj,ZkjtZkj.transpose(0,2,1))\n",
        "      \n",
        "      # Add next \\sigma^{-2}Z'ee'Z - Z_(k,j)'Z_(k,j)\n",
        "      invSig2ZteetZminusZtZ = invSig2ZteetZminusZtZ + np.einsum('i,ijk->ijk',1/sigma2,(Zkjte @ Zkjte.transpose(0,2,1))) - ZkjtZkj\n",
        "      \n",
        "  # Work out the final term.\n",
        "  Dkest = vec2mat_broadcasted(np.linalg.inv(ZtZkronZtZ) @ mat2vec_broadcasted(invSig2ZteetZminusZtZ)) \n",
        "  \n",
        "  \n",
        "  return(Dkest)\n",
        "\n",
        "Zte = ZtY-ZtX @ np.random.randn(ZtY.shape[0],ZtX.shape[2],1)\n",
        "\n",
        "t1 = time.time()\n",
        "initDk_broadcasted(0, nlevels[0], ZtZ, Zte , np.ones(Zte.shape[0]))\n",
        "t2 = time.time()\n",
        "\n",
        "print(t2-t1)\n",
        "\n",
        "t1 = time.time()\n",
        "initDk_broadcasted(0, nlevels[0], ZtZ, Zte , np.ones(Zte.shape[0]))\n",
        "t2 = time.time()\n",
        "\n",
        "print(t2-t1)\n",
        "\n",
        "print(initDk_broadcasted(0, nlevels[0], ZtZ, Zte , np.ones(Zte.shape[0]))[8,:,:])\n",
        "\n",
        "t1 = time.time()\n",
        "print(initDk(0, nlevels[0], ZtZ[0,:,:], Zte[8,:,:], 1))\n",
        "t2 = time.time()\n",
        "\n",
        "print(t2-t1)"
      ],
      "execution_count": 0,
      "outputs": []
    },
    {
      "cell_type": "markdown",
      "metadata": {
        "id": "6tddRYrhtNWG",
        "colab_type": "text"
      },
      "source": [
        "#### Make D non-negative definite (Broadcasted)\n",
        "\n",
        "This function projects a stack of matrices into the space of non-negative definite matrices."
      ]
    },
    {
      "cell_type": "code",
      "metadata": {
        "id": "0en3ealntNes",
        "colab_type": "code",
        "colab": {}
      },
      "source": [
        "def makeDnnd_broadcasted(D):\n",
        "  \n",
        "  # Check if we have negative eigenvalues\n",
        "  if not np.all(np.linalg.eigvals(D)>0):\n",
        "  \n",
        "    # If we have negative eigenvalues\n",
        "    eigvals,eigvecs = np.linalg.eigh(D)\n",
        "    \n",
        "    # Work out elementwise max of lambda and 0\n",
        "    lamplus = np.zeros((eigvals.shape[0], eigvals.shape[1], eigvals.shape[1]))\n",
        "    diag = np.arange(eigvals.shape[1])\n",
        "    lamplus[:, diag, diag] = np.maximum(eigvals,0)\n",
        "    \n",
        "    # Work out D+\n",
        "    D_nnd = eigvecs @ lamplus @ np.linalg.inv(eigvecs)\n",
        "    \n",
        "  else:\n",
        "    \n",
        "    # D is already non-negative in this case\n",
        "    D_nnd = D\n",
        "    \n",
        "  return(D_nnd)\n",
        "  \n",
        "D = np.random.randn(100000,3,3)\n",
        "t1 = time.time()\n",
        "print(makeDnnd_broadcasted(D)[10,:,:])\n",
        "t2 = time.time()\n",
        "print(t2-t1)\n",
        "t1 = time.time()\n",
        "print(makeDnnd(D[10,:,:]))\n",
        "t2 = time.time()\n",
        "print(t2-t1)\n",
        "\n",
        "\n",
        "### COULD BE IMPROVED SPEED WISE"
      ],
      "execution_count": 0,
      "outputs": []
    },
    {
      "cell_type": "markdown",
      "metadata": {
        "id": "i2RBNITFOdJs",
        "colab_type": "text"
      },
      "source": [
        "### Get D from dict (broadcasted)\n",
        "\n",
        "This function takes in a dictionary, `Ddict`, in which entry `k` is a stack of the $k^{th}$ diagonal block for every voxel."
      ]
    },
    {
      "cell_type": "code",
      "metadata": {
        "id": "mcziKRJvOdUJ",
        "colab_type": "code",
        "colab": {}
      },
      "source": [
        "def getDfromDict_broadcasted(Ddict, nparams, nlevels):\n",
        "  \n",
        "  # Get number of voxels\n",
        "  nv = Ddict[0].shape[0]\n",
        "  \n",
        "  # Work out indices (there is one block of D per level)\n",
        "  inds = np.zeros(np.sum(nlevels)+1)\n",
        "  counter = 0\n",
        "  for k in np.arange(len(nparams)):\n",
        "    for j in np.arange(nlevels[k]):\n",
        "      inds[counter] = np.concatenate((np.array([0]), np.cumsum(nlevels*nparams)))[k] + nparams[k]*j\n",
        "      counter = counter + 1\n",
        "      \n",
        "  \n",
        "  # Last index will be missing so add it\n",
        "  inds[len(inds)-1]=inds[len(inds)-2]+nparams[-1]\n",
        "  \n",
        "  # Make sure indices are ints\n",
        "  inds = np.int64(inds)\n",
        "  \n",
        "  # Initial D\n",
        "  D = np.zeros((nv,np.sum(nparams*nlevels),np.sum(nparams*nlevels)))\n",
        "\n",
        "  counter = 0\n",
        "  for k in np.arange(len(nparams)):\n",
        "    for j in np.arange(nlevels[k]):\n",
        "\n",
        "      D[:, inds[counter]:inds[counter+1], inds[counter]:inds[counter+1]] = Ddict[k]\n",
        "      counter = counter + 1\n",
        "  \n",
        "  return(D)\n",
        "  \n",
        "# Example dict\n",
        "nparams_tmp = np.array([10,2,3])\n",
        "nlevels_tmp = np.array([30,22,4])\n",
        "\n",
        "Ddict_tmp = dict()\n",
        "for i in np.arange(len(nparams_tmp)):\n",
        "  \n",
        "  Ddict_tmp[i] = np.random.randn(2000,nparams_tmp[i],nparams_tmp[i])\n",
        "\n",
        "t1 = time.time()\n",
        "D = getDfromDict_broadcasted(Ddict_tmp, nparams_tmp, nlevels_tmp)\n",
        "t2 = time.time()\n",
        "print(t2-t1)"
      ],
      "execution_count": 0,
      "outputs": []
    },
    {
      "cell_type": "markdown",
      "metadata": {
        "id": "Kn997hc1hDGK",
        "colab_type": "text"
      },
      "source": [
        "#### Force Symmetric (Broadcasted)\n",
        "\n",
        "This function forces a stack of matrices to be symmetric."
      ]
    },
    {
      "cell_type": "code",
      "metadata": {
        "id": "BphjFMdxhDWt",
        "colab_type": "code",
        "colab": {}
      },
      "source": [
        "# Developer NOTE: DO NOT USE NUMBA ON THIS FUNCTION - NUMBA BUGGERS IT UP FOR UNKNOWN REASONS\n",
        "def forceSym_broadcasted(x):\n",
        "  \n",
        "  # Force it to be symmetric\n",
        "  return((x+x.transpose((0,2,1)))/2)\n",
        "\n",
        "  \n",
        "print(ZtZ.shape)\n",
        "t1 = time.time()\n",
        "ZtZ = forceSym_broadcasted(forceSym_broadcasted(ZtZ))\n",
        "print(time.time()-t1)\n",
        "\n",
        "print(ZtZ.shape)\n",
        "t1 = time.time()\n",
        "ZtZ = forceSym_broadcasted(forceSym_broadcasted(ZtZ))\n",
        "print(time.time()-t1)"
      ],
      "execution_count": 0,
      "outputs": []
    },
    {
      "cell_type": "markdown",
      "metadata": {
        "id": "T01OEeP9GT65",
        "colab_type": "text"
      },
      "source": [
        "#### Derivative of $\\frac{\\delta l}{\\delta \\beta}$ (broadcasted)\n",
        "\n",
        "This function returns the derivative of $l$ with respect to $\\beta$ for all voxels."
      ]
    },
    {
      "cell_type": "code",
      "metadata": {
        "id": "mwCgeYh0GUHO",
        "colab_type": "code",
        "colab": {}
      },
      "source": [
        "def get_dldB_broadcasted(sigma2, Xte, XtZ, DinvIplusZtZD, Zte):\n",
        "  \n",
        "  # Work out the derivative (Note: we leave everything as 3D for ease of future computation)\n",
        "  deriv = np.einsum('i,ijk->ijk',1/sigma2, (Xte - (XtZ @ DinvIplusZtZD @ Zte)))\n",
        "                    \n",
        "  # Return the derivative\n",
        "  return(deriv)"
      ],
      "execution_count": 0,
      "outputs": []
    },
    {
      "cell_type": "markdown",
      "metadata": {
        "id": "q2wffHXtIgd2",
        "colab_type": "text"
      },
      "source": [
        "#### Derivative of $\\frac{\\delta l}{\\delta \\sigma^2}$ (broadcasted)\n",
        "\n",
        "This function returns the derivative of $l$ with respect to $\\sigma^2$ for all voxels."
      ]
    },
    {
      "cell_type": "code",
      "metadata": {
        "id": "4WUjR0_oIjJv",
        "colab_type": "code",
        "colab": {}
      },
      "source": [
        "def get_dldsigma2_broadcasted(n, ete, Zte, sigma2, DinvIplusZtZD):\n",
        "  \n",
        "  # Get e'(I+ZDZ')^(-1)e=e'e-e'ZD(I+Z'ZD)^(-1)Z'e\n",
        "  etinvIplusZtDZe = ete - forceSym_broadcasted(Zte.transpose((0,2,1)) @ DinvIplusZtZD @ Zte)\n",
        "  \n",
        "  # Get the derivative\n",
        "  deriv = -n/(2*sigma2) + np.einsum('i,ijk->ijk',1/(2*(sigma2**2)), etinvIplusZtDZe).reshape(sigma2.shape[0])\n",
        "  \n",
        "  return(deriv)"
      ],
      "execution_count": 0,
      "outputs": []
    },
    {
      "cell_type": "markdown",
      "metadata": {
        "id": "JOn3facWIgoz",
        "colab_type": "text"
      },
      "source": [
        "#### Derivative of $\\frac{\\delta l}{\\delta D_k}$ (broadcasted)\n",
        "\n",
        "This function returns the derivative of $l$ with respect to $D_k$ for all voxels."
      ]
    },
    {
      "cell_type": "code",
      "metadata": {
        "id": "bWRg9WRpMwwc",
        "colab_type": "code",
        "colab": {}
      },
      "source": [
        "def get_dldDk_broadcasted(k, nlevels, nparams, ZtZ, Zte, sigma2, DinvIplusZtZD):\n",
        "\n",
        "  # Number of voxels\n",
        "  nv = Zte.shape[0]\n",
        "  \n",
        "  # Initalize the derivative to zeros\n",
        "  dldDk = np.zeros((nv, nparams[k],nparams[k]))\n",
        "  \n",
        "  # For each level j we need to add a term\n",
        "  for j in np.arange(nlevels[k]):\n",
        "\n",
        "    # Get the indices for the kth factor jth level\n",
        "    Ikj = faclev_indices(k, j, nlevels, nparams)\n",
        "    \n",
        "    # Get (the kj^th columns of Z)^T multiplied by Z\n",
        "    Z_kjtZ = ZtZ[:,Ikj,:]\n",
        "    Z_kjte = Zte[:,Ikj,:]\n",
        "    \n",
        "    # Get the first term of the derivative\n",
        "    Z_kjtVinve = Z_kjte - (Z_kjtZ @ DinvIplusZtZD @ Zte)\n",
        "    firstterm = np.einsum('i,ijk->ijk',1/sigma2,forceSym_broadcasted(Z_kjtVinve @ Z_kjtVinve.transpose((0,2,1))))\n",
        "    \n",
        "    # Get (the kj^th columns of Z)^T multiplied by (the kj^th columns of Z)\n",
        "    Z_kjtZ_kj = ZtZ[np.ix_(np.arange(ZtZ.shape[0]),Ikj,Ikj)]\n",
        "    secondterm = forceSym_broadcasted(Z_kjtZ_kj) - forceSym_broadcasted(Z_kjtZ @ DinvIplusZtZD @ Z_kjtZ.transpose((0,2,1)))\n",
        "    \n",
        "    if j == 0:\n",
        "      \n",
        "      # Start a running sum over j\n",
        "      dldDk = firstterm - secondterm\n",
        "      \n",
        "    else:\n",
        "    \n",
        "      # Add these to the running sum\n",
        "      dldDk = dldDk + firstterm - secondterm\n",
        "    \n",
        "  # Halve the sum (the coefficient of a half was not included in the above)\n",
        "  dldDk = forceSym_broadcasted(dldDk/2)\n",
        "\n",
        "  # Store it in the dictionary\n",
        "  return(dldDk)"
      ],
      "execution_count": 0,
      "outputs": []
    },
    {
      "cell_type": "markdown",
      "metadata": {
        "id": "Zh7nHo0KRHk-",
        "colab_type": "text"
      },
      "source": [
        "#### Covariance of derivative of $\\frac{\\delta l}{\\delta \\beta}$ (broadcasted)\n",
        "\n",
        "This function returns the covariance of the derivative of $l$ with respect to $\\beta$ for all voxels."
      ]
    },
    {
      "cell_type": "code",
      "metadata": {
        "id": "BWIE2Oy4RHxD",
        "colab_type": "code",
        "colab": {}
      },
      "source": [
        "def get_covdldbeta_broadcasted(XtZ, XtX, ZtZ, DinvIplusZtZD, sigma2):\n",
        "  \n",
        "  # Get the covariance of the derivative\n",
        "  covderiv = np.einsum('i,ijk->ijk',1/sigma2,(XtX - forceSym_broadcasted(XtZ @ DinvIplusZtZD @ XtZ.transpose((0,2,1)))))\n",
        "  \n",
        "  # Return the covariance of the derivative\n",
        "  return(covderiv)"
      ],
      "execution_count": 0,
      "outputs": []
    },
    {
      "cell_type": "markdown",
      "metadata": {
        "id": "Y-8VOZR5ULKX",
        "colab_type": "text"
      },
      "source": [
        "#### Covariance of derivative of $\\frac{\\delta l}{\\delta \\sigma^2}$ and $\\frac{\\delta l}{\\delta D_k}$ (broadcasted)\n",
        "\n",
        "This function returns the covariance of the derivative of $l$ with respect to $\\sigma^2$ and $D_k$ for all voxels."
      ]
    },
    {
      "cell_type": "code",
      "metadata": {
        "id": "dW40iTC-ULV5",
        "colab_type": "code",
        "colab": {}
      },
      "source": [
        "def get_covdldDkdsigma2_broadcasted(k, sigma2, nlevels, nparams, ZtZ, DinvIplusZtZD, invDupMatdict):\n",
        "  \n",
        "  # Number of voxels\n",
        "  nv = DinvIplusZtZD.shape[0]\n",
        "  \n",
        "  # Sum of R_(k, j) over j\n",
        "  RkSum = np.zeros((nv,nparams[k],nparams[k]))\n",
        "\n",
        "  for j in np.arange(nlevels[k]):\n",
        "\n",
        "    # Get the indices for the kth factor jth level\n",
        "    Ikj = faclev_indices(k, j, nlevels, nparams)\n",
        "\n",
        "    # Work out R_(k, j)\n",
        "    Rkj = ZtZ[np.ix_(np.arange(ZtZ.shape[0]),Ikj,Ikj)] - forceSym_broadcasted(ZtZ[:,Ikj,:] @ DinvIplusZtZD @ ZtZ[:,:,Ikj])\n",
        "    \n",
        "    # Add together\n",
        "    RkSum = RkSum + Rkj\n",
        "\n",
        "  # Multiply by duplication matrices and save\n",
        "  covdldDdldsigma2 = np.einsum('i,ijk->ijk', 1/(2*sigma2), invDupMatdict[k] @ mat2vec_broadcasted(RkSum))\n",
        "  \n",
        "  return(covdldDdldsigma2)"
      ],
      "execution_count": 0,
      "outputs": []
    },
    {
      "cell_type": "markdown",
      "metadata": {
        "id": "6d1GYRfPqLs3",
        "colab_type": "text"
      },
      "source": [
        "#### Covariance of derivative of $\\frac{\\delta l}{\\delta D_{k_1}}$ and $\\frac{\\delta l}{\\delta D_{k_2}}$ (broadcasted)\n",
        "\n",
        "This function returns the covariance of the derivative of $l$ with respect to $D_{k_1}$ and $D_{k_2}$ for all voxels."
      ]
    },
    {
      "cell_type": "code",
      "metadata": {
        "id": "QhknnB8aqL44",
        "colab_type": "code",
        "colab": {}
      },
      "source": [
        "def get_covdldDk1Dk2_broadcasted(k1, k2, nlevels, nparams, ZtZ, DinvIplusZtZD, invDupMatdict):\n",
        "  \n",
        "  # Sum of R_(k1, k2, i, j) kron R_(k1, k2, i, j) over i and j \n",
        "  for i in np.arange(nlevels[k1]):\n",
        "\n",
        "    for j in np.arange(nlevels[k2]):\n",
        "      \n",
        "      # Get the indices for the k1th factor jth level\n",
        "      Ik1i = faclev_indices(k1, i, nlevels, nparams)\n",
        "      Ik2j = faclev_indices(k2, j, nlevels, nparams)\n",
        "      \n",
        "      # Work out R_(k1, k2, i, j)\n",
        "      Rk1k2ij = ZtZ[np.ix_(np.arange(ZtZ.shape[0]),Ik1i,Ik2j)] - (ZtZ[:,Ik1i,:] @ DinvIplusZtZD @ ZtZ[:,:,Ik2j])\n",
        "      \n",
        "      # Work out Rk1k2ij kron Rk1k2ij\n",
        "      RkRt = kron_broadcasted(Rk1k2ij,Rk1k2ij)\n",
        "      \n",
        "      # Add together\n",
        "      if (i == 0) and (j == 0):\n",
        "      \n",
        "        RkRtSum = RkRt\n",
        "      \n",
        "      else:\n",
        "        \n",
        "        RkRtSum = RkRtSum + RkRt\n",
        "    \n",
        "  # Multiply by duplication matrices and save\n",
        "  covdldDk1dldk2 = 1/2 * invDupMatdict[k1] @ RkRtSum @ invDupMatdict[k2].transpose()\n",
        "  \n",
        "  # Return the result\n",
        "  return(covdldDk1dldk2)\n"
      ],
      "execution_count": 0,
      "outputs": []
    },
    {
      "cell_type": "markdown",
      "metadata": {
        "id": "idaEKRat3dsM",
        "colab_type": "text"
      },
      "source": [
        "#### Log likelihood (broadcasted)\n",
        "\n",
        "This function returns the loglikelihood for all voxels."
      ]
    },
    {
      "cell_type": "code",
      "metadata": {
        "id": "m6OSs_pj3d55",
        "colab_type": "code",
        "colab": {}
      },
      "source": [
        "def llh_broadcasted(n, ZtZ, Zte, ete, sigma2, DinvIplusZtZD,D):\n",
        "  \n",
        "  # Work out -1/2(nln(sigma^2) + ln|I+Z'ZD|)\n",
        "  firstterm = -0.5*(n*np.log(sigma2) + np.log(np.linalg.det(np.eye(ZtZ.shape[1]) + ZtZ @ D))).reshape(ete.shape[0])\n",
        "                    \n",
        "  # Work out sigma^(-2)*(e'e - e'ZD(I+Z'ZD)^(-1)Z'e)\n",
        "  secondterm = -0.5*np.einsum('i,ijk->ijk',(1/sigma2),(ete - forceSym_broadcasted(Zte.transpose((0,2,1)) @ DinvIplusZtZD @ Zte))).reshape(ete.shape[0])\n",
        "  \n",
        "  # Work out the log likelihood\n",
        "  llh = firstterm + secondterm\n",
        "  \n",
        "  # Return result\n",
        "  return(llh)\n"
      ],
      "execution_count": 0,
      "outputs": []
    },
    {
      "cell_type": "markdown",
      "metadata": {
        "id": "WNOVuHBppePE",
        "colab_type": "text"
      },
      "source": [
        ""
      ]
    },
    {
      "cell_type": "code",
      "metadata": {
        "id": "VPxdgTRlpedA",
        "colab_type": "code",
        "colab": {}
      },
      "source": [
        "def getConvergedIndices(convergedBeforeIt, convergedDuringIt):\n",
        "  \n",
        "  # ============================================================================\n",
        "  # Global indices (i.e. relative to whole image)\n",
        "  # ----------------------------------------------------------------------------\n",
        "  \n",
        "  # Numbers 1 to number of voxels\n",
        "  indices = np.arange(len(convergedBeforeIt))\n",
        "  \n",
        "  # Indices of those which weren't converged before the iteration\n",
        "  indices_notConBeforeIt = indices[convergedBeforeIt==0]\n",
        "  \n",
        "  # Indices of those which weren't converged after the iteration\n",
        "  indices_notConAfterIt = indices_notConBeforeIt[convergedDuringIt==0]\n",
        "  \n",
        "  # Indices of those which were converged after iteration\n",
        "  indices_ConAfterIt = np.setdiff1d(indices, indices_notConAfterIt)\n",
        "  \n",
        "  # Indices of those which converged during iteration\n",
        "  indices_conDuringIt = np.setdiff1d(indices_notConBeforeIt, indices_notConAfterIt)\n",
        "  \n",
        "  # ============================================================================\n",
        "  # Local indices (i.e. relative to current voxels)\n",
        "  # ----------------------------------------------------------------------------\n",
        "  local_converged = np.arange(len(convergedDuringIt))[convergedDuringIt==1]\n",
        "  local_notconverged = np.arange(len(convergedDuringIt))[convergedDuringIt==0]\n",
        "  \n",
        "  return(indices_ConAfterIt, indices_notConAfterIt, indices_conDuringIt, local_converged, local_notconverged)"
      ],
      "execution_count": 0,
      "outputs": []
    },
    {
      "cell_type": "markdown",
      "metadata": {
        "id": "x72ZuXyheljG",
        "colab_type": "text"
      },
      "source": [
        "### Broadcasted FS\n",
        "\n",
        "The below function performs FS for a NIFTI."
      ]
    },
    {
      "cell_type": "code",
      "metadata": {
        "id": "qJjgNbXjeszs",
        "colab_type": "code",
        "colab": {}
      },
      "source": [
        "def FS_broadcasted(XtX, XtY, ZtX, ZtY, ZtZ, XtZ, YtZ, YtY, YtX, nlevels, nparams, tol,n):\n",
        "  \n",
        "  t1_total = time.time()\n",
        "  t1 = time.time()\n",
        "  \n",
        "  # Useful scalars\n",
        "  # ------------------------------------------------------------------------------\n",
        "\n",
        "  # Number of factors, r\n",
        "  r = len(nlevels)\n",
        "\n",
        "  # Number of random effects, q\n",
        "  q = np.sum(np.dot(nparams,nlevels))\n",
        "\n",
        "  # Number of fixed effects, p\n",
        "  p = XtX.shape[1]\n",
        "\n",
        "  # Number of voxels, nv\n",
        "  nv = XtY.shape[0]\n",
        "  \n",
        "  # Initial estimates\n",
        "  # ------------------------------------------------------------------------------\n",
        "\n",
        "  # Inital beta\n",
        "  beta = initBeta_broadcasted(XtX, XtY)\n",
        "  \n",
        "  # Work out e'e, X'e and Z'e\n",
        "  Xte = XtY - (XtX @ beta)\n",
        "  Zte = ZtY - (ZtX @ beta)\n",
        "  ete = ssr_broadcasted(YtX, YtY, XtX, beta)\n",
        "  \n",
        "  # Initial sigma2\n",
        "  sigma2 = initSigma2_broadcasted(ete, n)\n",
        "\n",
        "  Zte = ZtY - (ZtX @ beta) \n",
        "  \n",
        "  # Inital D\n",
        "  # Dictionary version\n",
        "  Ddict = dict()\n",
        "  for k in np.arange(len(nparams)):\n",
        "\n",
        "    Ddict[k] = makeDnnd_broadcasted(initDk_broadcasted(k, nlevels[k], ZtZ, Zte, sigma2))\n",
        "  \n",
        "  # Full version of D\n",
        "  D = getDfromDict_broadcasted(Ddict, nparams, nlevels)\n",
        "  \n",
        "  # Duplication matrices\n",
        "  # ------------------------------------------------------------------------------\n",
        "  invDupMatdict = dict()\n",
        "  for i in np.arange(len(nparams)):\n",
        "\n",
        "    invDupMatdict[i] = np.asarray(invDupMat(nparams[i]).todense())\n",
        "  \n",
        "  # Index variables\n",
        "  # ------------------------------------------------------------------------------\n",
        "  # Work out the total number of paramateres\n",
        "  tnp = np.int32(p + 1 + np.sum(nparams*(nparams+1)/2))\n",
        "\n",
        "  # Indices for submatrics corresponding to Dks\n",
        "  FishIndsDk = np.int32(np.cumsum(nparams*(nparams+1)/2) + p + 1)\n",
        "  FishIndsDk = np.insert(FishIndsDk,0,p+1)\n",
        "\n",
        "  Zte = ZtY - (ZtX @ beta)\n",
        "  \n",
        "  # Inverse of (I+Z'ZD) multiplied by D\n",
        "  IplusZtZD = np.eye(q) + ZtZ @ D\n",
        "  DinvIplusZtZD =  forceSym_broadcasted(D @ np.linalg.inv(IplusZtZD)) \n",
        "  \n",
        "  # Step size lambda\n",
        "  lam = np.ones(nv)\n",
        "\n",
        "  # Initial log likelihoods\n",
        "  llhprev = -10*np.ones(XtY.shape[0])\n",
        "  llhcurr = 10*np.ones(XtY.shape[0])\n",
        "  \n",
        "  # Vector checking if all voxels converged\n",
        "  converged_global = np.zeros(nv)\n",
        "  \n",
        "  # Vector of saved parameters which have converged\n",
        "  savedparams = np.zeros((nv, np.int32(np.sum(nparams*(nparams+1)/2) + p + 1),1))\n",
        "  \n",
        "  t2 = time.time()\n",
        "  print('Setup time: ', t2-t1)\n",
        "  \n",
        "  nit=0\n",
        "  while np.any(np.abs(llhprev-llhcurr)>tol):\n",
        "    \n",
        "    t1 = time.time()\n",
        "    # Change current likelihood to previous\n",
        "    llhprev = llhcurr\n",
        "    \n",
        "    # Work out how many voxels are left\n",
        "    nv_iter = XtY.shape[0]\n",
        "    \n",
        "    # Derivatives\n",
        "    # ----------------------------------------------------------------------------\n",
        "\n",
        "    # Derivative wrt beta\n",
        "    dldB = get_dldB_broadcasted(sigma2, Xte, XtZ, DinvIplusZtZD, Zte)  \n",
        "    \n",
        "    # Derivative wrt sigma^2\n",
        "    dldsigma2 = get_dldsigma2_broadcasted(n, ete, Zte, sigma2, DinvIplusZtZD)\n",
        "    \n",
        "    # For each factor, factor k, work out dl/dD_k\n",
        "    dldDdict = dict()\n",
        "    for k in np.arange(len(nparams)):\n",
        "      # Store it in the dictionary\n",
        "      dldDdict[k] = get_dldDk_broadcasted(k, nlevels, nparams, ZtZ, Zte, sigma2, DinvIplusZtZD)\n",
        "    \n",
        "    # Covariances\n",
        "    # ----------------------------------------------------------------------------\n",
        "\n",
        "    # Construct the Fisher Information matrix\n",
        "    # ----------------------------------------------------------------------------\n",
        "    FisherInfoMat = np.zeros((nv_iter,tnp,tnp))\n",
        "    \n",
        "    # Covariance of dl/dsigma2\n",
        "    covdldsigma2 = n/(2*(sigma2**2))\n",
        "    \n",
        "    # Add dl/dsigma2 covariance\n",
        "    FisherInfoMat[:,p,p] = covdldsigma2\n",
        "    \n",
        "    # Add dl/dbeta covariance\n",
        "    covdldB = get_covdldbeta_broadcasted(XtZ, XtX, ZtZ, DinvIplusZtZD, sigma2)\n",
        "    FisherInfoMat[np.ix_(np.arange(nv_iter), np.arange(p),np.arange(p))] = covdldB\n",
        "    \n",
        "    # Add dl/dsigma2 dl/dD covariance\n",
        "    for k in np.arange(len(nparams)):\n",
        "\n",
        "      # Get covariance of dldsigma and dldD      \n",
        "      covdldsigmadD = get_covdldDkdsigma2_broadcasted(k, sigma2, nlevels, nparams, ZtZ, DinvIplusZtZD, invDupMatdict).reshape(nv_iter,FishIndsDk[k+1]-FishIndsDk[k])\n",
        "      \n",
        "      # Assign to the relevant block\n",
        "      FisherInfoMat[:,p, FishIndsDk[k]:FishIndsDk[k+1]] = covdldsigmadD\n",
        "      FisherInfoMat[:,FishIndsDk[k]:FishIndsDk[k+1],p:(p+1)] = FisherInfoMat[:,p:(p+1), FishIndsDk[k]:FishIndsDk[k+1]].transpose((0,2,1))\n",
        "      \n",
        "    # Add dl/dD covariance\n",
        "    for k1 in np.arange(len(nparams)):\n",
        "\n",
        "      for k2 in np.arange(k1+1):\n",
        "\n",
        "        IndsDk1 = np.arange(FishIndsDk[k1],FishIndsDk[k1+1])\n",
        "        IndsDk2 = np.arange(FishIndsDk[k2],FishIndsDk[k2+1])\n",
        "\n",
        "        # Get covariance between D_k1 and D_k2 \n",
        "        covdldDk1dDk2 = get_covdldDk1Dk2_broadcasted(k1, k2, nlevels, nparams, ZtZ, DinvIplusZtZD, invDupMatdict)\n",
        "        \n",
        "        # Add to FImat\n",
        "        FisherInfoMat[np.ix_(np.arange(nv_iter), IndsDk1, IndsDk2)] = covdldDk1dDk2\n",
        "        FisherInfoMat[np.ix_(np.arange(nv_iter), IndsDk2, IndsDk1)] = FisherInfoMat[np.ix_(np.arange(nv_iter), IndsDk1, IndsDk2)].transpose((0,2,1))\n",
        "           \n",
        "    # Derivative and parameters\n",
        "    # ----------------------------------------------------------------------------\n",
        "\n",
        "    # Concatenate paramaters and derivatives together\n",
        "    # ----------------------------------------------------------------------------\n",
        "    paramVector = np.concatenate((beta, sigma2.reshape(nv_iter,1,1)),axis=1)\n",
        "    derivVector = np.concatenate((dldB, dldsigma2.reshape(nv_iter,1,1)),axis=1)\n",
        "\n",
        "    for k in np.arange(len(nparams)):\n",
        "\n",
        "      paramVector = np.concatenate((paramVector, mat2vech_broadcasted(Ddict[k])),axis=1)\n",
        "      derivVector = np.concatenate((derivVector, mat2vech_broadcasted(dldDdict[k])),axis=1)\n",
        "    \n",
        "    \n",
        "    # Update step\n",
        "    # ----------------------------------------------------------------------------\n",
        "    FisherInfoMat = forceSym_broadcasted(FisherInfoMat)\n",
        "    \n",
        "    paramVector = paramVector + np.einsum('i,ijk->ijk',lam,(np.linalg.inv(FisherInfoMat) @ derivVector))\n",
        "    \n",
        "    # Get the new parameters\n",
        "    beta = paramVector[:,0:p,:]\n",
        "    sigma2 = paramVector[:,p:(p+1)][:,0,0]\n",
        "    \n",
        "    # D as a dictionary\n",
        "    for k in np.arange(len(nparams)):\n",
        "\n",
        "      Ddict[k] = makeDnnd_broadcasted(vech2mat_broadcasted(paramVector[:,FishIndsDk[k]:FishIndsDk[k+1],:]))\n",
        "      \n",
        "    # Full version of D\n",
        "    D = getDfromDict_broadcasted(Ddict, nparams, nlevels)\n",
        "    \n",
        "    # Sum of squared residuals\n",
        "    ete = ssr_broadcasted(YtX, YtY, XtX, beta)\n",
        "    Zte = ZtY - (ZtX @ beta)\n",
        "    \n",
        "    # Inverse of (I+Z'ZD) multiplied by D\n",
        "    IplusZtZD = np.eye(q) + (ZtZ @ D)\n",
        "    DinvIplusZtZD = forceSym_broadcasted(D @ np.linalg.inv(IplusZtZD)) \n",
        "    \n",
        "    # Update the step size\n",
        "    llhcurr = llh_broadcasted(n, ZtZ, Zte, ete, sigma2, DinvIplusZtZD,D)\n",
        "    lam[llhprev>llhcurr] = lam[llhprev>llhcurr]/2\n",
        "        \n",
        "    # Work out which voxels converged\n",
        "    indices_ConAfterIt, indices_notConAfterIt, indices_ConDuringIt, localconverged, localnotconverged = getConvergedIndices(converged_global, (np.abs(llhprev-llhcurr)<tol))\n",
        "    converged_global[indices_ConDuringIt] = 1\n",
        "\n",
        "    # Save parameters from this run\n",
        "    savedparams[indices_ConDuringIt,:,:]=paramVector[localconverged,:,:]\n",
        "\n",
        "    # Update matrices\n",
        "    XtY = XtY[localnotconverged, :, :]\n",
        "    YtX = YtX[localnotconverged, :, :]\n",
        "    YtY = YtY[localnotconverged, :, :]\n",
        "    ZtY = ZtY[localnotconverged, :, :]\n",
        "    YtZ = YtZ[localnotconverged, :, :]\n",
        "    ete = ete[localnotconverged, :, :]\n",
        "    DinvIplusZtZD = DinvIplusZtZD[localnotconverged, :, :]\n",
        "\n",
        "    lam = lam[localnotconverged]\n",
        "    llhprev = llhprev[localnotconverged]\n",
        "    llhcurr = llhcurr[localnotconverged]\n",
        "\n",
        "    beta = beta[localnotconverged, :, :]\n",
        "    sigma2 = sigma2[localnotconverged]\n",
        "    D = D[localnotconverged, :, :]\n",
        "\n",
        "    for k in np.arange(len(nparams)):\n",
        "      Ddict[k] = Ddict[k][localnotconverged, :, :]\n",
        "      \n",
        "    # Matrices needed later by many calculations:\n",
        "    # ----------------------------------------------------------------------------\n",
        "    # X transpose e and Z transpose e\n",
        "    Xte = XtY - (XtX @ beta)\n",
        "    Zte = ZtY - (ZtX @ beta)\n",
        "    \n",
        "    t2 = time.time()\n",
        "    nit = nit + 1\n",
        "    print('Iteration num: ', nit)\n",
        "    print('Iteration time: ', t2-t1)\n",
        "    print('Num converged:', nv-nv_iter)\n",
        "  \n",
        "  print('Total time taken: ', time.time()-t1_total)\n",
        "  print('Estimated NIFTI time (hours): ', 100*100*100/(nv*60*60)*(time.time()-t1_total))\n",
        "  \n",
        "  return(savedparams)\n",
        "\n",
        "t1 = time.time()\n",
        "paramVec = FS_broadcasted(XtX, XtY, ZtX, ZtY, ZtZ, XtZ, YtZ, YtY, YtX, nlevels, nparams, 1e-6,n)\n",
        "t2 = time.time()\n",
        "print(t2-t1)\n",
        "\n",
        "print(\"Predicted time on nifti of size 100x100x100 (in hours): \", 100*100*100*(t2-t1)/(nv*60*60))\n",
        "\n"
      ],
      "execution_count": 0,
      "outputs": []
    },
    {
      "cell_type": "code",
      "metadata": {
        "id": "46rxdKv7GXqg",
        "colab_type": "code",
        "colab": {}
      },
      "source": [
        "import sys\n",
        "import numpy\n",
        "numpy.set_printoptions(threshold=sys.maxsize)\n",
        "print(paramVec[1:10,:,:])"
      ],
      "execution_count": 0,
      "outputs": []
    },
    {
      "cell_type": "code",
      "metadata": {
        "id": "axQkNrbiKtLw",
        "colab_type": "code",
        "colab": {}
      },
      "source": [
        "beta_est_map=beta_True.reshape(dimv[0],dimv[1],dimv[2],beta.shape[1])\n",
        "\n",
        "\n",
        "# Show true beta, 3rd x-slice, 3rd parameter\n",
        "imshow(beta_est_map[3,:,:,3].reshape(dimv[0],dimv[1]), \\\n",
        "                    interpolation='nearest', aspect='auto')\n",
        "plt.colorbar()"
      ],
      "execution_count": 0,
      "outputs": []
    },
    {
      "cell_type": "code",
      "metadata": {
        "id": "Gmn9Qm8XTshL",
        "colab_type": "code",
        "colab": {}
      },
      "source": [
        "print(paramVec.shape)\n",
        "beta_est_map=paramVec[:,0:p,:].reshape(dimv[0],dimv[1],dimv[2],beta.shape[1])\n",
        "\n",
        "\n",
        "# Show true beta, 3rd x-slice, 3rd parameter\n",
        "imshow(beta_est_map[3,:,:,3].reshape(dimv[0],dimv[1]), \\\n",
        "                    interpolation='nearest', aspect='auto')\n",
        "plt.colorbar()"
      ],
      "execution_count": 0,
      "outputs": []
    },
    {
      "cell_type": "code",
      "metadata": {
        "id": "aYYN5DWIVtMb",
        "colab_type": "code",
        "colab": {}
      },
      "source": [
        "beta_est_map=paramVec[:,0:p,:].reshape(dimv[0],dimv[1],dimv[2],beta.shape[1])\n",
        "beta_True_map=beta_True.reshape(dimv[0],dimv[1],dimv[2],beta.shape[1])\n",
        "\n",
        "\n",
        "# Show true beta, 3rd x-slice, 3rd parameter\n",
        "imshow((beta_est_map[3,:,:,3]-beta_True_map[3,:,:,3]).reshape(dimv[0],dimv[1]), \\\n",
        "                    interpolation='nearest', aspect='auto')\n",
        "plt.colorbar()"
      ],
      "execution_count": 0,
      "outputs": []
    },
    {
      "cell_type": "markdown",
      "metadata": {
        "id": "CDcjZDH8ljV4",
        "colab_type": "text"
      },
      "source": [
        "\n",
        "\n"
      ]
    },
    {
      "cell_type": "code",
      "metadata": {
        "id": "OazkyPfPGOOB",
        "colab_type": "code",
        "colab": {}
      },
      "source": [
        "print(nparams)\n",
        "print(nlevels)"
      ],
      "execution_count": 0,
      "outputs": []
    },
    {
      "cell_type": "code",
      "metadata": {
        "id": "Y_yKRnnyMVg0",
        "colab_type": "code",
        "colab": {}
      },
      "source": [
        "print(b.shape)\n",
        "\n",
        "\n",
        "FishIndsDk = np.int32(np.cumsum(nparams*(nparams+1)/2) + p + 1)\n",
        "FishIndsDk = np.insert(FishIndsDk,0,p+1)\n",
        "\n",
        "# Get the parameters\n",
        "beta = paramVec[:,0:p,:]\n",
        "sigma2 = paramVec[:,p:(p+1)][:,0,0]\n",
        "\n",
        "# D as a dictionary\n",
        "for k in np.arange(len(nparams)):\n",
        "\n",
        "  Ddict[k] = makeDnnd_broadcasted(vech2mat_broadcasted(paramVec[:,FishIndsDk[k]:FishIndsDk[k+1],:]))\n",
        "\n",
        "\n",
        "  \n",
        "# Full version of D\n",
        "D = getDfromDict_broadcasted(Ddict, nparams, nlevels)\n",
        "\n",
        "DinvIplusZtZD = D @ np.linalg.inv(np.eye(q) + ZtZ @ D)\n",
        "\n",
        "Zte = ZtY - ZtX @ beta\n",
        "\n",
        "    \n",
        "b_est = (DinvIplusZtZD @ Zte).reshape(dimv[0],dimv[1],dimv[2],q)\n",
        "b_true = b.reshape(dimv[0],dimv[1],dimv[2],q)\n",
        "\n",
        "print(b_est.shape)\n",
        "# Show smoothed\n",
        "imshow(b_true[3,:,:,1].reshape(dimv[0],dimv[1]), \\\n",
        "                    interpolation='nearest', aspect='auto')"
      ],
      "execution_count": 0,
      "outputs": []
    },
    {
      "cell_type": "code",
      "metadata": {
        "id": "iGqvHaXgMYKH",
        "colab_type": "code",
        "colab": {}
      },
      "source": [
        "\n",
        "imshow(b_est[3,:,:,1].reshape(dimv[0],dimv[1]), \\\n",
        "                    interpolation='nearest', aspect='auto')\n",
        "plt.colorbar()"
      ],
      "execution_count": 0,
      "outputs": []
    },
    {
      "cell_type": "code",
      "metadata": {
        "id": "2alocsRqTTaB",
        "colab_type": "code",
        "colab": {}
      },
      "source": [
        "# Show difference\n",
        "display = 3\n",
        "imshow(b_true[display,:,:,1]-b_est[display,:,:,1].reshape(dimv[0],dimv[1]), \\\n",
        "                    interpolation='nearest', aspect='auto')\n",
        "plt.colorbar()\n",
        "\n",
        "\n",
        "print(np.max(np.max(b_true)))\n",
        "print(np.mean(np.mean(np.abs(b_true-b_est))))"
      ],
      "execution_count": 0,
      "outputs": []
    },
    {
      "cell_type": "markdown",
      "metadata": {
        "id": "xYDe1behpdwK",
        "colab_type": "text"
      },
      "source": [
        "## Simplified Fisher Scoring (SFS)"
      ]
    },
    {
      "cell_type": "code",
      "metadata": {
        "id": "SlKWxMdsE514",
        "colab_type": "code",
        "colab": {}
      },
      "source": [
        "def get_mat_covdlDk(k, nlevels, nparams, ZtZ, DinvIplusZtZD, invDupMatdict):\n",
        "  \n",
        "  # Sum of R_k kron R_(k1, k2, i, j) over i and j \n",
        "  for i in np.arange(nlevels[k]):\n",
        "\n",
        "    # Get the indices for the kth factor jth level\n",
        "    Iki = faclev_indices(k, i, nlevels, nparams)\n",
        "\n",
        "    # Work out R_k\n",
        "    Rki = ZtZ[np.ix_(np.arange(ZtZ.shape[0]),Iki,Iki)] - (ZtZ[:,Iki,:] @ DinvIplusZtZD @ ZtZ[:,:,Iki])\n",
        "\n",
        "    # Work out Rk kron Rk\n",
        "    RkRt = kron_broadcasted(Rki,Rki)\n",
        "\n",
        "    # Add together\n",
        "    if i == 0:\n",
        "\n",
        "      RkRtSum = RkRt\n",
        "\n",
        "    else:\n",
        "\n",
        "      RkRtSum = RkRtSum + RkRt\n",
        "\n",
        "  \n",
        "  # Return the result\n",
        "  return(forceSym_broadcasted(RkRtSum))"
      ],
      "execution_count": 0,
      "outputs": []
    },
    {
      "cell_type": "markdown",
      "metadata": {
        "id": "sDE_uU7vGV61",
        "colab_type": "text"
      },
      "source": [
        ""
      ]
    },
    {
      "cell_type": "code",
      "metadata": {
        "id": "AJnNypqYGWdO",
        "colab_type": "code",
        "colab": {}
      },
      "source": [
        "def get_vec_2dlDk(k, nlevels, nparams, sigma2, ZtZ, Zte, DinvIplusZtZD):\n",
        "      \n",
        "  # Convert it to vector\n",
        "  vecOfInterest = 2*mat2vec_broadcasted(get_dldDk_broadcasted(k, nlevels, nparams, ZtZ, Zte, sigma2, DinvIplusZtZD))\n",
        "  \n",
        "  # Return it\n",
        "  return(vecOfInterest)"
      ],
      "execution_count": 0,
      "outputs": []
    },
    {
      "cell_type": "code",
      "metadata": {
        "id": "UghzJd2kEs5n",
        "colab_type": "code",
        "colab": {}
      },
      "source": [
        "def FS_simplified_broadcasted(XtX, XtY, ZtX, ZtY, ZtZ, XtZ, YtZ, YtY, YtX, nlevels, nparams, tol,n):\n",
        "  \n",
        "  t1_total = time.time()\n",
        "  t1 = time.time()\n",
        "  \n",
        "  # Useful scalars\n",
        "  # ------------------------------------------------------------------------------\n",
        "\n",
        "  # Number of factors, r\n",
        "  r = len(nlevels)\n",
        "\n",
        "  # Number of random effects, q\n",
        "  q = np.sum(np.dot(nparams,nlevels))\n",
        "\n",
        "  # Number of fixed effects, p\n",
        "  p = XtX.shape[1]\n",
        "\n",
        "  # Number of voxels, nv\n",
        "  nv = XtY.shape[0]\n",
        "  \n",
        "  # Initial estimates\n",
        "  # ------------------------------------------------------------------------------\n",
        "\n",
        "  # Inital beta\n",
        "  beta = initBeta_broadcasted(XtX, XtY)\n",
        "  \n",
        "  # Work out e'e, X'e and Z'e\n",
        "  Xte = XtY - (XtX @ beta)\n",
        "  Zte = ZtY - (ZtX @ beta)\n",
        "  ete = ssr_broadcasted(YtX, YtY, XtX, beta)\n",
        "  \n",
        "  # Initial sigma2\n",
        "  sigma2 = initSigma2_broadcasted(ete, n)\n",
        "\n",
        "  Zte = ZtY - (ZtX @ beta) \n",
        "  \n",
        "  # Inital D\n",
        "  # Dictionary version\n",
        "  Ddict = dict()\n",
        "  for k in np.arange(len(nparams)):\n",
        "\n",
        "    Ddict[k] = makeDnnd_broadcasted(initDk_broadcasted(k, nlevels[k], ZtZ, Zte, sigma2))\n",
        "  \n",
        "  # Full version of D\n",
        "  D = getDfromDict_broadcasted(Ddict, nparams, nlevels)\n",
        "  \n",
        "  # Duplication matrices\n",
        "  # ------------------------------------------------------------------------------\n",
        "  invDupMatdict = dict()\n",
        "  dupInvDupMatdict = dict()\n",
        "  dupDuptMatdict = dict()\n",
        "  for i in np.arange(len(nparams)):\n",
        "\n",
        "    invDupMatdict[i] = np.asarray(invDupMat(nparams[i]).todense())\n",
        "    dupInvDupMatdict[i] = np.asarray(dupMat(nparams[i]).todense()) @ invDupMatdict[i]\n",
        "    dupDuptMatdict[i] = np.asarray(dupMat(nparams[i]).todense()) @ np.asarray(dupMat(nparams[i]).todense()).transpose()\n",
        "  \n",
        "  # Index variables\n",
        "  # ------------------------------------------------------------------------------\n",
        "  # Work out the total number of paramateres\n",
        "  tnp = np.int32(p + 1 + np.sum(nparams*(nparams+1)/2))\n",
        "\n",
        "  # Indices for submatrics corresponding to Dks\n",
        "  FishIndsDk = np.int32(np.cumsum(nparams*(nparams+1)/2) + p + 1)\n",
        "  FishIndsDk = np.insert(FishIndsDk,0,p+1)\n",
        "\n",
        "  Zte = ZtY - (ZtX @ beta)\n",
        "  \n",
        "  # Inverse of (I+Z'ZD) multiplied by D\n",
        "  IplusZtZD = np.eye(q) + ZtZ @ D\n",
        "  DinvIplusZtZD =  forceSym_broadcasted(D @ np.linalg.inv(IplusZtZD)) \n",
        "  \n",
        "  # Step size lambda\n",
        "  lam = np.ones(nv)\n",
        "\n",
        "  # Initial log likelihoods\n",
        "  llhprev = -10*np.ones(XtY.shape[0])\n",
        "  llhcurr = 10*np.ones(XtY.shape[0])\n",
        "  \n",
        "  # Vector checking if all voxels converged\n",
        "  converged_global = np.zeros(nv)\n",
        "  \n",
        "  # Vector of saved parameters which have converged\n",
        "  savedparams = np.zeros((nv, np.int32(np.sum(nparams*(nparams+1)/2) + p + 1),1))\n",
        "  \n",
        "  \n",
        "  # Work out D indices (there is one block of D per level)\n",
        "  Dinds = np.zeros(np.sum(nlevels)+1)\n",
        "  counter = 0\n",
        "  for k in np.arange(len(nparams)):\n",
        "    for j in np.arange(nlevels[k]):\n",
        "      Dinds[counter] = np.concatenate((np.array([0]), np.cumsum(nlevels*nparams)))[k] + nparams[k]*j\n",
        "      counter = counter + 1\n",
        "      \n",
        "  # Last index will be missing so add it\n",
        "  Dinds[len(Dinds)-1]=Dinds[len(Dinds)-2]+nparams[-1]\n",
        "  \n",
        "  # Make sure indices are ints\n",
        "  Dinds = np.int64(Dinds)\n",
        "  \n",
        "  t2 = time.time()\n",
        "  print('Setup time: ', t2-t1)\n",
        "  \n",
        "  nit=0\n",
        "  while np.any(np.abs(llhprev-llhcurr)>tol):\n",
        "    \n",
        "    t1 = time.time()\n",
        "    # Change current likelihood to previous\n",
        "    llhprev = llhcurr\n",
        "    \n",
        "    # Work out how many voxels are left\n",
        "    nv_iter = XtY.shape[0]\n",
        "    \n",
        "    \n",
        "    #---------------------------------------------------------------------------\n",
        "    # Update beta\n",
        "    beta = np.linalg.solve(XtX - XtZ @ DinvIplusZtZD @ ZtX, XtY - XtZ @ DinvIplusZtZD @ ZtY)\n",
        "    \n",
        "    # Update sigma^2\n",
        "    ete = ssr_broadcasted(YtX, YtY, XtX, beta)\n",
        "    Zte = ZtY - (ZtX @ beta)\n",
        "    sigma2 = 1/n*(ete - Zte.transpose((0,2,1)) @ DinvIplusZtZD @ Zte).reshape(nv_iter)\n",
        "    \n",
        "    # Update D_k\n",
        "    counter = 0\n",
        "    for k in np.arange(len(nparams)):\n",
        "      \n",
        "      # Work out update amount\n",
        "      #update_k = forceSym_broadcasted(dupDuptMatdict[k] @ np.linalg.inv(get_mat_covdlDk(k, nlevels, nparams, ZtZ, DinvIplusZtZD, invDupMatdict))) @ dupInvDupMatdict[k] @ get_vec_2dlDk(k, nlevels, nparams, sigma2, ZtZ, Zte, DinvIplusZtZD)\n",
        "      \n",
        "      #print(forceSym_broadcasted(np.linalg.inv(get_covdldDk1Dk2_broadcasted(k, k, nlevels, nparams, ZtZ, DinvIplusZtZD, invDupMatdict))).shape)\n",
        "      #print(mat2vech_broadcasted(get_dldDk_broadcasted(k, nlevels, nparams, ZtZ, Zte, sigma2, DinvIplusZtZD)).shape)\n",
        "      #update_k2 = forceSym_broadcasted(np.linalg.inv(get_covdldDk1Dk2_broadcasted(k, k, nlevels, nparams, ZtZ, DinvIplusZtZD, invDupMatdict))) @ mat2vech_broadcasted(get_dldDk_broadcasted(k, nlevels, nparams, ZtZ, Zte, sigma2, DinvIplusZtZD))\n",
        "      #update_k2 = mat2vec_broadcasted(vech2mat_broadcasted(update_k2))\n",
        "      \n",
        "      #print('1==2',update_k[1,:,:]-update_k2[1,:,:])\n",
        "      \n",
        "      \n",
        "      update_k3 = forceSym_broadcasted(np.linalg.inv(get_mat_covdlDk(k, nlevels, nparams, ZtZ, DinvIplusZtZD, invDupMatdict))) @ get_vec_2dlDk(k, nlevels, nparams, sigma2, ZtZ, Zte, DinvIplusZtZD)\n",
        "      \n",
        "      #print('3==2',update_k3[1,:,:]-update_k2[1,:,:])\n",
        "      \n",
        "      # Multiply by stepsize\n",
        "      update_k3 = np.einsum('i,ijk->ijk',lam, update_k3)\n",
        "      \n",
        "      # Update D_k\n",
        "      Ddict[k] = makeDnnd_broadcasted(vec2mat_broadcasted(mat2vec_broadcasted(Ddict[k]) + update_k3))\n",
        "      \n",
        "      # Add D_k back into D and recompute DinvIplusZtZD\n",
        "      for j in np.arange(nlevels[k]):\n",
        "\n",
        "        D[:, Dinds[counter]:Dinds[counter+1], Dinds[counter]:Dinds[counter+1]] = Ddict[k]\n",
        "        counter = counter + 1\n",
        "      \n",
        "      #D = getDfromDict_broadcasted(Ddict,nparams,nlevels)\n",
        "      \n",
        "      # Inverse of (I+Z'ZD) multiplied by D\n",
        "      IplusZtZD = np.eye(q) + (ZtZ @ D)\n",
        "      DinvIplusZtZD = forceSym_broadcasted(D @ np.linalg.inv(IplusZtZD)) \n",
        "    \n",
        "    # Update the step size\n",
        "    llhcurr = llh_broadcasted(n, ZtZ, Zte, ete, sigma2, DinvIplusZtZD,D)\n",
        "    lam[llhprev>llhcurr] = lam[llhprev>llhcurr]/2\n",
        "    \n",
        "    # Work out which voxels converged\n",
        "    indices_ConAfterIt, indices_notConAfterIt, indices_ConDuringIt, localconverged, localnotconverged = getConvergedIndices(converged_global, (np.abs(llhprev-llhcurr)<tol))\n",
        "    converged_global[indices_ConDuringIt] = 1\n",
        "\n",
        "    # Save parameters from this run\n",
        "    savedparams[indices_ConDuringIt,0:p,:]=beta[localconverged,:,:]\n",
        "    savedparams[indices_ConDuringIt,p:(p+1),:]=sigma2[localconverged].reshape(sigma2[localconverged].shape[0],1,1)\n",
        "    \n",
        "    for k in np.arange(len(nparams)):\n",
        "      \n",
        "      # Get vech form of D_k\n",
        "      vech_Dk = mat2vech_broadcasted(Ddict[k][localconverged,:,:])\n",
        "      \n",
        "      # Make sure it has correct shape (i.e. shape (num voxels converged, num params for factor k squared, 1))\n",
        "      vech_Dk = vech_Dk.reshape(len(localconverged),nparams[k]*(nparams[k]+1)//2,1)\n",
        "      savedparams[indices_ConDuringIt,FishIndsDk[k]:FishIndsDk[k+1],:]=vech_Dk\n",
        "      \n",
        "    # Update matrices\n",
        "    XtY = XtY[localnotconverged, :, :]\n",
        "    YtX = YtX[localnotconverged, :, :]\n",
        "    YtY = YtY[localnotconverged, :, :]\n",
        "    ZtY = ZtY[localnotconverged, :, :]\n",
        "    YtZ = YtZ[localnotconverged, :, :]\n",
        "    ete = ete[localnotconverged, :, :]\n",
        "    DinvIplusZtZD = DinvIplusZtZD[localnotconverged, :, :]\n",
        "\n",
        "    lam = lam[localnotconverged]\n",
        "    llhprev = llhprev[localnotconverged]\n",
        "    llhcurr = llhcurr[localnotconverged]\n",
        "\n",
        "    beta = beta[localnotconverged, :, :]\n",
        "    sigma2 = sigma2[localnotconverged]\n",
        "    D = D[localnotconverged, :, :]\n",
        "\n",
        "    for k in np.arange(len(nparams)):\n",
        "      Ddict[k] = Ddict[k][localnotconverged, :, :]\n",
        "      \n",
        "    # Matrices needed later by many calculations:\n",
        "    # ----------------------------------------------------------------------------\n",
        "    # X transpose e and Z transpose e\n",
        "    Xte = XtY - (XtX @ beta)\n",
        "    Zte = ZtY - (ZtX @ beta)\n",
        "    \n",
        "    t2 = time.time()\n",
        "    nit = nit + 1\n",
        "    print('Iteration num: ', nit)\n",
        "    print('Iteration time: ', t2-t1)\n",
        "    print('Num converged:', nv-nv_iter)\n",
        "    \n",
        "  print('Total time taken: ', time.time()-t1_total)\n",
        "  print('Estimated NIFTI time (hours): ', 100*100*100/(nv*60*60)*(time.time()-t1_total))\n",
        "  \n",
        "  return(savedparams)\n",
        "\n",
        "t1 = time.time()\n",
        "paramVec = FS_simplified_broadcasted(XtX, XtY, ZtX, ZtY, ZtZ, XtZ, YtZ, YtY, YtX, nlevels, nparams, 1e-6,n)\n",
        "t2 = time.time()\n",
        "print(t2-t1)\n",
        "\n",
        "print(\"Predicted time on nifti of size 100x100x100 (in hours): \", 100*100*100*(t2-t1)/(nv*60*60))\n",
        "\n"
      ],
      "execution_count": 0,
      "outputs": []
    },
    {
      "cell_type": "code",
      "metadata": {
        "id": "uPnOOTd260ug",
        "colab_type": "code",
        "colab": {}
      },
      "source": [
        "print(nparams)\n",
        "print(nlevels)"
      ],
      "execution_count": 0,
      "outputs": []
    },
    {
      "cell_type": "code",
      "metadata": {
        "id": "FBXw9fiNGRKO",
        "colab_type": "code",
        "colab": {}
      },
      "source": [
        "beta_True_map=beta_True.reshape(dimv[0],dimv[1],dimv[2],beta.shape[1])\n",
        "\n",
        "\n",
        "# Show true beta, 3rd x-slice, 3rd parameter\n",
        "imshow(beta_True_map[3,:,:,3].reshape(dimv[0],dimv[1]), \\\n",
        "                    interpolation='nearest', aspect='auto')\n",
        "plt.colorbar()"
      ],
      "execution_count": 0,
      "outputs": []
    },
    {
      "cell_type": "code",
      "metadata": {
        "id": "E_RlaIJ96f-V",
        "colab_type": "code",
        "colab": {}
      },
      "source": [
        "beta_est_map=paramVec[:,0:p,:].reshape(dimv[0],dimv[1],dimv[2],beta.shape[1])\n",
        "\n",
        "\n",
        "# Show true beta, 3rd x-slice, 3rd parameter\n",
        "imshow(beta_est_map[3,:,:,3].reshape(dimv[0],dimv[1]), \\\n",
        "                    interpolation='nearest', aspect='auto')\n",
        "plt.colorbar()"
      ],
      "execution_count": 0,
      "outputs": []
    },
    {
      "cell_type": "code",
      "metadata": {
        "id": "CtCzKnhHOxEg",
        "colab_type": "code",
        "colab": {}
      },
      "source": [
        "beta_est_map=paramVec[:,0:p,:].reshape(dimv[0],dimv[1],dimv[2],beta.shape[1])\n",
        "beta_True_map=beta_True.reshape(dimv[0],dimv[1],dimv[2],beta.shape[1])\n",
        "\n",
        "\n",
        "# Show true beta, 3rd x-slice, 3rd parameter\n",
        "imshow((beta_est_map[3,:,:,3]-beta_True_map[3,:,:,3]).reshape(dimv[0],dimv[1]), \\\n",
        "                    interpolation='nearest', aspect='auto')\n",
        "plt.colorbar()"
      ],
      "execution_count": 0,
      "outputs": []
    },
    {
      "cell_type": "code",
      "metadata": {
        "id": "MHYoRB4lQi9n",
        "colab_type": "code",
        "colab": {}
      },
      "source": [
        "import sys\n",
        "import numpy\n",
        "numpy.set_printoptions(threshold=sys.maxsize)\n",
        "print(paramVec[1:10,:,:])"
      ],
      "execution_count": 0,
      "outputs": []
    },
    {
      "cell_type": "code",
      "metadata": {
        "id": "gTG3UWyQQlyx",
        "colab_type": "code",
        "colab": {}
      },
      "source": [
        "print(p)"
      ],
      "execution_count": 0,
      "outputs": []
    },
    {
      "cell_type": "code",
      "metadata": {
        "id": "ITaM4phXEGY3",
        "colab_type": "code",
        "colab": {}
      },
      "source": [
        "print(b.shape)\n",
        "\n",
        "\n",
        "FishIndsDk = np.int32(np.cumsum(nparams*(nparams+1)/2) + p + 1)\n",
        "FishIndsDk = np.insert(FishIndsDk,0,p+1)\n",
        "\n",
        "# Get the parameters\n",
        "beta = paramVec[:,0:p,:]\n",
        "sigma2 = paramVec[:,p:(p+1)][:,0,0]\n",
        "\n",
        "# D as a dictionary\n",
        "for k in np.arange(len(nparams)):\n",
        "\n",
        "  Ddict[k] = makeDnnd_broadcasted(vech2mat_broadcasted(paramVec[:,FishIndsDk[k]:FishIndsDk[k+1],:]))\n",
        "\n",
        "\n",
        "  \n",
        "# Full version of D\n",
        "D = getDfromDict_broadcasted(Ddict, nparams, nlevels)\n",
        "\n",
        "DinvIplusZtZD = D @ np.linalg.inv(np.eye(q) + ZtZ @ D)\n",
        "\n",
        "Zte = ZtY - ZtX @ beta\n",
        "\n",
        "    \n",
        "b_est = (DinvIplusZtZD @ Zte).reshape(dimv[0],dimv[1],dimv[2],q)\n",
        "b_true = b.reshape(dimv[0],dimv[1],dimv[2],q)\n",
        "\n",
        "print(b_est.shape)\n",
        "# Show smoothed\n",
        "imshow(b_true[3,:,:,1].reshape(dimv[0],dimv[1]), \\\n",
        "                    interpolation='nearest', aspect='auto')\n",
        "plt.colorbar()"
      ],
      "execution_count": 0,
      "outputs": []
    },
    {
      "cell_type": "code",
      "metadata": {
        "id": "p85A1R9SEso7",
        "colab_type": "code",
        "colab": {}
      },
      "source": [
        "# Show smoothed\n",
        "imshow(b_est[3,:,:,1].reshape(dimv[0],dimv[1]), \\\n",
        "                    interpolation='nearest', aspect='auto')\n",
        "plt.colorbar()"
      ],
      "execution_count": 0,
      "outputs": []
    },
    {
      "cell_type": "code",
      "metadata": {
        "id": "v4W1dCPgGbqw",
        "colab_type": "code",
        "colab": {}
      },
      "source": [
        "# Show difference\n",
        "display = 3\n",
        "imshow(b_true[display,:,:,1]-b_est[display,:,:,1].reshape(dimv[0],dimv[1]), \\\n",
        "                    interpolation='nearest', aspect='auto')\n",
        "plt.colorbar()"
      ],
      "execution_count": 0,
      "outputs": []
    },
    {
      "cell_type": "code",
      "metadata": {
        "id": "Xx9WSBGjGoYO",
        "colab_type": "code",
        "colab": {}
      },
      "source": [
        "print(nparams)\n",
        "print(nlevels)\n",
        "Ddict_tmp = dict()\n",
        "for i in np.arange(len(nparams)):\n",
        "  \n",
        "  Ddict_tmp[i] = np.random.randn(nv,nparams[i],nparams[i])\n",
        "  \n",
        "# Full version of D\n",
        "D = getDfromDict_broadcasted(Ddict_tmp, nparams, nlevels)\n",
        "\n",
        "t1 = time.time()\n",
        "IplusZtZD = np.eye(D.shape[1]) + ZtZ @ D\n",
        "DinvIplusZtZD = D @ np.linalg.inv(IplusZtZD)\n",
        "t2 = time.time()\n",
        "print(t2-t1)\n",
        "\n",
        "t1 = time.time()\n",
        "IplusDZtZ = np.eye(D.shape[1]) + D @ ZtZ\n",
        "k = np.linalg.solve(IplusDZtZ, D).transpose((0,2,1))\n",
        "t2 = time.time()\n",
        "print(t2-t1)\n",
        "\n",
        "print(DinvIplusZtZD - k)\n",
        "print(k-k.transpose((0,2,1)))"
      ],
      "execution_count": 0,
      "outputs": []
    },
    {
      "cell_type": "code",
      "metadata": {
        "id": "jTtM53crDe1q",
        "colab_type": "code",
        "colab": {}
      },
      "source": [
        "DupinvDupMatdict = dict()\n",
        "for i in np.arange(len(nparams)):\n",
        "\n",
        "  DupinvDupMatdict[i] = np.asarray((dupMat(nparams[i]) @ invDupMat(nparams[i])).todense())"
      ],
      "execution_count": 0,
      "outputs": []
    },
    {
      "cell_type": "code",
      "metadata": {
        "id": "4074rJFzMSFX",
        "colab_type": "code",
        "colab": {}
      },
      "source": [
        "x = np.array([[1,2,3],[1,2,3],[1,2,4]])\n",
        "\n",
        "print(x)\n",
        "print(makeDnnd(x))"
      ],
      "execution_count": 0,
      "outputs": []
    },
    {
      "cell_type": "code",
      "metadata": {
        "id": "cfx8y6ZcQ6uD",
        "colab_type": "code",
        "colab": {}
      },
      "source": [
        "############# TODO\n",
        "\n",
        "def divAndConq(init_theta, current_inds, ZtX, ZtY, XtX, ZtZ, XtY, YtX, YtZ, XtZ, YtY, n, P, I, tinds, rinds, cinds):\n",
        "  \n",
        "  # Number of voxels and dimension of block we are looking at\n",
        "  current_dimv = current_inds.shape\n",
        "  current_nv = np.prod(current_dimv)\n",
        "  \n",
        "  # Current indices as a vector\n",
        "  current_inds_vec = current_inds.reshape(current_nv)\n",
        "  \n",
        "  # Matrices for estimating mean of current block\n",
        "  XtX_current = cvxopt.matrix(XtX[0,:,:])\n",
        "  XtY_current = cvxopt.matrix(np.mean(XtY[current_inds_vec,:,:], axis=0))\n",
        "  XtZ_current = cvxopt.matrix(XtZ[0,:,:])\n",
        "  YtX_current = cvxopt.matrix(np.mean(YtX[current_inds_vec,:,:],axis=0))\n",
        "  YtY_current = cvxopt.matrix(np.mean(YtY[current_inds_vec,:,:],axis=0))\n",
        "  YtZ_current = cvxopt.matrix(np.mean(YtZ[current_inds_vec,:,:],axis=0))\n",
        "  ZtX_current = cvxopt.matrix(ZtX[0,:,:])\n",
        "  ZtY_current = cvxopt.matrix(np.mean(ZtY[current_inds_vec,:,:],axis=0))\n",
        "  ZtZ_current = cvxopt.sparse(cvxopt.matrix(ZtZ[0,:,:]))\n",
        "  \n",
        "  # Get new theta\n",
        "  tmp = minimize(PLS, init_theta, args=(ZtX_current, ZtY_current, XtX_current, ZtZ_current, XtY_current, YtX_current, YtZ_current, XtZ_current, YtY_current, n, P, I, tinds, rinds, cinds), method='L-BFGS-B', tol=1e-6)\n",
        "  new_theta = tmp.x\n",
        "  \n",
        "  #print('nv: ', current_nv)\n",
        "  #print('nit: ', tmp.nit)\n",
        "\n",
        "  \n",
        "  if current_dimv[0]!=1 and current_dimv[1]!=1 and current_dimv[2]!=1:\n",
        "  \n",
        "    # Split into blocks - assuming current inds is a block\n",
        "    current_inds_block1 = current_inds[:(current_dimv[0]//2),:(current_dimv[1]//2),:(current_dimv[2]//2)]\n",
        "    current_inds_block2 = current_inds[(current_dimv[0]//2):,:(current_dimv[1]//2),:(current_dimv[2]//2)]\n",
        "    current_inds_block3 = current_inds[:(current_dimv[0]//2),(current_dimv[1]//2):,:(current_dimv[2]//2)]\n",
        "    current_inds_block4 = current_inds[:(current_dimv[0]//2),:(current_dimv[1]//2),(current_dimv[2]//2):]\n",
        "    current_inds_block5 = current_inds[(current_dimv[0]//2):,(current_dimv[1]//2):,:(current_dimv[2]//2)]\n",
        "    current_inds_block6 = current_inds[(current_dimv[0]//2):,:(current_dimv[1]//2),(current_dimv[2]//2):]\n",
        "    current_inds_block7 = current_inds[:(current_dimv[0]//2),(current_dimv[1]//2):,(current_dimv[2]//2):]\n",
        "    current_inds_block8 = current_inds[(current_dimv[0]//2):,(current_dimv[1]//2):,(current_dimv[2]//2):]\n",
        "  \n",
        "    divAndConq(new_theta, current_inds_block1, ZtX, ZtY, XtX, ZtZ, XtY, YtX, YtZ, XtZ, YtY, n, P, I, tinds, rinds, cinds)\n",
        "    divAndConq(new_theta, current_inds_block2, ZtX, ZtY, XtX, ZtZ, XtY, YtX, YtZ, XtZ, YtY, n, P, I, tinds, rinds, cinds)\n",
        "    divAndConq(new_theta, current_inds_block3, ZtX, ZtY, XtX, ZtZ, XtY, YtX, YtZ, XtZ, YtY, n, P, I, tinds, rinds, cinds)\n",
        "    divAndConq(new_theta, current_inds_block4, ZtX, ZtY, XtX, ZtZ, XtY, YtX, YtZ, XtZ, YtY, n, P, I, tinds, rinds, cinds)\n",
        "    divAndConq(new_theta, current_inds_block5, ZtX, ZtY, XtX, ZtZ, XtY, YtX, YtZ, XtZ, YtY, n, P, I, tinds, rinds, cinds)\n",
        "    divAndConq(new_theta, current_inds_block6, ZtX, ZtY, XtX, ZtZ, XtY, YtX, YtZ, XtZ, YtY, n, P, I, tinds, rinds, cinds)\n",
        "    divAndConq(new_theta, current_inds_block7, ZtX, ZtY, XtX, ZtZ, XtY, YtX, YtZ, XtZ, YtY, n, P, I, tinds, rinds, cinds)\n",
        "    divAndConq(new_theta, current_inds_block8, ZtX, ZtY, XtX, ZtZ, XtY, YtX, YtZ, XtZ, YtY, n, P, I, tinds, rinds, cinds)\n",
        "  \n",
        "  elif current_dimv[0]!=1 and current_dimv[1]!=1:\n",
        "    \n",
        "    # Split into blocks - assuming current inds is a block\n",
        "    current_inds_block1 = current_inds[:(current_dimv[0]//2),:(current_dimv[1]//2),:]\n",
        "    current_inds_block2 = current_inds[(current_dimv[0]//2):,:(current_dimv[1]//2),:]\n",
        "    current_inds_block3 = current_inds[:(current_dimv[0]//2),(current_dimv[1]//2):,:]\n",
        "    current_inds_block4 = current_inds[(current_dimv[0]//2):,(current_dimv[1]//2):,:]\n",
        "  \n",
        "    divAndConq(new_theta, current_inds_block1, ZtX, ZtY, XtX, ZtZ, XtY, YtX, YtZ, XtZ, YtY, n, P, I, tinds, rinds, cinds)\n",
        "    divAndConq(new_theta, current_inds_block2, ZtX, ZtY, XtX, ZtZ, XtY, YtX, YtZ, XtZ, YtY, n, P, I, tinds, rinds, cinds)\n",
        "    divAndConq(new_theta, current_inds_block3, ZtX, ZtY, XtX, ZtZ, XtY, YtX, YtZ, XtZ, YtY, n, P, I, tinds, rinds, cinds)\n",
        "    divAndConq(new_theta, current_inds_block4, ZtX, ZtY, XtX, ZtZ, XtY, YtX, YtZ, XtZ, YtY, n, P, I, tinds, rinds, cinds)\n",
        "    \n",
        "  elif current_dimv[0]!=1 and current_dimv[2]!=1:\n",
        "\n",
        "    # Split into blocks - assuming current inds is a block\n",
        "    current_inds_block1 = current_inds[:(current_dimv[0]//2),:,:(current_dimv[2]//2)]\n",
        "    current_inds_block2 = current_inds[(current_dimv[0]//2):,:,:(current_dimv[2]//2)]\n",
        "    current_inds_block3 = current_inds[:(current_dimv[0]//2),:,(current_dimv[2]//2):]\n",
        "    current_inds_block4 = current_inds[(current_dimv[0]//2):,:,(current_dimv[2]//2):]\n",
        "  \n",
        "    divAndConq(new_theta, current_inds_block1, ZtX, ZtY, XtX, ZtZ, XtY, YtX, YtZ, XtZ, YtY, n, P, I, tinds, rinds, cinds)\n",
        "    divAndConq(new_theta, current_inds_block2, ZtX, ZtY, XtX, ZtZ, XtY, YtX, YtZ, XtZ, YtY, n, P, I, tinds, rinds, cinds)\n",
        "    divAndConq(new_theta, current_inds_block3, ZtX, ZtY, XtX, ZtZ, XtY, YtX, YtZ, XtZ, YtY, n, P, I, tinds, rinds, cinds)\n",
        "    divAndConq(new_theta, current_inds_block4, ZtX, ZtY, XtX, ZtZ, XtY, YtX, YtZ, XtZ, YtY, n, P, I, tinds, rinds, cinds)\n",
        "    \n",
        "  \n",
        "  elif current_dimv[1]!=1 and current_dimv[2]!=1:\n",
        "\n",
        "    # Split into blocks - assuming current inds is a block\n",
        "    current_inds_block1 = current_inds[:,:(current_dimv[1]//2),:(current_dimv[2]//2)]\n",
        "    current_inds_block2 = current_inds[:,(current_dimv[1]//2):,:(current_dimv[2]//2)]\n",
        "    current_inds_block3 = current_inds[:,:(current_dimv[1]//2),(current_dimv[2]//2):]\n",
        "    current_inds_block4 = current_inds[:,(current_dimv[1]//2):,(current_dimv[2]//2):]\n",
        "  \n",
        "    divAndConq(new_theta, current_inds_block1, ZtX, ZtY, XtX, ZtZ, XtY, YtX, YtZ, XtZ, YtY, n, P, I, tinds, rinds, cinds)\n",
        "    divAndConq(new_theta, current_inds_block2, ZtX, ZtY, XtX, ZtZ, XtY, YtX, YtZ, XtZ, YtY, n, P, I, tinds, rinds, cinds)\n",
        "    divAndConq(new_theta, current_inds_block3, ZtX, ZtY, XtX, ZtZ, XtY, YtX, YtZ, XtZ, YtY, n, P, I, tinds, rinds, cinds)\n",
        "    divAndConq(new_theta, current_inds_block4, ZtX, ZtY, XtX, ZtZ, XtY, YtX, YtZ, XtZ, YtY, n, P, I, tinds, rinds, cinds)\n",
        "    \n",
        "  elif current_dimv[0]!=1:\n",
        "    \n",
        "    current_inds_block1 = current_inds[:(current_dimv[0]//2),:,:]\n",
        "    current_inds_block2 = current_inds[(current_dimv[0]//2):,:,:]\n",
        "    \n",
        "    divAndConq(new_theta, current_inds_block1, ZtX, ZtY, XtX, ZtZ, XtY, YtX, YtZ, XtZ, YtY, n, P, I, tinds, rinds, cinds)\n",
        "    divAndConq(new_theta, current_inds_block2, ZtX, ZtY, XtX, ZtZ, XtY, YtX, YtZ, XtZ, YtY, n, P, I, tinds, rinds, cinds)\n",
        "  \n",
        "  elif current_dimv[1]!=1:\n",
        "    \n",
        "    current_inds_block1 = current_inds[:,:(current_dimv[1]//2),:]\n",
        "    current_inds_block2 = current_inds[:,(current_dimv[1]//2):,:]\n",
        "    \n",
        "    divAndConq(new_theta, current_inds_block1, ZtX, ZtY, XtX, ZtZ, XtY, YtX, YtZ, XtZ, YtY, n, P, I, tinds, rinds, cinds)\n",
        "    divAndConq(new_theta, current_inds_block2, ZtX, ZtY, XtX, ZtZ, XtY, YtX, YtZ, XtZ, YtY, n, P, I, tinds, rinds, cinds)\n",
        "  \n",
        "  elif current_dimv[2]!=1:\n",
        "    \n",
        "    current_inds_block1 = current_inds[:,:,:(current_dimv[2]//2)]\n",
        "    current_inds_block2 = current_inds[:,:,(current_dimv[2]//2):]\n",
        "    \n",
        "    divAndConq(new_theta, current_inds_block1, ZtX, ZtY, XtX, ZtZ, XtY, YtX, YtZ, XtZ, YtY, n, P, I, tinds, rinds, cinds)\n",
        "    divAndConq(new_theta, current_inds_block2, ZtX, ZtY, XtX, ZtZ, XtY, YtX, YtZ, XtZ, YtY, n, P, I, tinds, rinds, cinds)\n",
        "  \n",
        "  #print('considering... ')\n",
        "  #print(current_inds)\n",
        "  #print('current dimv')\n",
        "  #print(current_dimv)\n",
        "  \n",
        "  #PLS(theta, ZtX, ZtY, XtX, ZtZ, XtY, YtX, YtZ, XtZ, YtY, n, P, I, tinds, rinds, cinds)\n",
        "  \n",
        "t1 = time.time()\n",
        "divAndConq(theta0, inds, ZtX, ZtY, XtX, ZtZ, XtY, YtX, YtZ, XtZ, YtY, n, P, I, tinds, rinds, cinds)\n",
        "t2 = time.time()\n",
        "print('Time taken (seconds):', t2-t1)\n",
        "print('Estimated time taken on Nifti of size 100 by 100 by 100 (hours):', (t2-t1)*100*100*100/(nv*60*60))"
      ],
      "execution_count": 0,
      "outputs": []
    },
    {
      "cell_type": "code",
      "metadata": {
        "id": "G4xGDWx2unfe",
        "colab_type": "code",
        "colab": {}
      },
      "source": [
        "import numpy as np\n",
        "\n",
        "k1 = 3\n",
        "k2 = 5\n",
        "\n",
        "N1 = dupMat(k1) @ invDupMat(k1)\n",
        "N2 = dupMat(k2) @ invDupMat(k2)\n",
        "\n",
        "\n",
        "print(N)\n",
        "\n",
        "#N = np.array([[1,0,0,0],[0,0.5,0.5,0],[0,0.5,0.5,0],[0,0,0,1]])\n",
        "\n",
        "R = np.random.randn(k1,k2)\n",
        "\n",
        "print(N1 @ np.kron(R,R))\n",
        "print(N1 @ np.kron(R,R) @ N2)"
      ],
      "execution_count": 0,
      "outputs": []
    },
    {
      "cell_type": "code",
      "metadata": {
        "id": "Kh-ZQTkzllNq",
        "colab_type": "code",
        "colab": {}
      },
      "source": [
        "import numpy as np\n",
        "\n",
        "A = np.random.randn(3,3,3)\n",
        "\n",
        "print(A.shape)\n",
        "\n",
        "print(np.kron(A[0,:,:],A[0,:,:])+np.kron(A[1,:,:],A[1,:,:])+np.kron(A[2,:,:],A[2,:,:]))\n",
        "\n",
        "print(np.kron(np.hstack((A[0,:,:],A[1,:,:],A[2,:,:])),np.vstack((A[0,:,:],A[1,:,:],A[2,:,:]))))\n"
      ],
      "execution_count": 0,
      "outputs": []
    },
    {
      "cell_type": "code",
      "metadata": {
        "id": "9oUZD2ujvG8L",
        "colab_type": "code",
        "colab": {}
      },
      "source": [
        "!pip install nibabel\n",
        "!pip install nilearn\n",
        "\n",
        "import numpy as np\n",
        "import nilearn\n",
        "import nibabel as nib\n",
        "\n",
        "# Random 4D matrix (unsmoothed)\n",
        "tmp_us = np.ones((10,10,10))\n",
        "\n",
        "# Some random affine, not important for this simulation\n",
        "affine = np.diag([1, 1, 1, 1])\n",
        "tmp_us_nii = nib.Nifti1Image(tmp_us, affine)\n",
        "\n",
        "# Smoothed beta nifti\n",
        "tmp_s = nilearn.image.smooth_img(tmp_us_nii, 0.02).get_fdata()"
      ],
      "execution_count": 0,
      "outputs": []
    },
    {
      "cell_type": "code",
      "metadata": {
        "id": "hC2u3qUOkJAw",
        "colab_type": "code",
        "colab": {}
      },
      "source": [
        "print(tmp_s)"
      ],
      "execution_count": 0,
      "outputs": []
    }
  ]
}